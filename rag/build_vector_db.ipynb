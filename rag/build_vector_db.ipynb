{
 "cells": [
  {
   "cell_type": "code",
   "execution_count": 1,
   "id": "d8658902",
   "metadata": {},
   "outputs": [
    {
     "name": "stdout",
     "output_type": "stream",
     "text": [
      "Requirement already satisfied: openai in c:\\users\\hwi\\anaconda3\\envs\\hateslop\\lib\\site-packages (from -r ../requirements.txt (line 5)) (1.107.1)\n",
      "Requirement already satisfied: python-dotenv in c:\\users\\hwi\\anaconda3\\envs\\hateslop\\lib\\site-packages (from -r ../requirements.txt (line 6)) (1.1.1)\n",
      "Requirement already satisfied: huggingface-hub in c:\\users\\hwi\\anaconda3\\envs\\hateslop\\lib\\site-packages (from -r ../requirements.txt (line 7)) (0.35.1)\n",
      "Requirement already satisfied: numpy in c:\\users\\hwi\\anaconda3\\envs\\hateslop\\lib\\site-packages (from -r ../requirements.txt (line 8)) (2.3.3)\n",
      "Requirement already satisfied: pandas in c:\\users\\hwi\\anaconda3\\envs\\hateslop\\lib\\site-packages (from -r ../requirements.txt (line 9)) (2.3.2)\n",
      "Requirement already satisfied: datasets in c:\\users\\hwi\\anaconda3\\envs\\hateslop\\lib\\site-packages (from -r ../requirements.txt (line 10)) (4.1.1)\n",
      "Requirement already satisfied: chromadb in c:\\users\\hwi\\anaconda3\\envs\\hateslop\\lib\\site-packages (from -r ../requirements.txt (line 11)) (1.1.0)\n",
      "Requirement already satisfied: langchain in c:\\users\\hwi\\anaconda3\\envs\\hateslop\\lib\\site-packages (from -r ../requirements.txt (line 12)) (0.3.27)\n",
      "Requirement already satisfied: tiktoken in c:\\users\\hwi\\anaconda3\\envs\\hateslop\\lib\\site-packages (from -r ../requirements.txt (line 13)) (0.11.0)\n",
      "Requirement already satisfied: unstructured in c:\\users\\hwi\\anaconda3\\envs\\hateslop\\lib\\site-packages (from -r ../requirements.txt (line 15)) (0.18.15)\n",
      "Requirement already satisfied: anyio<5,>=3.5.0 in c:\\users\\hwi\\anaconda3\\envs\\hateslop\\lib\\site-packages (from openai->-r ../requirements.txt (line 5)) (4.10.0)\n",
      "Requirement already satisfied: distro<2,>=1.7.0 in c:\\users\\hwi\\anaconda3\\envs\\hateslop\\lib\\site-packages (from openai->-r ../requirements.txt (line 5)) (1.9.0)\n",
      "Requirement already satisfied: httpx<1,>=0.23.0 in c:\\users\\hwi\\anaconda3\\envs\\hateslop\\lib\\site-packages (from openai->-r ../requirements.txt (line 5)) (0.28.1)\n",
      "Requirement already satisfied: jiter<1,>=0.4.0 in c:\\users\\hwi\\anaconda3\\envs\\hateslop\\lib\\site-packages (from openai->-r ../requirements.txt (line 5)) (0.10.0)\n",
      "Requirement already satisfied: pydantic<3,>=1.9.0 in c:\\users\\hwi\\anaconda3\\envs\\hateslop\\lib\\site-packages (from openai->-r ../requirements.txt (line 5)) (2.11.7)\n",
      "Requirement already satisfied: sniffio in c:\\users\\hwi\\anaconda3\\envs\\hateslop\\lib\\site-packages (from openai->-r ../requirements.txt (line 5)) (1.3.1)\n",
      "Requirement already satisfied: tqdm>4 in c:\\users\\hwi\\anaconda3\\envs\\hateslop\\lib\\site-packages (from openai->-r ../requirements.txt (line 5)) (4.67.1)\n",
      "Requirement already satisfied: typing-extensions<5,>=4.11 in c:\\users\\hwi\\anaconda3\\envs\\hateslop\\lib\\site-packages (from openai->-r ../requirements.txt (line 5)) (4.14.1)\n",
      "Requirement already satisfied: idna>=2.8 in c:\\users\\hwi\\anaconda3\\envs\\hateslop\\lib\\site-packages (from anyio<5,>=3.5.0->openai->-r ../requirements.txt (line 5)) (3.10)\n",
      "Requirement already satisfied: certifi in c:\\users\\hwi\\anaconda3\\envs\\hateslop\\lib\\site-packages (from httpx<1,>=0.23.0->openai->-r ../requirements.txt (line 5)) (2025.8.3)\n",
      "Requirement already satisfied: httpcore==1.* in c:\\users\\hwi\\anaconda3\\envs\\hateslop\\lib\\site-packages (from httpx<1,>=0.23.0->openai->-r ../requirements.txt (line 5)) (1.0.9)\n",
      "Requirement already satisfied: h11>=0.16 in c:\\users\\hwi\\anaconda3\\envs\\hateslop\\lib\\site-packages (from httpcore==1.*->httpx<1,>=0.23.0->openai->-r ../requirements.txt (line 5)) (0.16.0)\n",
      "Requirement already satisfied: annotated-types>=0.6.0 in c:\\users\\hwi\\anaconda3\\envs\\hateslop\\lib\\site-packages (from pydantic<3,>=1.9.0->openai->-r ../requirements.txt (line 5)) (0.7.0)\n",
      "Requirement already satisfied: pydantic-core==2.33.2 in c:\\users\\hwi\\anaconda3\\envs\\hateslop\\lib\\site-packages (from pydantic<3,>=1.9.0->openai->-r ../requirements.txt (line 5)) (2.33.2)\n",
      "Requirement already satisfied: typing-inspection>=0.4.0 in c:\\users\\hwi\\anaconda3\\envs\\hateslop\\lib\\site-packages (from pydantic<3,>=1.9.0->openai->-r ../requirements.txt (line 5)) (0.4.1)\n",
      "Requirement already satisfied: filelock in c:\\users\\hwi\\anaconda3\\envs\\hateslop\\lib\\site-packages (from huggingface-hub->-r ../requirements.txt (line 7)) (3.19.1)\n",
      "Requirement already satisfied: fsspec>=2023.5.0 in c:\\users\\hwi\\anaconda3\\envs\\hateslop\\lib\\site-packages (from huggingface-hub->-r ../requirements.txt (line 7)) (2025.9.0)\n",
      "Requirement already satisfied: packaging>=20.9 in c:\\users\\hwi\\anaconda3\\envs\\hateslop\\lib\\site-packages (from huggingface-hub->-r ../requirements.txt (line 7)) (25.0)\n",
      "Requirement already satisfied: pyyaml>=5.1 in c:\\users\\hwi\\anaconda3\\envs\\hateslop\\lib\\site-packages (from huggingface-hub->-r ../requirements.txt (line 7)) (6.0.2)\n",
      "Requirement already satisfied: requests in c:\\users\\hwi\\anaconda3\\envs\\hateslop\\lib\\site-packages (from huggingface-hub->-r ../requirements.txt (line 7)) (2.32.5)\n",
      "Requirement already satisfied: python-dateutil>=2.8.2 in c:\\users\\hwi\\anaconda3\\envs\\hateslop\\lib\\site-packages (from pandas->-r ../requirements.txt (line 9)) (2.9.0.post0)\n",
      "Requirement already satisfied: pytz>=2020.1 in c:\\users\\hwi\\anaconda3\\envs\\hateslop\\lib\\site-packages (from pandas->-r ../requirements.txt (line 9)) (2025.2)\n",
      "Requirement already satisfied: tzdata>=2022.7 in c:\\users\\hwi\\anaconda3\\envs\\hateslop\\lib\\site-packages (from pandas->-r ../requirements.txt (line 9)) (2025.2)\n",
      "Requirement already satisfied: pyarrow>=21.0.0 in c:\\users\\hwi\\anaconda3\\envs\\hateslop\\lib\\site-packages (from datasets->-r ../requirements.txt (line 10)) (21.0.0)\n",
      "Requirement already satisfied: dill<0.4.1,>=0.3.0 in c:\\users\\hwi\\anaconda3\\envs\\hateslop\\lib\\site-packages (from datasets->-r ../requirements.txt (line 10)) (0.4.0)\n",
      "Requirement already satisfied: xxhash in c:\\users\\hwi\\anaconda3\\envs\\hateslop\\lib\\site-packages (from datasets->-r ../requirements.txt (line 10)) (3.5.0)\n",
      "Requirement already satisfied: multiprocess<0.70.17 in c:\\users\\hwi\\anaconda3\\envs\\hateslop\\lib\\site-packages (from datasets->-r ../requirements.txt (line 10)) (0.70.16)\n",
      "Requirement already satisfied: aiohttp!=4.0.0a0,!=4.0.0a1 in c:\\users\\hwi\\anaconda3\\envs\\hateslop\\lib\\site-packages (from fsspec[http]<=2025.9.0,>=2023.1.0->datasets->-r ../requirements.txt (line 10)) (3.12.15)\n",
      "Requirement already satisfied: build>=1.0.3 in c:\\users\\hwi\\anaconda3\\envs\\hateslop\\lib\\site-packages (from chromadb->-r ../requirements.txt (line 11)) (1.3.0)\n",
      "Requirement already satisfied: pybase64>=1.4.1 in c:\\users\\hwi\\anaconda3\\envs\\hateslop\\lib\\site-packages (from chromadb->-r ../requirements.txt (line 11)) (1.4.2)\n",
      "Requirement already satisfied: uvicorn>=0.18.3 in c:\\users\\hwi\\anaconda3\\envs\\hateslop\\lib\\site-packages (from uvicorn[standard]>=0.18.3->chromadb->-r ../requirements.txt (line 11)) (0.37.0)\n",
      "Requirement already satisfied: posthog<6.0.0,>=2.4.0 in c:\\users\\hwi\\anaconda3\\envs\\hateslop\\lib\\site-packages (from chromadb->-r ../requirements.txt (line 11)) (5.4.0)\n",
      "Requirement already satisfied: onnxruntime>=1.14.1 in c:\\users\\hwi\\anaconda3\\envs\\hateslop\\lib\\site-packages (from chromadb->-r ../requirements.txt (line 11)) (1.22.1)\n",
      "Requirement already satisfied: opentelemetry-api>=1.2.0 in c:\\users\\hwi\\anaconda3\\envs\\hateslop\\lib\\site-packages (from chromadb->-r ../requirements.txt (line 11)) (1.37.0)\n",
      "Requirement already satisfied: opentelemetry-exporter-otlp-proto-grpc>=1.2.0 in c:\\users\\hwi\\anaconda3\\envs\\hateslop\\lib\\site-packages (from chromadb->-r ../requirements.txt (line 11)) (1.37.0)\n",
      "Requirement already satisfied: opentelemetry-sdk>=1.2.0 in c:\\users\\hwi\\anaconda3\\envs\\hateslop\\lib\\site-packages (from chromadb->-r ../requirements.txt (line 11)) (1.37.0)\n",
      "Requirement already satisfied: tokenizers>=0.13.2 in c:\\users\\hwi\\anaconda3\\envs\\hateslop\\lib\\site-packages (from chromadb->-r ../requirements.txt (line 11)) (0.22.1)\n",
      "Requirement already satisfied: pypika>=0.48.9 in c:\\users\\hwi\\anaconda3\\envs\\hateslop\\lib\\site-packages (from chromadb->-r ../requirements.txt (line 11)) (0.48.9)\n",
      "Requirement already satisfied: overrides>=7.3.1 in c:\\users\\hwi\\anaconda3\\envs\\hateslop\\lib\\site-packages (from chromadb->-r ../requirements.txt (line 11)) (7.7.0)\n",
      "Requirement already satisfied: importlib-resources in c:\\users\\hwi\\anaconda3\\envs\\hateslop\\lib\\site-packages (from chromadb->-r ../requirements.txt (line 11)) (6.5.2)\n",
      "Requirement already satisfied: grpcio>=1.58.0 in c:\\users\\hwi\\anaconda3\\envs\\hateslop\\lib\\site-packages (from chromadb->-r ../requirements.txt (line 11)) (1.75.0)\n",
      "Requirement already satisfied: bcrypt>=4.0.1 in c:\\users\\hwi\\anaconda3\\envs\\hateslop\\lib\\site-packages (from chromadb->-r ../requirements.txt (line 11)) (4.3.0)\n",
      "Requirement already satisfied: typer>=0.9.0 in c:\\users\\hwi\\anaconda3\\envs\\hateslop\\lib\\site-packages (from chromadb->-r ../requirements.txt (line 11)) (0.19.2)\n",
      "Requirement already satisfied: kubernetes>=28.1.0 in c:\\users\\hwi\\anaconda3\\envs\\hateslop\\lib\\site-packages (from chromadb->-r ../requirements.txt (line 11)) (33.1.0)\n",
      "Requirement already satisfied: tenacity>=8.2.3 in c:\\users\\hwi\\anaconda3\\envs\\hateslop\\lib\\site-packages (from chromadb->-r ../requirements.txt (line 11)) (9.1.2)\n",
      "Requirement already satisfied: mmh3>=4.0.1 in c:\\users\\hwi\\anaconda3\\envs\\hateslop\\lib\\site-packages (from chromadb->-r ../requirements.txt (line 11)) (5.2.0)\n",
      "Requirement already satisfied: orjson>=3.9.12 in c:\\users\\hwi\\anaconda3\\envs\\hateslop\\lib\\site-packages (from chromadb->-r ../requirements.txt (line 11)) (3.11.3)\n",
      "Requirement already satisfied: rich>=10.11.0 in c:\\users\\hwi\\anaconda3\\envs\\hateslop\\lib\\site-packages (from chromadb->-r ../requirements.txt (line 11)) (14.1.0)\n",
      "Requirement already satisfied: jsonschema>=4.19.0 in c:\\users\\hwi\\anaconda3\\envs\\hateslop\\lib\\site-packages (from chromadb->-r ../requirements.txt (line 11)) (4.25.1)\n",
      "Requirement already satisfied: six>=1.5 in c:\\users\\hwi\\anaconda3\\envs\\hateslop\\lib\\site-packages (from posthog<6.0.0,>=2.4.0->chromadb->-r ../requirements.txt (line 11)) (1.17.0)\n",
      "Requirement already satisfied: backoff>=1.10.0 in c:\\users\\hwi\\anaconda3\\envs\\hateslop\\lib\\site-packages (from posthog<6.0.0,>=2.4.0->chromadb->-r ../requirements.txt (line 11)) (2.2.1)\n",
      "Requirement already satisfied: charset_normalizer<4,>=2 in c:\\users\\hwi\\anaconda3\\envs\\hateslop\\lib\\site-packages (from requests->huggingface-hub->-r ../requirements.txt (line 7)) (3.4.3)\n",
      "Requirement already satisfied: urllib3<3,>=1.21.1 in c:\\users\\hwi\\anaconda3\\envs\\hateslop\\lib\\site-packages (from requests->huggingface-hub->-r ../requirements.txt (line 7)) (2.5.0)\n",
      "Requirement already satisfied: langchain-core<1.0.0,>=0.3.72 in c:\\users\\hwi\\anaconda3\\envs\\hateslop\\lib\\site-packages (from langchain->-r ../requirements.txt (line 12)) (0.3.76)\n",
      "Requirement already satisfied: langchain-text-splitters<1.0.0,>=0.3.9 in c:\\users\\hwi\\anaconda3\\envs\\hateslop\\lib\\site-packages (from langchain->-r ../requirements.txt (line 12)) (0.3.11)\n",
      "Requirement already satisfied: langsmith>=0.1.17 in c:\\users\\hwi\\anaconda3\\envs\\hateslop\\lib\\site-packages (from langchain->-r ../requirements.txt (line 12)) (0.4.31)\n",
      "Requirement already satisfied: SQLAlchemy<3,>=1.4 in c:\\users\\hwi\\anaconda3\\envs\\hateslop\\lib\\site-packages (from langchain->-r ../requirements.txt (line 12)) (2.0.43)\n",
      "Requirement already satisfied: jsonpatch<2.0,>=1.33 in c:\\users\\hwi\\anaconda3\\envs\\hateslop\\lib\\site-packages (from langchain-core<1.0.0,>=0.3.72->langchain->-r ../requirements.txt (line 12)) (1.33)\n",
      "Requirement already satisfied: jsonpointer>=1.9 in c:\\users\\hwi\\anaconda3\\envs\\hateslop\\lib\\site-packages (from jsonpatch<2.0,>=1.33->langchain-core<1.0.0,>=0.3.72->langchain->-r ../requirements.txt (line 12)) (3.0.0)\n",
      "Requirement already satisfied: greenlet>=1 in c:\\users\\hwi\\anaconda3\\envs\\hateslop\\lib\\site-packages (from SQLAlchemy<3,>=1.4->langchain->-r ../requirements.txt (line 12)) (3.2.4)\n",
      "Requirement already satisfied: regex>=2022.1.18 in c:\\users\\hwi\\anaconda3\\envs\\hateslop\\lib\\site-packages (from tiktoken->-r ../requirements.txt (line 13)) (2025.9.18)\n",
      "Requirement already satisfied: filetype in c:\\users\\hwi\\anaconda3\\envs\\hateslop\\lib\\site-packages (from unstructured->-r ../requirements.txt (line 15)) (1.2.0)\n",
      "Requirement already satisfied: python-magic in c:\\users\\hwi\\anaconda3\\envs\\hateslop\\lib\\site-packages (from unstructured->-r ../requirements.txt (line 15)) (0.4.27)\n",
      "Requirement already satisfied: lxml in c:\\users\\hwi\\anaconda3\\envs\\hateslop\\lib\\site-packages (from unstructured->-r ../requirements.txt (line 15)) (6.0.2)\n",
      "Requirement already satisfied: nltk in c:\\users\\hwi\\anaconda3\\envs\\hateslop\\lib\\site-packages (from unstructured->-r ../requirements.txt (line 15)) (3.9.1)\n",
      "Requirement already satisfied: beautifulsoup4 in c:\\users\\hwi\\anaconda3\\envs\\hateslop\\lib\\site-packages (from unstructured->-r ../requirements.txt (line 15)) (4.13.5)\n",
      "Requirement already satisfied: emoji in c:\\users\\hwi\\anaconda3\\envs\\hateslop\\lib\\site-packages (from unstructured->-r ../requirements.txt (line 15)) (2.15.0)\n",
      "Requirement already satisfied: dataclasses-json in c:\\users\\hwi\\anaconda3\\envs\\hateslop\\lib\\site-packages (from unstructured->-r ../requirements.txt (line 15)) (0.6.7)\n",
      "Requirement already satisfied: python-iso639 in c:\\users\\hwi\\anaconda3\\envs\\hateslop\\lib\\site-packages (from unstructured->-r ../requirements.txt (line 15)) (2025.2.18)\n",
      "Requirement already satisfied: langdetect in c:\\users\\hwi\\anaconda3\\envs\\hateslop\\lib\\site-packages (from unstructured->-r ../requirements.txt (line 15)) (1.0.9)\n",
      "Requirement already satisfied: rapidfuzz in c:\\users\\hwi\\anaconda3\\envs\\hateslop\\lib\\site-packages (from unstructured->-r ../requirements.txt (line 15)) (3.14.1)\n",
      "Requirement already satisfied: unstructured-client in c:\\users\\hwi\\anaconda3\\envs\\hateslop\\lib\\site-packages (from unstructured->-r ../requirements.txt (line 15)) (0.42.3)\n",
      "Requirement already satisfied: wrapt in c:\\users\\hwi\\anaconda3\\envs\\hateslop\\lib\\site-packages (from unstructured->-r ../requirements.txt (line 15)) (1.17.3)\n",
      "Requirement already satisfied: psutil in c:\\users\\hwi\\anaconda3\\envs\\hateslop\\lib\\site-packages (from unstructured->-r ../requirements.txt (line 15)) (7.0.0)\n",
      "Requirement already satisfied: python-oxmsg in c:\\users\\hwi\\anaconda3\\envs\\hateslop\\lib\\site-packages (from unstructured->-r ../requirements.txt (line 15)) (0.0.2)\n",
      "Requirement already satisfied: html5lib in c:\\users\\hwi\\anaconda3\\envs\\hateslop\\lib\\site-packages (from unstructured->-r ../requirements.txt (line 15)) (1.1)\n",
      "Requirement already satisfied: aiohappyeyeballs>=2.5.0 in c:\\users\\hwi\\anaconda3\\envs\\hateslop\\lib\\site-packages (from aiohttp!=4.0.0a0,!=4.0.0a1->fsspec[http]<=2025.9.0,>=2023.1.0->datasets->-r ../requirements.txt (line 10)) (2.6.1)\n",
      "Requirement already satisfied: aiosignal>=1.4.0 in c:\\users\\hwi\\anaconda3\\envs\\hateslop\\lib\\site-packages (from aiohttp!=4.0.0a0,!=4.0.0a1->fsspec[http]<=2025.9.0,>=2023.1.0->datasets->-r ../requirements.txt (line 10)) (1.4.0)\n",
      "Requirement already satisfied: attrs>=17.3.0 in c:\\users\\hwi\\anaconda3\\envs\\hateslop\\lib\\site-packages (from aiohttp!=4.0.0a0,!=4.0.0a1->fsspec[http]<=2025.9.0,>=2023.1.0->datasets->-r ../requirements.txt (line 10)) (25.3.0)\n",
      "Requirement already satisfied: frozenlist>=1.1.1 in c:\\users\\hwi\\anaconda3\\envs\\hateslop\\lib\\site-packages (from aiohttp!=4.0.0a0,!=4.0.0a1->fsspec[http]<=2025.9.0,>=2023.1.0->datasets->-r ../requirements.txt (line 10)) (1.7.0)\n",
      "Requirement already satisfied: multidict<7.0,>=4.5 in c:\\users\\hwi\\anaconda3\\envs\\hateslop\\lib\\site-packages (from aiohttp!=4.0.0a0,!=4.0.0a1->fsspec[http]<=2025.9.0,>=2023.1.0->datasets->-r ../requirements.txt (line 10)) (6.6.4)\n",
      "Requirement already satisfied: propcache>=0.2.0 in c:\\users\\hwi\\anaconda3\\envs\\hateslop\\lib\\site-packages (from aiohttp!=4.0.0a0,!=4.0.0a1->fsspec[http]<=2025.9.0,>=2023.1.0->datasets->-r ../requirements.txt (line 10)) (0.3.2)\n",
      "Requirement already satisfied: yarl<2.0,>=1.17.0 in c:\\users\\hwi\\anaconda3\\envs\\hateslop\\lib\\site-packages (from aiohttp!=4.0.0a0,!=4.0.0a1->fsspec[http]<=2025.9.0,>=2023.1.0->datasets->-r ../requirements.txt (line 10)) (1.20.1)\n",
      "Requirement already satisfied: pyproject_hooks in c:\\users\\hwi\\anaconda3\\envs\\hateslop\\lib\\site-packages (from build>=1.0.3->chromadb->-r ../requirements.txt (line 11)) (1.2.0)\n",
      "Requirement already satisfied: colorama in c:\\users\\hwi\\anaconda3\\envs\\hateslop\\lib\\site-packages (from build>=1.0.3->chromadb->-r ../requirements.txt (line 11)) (0.4.6)\n",
      "Requirement already satisfied: jsonschema-specifications>=2023.03.6 in c:\\users\\hwi\\anaconda3\\envs\\hateslop\\lib\\site-packages (from jsonschema>=4.19.0->chromadb->-r ../requirements.txt (line 11)) (2025.9.1)\n",
      "Requirement already satisfied: referencing>=0.28.4 in c:\\users\\hwi\\anaconda3\\envs\\hateslop\\lib\\site-packages (from jsonschema>=4.19.0->chromadb->-r ../requirements.txt (line 11)) (0.36.2)\n",
      "Requirement already satisfied: rpds-py>=0.7.1 in c:\\users\\hwi\\anaconda3\\envs\\hateslop\\lib\\site-packages (from jsonschema>=4.19.0->chromadb->-r ../requirements.txt (line 11)) (0.27.1)\n",
      "Requirement already satisfied: google-auth>=1.0.1 in c:\\users\\hwi\\anaconda3\\envs\\hateslop\\lib\\site-packages (from kubernetes>=28.1.0->chromadb->-r ../requirements.txt (line 11)) (2.40.3)\n",
      "Requirement already satisfied: websocket-client!=0.40.0,!=0.41.*,!=0.42.*,>=0.32.0 in c:\\users\\hwi\\anaconda3\\envs\\hateslop\\lib\\site-packages (from kubernetes>=28.1.0->chromadb->-r ../requirements.txt (line 11)) (1.8.0)\n",
      "Requirement already satisfied: requests-oauthlib in c:\\users\\hwi\\anaconda3\\envs\\hateslop\\lib\\site-packages (from kubernetes>=28.1.0->chromadb->-r ../requirements.txt (line 11)) (2.0.0)\n",
      "Requirement already satisfied: oauthlib>=3.2.2 in c:\\users\\hwi\\anaconda3\\envs\\hateslop\\lib\\site-packages (from kubernetes>=28.1.0->chromadb->-r ../requirements.txt (line 11)) (3.3.1)\n",
      "Requirement already satisfied: durationpy>=0.7 in c:\\users\\hwi\\anaconda3\\envs\\hateslop\\lib\\site-packages (from kubernetes>=28.1.0->chromadb->-r ../requirements.txt (line 11)) (0.10)\n",
      "Requirement already satisfied: cachetools<6.0,>=2.0.0 in c:\\users\\hwi\\anaconda3\\envs\\hateslop\\lib\\site-packages (from google-auth>=1.0.1->kubernetes>=28.1.0->chromadb->-r ../requirements.txt (line 11)) (5.5.2)\n",
      "Requirement already satisfied: pyasn1-modules>=0.2.1 in c:\\users\\hwi\\anaconda3\\envs\\hateslop\\lib\\site-packages (from google-auth>=1.0.1->kubernetes>=28.1.0->chromadb->-r ../requirements.txt (line 11)) (0.4.2)\n",
      "Requirement already satisfied: rsa<5,>=3.1.4 in c:\\users\\hwi\\anaconda3\\envs\\hateslop\\lib\\site-packages (from google-auth>=1.0.1->kubernetes>=28.1.0->chromadb->-r ../requirements.txt (line 11)) (4.9.1)\n",
      "Requirement already satisfied: pyasn1>=0.1.3 in c:\\users\\hwi\\anaconda3\\envs\\hateslop\\lib\\site-packages (from rsa<5,>=3.1.4->google-auth>=1.0.1->kubernetes>=28.1.0->chromadb->-r ../requirements.txt (line 11)) (0.6.1)\n",
      "Requirement already satisfied: requests-toolbelt>=1.0.0 in c:\\users\\hwi\\anaconda3\\envs\\hateslop\\lib\\site-packages (from langsmith>=0.1.17->langchain->-r ../requirements.txt (line 12)) (1.0.0)\n",
      "Requirement already satisfied: zstandard>=0.23.0 in c:\\users\\hwi\\anaconda3\\envs\\hateslop\\lib\\site-packages (from langsmith>=0.1.17->langchain->-r ../requirements.txt (line 12)) (0.25.0)\n",
      "Requirement already satisfied: coloredlogs in c:\\users\\hwi\\anaconda3\\envs\\hateslop\\lib\\site-packages (from onnxruntime>=1.14.1->chromadb->-r ../requirements.txt (line 11)) (15.0.1)\n",
      "Requirement already satisfied: flatbuffers in c:\\users\\hwi\\anaconda3\\envs\\hateslop\\lib\\site-packages (from onnxruntime>=1.14.1->chromadb->-r ../requirements.txt (line 11)) (25.9.23)\n",
      "Requirement already satisfied: protobuf in c:\\users\\hwi\\anaconda3\\envs\\hateslop\\lib\\site-packages (from onnxruntime>=1.14.1->chromadb->-r ../requirements.txt (line 11)) (6.32.1)\n",
      "Requirement already satisfied: sympy in c:\\users\\hwi\\anaconda3\\envs\\hateslop\\lib\\site-packages (from onnxruntime>=1.14.1->chromadb->-r ../requirements.txt (line 11)) (1.14.0)\n",
      "Requirement already satisfied: importlib-metadata<8.8.0,>=6.0 in c:\\users\\hwi\\anaconda3\\envs\\hateslop\\lib\\site-packages (from opentelemetry-api>=1.2.0->chromadb->-r ../requirements.txt (line 11)) (8.7.0)\n",
      "Requirement already satisfied: zipp>=3.20 in c:\\users\\hwi\\anaconda3\\envs\\hateslop\\lib\\site-packages (from importlib-metadata<8.8.0,>=6.0->opentelemetry-api>=1.2.0->chromadb->-r ../requirements.txt (line 11)) (3.23.0)\n",
      "Requirement already satisfied: googleapis-common-protos~=1.57 in c:\\users\\hwi\\anaconda3\\envs\\hateslop\\lib\\site-packages (from opentelemetry-exporter-otlp-proto-grpc>=1.2.0->chromadb->-r ../requirements.txt (line 11)) (1.70.0)\n",
      "Requirement already satisfied: opentelemetry-exporter-otlp-proto-common==1.37.0 in c:\\users\\hwi\\anaconda3\\envs\\hateslop\\lib\\site-packages (from opentelemetry-exporter-otlp-proto-grpc>=1.2.0->chromadb->-r ../requirements.txt (line 11)) (1.37.0)\n",
      "Requirement already satisfied: opentelemetry-proto==1.37.0 in c:\\users\\hwi\\anaconda3\\envs\\hateslop\\lib\\site-packages (from opentelemetry-exporter-otlp-proto-grpc>=1.2.0->chromadb->-r ../requirements.txt (line 11)) (1.37.0)\n",
      "Requirement already satisfied: opentelemetry-semantic-conventions==0.58b0 in c:\\users\\hwi\\anaconda3\\envs\\hateslop\\lib\\site-packages (from opentelemetry-sdk>=1.2.0->chromadb->-r ../requirements.txt (line 11)) (0.58b0)\n",
      "Requirement already satisfied: markdown-it-py>=2.2.0 in c:\\users\\hwi\\anaconda3\\envs\\hateslop\\lib\\site-packages (from rich>=10.11.0->chromadb->-r ../requirements.txt (line 11)) (4.0.0)\n",
      "Requirement already satisfied: pygments<3.0.0,>=2.13.0 in c:\\users\\hwi\\anaconda3\\envs\\hateslop\\lib\\site-packages (from rich>=10.11.0->chromadb->-r ../requirements.txt (line 11)) (2.19.2)\n",
      "Requirement already satisfied: mdurl~=0.1 in c:\\users\\hwi\\anaconda3\\envs\\hateslop\\lib\\site-packages (from markdown-it-py>=2.2.0->rich>=10.11.0->chromadb->-r ../requirements.txt (line 11)) (0.1.2)\n",
      "Requirement already satisfied: click>=8.0.0 in c:\\users\\hwi\\anaconda3\\envs\\hateslop\\lib\\site-packages (from typer>=0.9.0->chromadb->-r ../requirements.txt (line 11)) (8.3.0)\n",
      "Requirement already satisfied: shellingham>=1.3.0 in c:\\users\\hwi\\anaconda3\\envs\\hateslop\\lib\\site-packages (from typer>=0.9.0->chromadb->-r ../requirements.txt (line 11)) (1.5.4)\n",
      "Requirement already satisfied: httptools>=0.6.3 in c:\\users\\hwi\\anaconda3\\envs\\hateslop\\lib\\site-packages (from uvicorn[standard]>=0.18.3->chromadb->-r ../requirements.txt (line 11)) (0.6.4)\n",
      "Requirement already satisfied: watchfiles>=0.13 in c:\\users\\hwi\\anaconda3\\envs\\hateslop\\lib\\site-packages (from uvicorn[standard]>=0.18.3->chromadb->-r ../requirements.txt (line 11)) (1.1.0)\n",
      "Requirement already satisfied: websockets>=10.4 in c:\\users\\hwi\\anaconda3\\envs\\hateslop\\lib\\site-packages (from uvicorn[standard]>=0.18.3->chromadb->-r ../requirements.txt (line 11)) (15.0.1)\n",
      "Requirement already satisfied: soupsieve>1.2 in c:\\users\\hwi\\anaconda3\\envs\\hateslop\\lib\\site-packages (from beautifulsoup4->unstructured->-r ../requirements.txt (line 15)) (2.8)\n",
      "Requirement already satisfied: humanfriendly>=9.1 in c:\\users\\hwi\\anaconda3\\envs\\hateslop\\lib\\site-packages (from coloredlogs->onnxruntime>=1.14.1->chromadb->-r ../requirements.txt (line 11)) (10.0)\n",
      "Requirement already satisfied: pyreadline3 in c:\\users\\hwi\\anaconda3\\envs\\hateslop\\lib\\site-packages (from humanfriendly>=9.1->coloredlogs->onnxruntime>=1.14.1->chromadb->-r ../requirements.txt (line 11)) (3.5.4)\n",
      "Requirement already satisfied: marshmallow<4.0.0,>=3.18.0 in c:\\users\\hwi\\anaconda3\\envs\\hateslop\\lib\\site-packages (from dataclasses-json->unstructured->-r ../requirements.txt (line 15)) (3.26.1)\n",
      "Requirement already satisfied: typing-inspect<1,>=0.4.0 in c:\\users\\hwi\\anaconda3\\envs\\hateslop\\lib\\site-packages (from dataclasses-json->unstructured->-r ../requirements.txt (line 15)) (0.9.0)\n",
      "Requirement already satisfied: mypy-extensions>=0.3.0 in c:\\users\\hwi\\anaconda3\\envs\\hateslop\\lib\\site-packages (from typing-inspect<1,>=0.4.0->dataclasses-json->unstructured->-r ../requirements.txt (line 15)) (1.1.0)\n",
      "Requirement already satisfied: webencodings in c:\\users\\hwi\\anaconda3\\envs\\hateslop\\lib\\site-packages (from html5lib->unstructured->-r ../requirements.txt (line 15)) (0.5.1)\n",
      "Requirement already satisfied: joblib in c:\\users\\hwi\\anaconda3\\envs\\hateslop\\lib\\site-packages (from nltk->unstructured->-r ../requirements.txt (line 15)) (1.5.2)\n",
      "Requirement already satisfied: olefile in c:\\users\\hwi\\anaconda3\\envs\\hateslop\\lib\\site-packages (from python-oxmsg->unstructured->-r ../requirements.txt (line 15)) (0.47)\n",
      "Requirement already satisfied: mpmath<1.4,>=1.1.0 in c:\\users\\hwi\\anaconda3\\envs\\hateslop\\lib\\site-packages (from sympy->onnxruntime>=1.14.1->chromadb->-r ../requirements.txt (line 11)) (1.3.0)\n",
      "Requirement already satisfied: aiofiles>=24.1.0 in c:\\users\\hwi\\anaconda3\\envs\\hateslop\\lib\\site-packages (from unstructured-client->unstructured->-r ../requirements.txt (line 15)) (24.1.0)\n",
      "Requirement already satisfied: cryptography>=3.1 in c:\\users\\hwi\\anaconda3\\envs\\hateslop\\lib\\site-packages (from unstructured-client->unstructured->-r ../requirements.txt (line 15)) (46.0.1)\n",
      "Requirement already satisfied: pypdf>=4.0 in c:\\users\\hwi\\anaconda3\\envs\\hateslop\\lib\\site-packages (from unstructured-client->unstructured->-r ../requirements.txt (line 15)) (6.1.0)\n",
      "Requirement already satisfied: cffi>=2.0.0 in c:\\users\\hwi\\anaconda3\\envs\\hateslop\\lib\\site-packages (from cryptography>=3.1->unstructured-client->unstructured->-r ../requirements.txt (line 15)) (2.0.0)\n",
      "Requirement already satisfied: pycparser in c:\\users\\hwi\\anaconda3\\envs\\hateslop\\lib\\site-packages (from cffi>=2.0.0->cryptography>=3.1->unstructured-client->unstructured->-r ../requirements.txt (line 15)) (2.23)\n"
     ]
    }
   ],
   "source": [
    "!pip install -r ../requirements.txt"
   ]
  },
  {
   "cell_type": "code",
   "execution_count": 2,
   "id": "540181c0",
   "metadata": {},
   "outputs": [],
   "source": [
    "import os  # os를 가져와 파일 시스템 접근, 환경 변수 읽을 수 있음\n",
    "from openai import OpenAI  # OpenAI의 api 사용 가능\n",
    "import chromadb  # chromadb 라이브러리 쓸 수 있게 해줌\n",
    "from chromadb.config import (\n",
    "    Settings,\n",
    ")  # Settings 클래스는 DB의 구성 옵션을 설정하는데 사용\n",
    "from dotenv import load_dotenv  # 환경 변수를 로드하기 위함"
   ]
  },
  {
   "cell_type": "markdown",
   "id": "4c6c6034",
   "metadata": {},
   "source": [
    "1. 환경 변수 Load해서 api_key 가져오고 OpenAI 클라이언트(객체) 초기화"
   ]
  },
  {
   "cell_type": "code",
   "execution_count": 3,
   "id": "cf17dfe5",
   "metadata": {},
   "outputs": [],
   "source": [
    "load_dotenv()\n",
    "api_key = os.getenv(\"OPENAI_API_KEY\")\n",
    "client = OpenAI(api_key=api_key)"
   ]
  },
  {
   "cell_type": "markdown",
   "id": "8f88d6ce",
   "metadata": {},
   "source": [
    "2. DB 초기화 함수 (매 실행 시 DB 폴더를 삭제 후 새로 생성)"
   ]
  },
  {
   "cell_type": "code",
   "execution_count": 4,
   "id": "9a9dfeb3",
   "metadata": {},
   "outputs": [],
   "source": [
    "def init_db(db_path=\"./chroma_db\"): # 현재 디렉토리 내의 chroma_db폴더 설정\n",
    "    dbclient = chromadb.PersistentClient(path=db_path) # 지정 경로로 향하는 dbClient생성\n",
    "    collection = dbclient.create_collection(name=\"rag_collection\", get_or_create=True)\n",
    "    return dbclient, collection"
   ]
  },
  {
   "cell_type": "markdown",
   "id": "2ad87986",
   "metadata": {},
   "source": [
    "3. 텍스트 로딩 함수"
   ]
  },
  {
   "cell_type": "code",
   "execution_count": 5,
   "id": "a612d2b3",
   "metadata": {},
   "outputs": [],
   "source": [
    "def load_text_files(folder_path):\n",
    "    docs = []\n",
    "    for filename in os.listdir(folder_path):\n",
    "        file_path = os.path.join(folder_path, filename)\n",
    "        if file_path.endswith(\".txt\"):\n",
    "            with open(file_path, \"r\", encoding=\"utf-8\") as f:\n",
    "                text = f.read()\n",
    "                docs.append((filename, text))\n",
    "    return docs            "
   ]
  },
  {
   "cell_type": "markdown",
   "id": "d4702934",
   "metadata": {},
   "source": [
    "4. 주어진 text를 임베딩 벡터로 변환하는 함수"
   ]
  },
  {
   "cell_type": "code",
   "execution_count": 6,
   "id": "b0b88ea6",
   "metadata": {},
   "outputs": [],
   "source": [
    "def get_embedding(text, model=\"text-embedding-3-large\"):\n",
    "    response = client.embeddings.create(input=[text], model=model)\n",
    "    embedding = response.data[0].embedding\n",
    "    return embedding\n"
   ]
  },
  {
   "cell_type": "markdown",
   "id": "7de319d7",
   "metadata": {},
   "source": [
    "5. 원천 데이터 청크 단위로 나누고 overlap 사이즈 조절하는 함수"
   ]
  },
  {
   "cell_type": "code",
   "execution_count": 7,
   "id": "cf4e9f77",
   "metadata": {},
   "outputs": [],
   "source": [
    "def chunk_text(text, chunk_size=400, chunk_overlap=50):\n",
    "    chunks = []\n",
    "    start = 0\n",
    "    while start < len(text):\n",
    "        end = start+chunk_size\n",
    "        chunk = text[start:end]\n",
    "        chunks.append(chunk)\n",
    "        start = end - chunk_overlap\n",
    "        \n",
    "        if start<0:\n",
    "            start = 0\n",
    "\n",
    "        if start >= len(text):\n",
    "            break\n",
    "\n",
    "    return chunks"
   ]
  },
  {
   "cell_type": "markdown",
   "id": "2118a7cb",
   "metadata": {},
   "source": [
    "6. 문서로드 -> 청크 나누고 -> 임베딩 생성 후 DB 삽입"
   ]
  },
  {
   "cell_type": "code",
   "execution_count": 8,
   "id": "78023acb",
   "metadata": {},
   "outputs": [
    {
     "name": "stdout",
     "output_type": "stream",
     "text": [
      "모든 문서 벡터DB에 저장 완료\n"
     ]
    }
   ],
   "source": [
    "if __name__ == \"__main__\":\n",
    "    # db 초기화, 경로 지정\n",
    "    dbclient, collection = init_db(\"./chroma_db\")\n",
    "\n",
    "    # load_text_files 함수로 처리할 문서 데이터 불러오기기\n",
    "    folder_path = \"./source_data\"\n",
    "    docs = load_text_files(folder_path)\n",
    "\n",
    "    doc_id = 0\n",
    "\n",
    "    for filename, text in docs:\n",
    "        chunks = chunk_text(text, chunk_size=400, chunk_overlap=50)\n",
    "        for idx, chunk in enumerate(chunks):\n",
    "            doc_id += 1\n",
    "            embedding = get_embedding(chunk)\n",
    "\n",
    "            collection.add(\n",
    "                documents=[chunk],\n",
    "                embeddings=[embedding],\n",
    "                metadatas=[{\"filename\": filename, \"chunk_index\": idx}],\n",
    "                ids=[str(doc_id)]\n",
    "            )\n",
    "\n",
    "    print(\"모든 문서 벡터DB에 저장 완료\")"
   ]
  }
 ],
 "metadata": {
  "kernelspec": {
   "display_name": "HateSlop",
   "language": "python",
   "name": "python3"
  },
  "language_info": {
   "codemirror_mode": {
    "name": "ipython",
    "version": 3
   },
   "file_extension": ".py",
   "mimetype": "text/x-python",
   "name": "python",
   "nbconvert_exporter": "python",
   "pygments_lexer": "ipython3",
   "version": "3.12.11"
  }
 },
 "nbformat": 4,
 "nbformat_minor": 5
}
