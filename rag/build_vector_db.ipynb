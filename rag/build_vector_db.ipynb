{
 "cells": [
  {
   "cell_type": "code",
   "execution_count": null,
   "id": "d8658902",
   "metadata": {},
   "outputs": [],
   "source": [
    "!pip install -r ../requirements.txt"
   ]
  },
  {
   "cell_type": "code",
   "execution_count": 5,
   "id": "540181c0",
   "metadata": {},
   "outputs": [],
   "source": [
    "import os  # os를 가져와 파일 시스템 접근, 환경 변수 읽을 수 있음\n",
    "from openai import OpenAI  # OpenAI의 api 사용 가능\n",
    "import chromadb  # chromadb 라이브러리 쓸 수 있게 해줌\n",
    "from chromadb.config import (\n",
    "    Settings,\n",
    ")  # Settings 클래스는 DB의 구성 옵션을 설정하는데 사용\n",
    "from dotenv import load_dotenv  # 환경 변수를 로드하기 위함"
   ]
  },
  {
   "cell_type": "markdown",
   "id": "4c6c6034",
   "metadata": {},
   "source": [
    "1. 환경 변수 Load해서 api_key 가져오고 OpenAI 클라이언트(객체) 초기화"
   ]
  },
  {
   "cell_type": "code",
   "execution_count": null,
   "id": "cf17dfe5",
   "metadata": {},
   "outputs": [],
   "source": [
    "# do it"
   ]
  },
  {
   "cell_type": "markdown",
   "id": "8f88d6ce",
   "metadata": {},
   "source": [
    "2. DB 초기화 함수 (매 실행 시 DB 폴더를 삭제 후 새로 생성)"
   ]
  },
  {
   "cell_type": "code",
   "execution_count": null,
   "id": "9a9dfeb3",
   "metadata": {},
   "outputs": [],
   "source": [
    "def init_db(db_path=\"./chroma_db\"):\n",
    "    # do it"
   ]
  },
  {
   "cell_type": "markdown",
   "id": "2ad87986",
   "metadata": {},
   "source": [
    "3. 텍스트 로딩 함수"
   ]
  },
  {
   "cell_type": "code",
   "execution_count": null,
   "id": "a612d2b3",
   "metadata": {},
   "outputs": [],
   "source": [
    "def load_text_files(folder_path):\n",
    "    # do it"
   ]
  },
  {
   "cell_type": "markdown",
   "id": "d4702934",
   "metadata": {},
   "source": [
    "4. 주어진 text를 임베딩 벡터로 변환하는 함수"
   ]
  },
  {
   "cell_type": "code",
   "execution_count": null,
   "id": "b0b88ea6",
   "metadata": {},
   "outputs": [],
   "source": [
    "def get_embedding(text, model=\"text-embedding-3-large\"):\n",
    "    # do it"
   ]
  },
  {
   "cell_type": "markdown",
   "id": "7de319d7",
   "metadata": {},
   "source": [
    "5. 원천 데이터 청크 단위로 나누고 overlap 사이즈 조절하는 함수"
   ]
  },
  {
   "cell_type": "code",
   "execution_count": null,
   "id": "cf4e9f77",
   "metadata": {},
   "outputs": [],
   "source": [
    "def chunk_text(text, chunk_size=400, chunk_overlap=50):\n",
    "    # do it "
   ]
  },
  {
   "cell_type": "markdown",
   "id": "2118a7cb",
   "metadata": {},
   "source": [
    "6. 문서로드 -> 청크 나누고 -> 임베딩 생성 후 DB 삽입"
   ]
  },
  {
   "cell_type": "code",
   "execution_count": null,
   "id": "78023acb",
   "metadata": {},
   "outputs": [],
   "source": [
    "if __name__ == \"__main__\":\n",
    "    # db 초기화, 경로 지정\n",
    "    # load_text_files 함수로 처리할 문서 데이터 불러오기기\n",
    "    # do it\n",
    "\n",
    "    # 전처리 과정\n",
    "    # do it\n",
    "\n",
    "    print(\"모든 문서 벡터DB에 저장 완료\")"
   ]
  }
 ],
 "metadata": {
  "kernelspec": {
   "display_name": "slop",
   "language": "python",
   "name": "python3"
  },
  "language_info": {
   "codemirror_mode": {
    "name": "ipython",
    "version": 3
   },
   "file_extension": ".py",
   "mimetype": "text/x-python",
   "name": "python",
   "nbconvert_exporter": "python",
   "pygments_lexer": "ipython3",
   "version": "3.12.7"
  }
 },
 "nbformat": 4,
 "nbformat_minor": 5
}
