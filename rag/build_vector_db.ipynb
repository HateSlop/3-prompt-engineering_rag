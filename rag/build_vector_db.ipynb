{
 "cells": [
  {
   "cell_type": "code",
   "execution_count": null,
   "id": "d8658902",
   "metadata": {},
   "outputs": [],
   "source": [
    "!pip install -r ../requirements.txt"
   ]
  },
  {
   "cell_type": "code",
   "execution_count": null,
   "id": "540181c0",
   "metadata": {},
   "outputs": [],
   "source": [
    "import os # os를 가져와 파일 시스템 접근, 환경 변수 읽을 수 있음\n",
    "from openai import OpenAI # OpenAI의 api 사용 가능\n",
    "import chromadb # chromadb 라이브러리 쓸 수 있게 해줌\n",
    "from chromadb.config import Settings # Settings 클래스는 DB의 구성 옵션을 설정하는데 사용\n",
    "from dotenv import load_dotenv # 환경 변수를 로드하기 위함"
   ]
  },
  {
   "cell_type": "markdown",
   "id": "4c6c6034",
   "metadata": {},
   "source": [
    "1. 환경 변수 Load해서 api_key 가져오고 OpenAI 클라이언트(객체) 초기화"
   ]
  },
  {
   "cell_type": "code",
   "execution_count": null,
   "id": "cf17dfe5",
   "metadata": {},
   "outputs": [],
   "source": [
    "# 환경 변수 Load해서 api_key 가져오고 OpenAI 클라이언트(객체) 초기화\n",
    "load_dotenv() \n",
    "api_key = os.getenv(\"OPENAI_API_KEY\")\n",
    "client = OpenAI(api_key=api_key)"
   ]
  },
  {
   "cell_type": "markdown",
   "id": "8f88d6ce",
   "metadata": {},
   "source": [
    "2. DB 초기화 함수 (매 실행 시 DB 폴더를 삭제 후 새로 생성)"
   ]
  },
  {
   "cell_type": "code",
   "execution_count": null,
   "id": "9a9dfeb3",
   "metadata": {},
   "outputs": [],
   "source": [
    "# DB 초기화 함수\n",
    "def init_db(db_path=\"./chroma_db\"): # 현재 디렉토리 내의 chroma_db폴더 설정\n",
    "    dbclient = chromadb.PersistentClient(path=db_path) # 지정 경로로 향하는 dbClient 생성\n",
    "    # rag_collection이라는 데이터 컬렉션(모음집) 만듦\n",
    "    # get_or_create옵션은 만약 해당 이름 컬렉션이 이미 존재하면 기존 컬렉션 쓰고 아님 만들고\n",
    "    collection = dbclient.create_collection(name=\"rag_collection\", get_or_create=True)\n",
    "    return dbclient, collection"
   ]
  },
  {
   "cell_type": "markdown",
   "id": "2ad87986",
   "metadata": {},
   "source": [
    "3. 텍스트 로딩 함수"
   ]
  },
  {
   "cell_type": "code",
   "execution_count": null,
   "id": "a612d2b3",
   "metadata": {},
   "outputs": [],
   "source": [
    "# 텍스트 로딩 함수 \n",
    "def load_text_files(folder_path):\n",
    "    docs=[] # 텍스트 파일의 (파일명, 내용) 튜플들을 저장할 빈 리스트 생성\n",
    "    for filename in os.listdir(folder_path): \n",
    "\t\t    # 현재 폴더 경로와 파일 이름을 결합하여 파일의 전체 경로를 생성\n",
    "        file_path = os.path.join(folder_path, filename) \n",
    "        if file_path.endswith(\".txt\"): # .txt 파일들을 처리하게 함\n",
    "            with open(file_path, \"r\", encoding=\"utf-8\") as f: # 읽기모드로 열고 인코딩\n",
    "                text = f.read() # 파일 전체 내용을 읽어서 문자열로 저장\n",
    "                docs.append((filename, text)) # (파일명, 내용) 튜플을 docs 리스트에 추가\n",
    "    return docs # 모든 텍스트 파일의 (파일명, 내용) 튜플 리스트를 반환"
   ]
  },
  {
   "cell_type": "markdown",
   "id": "d4702934",
   "metadata": {},
   "source": [
    "4. 주어진 text를 임베딩 벡터로 변환하는 함수"
   ]
  },
  {
   "cell_type": "code",
   "execution_count": null,
   "id": "b0b88ea6",
   "metadata": {},
   "outputs": [],
   "source": [
    "# 주어진 text를 임베딩 벡터로 변환하는 함수 \n",
    "def get_embedding(text, model=\"text-embedding-3-large\"):\n",
    "\t\t# 여기서 client는 앞서 초기화한 OpenAI 클라이언트\n",
    "    response = client.embeddings.create(input=[text], model=model)\n",
    "    embedding = response.data[0].embedding # 응답 객체의 data 리스트에서 embedding 필드 추출\n",
    "    return embedding "
   ]
  },
  {
   "cell_type": "markdown",
   "id": "7de319d7",
   "metadata": {},
   "source": [
    "5. 원천 데이터 청크 단위로 나누고 overlap 사이즈 조절하는 함수"
   ]
  },
  {
   "cell_type": "code",
   "execution_count": null,
   "id": "cf4e9f77",
   "metadata": {},
   "outputs": [],
   "source": [
    "# 원천 데이터 청크 단위로 나누고 overlap 사이즈 조절하는 함수\n",
    "def chunk_text(text, chunk_size=400, chunk_overlap=50):\n",
    "    chunks = [] # 분할된 텍스트 청크들을 저장할 리스트\n",
    "    start = 0 # 청크를 시작할 위치를 나타내는 인덱스\n",
    "    while start < len(text):\n",
    "        end = start + chunk_size\n",
    "        chunk = text[start:end] # 텍스트에서 start부터 end까지 부분 문자열을 추출\n",
    "        chunks.append(chunk) # 추출한 청크를 리스트에 추가\n",
    "        start = end - chunk_overlap # overlap 적용\n",
    "\n",
    "        if start < 0: # 음수가 될 수 있으니 예외 처리\n",
    "            start = 0\n",
    "\n",
    "        if start >= len(text): # 종료 시그널\n",
    "            break\n",
    "\n",
    "    return chunks # 모든 청크가 저장된 리스트를 반환"
   ]
  },
  {
   "cell_type": "markdown",
   "id": "2118a7cb",
   "metadata": {},
   "source": [
    "6. 문서로드 -> 청크 나누고 -> 임베딩 생성 후 DB 삽입"
   ]
  },
  {
   "cell_type": "code",
   "execution_count": null,
   "id": "78023acb",
   "metadata": {},
   "outputs": [],
   "source": [
    "# 문서로드 -> 청크 나누고 -> 임베딩 생성 후 DB 삽입\n",
    "if __name__ == \"__main__\":\n",
    "    # db 초기화\n",
    "    dbclient, collection = init_db(\"./chroma_db\")\n",
    "\n",
    "    folder_path = \"./source_data\" # 데이터 가져다 쓸 경로 지정\n",
    "    docs = load_text_files(folder_path) # 처리할 문서 데이터 메모리로 불러오기\n",
    "\n",
    "    doc_id = 0\n",
    "    for filename, text in docs: \n",
    "        chunks = chunk_text(text, chunk_size=400, chunk_overlap=50) # chunking\n",
    "        for idx, chunk in enumerate(chunks): # 각 청크와 해당 청크의 인덱스 가져옴\n",
    "            doc_id += 1 # 인덱스 하나씩 증가 시키면서\n",
    "            embedding = get_embedding(chunk) # 각 청크 임베딩 벡터 생성\n",
    "            # vectorDB에 다음 정보 추가\n",
    "            collection.add(\n",
    "                documents=[chunk], # 실제 청크 text\n",
    "                embeddings=[embedding], # 생성된 임베딩 벡터\n",
    "                metadatas=[{\"filename\": filename, \"chunk_index\": idx}], # 파일 이름과 청크 인덱스를 포함하는 메타데이터\n",
    "                ids=[str(doc_id)] # 각 청크의 Unique한 id 저장\n",
    "                # 이 고유 id를 통해 db에서 업데이트, 삭제등의 작업 가능 \n",
    "            )\n",
    "            \n",
    "    print(\"모든 문서 벡터DB에 저장 완료\")"
   ]
  }
 ],
 "metadata": {
  "kernelspec": {
   "display_name": "hateslop",
   "language": "python",
   "name": "python3"
  },
  "language_info": {
   "codemirror_mode": {
    "name": "ipython",
    "version": 3
   },
   "file_extension": ".py",
   "mimetype": "text/x-python",
   "name": "python",
   "nbconvert_exporter": "python",
   "pygments_lexer": "ipython3",
   "version": "3.13.5"
  }
 },
 "nbformat": 4,
 "nbformat_minor": 5
}
