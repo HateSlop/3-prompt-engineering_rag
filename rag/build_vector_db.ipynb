{
 "cells": [
  {
   "cell_type": "code",
   "execution_count": 18,
   "id": "96a1b2da",
   "metadata": {},
   "outputs": [
    {
     "name": "stdout",
     "output_type": "stream",
     "text": [
      "Requirement already satisfied: openai in c:\\users\\user\\anaconda3\\envs\\slop\\lib\\site-packages (from -r requirements.txt (line 5)) (1.66.3)\n",
      "Requirement already satisfied: python-dotenv in c:\\users\\user\\anaconda3\\envs\\slop\\lib\\site-packages (from -r requirements.txt (line 6)) (1.0.1)\n",
      "Requirement already satisfied: huggingface-hub in c:\\users\\user\\anaconda3\\envs\\slop\\lib\\site-packages (from -r requirements.txt (line 7)) (0.32.4)\n",
      "Requirement already satisfied: numpy in c:\\users\\user\\anaconda3\\envs\\slop\\lib\\site-packages (from -r requirements.txt (line 8)) (2.2.4)\n",
      "Requirement already satisfied: pandas in c:\\users\\user\\anaconda3\\envs\\slop\\lib\\site-packages (from -r requirements.txt (line 9)) (2.2.3)\n",
      "Requirement already satisfied: datasets in c:\\users\\user\\anaconda3\\envs\\slop\\lib\\site-packages (from -r requirements.txt (line 10)) (3.4.1)\n",
      "Requirement already satisfied: chromadb in c:\\users\\user\\anaconda3\\envs\\slop\\lib\\site-packages (from -r requirements.txt (line 11)) (0.6.3)\n",
      "Requirement already satisfied: langchain in c:\\users\\user\\anaconda3\\envs\\slop\\lib\\site-packages (from -r requirements.txt (line 12)) (0.3.21)\n",
      "Requirement already satisfied: tiktoken in c:\\users\\user\\anaconda3\\envs\\slop\\lib\\site-packages (from -r requirements.txt (line 13)) (0.9.0)\n",
      "Requirement already satisfied: unstructured in c:\\users\\user\\anaconda3\\envs\\slop\\lib\\site-packages (from -r requirements.txt (line 15)) (0.17.2)\n",
      "Requirement already satisfied: anyio<5,>=3.5.0 in c:\\users\\user\\anaconda3\\envs\\slop\\lib\\site-packages (from openai->-r requirements.txt (line 5)) (4.9.0)\n",
      "Requirement already satisfied: distro<2,>=1.7.0 in c:\\users\\user\\anaconda3\\envs\\slop\\lib\\site-packages (from openai->-r requirements.txt (line 5)) (1.9.0)\n",
      "Requirement already satisfied: httpx<1,>=0.23.0 in c:\\users\\user\\anaconda3\\envs\\slop\\lib\\site-packages (from openai->-r requirements.txt (line 5)) (0.28.1)\n",
      "Requirement already satisfied: jiter<1,>=0.4.0 in c:\\users\\user\\anaconda3\\envs\\slop\\lib\\site-packages (from openai->-r requirements.txt (line 5)) (0.9.0)\n",
      "Requirement already satisfied: pydantic<3,>=1.9.0 in c:\\users\\user\\anaconda3\\envs\\slop\\lib\\site-packages (from openai->-r requirements.txt (line 5)) (2.10.6)\n",
      "Requirement already satisfied: sniffio in c:\\users\\user\\anaconda3\\envs\\slop\\lib\\site-packages (from openai->-r requirements.txt (line 5)) (1.3.1)\n",
      "Requirement already satisfied: tqdm>4 in c:\\users\\user\\anaconda3\\envs\\slop\\lib\\site-packages (from openai->-r requirements.txt (line 5)) (4.67.1)\n",
      "Requirement already satisfied: typing-extensions<5,>=4.11 in c:\\users\\user\\anaconda3\\envs\\slop\\lib\\site-packages (from openai->-r requirements.txt (line 5)) (4.15.0)\n",
      "Requirement already satisfied: filelock in c:\\users\\user\\anaconda3\\envs\\slop\\lib\\site-packages (from huggingface-hub->-r requirements.txt (line 7)) (3.18.0)\n",
      "Requirement already satisfied: fsspec>=2023.5.0 in c:\\users\\user\\anaconda3\\envs\\slop\\lib\\site-packages (from huggingface-hub->-r requirements.txt (line 7)) (2024.12.0)\n",
      "Requirement already satisfied: packaging>=20.9 in c:\\users\\user\\anaconda3\\envs\\slop\\lib\\site-packages (from huggingface-hub->-r requirements.txt (line 7)) (24.2)\n",
      "Requirement already satisfied: pyyaml>=5.1 in c:\\users\\user\\anaconda3\\envs\\slop\\lib\\site-packages (from huggingface-hub->-r requirements.txt (line 7)) (6.0.2)\n",
      "Requirement already satisfied: requests in c:\\users\\user\\anaconda3\\envs\\slop\\lib\\site-packages (from huggingface-hub->-r requirements.txt (line 7)) (2.32.3)\n",
      "Requirement already satisfied: python-dateutil>=2.8.2 in c:\\users\\user\\anaconda3\\envs\\slop\\lib\\site-packages (from pandas->-r requirements.txt (line 9)) (2.9.0.post0)\n",
      "Requirement already satisfied: pytz>=2020.1 in c:\\users\\user\\anaconda3\\envs\\slop\\lib\\site-packages (from pandas->-r requirements.txt (line 9)) (2025.2)\n",
      "Requirement already satisfied: tzdata>=2022.7 in c:\\users\\user\\anaconda3\\envs\\slop\\lib\\site-packages (from pandas->-r requirements.txt (line 9)) (2025.2)\n",
      "Requirement already satisfied: pyarrow>=15.0.0 in c:\\users\\user\\anaconda3\\envs\\slop\\lib\\site-packages (from datasets->-r requirements.txt (line 10)) (19.0.1)\n",
      "Requirement already satisfied: dill<0.3.9,>=0.3.0 in c:\\users\\user\\anaconda3\\envs\\slop\\lib\\site-packages (from datasets->-r requirements.txt (line 10)) (0.3.8)\n",
      "Requirement already satisfied: xxhash in c:\\users\\user\\anaconda3\\envs\\slop\\lib\\site-packages (from datasets->-r requirements.txt (line 10)) (3.5.0)\n",
      "Requirement already satisfied: multiprocess<0.70.17 in c:\\users\\user\\anaconda3\\envs\\slop\\lib\\site-packages (from datasets->-r requirements.txt (line 10)) (0.70.16)\n",
      "Requirement already satisfied: aiohttp in c:\\users\\user\\anaconda3\\envs\\slop\\lib\\site-packages (from datasets->-r requirements.txt (line 10)) (3.11.14)\n",
      "Requirement already satisfied: build>=1.0.3 in c:\\users\\user\\anaconda3\\envs\\slop\\lib\\site-packages (from chromadb->-r requirements.txt (line 11)) (1.2.2.post1)\n",
      "Requirement already satisfied: chroma-hnswlib==0.7.6 in c:\\users\\user\\anaconda3\\envs\\slop\\lib\\site-packages (from chromadb->-r requirements.txt (line 11)) (0.7.6)\n",
      "Requirement already satisfied: fastapi>=0.95.2 in c:\\users\\user\\anaconda3\\envs\\slop\\lib\\site-packages (from chromadb->-r requirements.txt (line 11)) (0.115.12)\n",
      "Requirement already satisfied: uvicorn>=0.18.3 in c:\\users\\user\\anaconda3\\envs\\slop\\lib\\site-packages (from uvicorn[standard]>=0.18.3->chromadb->-r requirements.txt (line 11)) (0.34.0)\n",
      "Requirement already satisfied: posthog>=2.4.0 in c:\\users\\user\\anaconda3\\envs\\slop\\lib\\site-packages (from chromadb->-r requirements.txt (line 11)) (3.23.0)\n",
      "Requirement already satisfied: onnxruntime>=1.14.1 in c:\\users\\user\\anaconda3\\envs\\slop\\lib\\site-packages (from chromadb->-r requirements.txt (line 11)) (1.21.0)\n",
      "Requirement already satisfied: opentelemetry-api>=1.2.0 in c:\\users\\user\\anaconda3\\envs\\slop\\lib\\site-packages (from chromadb->-r requirements.txt (line 11)) (1.31.1)\n",
      "Requirement already satisfied: opentelemetry-exporter-otlp-proto-grpc>=1.2.0 in c:\\users\\user\\anaconda3\\envs\\slop\\lib\\site-packages (from chromadb->-r requirements.txt (line 11)) (1.31.1)\n",
      "Requirement already satisfied: opentelemetry-instrumentation-fastapi>=0.41b0 in c:\\users\\user\\anaconda3\\envs\\slop\\lib\\site-packages (from chromadb->-r requirements.txt (line 11)) (0.52b1)\n",
      "Requirement already satisfied: opentelemetry-sdk>=1.2.0 in c:\\users\\user\\anaconda3\\envs\\slop\\lib\\site-packages (from chromadb->-r requirements.txt (line 11)) (1.31.1)\n",
      "Requirement already satisfied: tokenizers>=0.13.2 in c:\\users\\user\\anaconda3\\envs\\slop\\lib\\site-packages (from chromadb->-r requirements.txt (line 11)) (0.21.1)\n",
      "Requirement already satisfied: pypika>=0.48.9 in c:\\users\\user\\anaconda3\\envs\\slop\\lib\\site-packages (from chromadb->-r requirements.txt (line 11)) (0.48.9)\n",
      "Requirement already satisfied: overrides>=7.3.1 in c:\\users\\user\\anaconda3\\envs\\slop\\lib\\site-packages (from chromadb->-r requirements.txt (line 11)) (7.7.0)\n",
      "Requirement already satisfied: importlib-resources in c:\\users\\user\\anaconda3\\envs\\slop\\lib\\site-packages (from chromadb->-r requirements.txt (line 11)) (6.5.2)\n",
      "Requirement already satisfied: grpcio>=1.58.0 in c:\\users\\user\\anaconda3\\envs\\slop\\lib\\site-packages (from chromadb->-r requirements.txt (line 11)) (1.71.0)\n",
      "Requirement already satisfied: bcrypt>=4.0.1 in c:\\users\\user\\anaconda3\\envs\\slop\\lib\\site-packages (from chromadb->-r requirements.txt (line 11)) (4.3.0)\n",
      "Requirement already satisfied: typer>=0.9.0 in c:\\users\\user\\anaconda3\\envs\\slop\\lib\\site-packages (from chromadb->-r requirements.txt (line 11)) (0.15.2)\n",
      "Requirement already satisfied: kubernetes>=28.1.0 in c:\\users\\user\\anaconda3\\envs\\slop\\lib\\site-packages (from chromadb->-r requirements.txt (line 11)) (32.0.1)\n",
      "Requirement already satisfied: tenacity>=8.2.3 in c:\\users\\user\\anaconda3\\envs\\slop\\lib\\site-packages (from chromadb->-r requirements.txt (line 11)) (9.0.0)\n",
      "Requirement already satisfied: mmh3>=4.0.1 in c:\\users\\user\\anaconda3\\envs\\slop\\lib\\site-packages (from chromadb->-r requirements.txt (line 11)) (5.1.0)\n",
      "Requirement already satisfied: orjson>=3.9.12 in c:\\users\\user\\anaconda3\\envs\\slop\\lib\\site-packages (from chromadb->-r requirements.txt (line 11)) (3.10.16)\n",
      "Requirement already satisfied: rich>=10.11.0 in c:\\users\\user\\anaconda3\\envs\\slop\\lib\\site-packages (from chromadb->-r requirements.txt (line 11)) (13.9.4)\n",
      "Requirement already satisfied: langchain-core<1.0.0,>=0.3.45 in c:\\users\\user\\anaconda3\\envs\\slop\\lib\\site-packages (from langchain->-r requirements.txt (line 12)) (0.3.49)\n",
      "Requirement already satisfied: langchain-text-splitters<1.0.0,>=0.3.7 in c:\\users\\user\\anaconda3\\envs\\slop\\lib\\site-packages (from langchain->-r requirements.txt (line 12)) (0.3.7)\n",
      "Requirement already satisfied: langsmith<0.4,>=0.1.17 in c:\\users\\user\\anaconda3\\envs\\slop\\lib\\site-packages (from langchain->-r requirements.txt (line 12)) (0.3.19)\n",
      "Requirement already satisfied: SQLAlchemy<3,>=1.4 in c:\\users\\user\\anaconda3\\envs\\slop\\lib\\site-packages (from langchain->-r requirements.txt (line 12)) (2.0.39)\n",
      "Requirement already satisfied: regex>=2022.1.18 in c:\\users\\user\\anaconda3\\envs\\slop\\lib\\site-packages (from tiktoken->-r requirements.txt (line 13)) (2024.11.6)\n",
      "Requirement already satisfied: chardet in c:\\users\\user\\anaconda3\\envs\\slop\\lib\\site-packages (from unstructured->-r requirements.txt (line 15)) (5.2.0)\n",
      "Requirement already satisfied: filetype in c:\\users\\user\\anaconda3\\envs\\slop\\lib\\site-packages (from unstructured->-r requirements.txt (line 15)) (1.2.0)\n",
      "Requirement already satisfied: python-magic in c:\\users\\user\\anaconda3\\envs\\slop\\lib\\site-packages (from unstructured->-r requirements.txt (line 15)) (0.4.27)\n",
      "Requirement already satisfied: lxml in c:\\users\\user\\anaconda3\\envs\\slop\\lib\\site-packages (from unstructured->-r requirements.txt (line 15)) (5.3.1)\n",
      "Requirement already satisfied: nltk in c:\\users\\user\\anaconda3\\envs\\slop\\lib\\site-packages (from unstructured->-r requirements.txt (line 15)) (3.9.1)\n",
      "Requirement already satisfied: beautifulsoup4 in c:\\users\\user\\anaconda3\\envs\\slop\\lib\\site-packages (from unstructured->-r requirements.txt (line 15)) (4.13.3)\n",
      "Requirement already satisfied: emoji in c:\\users\\user\\anaconda3\\envs\\slop\\lib\\site-packages (from unstructured->-r requirements.txt (line 15)) (2.14.1)\n",
      "Requirement already satisfied: dataclasses-json in c:\\users\\user\\anaconda3\\envs\\slop\\lib\\site-packages (from unstructured->-r requirements.txt (line 15)) (0.6.7)\n",
      "Requirement already satisfied: python-iso639 in c:\\users\\user\\anaconda3\\envs\\slop\\lib\\site-packages (from unstructured->-r requirements.txt (line 15)) (2025.2.18)\n",
      "Requirement already satisfied: langdetect in c:\\users\\user\\anaconda3\\envs\\slop\\lib\\site-packages (from unstructured->-r requirements.txt (line 15)) (1.0.9)\n",
      "Requirement already satisfied: rapidfuzz in c:\\users\\user\\anaconda3\\envs\\slop\\lib\\site-packages (from unstructured->-r requirements.txt (line 15)) (3.12.2)\n",
      "Requirement already satisfied: backoff in c:\\users\\user\\anaconda3\\envs\\slop\\lib\\site-packages (from unstructured->-r requirements.txt (line 15)) (2.2.1)\n",
      "Requirement already satisfied: unstructured-client in c:\\users\\user\\anaconda3\\envs\\slop\\lib\\site-packages (from unstructured->-r requirements.txt (line 15)) (0.31.5)\n",
      "Requirement already satisfied: wrapt in c:\\users\\user\\anaconda3\\envs\\slop\\lib\\site-packages (from unstructured->-r requirements.txt (line 15)) (1.17.2)\n",
      "Requirement already satisfied: psutil in c:\\users\\user\\anaconda3\\envs\\slop\\lib\\site-packages (from unstructured->-r requirements.txt (line 15)) (5.9.0)\n",
      "Requirement already satisfied: python-oxmsg in c:\\users\\user\\anaconda3\\envs\\slop\\lib\\site-packages (from unstructured->-r requirements.txt (line 15)) (0.0.2)\n",
      "Requirement already satisfied: html5lib in c:\\users\\user\\anaconda3\\envs\\slop\\lib\\site-packages (from unstructured->-r requirements.txt (line 15)) (1.1)\n",
      "Requirement already satisfied: idna>=2.8 in c:\\users\\user\\anaconda3\\envs\\slop\\lib\\site-packages (from anyio<5,>=3.5.0->openai->-r requirements.txt (line 5)) (3.10)\n",
      "Requirement already satisfied: pyproject_hooks in c:\\users\\user\\anaconda3\\envs\\slop\\lib\\site-packages (from build>=1.0.3->chromadb->-r requirements.txt (line 11)) (1.2.0)\n",
      "Requirement already satisfied: colorama in c:\\users\\user\\anaconda3\\envs\\slop\\lib\\site-packages (from build>=1.0.3->chromadb->-r requirements.txt (line 11)) (0.4.6)\n",
      "Requirement already satisfied: starlette<0.47.0,>=0.40.0 in c:\\users\\user\\anaconda3\\envs\\slop\\lib\\site-packages (from fastapi>=0.95.2->chromadb->-r requirements.txt (line 11)) (0.46.1)\n",
      "Requirement already satisfied: aiohappyeyeballs>=2.3.0 in c:\\users\\user\\anaconda3\\envs\\slop\\lib\\site-packages (from aiohttp->datasets->-r requirements.txt (line 10)) (2.6.1)\n",
      "Requirement already satisfied: aiosignal>=1.1.2 in c:\\users\\user\\anaconda3\\envs\\slop\\lib\\site-packages (from aiohttp->datasets->-r requirements.txt (line 10)) (1.3.2)\n",
      "Requirement already satisfied: attrs>=17.3.0 in c:\\users\\user\\anaconda3\\envs\\slop\\lib\\site-packages (from aiohttp->datasets->-r requirements.txt (line 10)) (25.3.0)\n",
      "Requirement already satisfied: frozenlist>=1.1.1 in c:\\users\\user\\anaconda3\\envs\\slop\\lib\\site-packages (from aiohttp->datasets->-r requirements.txt (line 10)) (1.5.0)\n",
      "Requirement already satisfied: multidict<7.0,>=4.5 in c:\\users\\user\\anaconda3\\envs\\slop\\lib\\site-packages (from aiohttp->datasets->-r requirements.txt (line 10)) (6.2.0)\n",
      "Requirement already satisfied: propcache>=0.2.0 in c:\\users\\user\\anaconda3\\envs\\slop\\lib\\site-packages (from aiohttp->datasets->-r requirements.txt (line 10)) (0.3.1)\n",
      "Requirement already satisfied: yarl<2.0,>=1.17.0 in c:\\users\\user\\anaconda3\\envs\\slop\\lib\\site-packages (from aiohttp->datasets->-r requirements.txt (line 10)) (1.18.3)\n",
      "Requirement already satisfied: certifi in c:\\users\\user\\anaconda3\\envs\\slop\\lib\\site-packages (from httpx<1,>=0.23.0->openai->-r requirements.txt (line 5)) (2025.1.31)\n",
      "Requirement already satisfied: httpcore==1.* in c:\\users\\user\\anaconda3\\envs\\slop\\lib\\site-packages (from httpx<1,>=0.23.0->openai->-r requirements.txt (line 5)) (1.0.7)\n",
      "Requirement already satisfied: h11<0.15,>=0.13 in c:\\users\\user\\anaconda3\\envs\\slop\\lib\\site-packages (from httpcore==1.*->httpx<1,>=0.23.0->openai->-r requirements.txt (line 5)) (0.14.0)\n",
      "Requirement already satisfied: six>=1.9.0 in c:\\users\\user\\anaconda3\\envs\\slop\\lib\\site-packages (from kubernetes>=28.1.0->chromadb->-r requirements.txt (line 11)) (1.17.0)\n",
      "Requirement already satisfied: google-auth>=1.0.1 in c:\\users\\user\\anaconda3\\envs\\slop\\lib\\site-packages (from kubernetes>=28.1.0->chromadb->-r requirements.txt (line 11)) (2.38.0)\n",
      "Requirement already satisfied: websocket-client!=0.40.0,!=0.41.*,!=0.42.*,>=0.32.0 in c:\\users\\user\\anaconda3\\envs\\slop\\lib\\site-packages (from kubernetes>=28.1.0->chromadb->-r requirements.txt (line 11)) (1.8.0)\n",
      "Requirement already satisfied: requests-oauthlib in c:\\users\\user\\anaconda3\\envs\\slop\\lib\\site-packages (from kubernetes>=28.1.0->chromadb->-r requirements.txt (line 11)) (2.0.0)\n",
      "Requirement already satisfied: oauthlib>=3.2.2 in c:\\users\\user\\anaconda3\\envs\\slop\\lib\\site-packages (from kubernetes>=28.1.0->chromadb->-r requirements.txt (line 11)) (3.2.2)\n",
      "Requirement already satisfied: urllib3>=1.24.2 in c:\\users\\user\\anaconda3\\envs\\slop\\lib\\site-packages (from kubernetes>=28.1.0->chromadb->-r requirements.txt (line 11)) (2.3.0)\n",
      "Requirement already satisfied: durationpy>=0.7 in c:\\users\\user\\anaconda3\\envs\\slop\\lib\\site-packages (from kubernetes>=28.1.0->chromadb->-r requirements.txt (line 11)) (0.9)\n",
      "Requirement already satisfied: jsonpatch<2.0,>=1.33 in c:\\users\\user\\anaconda3\\envs\\slop\\lib\\site-packages (from langchain-core<1.0.0,>=0.3.45->langchain->-r requirements.txt (line 12)) (1.33)\n",
      "Requirement already satisfied: requests-toolbelt<2.0.0,>=1.0.0 in c:\\users\\user\\anaconda3\\envs\\slop\\lib\\site-packages (from langsmith<0.4,>=0.1.17->langchain->-r requirements.txt (line 12)) (1.0.0)\n",
      "Requirement already satisfied: zstandard<0.24.0,>=0.23.0 in c:\\users\\user\\anaconda3\\envs\\slop\\lib\\site-packages (from langsmith<0.4,>=0.1.17->langchain->-r requirements.txt (line 12)) (0.23.0)\n",
      "Requirement already satisfied: coloredlogs in c:\\users\\user\\anaconda3\\envs\\slop\\lib\\site-packages (from onnxruntime>=1.14.1->chromadb->-r requirements.txt (line 11)) (15.0.1)\n",
      "Requirement already satisfied: flatbuffers in c:\\users\\user\\anaconda3\\envs\\slop\\lib\\site-packages (from onnxruntime>=1.14.1->chromadb->-r requirements.txt (line 11)) (25.2.10)\n",
      "Requirement already satisfied: protobuf in c:\\users\\user\\anaconda3\\envs\\slop\\lib\\site-packages (from onnxruntime>=1.14.1->chromadb->-r requirements.txt (line 11)) (5.29.4)\n",
      "Requirement already satisfied: sympy in c:\\users\\user\\anaconda3\\envs\\slop\\lib\\site-packages (from onnxruntime>=1.14.1->chromadb->-r requirements.txt (line 11)) (1.13.3)\n",
      "Requirement already satisfied: deprecated>=1.2.6 in c:\\users\\user\\anaconda3\\envs\\slop\\lib\\site-packages (from opentelemetry-api>=1.2.0->chromadb->-r requirements.txt (line 11)) (1.2.18)\n",
      "Requirement already satisfied: importlib-metadata<8.7.0,>=6.0 in c:\\users\\user\\anaconda3\\envs\\slop\\lib\\site-packages (from opentelemetry-api>=1.2.0->chromadb->-r requirements.txt (line 11)) (8.6.1)\n",
      "Requirement already satisfied: googleapis-common-protos~=1.52 in c:\\users\\user\\anaconda3\\envs\\slop\\lib\\site-packages (from opentelemetry-exporter-otlp-proto-grpc>=1.2.0->chromadb->-r requirements.txt (line 11)) (1.69.2)\n",
      "Requirement already satisfied: opentelemetry-exporter-otlp-proto-common==1.31.1 in c:\\users\\user\\anaconda3\\envs\\slop\\lib\\site-packages (from opentelemetry-exporter-otlp-proto-grpc>=1.2.0->chromadb->-r requirements.txt (line 11)) (1.31.1)\n",
      "Requirement already satisfied: opentelemetry-proto==1.31.1 in c:\\users\\user\\anaconda3\\envs\\slop\\lib\\site-packages (from opentelemetry-exporter-otlp-proto-grpc>=1.2.0->chromadb->-r requirements.txt (line 11)) (1.31.1)\n",
      "Requirement already satisfied: opentelemetry-instrumentation-asgi==0.52b1 in c:\\users\\user\\anaconda3\\envs\\slop\\lib\\site-packages (from opentelemetry-instrumentation-fastapi>=0.41b0->chromadb->-r requirements.txt (line 11)) (0.52b1)\n",
      "Requirement already satisfied: opentelemetry-instrumentation==0.52b1 in c:\\users\\user\\anaconda3\\envs\\slop\\lib\\site-packages (from opentelemetry-instrumentation-fastapi>=0.41b0->chromadb->-r requirements.txt (line 11)) (0.52b1)\n",
      "Requirement already satisfied: opentelemetry-semantic-conventions==0.52b1 in c:\\users\\user\\anaconda3\\envs\\slop\\lib\\site-packages (from opentelemetry-instrumentation-fastapi>=0.41b0->chromadb->-r requirements.txt (line 11)) (0.52b1)\n",
      "Requirement already satisfied: opentelemetry-util-http==0.52b1 in c:\\users\\user\\anaconda3\\envs\\slop\\lib\\site-packages (from opentelemetry-instrumentation-fastapi>=0.41b0->chromadb->-r requirements.txt (line 11)) (0.52b1)\n",
      "Requirement already satisfied: asgiref~=3.0 in c:\\users\\user\\anaconda3\\envs\\slop\\lib\\site-packages (from opentelemetry-instrumentation-asgi==0.52b1->opentelemetry-instrumentation-fastapi>=0.41b0->chromadb->-r requirements.txt (line 11)) (3.8.1)\n",
      "Requirement already satisfied: monotonic>=1.5 in c:\\users\\user\\anaconda3\\envs\\slop\\lib\\site-packages (from posthog>=2.4.0->chromadb->-r requirements.txt (line 11)) (1.6)\n",
      "Requirement already satisfied: annotated-types>=0.6.0 in c:\\users\\user\\anaconda3\\envs\\slop\\lib\\site-packages (from pydantic<3,>=1.9.0->openai->-r requirements.txt (line 5)) (0.7.0)\n",
      "Requirement already satisfied: pydantic-core==2.27.2 in c:\\users\\user\\anaconda3\\envs\\slop\\lib\\site-packages (from pydantic<3,>=1.9.0->openai->-r requirements.txt (line 5)) (2.27.2)\n",
      "Requirement already satisfied: charset-normalizer<4,>=2 in c:\\users\\user\\anaconda3\\envs\\slop\\lib\\site-packages (from requests->huggingface-hub->-r requirements.txt (line 7)) (3.4.1)\n",
      "Requirement already satisfied: markdown-it-py>=2.2.0 in c:\\users\\user\\anaconda3\\envs\\slop\\lib\\site-packages (from rich>=10.11.0->chromadb->-r requirements.txt (line 11)) (3.0.0)\n",
      "Requirement already satisfied: pygments<3.0.0,>=2.13.0 in c:\\users\\user\\anaconda3\\envs\\slop\\lib\\site-packages (from rich>=10.11.0->chromadb->-r requirements.txt (line 11)) (2.19.1)\n",
      "Requirement already satisfied: greenlet!=0.4.17 in c:\\users\\user\\anaconda3\\envs\\slop\\lib\\site-packages (from SQLAlchemy<3,>=1.4->langchain->-r requirements.txt (line 12)) (3.1.1)\n",
      "Requirement already satisfied: click>=8.0.0 in c:\\users\\user\\anaconda3\\envs\\slop\\lib\\site-packages (from typer>=0.9.0->chromadb->-r requirements.txt (line 11)) (8.1.8)\n",
      "Requirement already satisfied: shellingham>=1.3.0 in c:\\users\\user\\anaconda3\\envs\\slop\\lib\\site-packages (from typer>=0.9.0->chromadb->-r requirements.txt (line 11)) (1.5.4)\n",
      "Requirement already satisfied: httptools>=0.6.3 in c:\\users\\user\\anaconda3\\envs\\slop\\lib\\site-packages (from uvicorn[standard]>=0.18.3->chromadb->-r requirements.txt (line 11)) (0.6.4)\n",
      "Requirement already satisfied: watchfiles>=0.13 in c:\\users\\user\\anaconda3\\envs\\slop\\lib\\site-packages (from uvicorn[standard]>=0.18.3->chromadb->-r requirements.txt (line 11)) (1.0.4)\n",
      "Requirement already satisfied: websockets>=10.4 in c:\\users\\user\\anaconda3\\envs\\slop\\lib\\site-packages (from uvicorn[standard]>=0.18.3->chromadb->-r requirements.txt (line 11)) (15.0.1)\n",
      "Requirement already satisfied: soupsieve>1.2 in c:\\users\\user\\anaconda3\\envs\\slop\\lib\\site-packages (from beautifulsoup4->unstructured->-r requirements.txt (line 15)) (2.6)\n",
      "Requirement already satisfied: marshmallow<4.0.0,>=3.18.0 in c:\\users\\user\\anaconda3\\envs\\slop\\lib\\site-packages (from dataclasses-json->unstructured->-r requirements.txt (line 15)) (3.26.1)\n",
      "Requirement already satisfied: typing-inspect<1,>=0.4.0 in c:\\users\\user\\anaconda3\\envs\\slop\\lib\\site-packages (from dataclasses-json->unstructured->-r requirements.txt (line 15)) (0.9.0)\n",
      "Requirement already satisfied: webencodings in c:\\users\\user\\anaconda3\\envs\\slop\\lib\\site-packages (from html5lib->unstructured->-r requirements.txt (line 15)) (0.5.1)\n",
      "Requirement already satisfied: joblib in c:\\users\\user\\anaconda3\\envs\\slop\\lib\\site-packages (from nltk->unstructured->-r requirements.txt (line 15)) (1.4.2)\n",
      "Requirement already satisfied: olefile in c:\\users\\user\\anaconda3\\envs\\slop\\lib\\site-packages (from python-oxmsg->unstructured->-r requirements.txt (line 15)) (0.47)\n",
      "Requirement already satisfied: aiofiles>=24.1.0 in c:\\users\\user\\anaconda3\\envs\\slop\\lib\\site-packages (from unstructured-client->unstructured->-r requirements.txt (line 15)) (24.1.0)\n",
      "Requirement already satisfied: cryptography>=3.1 in c:\\users\\user\\anaconda3\\envs\\slop\\lib\\site-packages (from unstructured-client->unstructured->-r requirements.txt (line 15)) (44.0.2)\n",
      "Requirement already satisfied: eval-type-backport>=0.2.0 in c:\\users\\user\\anaconda3\\envs\\slop\\lib\\site-packages (from unstructured-client->unstructured->-r requirements.txt (line 15)) (0.2.2)\n",
      "Requirement already satisfied: nest-asyncio>=1.6.0 in c:\\users\\user\\anaconda3\\envs\\slop\\lib\\site-packages (from unstructured-client->unstructured->-r requirements.txt (line 15)) (1.6.0)\n",
      "Requirement already satisfied: pypdf>=4.0 in c:\\users\\user\\anaconda3\\envs\\slop\\lib\\site-packages (from unstructured-client->unstructured->-r requirements.txt (line 15)) (5.4.0)\n",
      "Requirement already satisfied: typing-inspection>=0.4.0 in c:\\users\\user\\anaconda3\\envs\\slop\\lib\\site-packages (from unstructured-client->unstructured->-r requirements.txt (line 15)) (0.4.0)\n",
      "Requirement already satisfied: cffi>=1.12 in c:\\users\\user\\anaconda3\\envs\\slop\\lib\\site-packages (from cryptography>=3.1->unstructured-client->unstructured->-r requirements.txt (line 15)) (1.17.1)\n",
      "Requirement already satisfied: cachetools<6.0,>=2.0.0 in c:\\users\\user\\anaconda3\\envs\\slop\\lib\\site-packages (from google-auth>=1.0.1->kubernetes>=28.1.0->chromadb->-r requirements.txt (line 11)) (5.5.2)\n",
      "Requirement already satisfied: pyasn1-modules>=0.2.1 in c:\\users\\user\\anaconda3\\envs\\slop\\lib\\site-packages (from google-auth>=1.0.1->kubernetes>=28.1.0->chromadb->-r requirements.txt (line 11)) (0.4.1)\n",
      "Requirement already satisfied: rsa<5,>=3.1.4 in c:\\users\\user\\anaconda3\\envs\\slop\\lib\\site-packages (from google-auth>=1.0.1->kubernetes>=28.1.0->chromadb->-r requirements.txt (line 11)) (4.9)\n",
      "Requirement already satisfied: zipp>=3.20 in c:\\users\\user\\anaconda3\\envs\\slop\\lib\\site-packages (from importlib-metadata<8.7.0,>=6.0->opentelemetry-api>=1.2.0->chromadb->-r requirements.txt (line 11)) (3.21.0)\n",
      "Requirement already satisfied: jsonpointer>=1.9 in c:\\users\\user\\anaconda3\\envs\\slop\\lib\\site-packages (from jsonpatch<2.0,>=1.33->langchain-core<1.0.0,>=0.3.45->langchain->-r requirements.txt (line 12)) (3.0.0)\n",
      "Requirement already satisfied: mdurl~=0.1 in c:\\users\\user\\anaconda3\\envs\\slop\\lib\\site-packages (from markdown-it-py>=2.2.0->rich>=10.11.0->chromadb->-r requirements.txt (line 11)) (0.1.2)\n",
      "Requirement already satisfied: mypy-extensions>=0.3.0 in c:\\users\\user\\anaconda3\\envs\\slop\\lib\\site-packages (from typing-inspect<1,>=0.4.0->dataclasses-json->unstructured->-r requirements.txt (line 15)) (1.0.0)\n",
      "Requirement already satisfied: humanfriendly>=9.1 in c:\\users\\user\\anaconda3\\envs\\slop\\lib\\site-packages (from coloredlogs->onnxruntime>=1.14.1->chromadb->-r requirements.txt (line 11)) (10.0)\n",
      "Requirement already satisfied: mpmath<1.4,>=1.1.0 in c:\\users\\user\\anaconda3\\envs\\slop\\lib\\site-packages (from sympy->onnxruntime>=1.14.1->chromadb->-r requirements.txt (line 11)) (1.3.0)\n",
      "Requirement already satisfied: pycparser in c:\\users\\user\\anaconda3\\envs\\slop\\lib\\site-packages (from cffi>=1.12->cryptography>=3.1->unstructured-client->unstructured->-r requirements.txt (line 15)) (2.22)\n",
      "Requirement already satisfied: pyreadline3 in c:\\users\\user\\anaconda3\\envs\\slop\\lib\\site-packages (from humanfriendly>=9.1->coloredlogs->onnxruntime>=1.14.1->chromadb->-r requirements.txt (line 11)) (3.5.4)\n",
      "Requirement already satisfied: pyasn1<0.7.0,>=0.4.6 in c:\\users\\user\\anaconda3\\envs\\slop\\lib\\site-packages (from pyasn1-modules>=0.2.1->google-auth>=1.0.1->kubernetes>=28.1.0->chromadb->-r requirements.txt (line 11)) (0.6.1)\n"
     ]
    }
   ],
   "source": [
    "!pip install -r requirements.txt"
   ]
  },
  {
   "cell_type": "code",
   "execution_count": 5,
   "id": "540181c0",
   "metadata": {},
   "outputs": [],
   "source": [
    "import os  # os를 가져와 파일 시스템 접근, 환경 변수 읽을 수 있음\n",
    "from openai import OpenAI  # OpenAI의 api 사용 가능\n",
    "import chromadb  # chromadb 라이브러리 쓸 수 있게 해줌\n",
    "from chromadb.config import (\n",
    "    Settings,\n",
    ")  # Settings 클래스는 DB의 구성 옵션을 설정하는데 사용\n",
    "from dotenv import load_dotenv  # 환경 변수를 로드하기 위함"
   ]
  },
  {
   "cell_type": "markdown",
   "id": "4c6c6034",
   "metadata": {},
   "source": [
    "1. 환경 변수 Load해서 api_key 가져오고 OpenAI 클라이언트(객체) 초기화"
   ]
  },
  {
   "cell_type": "code",
   "execution_count": 6,
   "id": "cf17dfe5",
   "metadata": {},
   "outputs": [],
   "source": [
    "load_dotenv()\n",
    "api_key = os.getenv(\"OPENAI_API_KEY\")\n",
    "client = OpenAI(api_key=api_key)"
   ]
  },
  {
   "cell_type": "markdown",
   "id": "8f88d6ce",
   "metadata": {},
   "source": [
    "2. DB 초기화 함수 (매 실행 시 DB 폴더를 삭제 후 새로 생성)"
   ]
  },
  {
   "cell_type": "code",
   "execution_count": 7,
   "id": "9a9dfeb3",
   "metadata": {},
   "outputs": [],
   "source": [
    "def init_db(db_path=\"./chroma_db\"):  # 현재 디렉토리 내의 chroma_db폴더 설정\n",
    "    dbclient = chromadb.PersistentClient(\n",
    "        path=db_path\n",
    "    )  # 지정 경로로 향하는 dbClient 생성\n",
    "    # rag_collection이라는 데이터 컬렉션(모음집) 만듦\n",
    "    # get_or_create옵션은 만약 해당 이름 컬렉션이 이미 존재하면 기존 컬렉션 쓰고 아님 만들고\n",
    "    collection = dbclient.create_collection(name=\"rag_collection\", get_or_create=True)\n",
    "    return dbclient, collection"
   ]
  },
  {
   "cell_type": "markdown",
   "id": "2ad87986",
   "metadata": {},
   "source": [
    "3. 텍스트 로딩 함수"
   ]
  },
  {
   "cell_type": "code",
   "execution_count": 8,
   "id": "a612d2b3",
   "metadata": {},
   "outputs": [],
   "source": [
    "def load_text_files(folder_path):\n",
    "    docs = []  # 텍스트 파일의 (파일명, 내용) 튜플들을 저장할 빈 리스트 생성\n",
    "    for filename in os.listdir(folder_path):\n",
    "        # 현재 폴더 경로와 파일 이름을 결합하여 파일의 전체 경로를 생성\n",
    "        file_path = os.path.join(folder_path, filename)\n",
    "        if file_path.endswith(\".txt\"):  # .txt 파일들을 처리하게 함\n",
    "            with open(file_path, \"r\", encoding=\"utf-8\") as f:  # 읽기모드로 열고 인코딩\n",
    "                text = f.read()  # 파일 전체 내용을 읽어서 문자열로 저장\n",
    "                docs.append(\n",
    "                    (filename, text)\n",
    "                )  # (파일명, 내용) 튜플을 docs 리스트에 추가\n",
    "    return docs  # 모든 텍스트 파일의 (파일명, 내용) 튜플 리스트를 반환"
   ]
  },
  {
   "cell_type": "markdown",
   "id": "d4702934",
   "metadata": {},
   "source": [
    "4. 주어진 text를 임베딩 벡터로 변환하는 함수"
   ]
  },
  {
   "cell_type": "code",
   "execution_count": 9,
   "id": "b0b88ea6",
   "metadata": {},
   "outputs": [],
   "source": [
    "def get_embedding(text, model=\"text-embedding-3-large\"):\n",
    "    # 여기서 client는 앞서 초기화한 OpenAI 클라이언트\n",
    "    response = client.embeddings.create(input=[text], model=model)\n",
    "    embedding = response.data[\n",
    "        0\n",
    "    ].embedding  # 응답 객체의 data 리스트에서 embedding 필드 추출\n",
    "    return embedding"
   ]
  },
  {
   "cell_type": "markdown",
   "id": "7de319d7",
   "metadata": {},
   "source": [
    "5. 원천 데이터 청크 단위로 나누고 overlap 사이즈 조절하는 함수"
   ]
  },
  {
   "cell_type": "code",
   "execution_count": 10,
   "id": "cf4e9f77",
   "metadata": {},
   "outputs": [],
   "source": [
    "def chunk_text(text, chunk_size=400, chunk_overlap=50):\n",
    "    chunks = []  # 분할된 텍스트 청크들을 저장할 리스트\n",
    "    start = 0  # 청크를 시작할 위치를 나타내는 인덱스\n",
    "    while start < len(text):\n",
    "        end = start + chunk_size\n",
    "        chunk = text[start:end]  # 텍스트에서 start부터 end까지 부분 문자열을 추출\n",
    "        chunks.append(chunk)  # 추출한 청크를 리스트에 추가\n",
    "        start = end - chunk_overlap  # overlap 적용\n",
    "\n",
    "        if start < 0:  # 음수가 될 수 있으니 예외 처리\n",
    "            start = 0\n",
    "\n",
    "        if start >= len(text):  # 종료 시그널\n",
    "            break\n",
    "\n",
    "    return chunks  # 모든 청크가 저장된 리스트를 반환"
   ]
  },
  {
   "cell_type": "markdown",
   "id": "2118a7cb",
   "metadata": {},
   "source": [
    "6. 문서로드 -> 청크 나누고 -> 임베딩 생성 후 DB 삽입"
   ]
  },
  {
   "cell_type": "code",
   "execution_count": 11,
   "id": "78023acb",
   "metadata": {},
   "outputs": [
    {
     "name": "stdout",
     "output_type": "stream",
     "text": [
      "모든 문서 벡터DB에 저장 완료\n"
     ]
    }
   ],
   "source": [
    "if __name__ == \"__main__\":\n",
    "    # db 초기화\n",
    "    dbclient, collection = init_db(\"./chroma_db\")\n",
    "\n",
    "    folder_path = \"./source_data\"  # 데이터 가져다 쓸 경로 지정\n",
    "    docs = load_text_files(folder_path)  # 처리할 문서 데이터 메모리로 불러오기\n",
    "\n",
    "    doc_id = 0\n",
    "    for filename, text in docs:\n",
    "        chunks = chunk_text(text, chunk_size=400, chunk_overlap=50)  # chunking\n",
    "        for idx, chunk in enumerate(chunks):  # 각 청크와 해당 청크의 인덱스 가져옴\n",
    "            doc_id += 1  # 인덱스 하나씩 증가 시키면서\n",
    "            embedding = get_embedding(chunk)  # 각 청크 임베딩 벡터 생성\n",
    "            # vectorDB에 다음 정보 추가\n",
    "            collection.add(\n",
    "                documents=[chunk],  # 실제 청크 text\n",
    "                embeddings=[embedding],  # 생성된 임베딩 벡터\n",
    "                metadatas=[\n",
    "                    {\"filename\": filename, \"chunk_index\": idx}\n",
    "                ],  # 파일 이름과 청크 인덱스를 포함하는 메타데이터\n",
    "                ids=[str(doc_id)],  # 각 청크의 Unique한 id 저장\n",
    "                # 이 고유 id를 통해 db에서 업데이트, 삭제등의 작업 가능\n",
    "            )\n",
    "\n",
    "    print(\"모든 문서 벡터DB에 저장 완료\")"
   ]
  }
 ],
 "metadata": {
  "kernelspec": {
   "display_name": "slop",
   "language": "python",
   "name": "python3"
  },
  "language_info": {
   "codemirror_mode": {
    "name": "ipython",
    "version": 3
   },
   "file_extension": ".py",
   "mimetype": "text/x-python",
   "name": "python",
   "nbconvert_exporter": "python",
   "pygments_lexer": "ipython3",
   "version": "3.12.7"
  }
 },
 "nbformat": 4,
 "nbformat_minor": 5
}
