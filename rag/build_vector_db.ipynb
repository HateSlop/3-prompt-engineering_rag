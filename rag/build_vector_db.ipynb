{
 "cells": [
  {
   "cell_type": "code",
   "execution_count": 1,
   "id": "d8658902",
   "metadata": {},
   "outputs": [
    {
     "name": "stdout",
     "output_type": "stream",
     "text": [
      "Requirement already satisfied: openai in c:\\users\\leeho\\anaconda3\\envs\\hateslop\\lib\\site-packages (from -r ../requirements.txt (line 5)) (1.109.1)\n",
      "Requirement already satisfied: python-dotenv in c:\\users\\leeho\\anaconda3\\envs\\hateslop\\lib\\site-packages (from -r ../requirements.txt (line 6)) (1.1.1)\n",
      "Requirement already satisfied: huggingface-hub in c:\\users\\leeho\\anaconda3\\envs\\hateslop\\lib\\site-packages (from -r ../requirements.txt (line 7)) (0.35.1)\n",
      "Requirement already satisfied: numpy in c:\\users\\leeho\\anaconda3\\envs\\hateslop\\lib\\site-packages (from -r ../requirements.txt (line 8)) (2.3.3)\n",
      "Requirement already satisfied: pandas in c:\\users\\leeho\\anaconda3\\envs\\hateslop\\lib\\site-packages (from -r ../requirements.txt (line 9)) (2.3.2)\n",
      "Requirement already satisfied: datasets in c:\\users\\leeho\\anaconda3\\envs\\hateslop\\lib\\site-packages (from -r ../requirements.txt (line 10)) (4.1.1)\n",
      "Requirement already satisfied: chromadb in c:\\users\\leeho\\anaconda3\\envs\\hateslop\\lib\\site-packages (from -r ../requirements.txt (line 11)) (1.1.0)\n",
      "Requirement already satisfied: langchain in c:\\users\\leeho\\anaconda3\\envs\\hateslop\\lib\\site-packages (from -r ../requirements.txt (line 12)) (0.3.27)\n",
      "Requirement already satisfied: tiktoken in c:\\users\\leeho\\anaconda3\\envs\\hateslop\\lib\\site-packages (from -r ../requirements.txt (line 13)) (0.11.0)\n",
      "Requirement already satisfied: unstructured in c:\\users\\leeho\\anaconda3\\envs\\hateslop\\lib\\site-packages (from -r ../requirements.txt (line 15)) (0.18.15)\n",
      "Requirement already satisfied: import-ipynb in c:\\users\\leeho\\anaconda3\\envs\\hateslop\\lib\\site-packages (from -r ../requirements.txt (line 16)) (0.2)\n",
      "Requirement already satisfied: anyio<5,>=3.5.0 in c:\\users\\leeho\\anaconda3\\envs\\hateslop\\lib\\site-packages (from openai->-r ../requirements.txt (line 5)) (4.11.0)\n",
      "Requirement already satisfied: distro<2,>=1.7.0 in c:\\users\\leeho\\anaconda3\\envs\\hateslop\\lib\\site-packages (from openai->-r ../requirements.txt (line 5)) (1.9.0)\n",
      "Requirement already satisfied: httpx<1,>=0.23.0 in c:\\users\\leeho\\anaconda3\\envs\\hateslop\\lib\\site-packages (from openai->-r ../requirements.txt (line 5)) (0.28.1)\n",
      "Requirement already satisfied: jiter<1,>=0.4.0 in c:\\users\\leeho\\anaconda3\\envs\\hateslop\\lib\\site-packages (from openai->-r ../requirements.txt (line 5)) (0.11.0)\n",
      "Requirement already satisfied: pydantic<3,>=1.9.0 in c:\\users\\leeho\\anaconda3\\envs\\hateslop\\lib\\site-packages (from openai->-r ../requirements.txt (line 5)) (2.11.9)\n",
      "Requirement already satisfied: sniffio in c:\\users\\leeho\\anaconda3\\envs\\hateslop\\lib\\site-packages (from openai->-r ../requirements.txt (line 5)) (1.3.1)\n",
      "Requirement already satisfied: tqdm>4 in c:\\users\\leeho\\anaconda3\\envs\\hateslop\\lib\\site-packages (from openai->-r ../requirements.txt (line 5)) (4.67.1)\n",
      "Requirement already satisfied: typing-extensions<5,>=4.11 in c:\\users\\leeho\\anaconda3\\envs\\hateslop\\lib\\site-packages (from openai->-r ../requirements.txt (line 5)) (4.14.1)\n",
      "Requirement already satisfied: idna>=2.8 in c:\\users\\leeho\\anaconda3\\envs\\hateslop\\lib\\site-packages (from anyio<5,>=3.5.0->openai->-r ../requirements.txt (line 5)) (3.10)\n",
      "Requirement already satisfied: certifi in c:\\users\\leeho\\anaconda3\\envs\\hateslop\\lib\\site-packages (from httpx<1,>=0.23.0->openai->-r ../requirements.txt (line 5)) (2025.8.3)\n",
      "Requirement already satisfied: httpcore==1.* in c:\\users\\leeho\\anaconda3\\envs\\hateslop\\lib\\site-packages (from httpx<1,>=0.23.0->openai->-r ../requirements.txt (line 5)) (1.0.9)\n",
      "Requirement already satisfied: h11>=0.16 in c:\\users\\leeho\\anaconda3\\envs\\hateslop\\lib\\site-packages (from httpcore==1.*->httpx<1,>=0.23.0->openai->-r ../requirements.txt (line 5)) (0.16.0)\n",
      "Requirement already satisfied: annotated-types>=0.6.0 in c:\\users\\leeho\\anaconda3\\envs\\hateslop\\lib\\site-packages (from pydantic<3,>=1.9.0->openai->-r ../requirements.txt (line 5)) (0.7.0)\n",
      "Requirement already satisfied: pydantic-core==2.33.2 in c:\\users\\leeho\\anaconda3\\envs\\hateslop\\lib\\site-packages (from pydantic<3,>=1.9.0->openai->-r ../requirements.txt (line 5)) (2.33.2)\n",
      "Requirement already satisfied: typing-inspection>=0.4.0 in c:\\users\\leeho\\anaconda3\\envs\\hateslop\\lib\\site-packages (from pydantic<3,>=1.9.0->openai->-r ../requirements.txt (line 5)) (0.4.1)\n",
      "Requirement already satisfied: filelock in c:\\users\\leeho\\anaconda3\\envs\\hateslop\\lib\\site-packages (from huggingface-hub->-r ../requirements.txt (line 7)) (3.19.1)\n",
      "Requirement already satisfied: fsspec>=2023.5.0 in c:\\users\\leeho\\anaconda3\\envs\\hateslop\\lib\\site-packages (from huggingface-hub->-r ../requirements.txt (line 7)) (2025.9.0)\n",
      "Requirement already satisfied: packaging>=20.9 in c:\\users\\leeho\\anaconda3\\envs\\hateslop\\lib\\site-packages (from huggingface-hub->-r ../requirements.txt (line 7)) (25.0)\n",
      "Requirement already satisfied: pyyaml>=5.1 in c:\\users\\leeho\\anaconda3\\envs\\hateslop\\lib\\site-packages (from huggingface-hub->-r ../requirements.txt (line 7)) (6.0.2)\n",
      "Requirement already satisfied: requests in c:\\users\\leeho\\anaconda3\\envs\\hateslop\\lib\\site-packages (from huggingface-hub->-r ../requirements.txt (line 7)) (2.32.5)\n",
      "Requirement already satisfied: python-dateutil>=2.8.2 in c:\\users\\leeho\\anaconda3\\envs\\hateslop\\lib\\site-packages (from pandas->-r ../requirements.txt (line 9)) (2.9.0.post0)\n",
      "Requirement already satisfied: pytz>=2020.1 in c:\\users\\leeho\\anaconda3\\envs\\hateslop\\lib\\site-packages (from pandas->-r ../requirements.txt (line 9)) (2025.2)\n",
      "Requirement already satisfied: tzdata>=2022.7 in c:\\users\\leeho\\anaconda3\\envs\\hateslop\\lib\\site-packages (from pandas->-r ../requirements.txt (line 9)) (2025.2)\n",
      "Requirement already satisfied: pyarrow>=21.0.0 in c:\\users\\leeho\\anaconda3\\envs\\hateslop\\lib\\site-packages (from datasets->-r ../requirements.txt (line 10)) (21.0.0)\n",
      "Requirement already satisfied: dill<0.4.1,>=0.3.0 in c:\\users\\leeho\\anaconda3\\envs\\hateslop\\lib\\site-packages (from datasets->-r ../requirements.txt (line 10)) (0.4.0)\n",
      "Requirement already satisfied: xxhash in c:\\users\\leeho\\anaconda3\\envs\\hateslop\\lib\\site-packages (from datasets->-r ../requirements.txt (line 10)) (3.5.0)\n",
      "Requirement already satisfied: multiprocess<0.70.17 in c:\\users\\leeho\\anaconda3\\envs\\hateslop\\lib\\site-packages (from datasets->-r ../requirements.txt (line 10)) (0.70.16)\n",
      "Requirement already satisfied: aiohttp!=4.0.0a0,!=4.0.0a1 in c:\\users\\leeho\\anaconda3\\envs\\hateslop\\lib\\site-packages (from fsspec[http]<=2025.9.0,>=2023.1.0->datasets->-r ../requirements.txt (line 10)) (3.12.15)\n",
      "Requirement already satisfied: build>=1.0.3 in c:\\users\\leeho\\anaconda3\\envs\\hateslop\\lib\\site-packages (from chromadb->-r ../requirements.txt (line 11)) (1.3.0)\n",
      "Requirement already satisfied: pybase64>=1.4.1 in c:\\users\\leeho\\anaconda3\\envs\\hateslop\\lib\\site-packages (from chromadb->-r ../requirements.txt (line 11)) (1.4.2)\n",
      "Requirement already satisfied: uvicorn>=0.18.3 in c:\\users\\leeho\\anaconda3\\envs\\hateslop\\lib\\site-packages (from uvicorn[standard]>=0.18.3->chromadb->-r ../requirements.txt (line 11)) (0.37.0)\n",
      "Requirement already satisfied: posthog<6.0.0,>=2.4.0 in c:\\users\\leeho\\anaconda3\\envs\\hateslop\\lib\\site-packages (from chromadb->-r ../requirements.txt (line 11)) (5.4.0)\n",
      "Requirement already satisfied: onnxruntime>=1.14.1 in c:\\users\\leeho\\anaconda3\\envs\\hateslop\\lib\\site-packages (from chromadb->-r ../requirements.txt (line 11)) (1.22.1)\n",
      "Requirement already satisfied: opentelemetry-api>=1.2.0 in c:\\users\\leeho\\anaconda3\\envs\\hateslop\\lib\\site-packages (from chromadb->-r ../requirements.txt (line 11)) (1.37.0)\n",
      "Requirement already satisfied: opentelemetry-exporter-otlp-proto-grpc>=1.2.0 in c:\\users\\leeho\\anaconda3\\envs\\hateslop\\lib\\site-packages (from chromadb->-r ../requirements.txt (line 11)) (1.37.0)\n",
      "Requirement already satisfied: opentelemetry-sdk>=1.2.0 in c:\\users\\leeho\\anaconda3\\envs\\hateslop\\lib\\site-packages (from chromadb->-r ../requirements.txt (line 11)) (1.37.0)\n",
      "Requirement already satisfied: tokenizers>=0.13.2 in c:\\users\\leeho\\anaconda3\\envs\\hateslop\\lib\\site-packages (from chromadb->-r ../requirements.txt (line 11)) (0.22.1)\n",
      "Requirement already satisfied: pypika>=0.48.9 in c:\\users\\leeho\\anaconda3\\envs\\hateslop\\lib\\site-packages (from chromadb->-r ../requirements.txt (line 11)) (0.48.9)\n",
      "Requirement already satisfied: overrides>=7.3.1 in c:\\users\\leeho\\anaconda3\\envs\\hateslop\\lib\\site-packages (from chromadb->-r ../requirements.txt (line 11)) (7.7.0)\n",
      "Requirement already satisfied: importlib-resources in c:\\users\\leeho\\anaconda3\\envs\\hateslop\\lib\\site-packages (from chromadb->-r ../requirements.txt (line 11)) (6.5.2)\n",
      "Requirement already satisfied: grpcio>=1.58.0 in c:\\users\\leeho\\anaconda3\\envs\\hateslop\\lib\\site-packages (from chromadb->-r ../requirements.txt (line 11)) (1.75.0)\n",
      "Requirement already satisfied: bcrypt>=4.0.1 in c:\\users\\leeho\\anaconda3\\envs\\hateslop\\lib\\site-packages (from chromadb->-r ../requirements.txt (line 11)) (4.3.0)\n",
      "Requirement already satisfied: typer>=0.9.0 in c:\\users\\leeho\\anaconda3\\envs\\hateslop\\lib\\site-packages (from chromadb->-r ../requirements.txt (line 11)) (0.19.2)\n",
      "Requirement already satisfied: kubernetes>=28.1.0 in c:\\users\\leeho\\anaconda3\\envs\\hateslop\\lib\\site-packages (from chromadb->-r ../requirements.txt (line 11)) (33.1.0)\n",
      "Requirement already satisfied: tenacity>=8.2.3 in c:\\users\\leeho\\anaconda3\\envs\\hateslop\\lib\\site-packages (from chromadb->-r ../requirements.txt (line 11)) (9.1.2)\n",
      "Requirement already satisfied: mmh3>=4.0.1 in c:\\users\\leeho\\anaconda3\\envs\\hateslop\\lib\\site-packages (from chromadb->-r ../requirements.txt (line 11)) (5.2.0)\n",
      "Requirement already satisfied: orjson>=3.9.12 in c:\\users\\leeho\\anaconda3\\envs\\hateslop\\lib\\site-packages (from chromadb->-r ../requirements.txt (line 11)) (3.11.3)\n",
      "Requirement already satisfied: rich>=10.11.0 in c:\\users\\leeho\\anaconda3\\envs\\hateslop\\lib\\site-packages (from chromadb->-r ../requirements.txt (line 11)) (14.1.0)\n",
      "Requirement already satisfied: jsonschema>=4.19.0 in c:\\users\\leeho\\anaconda3\\envs\\hateslop\\lib\\site-packages (from chromadb->-r ../requirements.txt (line 11)) (4.25.1)\n",
      "Requirement already satisfied: six>=1.5 in c:\\users\\leeho\\anaconda3\\envs\\hateslop\\lib\\site-packages (from posthog<6.0.0,>=2.4.0->chromadb->-r ../requirements.txt (line 11)) (1.17.0)\n",
      "Requirement already satisfied: backoff>=1.10.0 in c:\\users\\leeho\\anaconda3\\envs\\hateslop\\lib\\site-packages (from posthog<6.0.0,>=2.4.0->chromadb->-r ../requirements.txt (line 11)) (2.2.1)\n",
      "Requirement already satisfied: charset_normalizer<4,>=2 in c:\\users\\leeho\\anaconda3\\envs\\hateslop\\lib\\site-packages (from requests->huggingface-hub->-r ../requirements.txt (line 7)) (3.4.3)\n",
      "Requirement already satisfied: urllib3<3,>=1.21.1 in c:\\users\\leeho\\anaconda3\\envs\\hateslop\\lib\\site-packages (from requests->huggingface-hub->-r ../requirements.txt (line 7)) (2.5.0)\n",
      "Requirement already satisfied: langchain-core<1.0.0,>=0.3.72 in c:\\users\\leeho\\anaconda3\\envs\\hateslop\\lib\\site-packages (from langchain->-r ../requirements.txt (line 12)) (0.3.76)\n",
      "Requirement already satisfied: langchain-text-splitters<1.0.0,>=0.3.9 in c:\\users\\leeho\\anaconda3\\envs\\hateslop\\lib\\site-packages (from langchain->-r ../requirements.txt (line 12)) (0.3.11)\n",
      "Requirement already satisfied: langsmith>=0.1.17 in c:\\users\\leeho\\anaconda3\\envs\\hateslop\\lib\\site-packages (from langchain->-r ../requirements.txt (line 12)) (0.4.31)\n",
      "Requirement already satisfied: SQLAlchemy<3,>=1.4 in c:\\users\\leeho\\anaconda3\\envs\\hateslop\\lib\\site-packages (from langchain->-r ../requirements.txt (line 12)) (2.0.43)\n",
      "Requirement already satisfied: jsonpatch<2.0,>=1.33 in c:\\users\\leeho\\anaconda3\\envs\\hateslop\\lib\\site-packages (from langchain-core<1.0.0,>=0.3.72->langchain->-r ../requirements.txt (line 12)) (1.33)\n",
      "Requirement already satisfied: jsonpointer>=1.9 in c:\\users\\leeho\\anaconda3\\envs\\hateslop\\lib\\site-packages (from jsonpatch<2.0,>=1.33->langchain-core<1.0.0,>=0.3.72->langchain->-r ../requirements.txt (line 12)) (3.0.0)\n",
      "Requirement already satisfied: greenlet>=1 in c:\\users\\leeho\\anaconda3\\envs\\hateslop\\lib\\site-packages (from SQLAlchemy<3,>=1.4->langchain->-r ../requirements.txt (line 12)) (3.2.4)\n",
      "Requirement already satisfied: regex>=2022.1.18 in c:\\users\\leeho\\anaconda3\\envs\\hateslop\\lib\\site-packages (from tiktoken->-r ../requirements.txt (line 13)) (2025.9.1)\n",
      "Requirement already satisfied: filetype in c:\\users\\leeho\\anaconda3\\envs\\hateslop\\lib\\site-packages (from unstructured->-r ../requirements.txt (line 15)) (1.2.0)\n",
      "Requirement already satisfied: python-magic in c:\\users\\leeho\\anaconda3\\envs\\hateslop\\lib\\site-packages (from unstructured->-r ../requirements.txt (line 15)) (0.4.27)\n",
      "Requirement already satisfied: lxml in c:\\users\\leeho\\anaconda3\\envs\\hateslop\\lib\\site-packages (from unstructured->-r ../requirements.txt (line 15)) (6.0.1)\n",
      "Requirement already satisfied: nltk in c:\\users\\leeho\\anaconda3\\envs\\hateslop\\lib\\site-packages (from unstructured->-r ../requirements.txt (line 15)) (3.9.1)\n",
      "Requirement already satisfied: beautifulsoup4 in c:\\users\\leeho\\anaconda3\\envs\\hateslop\\lib\\site-packages (from unstructured->-r ../requirements.txt (line 15)) (4.13.5)\n",
      "Requirement already satisfied: emoji in c:\\users\\leeho\\anaconda3\\envs\\hateslop\\lib\\site-packages (from unstructured->-r ../requirements.txt (line 15)) (2.15.0)\n",
      "Requirement already satisfied: dataclasses-json in c:\\users\\leeho\\anaconda3\\envs\\hateslop\\lib\\site-packages (from unstructured->-r ../requirements.txt (line 15)) (0.6.7)\n",
      "Requirement already satisfied: python-iso639 in c:\\users\\leeho\\anaconda3\\envs\\hateslop\\lib\\site-packages (from unstructured->-r ../requirements.txt (line 15)) (2025.2.18)\n",
      "Requirement already satisfied: langdetect in c:\\users\\leeho\\anaconda3\\envs\\hateslop\\lib\\site-packages (from unstructured->-r ../requirements.txt (line 15)) (1.0.9)\n",
      "Requirement already satisfied: rapidfuzz in c:\\users\\leeho\\anaconda3\\envs\\hateslop\\lib\\site-packages (from unstructured->-r ../requirements.txt (line 15)) (3.14.1)\n",
      "Requirement already satisfied: unstructured-client in c:\\users\\leeho\\anaconda3\\envs\\hateslop\\lib\\site-packages (from unstructured->-r ../requirements.txt (line 15)) (0.42.3)\n",
      "Requirement already satisfied: wrapt in c:\\users\\leeho\\anaconda3\\envs\\hateslop\\lib\\site-packages (from unstructured->-r ../requirements.txt (line 15)) (1.17.3)\n",
      "Requirement already satisfied: psutil in c:\\users\\leeho\\anaconda3\\envs\\hateslop\\lib\\site-packages (from unstructured->-r ../requirements.txt (line 15)) (7.1.0)\n",
      "Requirement already satisfied: python-oxmsg in c:\\users\\leeho\\anaconda3\\envs\\hateslop\\lib\\site-packages (from unstructured->-r ../requirements.txt (line 15)) (0.0.2)\n",
      "Requirement already satisfied: html5lib in c:\\users\\leeho\\anaconda3\\envs\\hateslop\\lib\\site-packages (from unstructured->-r ../requirements.txt (line 15)) (1.1)\n",
      "Requirement already satisfied: IPython in c:\\users\\leeho\\anaconda3\\envs\\hateslop\\lib\\site-packages (from import-ipynb->-r ../requirements.txt (line 16)) (9.5.0)\n",
      "Requirement already satisfied: nbformat in c:\\users\\leeho\\anaconda3\\envs\\hateslop\\lib\\site-packages (from import-ipynb->-r ../requirements.txt (line 16)) (5.10.4)\n",
      "Requirement already satisfied: aiohappyeyeballs>=2.5.0 in c:\\users\\leeho\\anaconda3\\envs\\hateslop\\lib\\site-packages (from aiohttp!=4.0.0a0,!=4.0.0a1->fsspec[http]<=2025.9.0,>=2023.1.0->datasets->-r ../requirements.txt (line 10)) (2.6.1)\n",
      "Requirement already satisfied: aiosignal>=1.4.0 in c:\\users\\leeho\\anaconda3\\envs\\hateslop\\lib\\site-packages (from aiohttp!=4.0.0a0,!=4.0.0a1->fsspec[http]<=2025.9.0,>=2023.1.0->datasets->-r ../requirements.txt (line 10)) (1.4.0)\n",
      "Requirement already satisfied: attrs>=17.3.0 in c:\\users\\leeho\\anaconda3\\envs\\hateslop\\lib\\site-packages (from aiohttp!=4.0.0a0,!=4.0.0a1->fsspec[http]<=2025.9.0,>=2023.1.0->datasets->-r ../requirements.txt (line 10)) (25.3.0)\n",
      "Requirement already satisfied: frozenlist>=1.1.1 in c:\\users\\leeho\\anaconda3\\envs\\hateslop\\lib\\site-packages (from aiohttp!=4.0.0a0,!=4.0.0a1->fsspec[http]<=2025.9.0,>=2023.1.0->datasets->-r ../requirements.txt (line 10)) (1.7.0)\n",
      "Requirement already satisfied: multidict<7.0,>=4.5 in c:\\users\\leeho\\anaconda3\\envs\\hateslop\\lib\\site-packages (from aiohttp!=4.0.0a0,!=4.0.0a1->fsspec[http]<=2025.9.0,>=2023.1.0->datasets->-r ../requirements.txt (line 10)) (6.6.4)\n",
      "Requirement already satisfied: propcache>=0.2.0 in c:\\users\\leeho\\anaconda3\\envs\\hateslop\\lib\\site-packages (from aiohttp!=4.0.0a0,!=4.0.0a1->fsspec[http]<=2025.9.0,>=2023.1.0->datasets->-r ../requirements.txt (line 10)) (0.3.2)\n",
      "Requirement already satisfied: yarl<2.0,>=1.17.0 in c:\\users\\leeho\\anaconda3\\envs\\hateslop\\lib\\site-packages (from aiohttp!=4.0.0a0,!=4.0.0a1->fsspec[http]<=2025.9.0,>=2023.1.0->datasets->-r ../requirements.txt (line 10)) (1.20.1)\n",
      "Requirement already satisfied: pyproject_hooks in c:\\users\\leeho\\anaconda3\\envs\\hateslop\\lib\\site-packages (from build>=1.0.3->chromadb->-r ../requirements.txt (line 11)) (1.2.0)\n",
      "Requirement already satisfied: colorama in c:\\users\\leeho\\anaconda3\\envs\\hateslop\\lib\\site-packages (from build>=1.0.3->chromadb->-r ../requirements.txt (line 11)) (0.4.6)\n",
      "Requirement already satisfied: jsonschema-specifications>=2023.03.6 in c:\\users\\leeho\\anaconda3\\envs\\hateslop\\lib\\site-packages (from jsonschema>=4.19.0->chromadb->-r ../requirements.txt (line 11)) (2025.9.1)\n",
      "Requirement already satisfied: referencing>=0.28.4 in c:\\users\\leeho\\anaconda3\\envs\\hateslop\\lib\\site-packages (from jsonschema>=4.19.0->chromadb->-r ../requirements.txt (line 11)) (0.36.2)\n",
      "Requirement already satisfied: rpds-py>=0.7.1 in c:\\users\\leeho\\anaconda3\\envs\\hateslop\\lib\\site-packages (from jsonschema>=4.19.0->chromadb->-r ../requirements.txt (line 11)) (0.27.1)\n",
      "Requirement already satisfied: google-auth>=1.0.1 in c:\\users\\leeho\\anaconda3\\envs\\hateslop\\lib\\site-packages (from kubernetes>=28.1.0->chromadb->-r ../requirements.txt (line 11)) (2.40.3)\n",
      "Requirement already satisfied: websocket-client!=0.40.0,!=0.41.*,!=0.42.*,>=0.32.0 in c:\\users\\leeho\\anaconda3\\envs\\hateslop\\lib\\site-packages (from kubernetes>=28.1.0->chromadb->-r ../requirements.txt (line 11)) (1.8.0)\n",
      "Requirement already satisfied: requests-oauthlib in c:\\users\\leeho\\anaconda3\\envs\\hateslop\\lib\\site-packages (from kubernetes>=28.1.0->chromadb->-r ../requirements.txt (line 11)) (2.0.0)\n",
      "Requirement already satisfied: oauthlib>=3.2.2 in c:\\users\\leeho\\anaconda3\\envs\\hateslop\\lib\\site-packages (from kubernetes>=28.1.0->chromadb->-r ../requirements.txt (line 11)) (3.3.1)\n",
      "Requirement already satisfied: durationpy>=0.7 in c:\\users\\leeho\\anaconda3\\envs\\hateslop\\lib\\site-packages (from kubernetes>=28.1.0->chromadb->-r ../requirements.txt (line 11)) (0.10)\n",
      "Requirement already satisfied: cachetools<6.0,>=2.0.0 in c:\\users\\leeho\\anaconda3\\envs\\hateslop\\lib\\site-packages (from google-auth>=1.0.1->kubernetes>=28.1.0->chromadb->-r ../requirements.txt (line 11)) (5.5.2)\n",
      "Requirement already satisfied: pyasn1-modules>=0.2.1 in c:\\users\\leeho\\anaconda3\\envs\\hateslop\\lib\\site-packages (from google-auth>=1.0.1->kubernetes>=28.1.0->chromadb->-r ../requirements.txt (line 11)) (0.4.2)\n",
      "Requirement already satisfied: rsa<5,>=3.1.4 in c:\\users\\leeho\\anaconda3\\envs\\hateslop\\lib\\site-packages (from google-auth>=1.0.1->kubernetes>=28.1.0->chromadb->-r ../requirements.txt (line 11)) (4.9.1)\n",
      "Requirement already satisfied: pyasn1>=0.1.3 in c:\\users\\leeho\\anaconda3\\envs\\hateslop\\lib\\site-packages (from rsa<5,>=3.1.4->google-auth>=1.0.1->kubernetes>=28.1.0->chromadb->-r ../requirements.txt (line 11)) (0.6.1)\n",
      "Requirement already satisfied: requests-toolbelt>=1.0.0 in c:\\users\\leeho\\anaconda3\\envs\\hateslop\\lib\\site-packages (from langsmith>=0.1.17->langchain->-r ../requirements.txt (line 12)) (1.0.0)\n",
      "Requirement already satisfied: zstandard>=0.23.0 in c:\\users\\leeho\\anaconda3\\envs\\hateslop\\lib\\site-packages (from langsmith>=0.1.17->langchain->-r ../requirements.txt (line 12)) (0.25.0)\n",
      "Requirement already satisfied: coloredlogs in c:\\users\\leeho\\anaconda3\\envs\\hateslop\\lib\\site-packages (from onnxruntime>=1.14.1->chromadb->-r ../requirements.txt (line 11)) (15.0.1)\n",
      "Requirement already satisfied: flatbuffers in c:\\users\\leeho\\anaconda3\\envs\\hateslop\\lib\\site-packages (from onnxruntime>=1.14.1->chromadb->-r ../requirements.txt (line 11)) (25.9.23)\n",
      "Requirement already satisfied: protobuf in c:\\users\\leeho\\anaconda3\\envs\\hateslop\\lib\\site-packages (from onnxruntime>=1.14.1->chromadb->-r ../requirements.txt (line 11)) (6.32.1)\n",
      "Requirement already satisfied: sympy in c:\\users\\leeho\\anaconda3\\envs\\hateslop\\lib\\site-packages (from onnxruntime>=1.14.1->chromadb->-r ../requirements.txt (line 11)) (1.14.0)\n",
      "Requirement already satisfied: importlib-metadata<8.8.0,>=6.0 in c:\\users\\leeho\\anaconda3\\envs\\hateslop\\lib\\site-packages (from opentelemetry-api>=1.2.0->chromadb->-r ../requirements.txt (line 11)) (8.7.0)\n",
      "Requirement already satisfied: zipp>=3.20 in c:\\users\\leeho\\anaconda3\\envs\\hateslop\\lib\\site-packages (from importlib-metadata<8.8.0,>=6.0->opentelemetry-api>=1.2.0->chromadb->-r ../requirements.txt (line 11)) (3.23.0)\n",
      "Requirement already satisfied: googleapis-common-protos~=1.57 in c:\\users\\leeho\\anaconda3\\envs\\hateslop\\lib\\site-packages (from opentelemetry-exporter-otlp-proto-grpc>=1.2.0->chromadb->-r ../requirements.txt (line 11)) (1.70.0)\n",
      "Requirement already satisfied: opentelemetry-exporter-otlp-proto-common==1.37.0 in c:\\users\\leeho\\anaconda3\\envs\\hateslop\\lib\\site-packages (from opentelemetry-exporter-otlp-proto-grpc>=1.2.0->chromadb->-r ../requirements.txt (line 11)) (1.37.0)\n",
      "Requirement already satisfied: opentelemetry-proto==1.37.0 in c:\\users\\leeho\\anaconda3\\envs\\hateslop\\lib\\site-packages (from opentelemetry-exporter-otlp-proto-grpc>=1.2.0->chromadb->-r ../requirements.txt (line 11)) (1.37.0)\n",
      "Requirement already satisfied: opentelemetry-semantic-conventions==0.58b0 in c:\\users\\leeho\\anaconda3\\envs\\hateslop\\lib\\site-packages (from opentelemetry-sdk>=1.2.0->chromadb->-r ../requirements.txt (line 11)) (0.58b0)\n",
      "Requirement already satisfied: markdown-it-py>=2.2.0 in c:\\users\\leeho\\anaconda3\\envs\\hateslop\\lib\\site-packages (from rich>=10.11.0->chromadb->-r ../requirements.txt (line 11)) (4.0.0)\n",
      "Requirement already satisfied: pygments<3.0.0,>=2.13.0 in c:\\users\\leeho\\anaconda3\\envs\\hateslop\\lib\\site-packages (from rich>=10.11.0->chromadb->-r ../requirements.txt (line 11)) (2.19.2)\n",
      "Requirement already satisfied: mdurl~=0.1 in c:\\users\\leeho\\anaconda3\\envs\\hateslop\\lib\\site-packages (from markdown-it-py>=2.2.0->rich>=10.11.0->chromadb->-r ../requirements.txt (line 11)) (0.1.2)\n",
      "Requirement already satisfied: click>=8.0.0 in c:\\users\\leeho\\anaconda3\\envs\\hateslop\\lib\\site-packages (from typer>=0.9.0->chromadb->-r ../requirements.txt (line 11)) (8.2.1)\n",
      "Requirement already satisfied: shellingham>=1.3.0 in c:\\users\\leeho\\anaconda3\\envs\\hateslop\\lib\\site-packages (from typer>=0.9.0->chromadb->-r ../requirements.txt (line 11)) (1.5.4)\n",
      "Requirement already satisfied: httptools>=0.6.3 in c:\\users\\leeho\\anaconda3\\envs\\hateslop\\lib\\site-packages (from uvicorn[standard]>=0.18.3->chromadb->-r ../requirements.txt (line 11)) (0.6.4)\n",
      "Requirement already satisfied: watchfiles>=0.13 in c:\\users\\leeho\\anaconda3\\envs\\hateslop\\lib\\site-packages (from uvicorn[standard]>=0.18.3->chromadb->-r ../requirements.txt (line 11)) (1.1.0)\n",
      "Requirement already satisfied: websockets>=10.4 in c:\\users\\leeho\\anaconda3\\envs\\hateslop\\lib\\site-packages (from uvicorn[standard]>=0.18.3->chromadb->-r ../requirements.txt (line 11)) (15.0.1)\n",
      "Requirement already satisfied: soupsieve>1.2 in c:\\users\\leeho\\anaconda3\\envs\\hateslop\\lib\\site-packages (from beautifulsoup4->unstructured->-r ../requirements.txt (line 15)) (2.8)\n",
      "Requirement already satisfied: humanfriendly>=9.1 in c:\\users\\leeho\\anaconda3\\envs\\hateslop\\lib\\site-packages (from coloredlogs->onnxruntime>=1.14.1->chromadb->-r ../requirements.txt (line 11)) (10.0)\n",
      "Requirement already satisfied: pyreadline3 in c:\\users\\leeho\\anaconda3\\envs\\hateslop\\lib\\site-packages (from humanfriendly>=9.1->coloredlogs->onnxruntime>=1.14.1->chromadb->-r ../requirements.txt (line 11)) (3.5.4)\n",
      "Requirement already satisfied: marshmallow<4.0.0,>=3.18.0 in c:\\users\\leeho\\anaconda3\\envs\\hateslop\\lib\\site-packages (from dataclasses-json->unstructured->-r ../requirements.txt (line 15)) (3.26.1)\n",
      "Requirement already satisfied: typing-inspect<1,>=0.4.0 in c:\\users\\leeho\\anaconda3\\envs\\hateslop\\lib\\site-packages (from dataclasses-json->unstructured->-r ../requirements.txt (line 15)) (0.9.0)\n",
      "Requirement already satisfied: mypy-extensions>=0.3.0 in c:\\users\\leeho\\anaconda3\\envs\\hateslop\\lib\\site-packages (from typing-inspect<1,>=0.4.0->dataclasses-json->unstructured->-r ../requirements.txt (line 15)) (1.1.0)\n",
      "Requirement already satisfied: webencodings in c:\\users\\leeho\\anaconda3\\envs\\hateslop\\lib\\site-packages (from html5lib->unstructured->-r ../requirements.txt (line 15)) (0.5.1)\n",
      "Requirement already satisfied: decorator in c:\\users\\leeho\\anaconda3\\envs\\hateslop\\lib\\site-packages (from IPython->import-ipynb->-r ../requirements.txt (line 16)) (5.2.1)\n",
      "Requirement already satisfied: ipython-pygments-lexers in c:\\users\\leeho\\anaconda3\\envs\\hateslop\\lib\\site-packages (from IPython->import-ipynb->-r ../requirements.txt (line 16)) (1.1.1)\n",
      "Requirement already satisfied: jedi>=0.16 in c:\\users\\leeho\\anaconda3\\envs\\hateslop\\lib\\site-packages (from IPython->import-ipynb->-r ../requirements.txt (line 16)) (0.19.2)\n",
      "Requirement already satisfied: matplotlib-inline in c:\\users\\leeho\\anaconda3\\envs\\hateslop\\lib\\site-packages (from IPython->import-ipynb->-r ../requirements.txt (line 16)) (0.1.7)\n",
      "Requirement already satisfied: prompt_toolkit<3.1.0,>=3.0.41 in c:\\users\\leeho\\anaconda3\\envs\\hateslop\\lib\\site-packages (from IPython->import-ipynb->-r ../requirements.txt (line 16)) (3.0.52)\n",
      "Requirement already satisfied: stack_data in c:\\users\\leeho\\anaconda3\\envs\\hateslop\\lib\\site-packages (from IPython->import-ipynb->-r ../requirements.txt (line 16)) (0.6.3)\n",
      "Requirement already satisfied: traitlets>=5.13.0 in c:\\users\\leeho\\anaconda3\\envs\\hateslop\\lib\\site-packages (from IPython->import-ipynb->-r ../requirements.txt (line 16)) (5.14.3)\n",
      "Requirement already satisfied: wcwidth in c:\\users\\leeho\\anaconda3\\envs\\hateslop\\lib\\site-packages (from prompt_toolkit<3.1.0,>=3.0.41->IPython->import-ipynb->-r ../requirements.txt (line 16)) (0.2.13)\n",
      "Requirement already satisfied: parso<0.9.0,>=0.8.4 in c:\\users\\leeho\\anaconda3\\envs\\hateslop\\lib\\site-packages (from jedi>=0.16->IPython->import-ipynb->-r ../requirements.txt (line 16)) (0.8.5)\n",
      "Requirement already satisfied: fastjsonschema>=2.15 in c:\\users\\leeho\\anaconda3\\envs\\hateslop\\lib\\site-packages (from nbformat->import-ipynb->-r ../requirements.txt (line 16)) (2.21.2)\n",
      "Requirement already satisfied: jupyter-core!=5.0.*,>=4.12 in c:\\users\\leeho\\anaconda3\\envs\\hateslop\\lib\\site-packages (from nbformat->import-ipynb->-r ../requirements.txt (line 16)) (5.8.1)\n",
      "Requirement already satisfied: platformdirs>=2.5 in c:\\users\\leeho\\anaconda3\\envs\\hateslop\\lib\\site-packages (from jupyter-core!=5.0.*,>=4.12->nbformat->import-ipynb->-r ../requirements.txt (line 16)) (4.4.0)\n",
      "Requirement already satisfied: pywin32>=300 in c:\\users\\leeho\\anaconda3\\envs\\hateslop\\lib\\site-packages (from jupyter-core!=5.0.*,>=4.12->nbformat->import-ipynb->-r ../requirements.txt (line 16)) (311)\n",
      "Requirement already satisfied: joblib in c:\\users\\leeho\\anaconda3\\envs\\hateslop\\lib\\site-packages (from nltk->unstructured->-r ../requirements.txt (line 15)) (1.5.2)\n",
      "Requirement already satisfied: olefile in c:\\users\\leeho\\anaconda3\\envs\\hateslop\\lib\\site-packages (from python-oxmsg->unstructured->-r ../requirements.txt (line 15)) (0.47)\n",
      "Requirement already satisfied: executing>=1.2.0 in c:\\users\\leeho\\anaconda3\\envs\\hateslop\\lib\\site-packages (from stack_data->IPython->import-ipynb->-r ../requirements.txt (line 16)) (2.2.1)\n",
      "Requirement already satisfied: asttokens>=2.1.0 in c:\\users\\leeho\\anaconda3\\envs\\hateslop\\lib\\site-packages (from stack_data->IPython->import-ipynb->-r ../requirements.txt (line 16)) (3.0.0)\n",
      "Requirement already satisfied: pure_eval in c:\\users\\leeho\\anaconda3\\envs\\hateslop\\lib\\site-packages (from stack_data->IPython->import-ipynb->-r ../requirements.txt (line 16)) (0.2.3)\n",
      "Requirement already satisfied: mpmath<1.4,>=1.1.0 in c:\\users\\leeho\\anaconda3\\envs\\hateslop\\lib\\site-packages (from sympy->onnxruntime>=1.14.1->chromadb->-r ../requirements.txt (line 11)) (1.3.0)\n",
      "Requirement already satisfied: aiofiles>=24.1.0 in c:\\users\\leeho\\anaconda3\\envs\\hateslop\\lib\\site-packages (from unstructured-client->unstructured->-r ../requirements.txt (line 15)) (24.1.0)\n",
      "Requirement already satisfied: cryptography>=3.1 in c:\\users\\leeho\\anaconda3\\envs\\hateslop\\lib\\site-packages (from unstructured-client->unstructured->-r ../requirements.txt (line 15)) (46.0.1)\n",
      "Requirement already satisfied: pypdf>=4.0 in c:\\users\\leeho\\anaconda3\\envs\\hateslop\\lib\\site-packages (from unstructured-client->unstructured->-r ../requirements.txt (line 15)) (6.1.0)\n",
      "Requirement already satisfied: cffi>=2.0.0 in c:\\users\\leeho\\anaconda3\\envs\\hateslop\\lib\\site-packages (from cryptography>=3.1->unstructured-client->unstructured->-r ../requirements.txt (line 15)) (2.0.0)\n",
      "Requirement already satisfied: pycparser in c:\\users\\leeho\\anaconda3\\envs\\hateslop\\lib\\site-packages (from cffi>=2.0.0->cryptography>=3.1->unstructured-client->unstructured->-r ../requirements.txt (line 15)) (2.23)\n"
     ]
    }
   ],
   "source": [
    "!pip install -r ../requirements.txt"
   ]
  },
  {
   "cell_type": "code",
   "execution_count": 2,
   "id": "540181c0",
   "metadata": {},
   "outputs": [],
   "source": [
    "import os # os를 가져와 파일 시스템 접근, 환경 변수 읽을 수 있음\n",
    "from openai import OpenAI # OpenAI의 api 사용 가능\n",
    "import chromadb # chromadb 라이브러리 쓸 수 있게 해줌\n",
    "from chromadb.config import Settings # Settings 클래스는 DB의 구성 옵션을 설정하는데 사용\n",
    "from dotenv import load_dotenv # 환경 변수를 로드하기 위함"
   ]
  },
  {
   "cell_type": "markdown",
   "id": "4c6c6034",
   "metadata": {},
   "source": [
    "1. 환경 변수 Load해서 api_key 가져오고 OpenAI 클라이언트(객체) 초기화"
   ]
  },
  {
   "cell_type": "code",
   "execution_count": 4,
   "id": "cf17dfe5",
   "metadata": {},
   "outputs": [],
   "source": [
    "# 환경 변수 Load해서 api_key 가져오고 OpenAI 클라이언트(객체) 초기화\n",
    "load_dotenv() \n",
    "api_key = os.getenv(\"OPENAI_API_KEY\")\n",
    "client = OpenAI(api_key=api_key)"
   ]
  },
  {
   "cell_type": "markdown",
   "id": "8f88d6ce",
   "metadata": {},
   "source": [
    "2. DB 초기화 함수 (매 실행 시 DB 폴더를 삭제 후 새로 생성)"
   ]
  },
  {
   "cell_type": "code",
   "execution_count": 5,
   "id": "9a9dfeb3",
   "metadata": {},
   "outputs": [],
   "source": [
    "# DB 초기화 함수\n",
    "def init_db(db_path=\"./chroma_db\"): # 현재 디렉토리 내의 chroma_db폴더 설정\n",
    "    dbclient = chromadb.PersistentClient(path=db_path) # 지정 경로로 향하는 dbClient 생성\n",
    "    # rag_collection이라는 데이터 컬렉션(모음집) 만듦\n",
    "    # get_or_create옵션은 만약 해당 이름 컬렉션이 이미 존재하면 기존 컬렉션 쓰고 아님 만들고\n",
    "    collection = dbclient.create_collection(name=\"rag_collection\", get_or_create=True)\n",
    "    return dbclient, collection"
   ]
  },
  {
   "cell_type": "markdown",
   "id": "2ad87986",
   "metadata": {},
   "source": [
    "3. 텍스트 로딩 함수"
   ]
  },
  {
   "cell_type": "code",
   "execution_count": 6,
   "id": "a612d2b3",
   "metadata": {},
   "outputs": [],
   "source": [
    "# 텍스트 로딩 함수 \n",
    "def load_text_files(folder_path):\n",
    "    docs=[] # 텍스트 파일의 (파일명, 내용) 튜플들을 저장할 빈 리스트 생성\n",
    "    for filename in os.listdir(folder_path): \n",
    "\t\t    # 현재 폴더 경로와 파일 이름을 결합하여 파일의 전체 경로를 생성\n",
    "        file_path = os.path.join(folder_path, filename) \n",
    "        if file_path.endswith(\".txt\"): # .txt 파일들을 처리하게 함\n",
    "            with open(file_path, \"r\", encoding=\"utf-8\") as f: # 읽기모드로 열고 인코딩\n",
    "                text = f.read() # 파일 전체 내용을 읽어서 문자열로 저장\n",
    "                docs.append((filename, text)) # (파일명, 내용) 튜플을 docs 리스트에 추가\n",
    "    return docs # 모든 텍스트 파일의 (파일명, 내용) 튜플 리스트를 반환"
   ]
  },
  {
   "cell_type": "markdown",
   "id": "d4702934",
   "metadata": {},
   "source": [
    "4. 주어진 text를 임베딩 벡터로 변환하는 함수"
   ]
  },
  {
   "cell_type": "code",
   "execution_count": 7,
   "id": "b0b88ea6",
   "metadata": {},
   "outputs": [],
   "source": [
    "# 주어진 text를 임베딩 벡터로 변환하는 함수 \n",
    "def get_embedding(text, model=\"text-embedding-3-large\"):\n",
    "\t\t# 여기서 client는 앞서 초기화한 OpenAI 클라이언트\n",
    "    response = client.embeddings.create(input=[text], model=model)\n",
    "    embedding = response.data[0].embedding # 응답 객체의 data 리스트에서 embedding 필드 추출\n",
    "    return embedding "
   ]
  },
  {
   "cell_type": "markdown",
   "id": "7de319d7",
   "metadata": {},
   "source": [
    "5. 원천 데이터 청크 단위로 나누고 overlap 사이즈 조절하는 함수"
   ]
  },
  {
   "cell_type": "code",
   "execution_count": 8,
   "id": "cf4e9f77",
   "metadata": {},
   "outputs": [],
   "source": [
    "# 원천 데이터 청크 단위로 나누고 overlap 사이즈 조절하는 함수\n",
    "def chunk_text(text, chunk_size=400, chunk_overlap=50):\n",
    "    chunks = [] # 분할된 텍스트 청크들을 저장할 리스트\n",
    "    start = 0 # 청크를 시작할 위치를 나타내는 인덱스\n",
    "    while start < len(text):\n",
    "        end = start + chunk_size\n",
    "        chunk = text[start:end] # 텍스트에서 start부터 end까지 부분 문자열을 추출\n",
    "        chunks.append(chunk) # 추출한 청크를 리스트에 추가\n",
    "        start = end - chunk_overlap # overlap 적용\n",
    "\n",
    "        if start < 0: # 음수가 될 수 있으니 예외 처리\n",
    "            start = 0\n",
    "\n",
    "        if start >= len(text): # 종료 시그널\n",
    "            break\n",
    "\n",
    "    return chunks # 모든 청크가 저장된 리스트를 반환"
   ]
  },
  {
   "cell_type": "markdown",
   "id": "2118a7cb",
   "metadata": {},
   "source": [
    "6. 문서로드 -> 청크 나누고 -> 임베딩 생성 후 DB 삽입"
   ]
  },
  {
   "cell_type": "code",
   "execution_count": 9,
   "id": "78023acb",
   "metadata": {},
   "outputs": [
    {
     "ename": "AuthenticationError",
     "evalue": "Error code: 401 - {'error': {'message': 'Incorrect API key provided: sk-proj-********************************************************************************************************************************************************HC0A. You can find your API key at https://platform.openai.com/account/api-keys.', 'type': 'invalid_request_error', 'param': None, 'code': 'invalid_api_key'}}",
     "output_type": "error",
     "traceback": [
      "\u001b[31m---------------------------------------------------------------------------\u001b[39m",
      "\u001b[31mAuthenticationError\u001b[39m                       Traceback (most recent call last)",
      "\u001b[36mCell\u001b[39m\u001b[36m \u001b[39m\u001b[32mIn[9]\u001b[39m\u001b[32m, line 14\u001b[39m\n\u001b[32m     12\u001b[39m \u001b[38;5;28;01mfor\u001b[39;00m idx, chunk \u001b[38;5;129;01min\u001b[39;00m \u001b[38;5;28menumerate\u001b[39m(chunks): \u001b[38;5;66;03m# 각 청크와 해당 청크의 인덱스 가져옴\u001b[39;00m\n\u001b[32m     13\u001b[39m     doc_id += \u001b[32m1\u001b[39m \u001b[38;5;66;03m# 인덱스 하나씩 증가 시키면서\u001b[39;00m\n\u001b[32m---> \u001b[39m\u001b[32m14\u001b[39m     embedding = \u001b[43mget_embedding\u001b[49m\u001b[43m(\u001b[49m\u001b[43mchunk\u001b[49m\u001b[43m)\u001b[49m \u001b[38;5;66;03m# 각 청크 임베딩 벡터 생성\u001b[39;00m\n\u001b[32m     15\u001b[39m     \u001b[38;5;66;03m# vectorDB에 다음 정보 추가\u001b[39;00m\n\u001b[32m     16\u001b[39m     collection.add(\n\u001b[32m     17\u001b[39m         documents=[chunk], \u001b[38;5;66;03m# 실제 청크 text\u001b[39;00m\n\u001b[32m     18\u001b[39m         embeddings=[embedding], \u001b[38;5;66;03m# 생성된 임베딩 벡터\u001b[39;00m\n\u001b[32m   (...)\u001b[39m\u001b[32m     21\u001b[39m         \u001b[38;5;66;03m# 이 고유 id를 통해 db에서 업데이트, 삭제등의 작업 가능 \u001b[39;00m\n\u001b[32m     22\u001b[39m     )\n",
      "\u001b[36mCell\u001b[39m\u001b[36m \u001b[39m\u001b[32mIn[7]\u001b[39m\u001b[32m, line 4\u001b[39m, in \u001b[36mget_embedding\u001b[39m\u001b[34m(text, model)\u001b[39m\n\u001b[32m      2\u001b[39m \u001b[38;5;28;01mdef\u001b[39;00m\u001b[38;5;250m \u001b[39m\u001b[34mget_embedding\u001b[39m(text, model=\u001b[33m\"\u001b[39m\u001b[33mtext-embedding-3-large\u001b[39m\u001b[33m\"\u001b[39m):\n\u001b[32m      3\u001b[39m \t\t\u001b[38;5;66;03m# 여기서 client는 앞서 초기화한 OpenAI 클라이언트\u001b[39;00m\n\u001b[32m----> \u001b[39m\u001b[32m4\u001b[39m     response = \u001b[43mclient\u001b[49m\u001b[43m.\u001b[49m\u001b[43membeddings\u001b[49m\u001b[43m.\u001b[49m\u001b[43mcreate\u001b[49m\u001b[43m(\u001b[49m\u001b[38;5;28;43minput\u001b[39;49m\u001b[43m=\u001b[49m\u001b[43m[\u001b[49m\u001b[43mtext\u001b[49m\u001b[43m]\u001b[49m\u001b[43m,\u001b[49m\u001b[43m \u001b[49m\u001b[43mmodel\u001b[49m\u001b[43m=\u001b[49m\u001b[43mmodel\u001b[49m\u001b[43m)\u001b[49m\n\u001b[32m      5\u001b[39m     embedding = response.data[\u001b[32m0\u001b[39m].embedding \u001b[38;5;66;03m# 응답 객체의 data 리스트에서 embedding 필드 추출\u001b[39;00m\n\u001b[32m      6\u001b[39m     \u001b[38;5;28;01mreturn\u001b[39;00m embedding\n",
      "\u001b[36mFile \u001b[39m\u001b[32mc:\\Users\\leeho\\anaconda3\\envs\\hateslop\\Lib\\site-packages\\openai\\resources\\embeddings.py:132\u001b[39m, in \u001b[36mEmbeddings.create\u001b[39m\u001b[34m(self, input, model, dimensions, encoding_format, user, extra_headers, extra_query, extra_body, timeout)\u001b[39m\n\u001b[32m    126\u001b[39m             embedding.embedding = np.frombuffer(  \u001b[38;5;66;03m# type: ignore[no-untyped-call]\u001b[39;00m\n\u001b[32m    127\u001b[39m                 base64.b64decode(data), dtype=\u001b[33m\"\u001b[39m\u001b[33mfloat32\u001b[39m\u001b[33m\"\u001b[39m\n\u001b[32m    128\u001b[39m             ).tolist()\n\u001b[32m    130\u001b[39m     \u001b[38;5;28;01mreturn\u001b[39;00m obj\n\u001b[32m--> \u001b[39m\u001b[32m132\u001b[39m \u001b[38;5;28;01mreturn\u001b[39;00m \u001b[38;5;28;43mself\u001b[39;49m\u001b[43m.\u001b[49m\u001b[43m_post\u001b[49m\u001b[43m(\u001b[49m\n\u001b[32m    133\u001b[39m \u001b[43m    \u001b[49m\u001b[33;43m\"\u001b[39;49m\u001b[33;43m/embeddings\u001b[39;49m\u001b[33;43m\"\u001b[39;49m\u001b[43m,\u001b[49m\n\u001b[32m    134\u001b[39m \u001b[43m    \u001b[49m\u001b[43mbody\u001b[49m\u001b[43m=\u001b[49m\u001b[43mmaybe_transform\u001b[49m\u001b[43m(\u001b[49m\u001b[43mparams\u001b[49m\u001b[43m,\u001b[49m\u001b[43m \u001b[49m\u001b[43membedding_create_params\u001b[49m\u001b[43m.\u001b[49m\u001b[43mEmbeddingCreateParams\u001b[49m\u001b[43m)\u001b[49m\u001b[43m,\u001b[49m\n\u001b[32m    135\u001b[39m \u001b[43m    \u001b[49m\u001b[43moptions\u001b[49m\u001b[43m=\u001b[49m\u001b[43mmake_request_options\u001b[49m\u001b[43m(\u001b[49m\n\u001b[32m    136\u001b[39m \u001b[43m        \u001b[49m\u001b[43mextra_headers\u001b[49m\u001b[43m=\u001b[49m\u001b[43mextra_headers\u001b[49m\u001b[43m,\u001b[49m\n\u001b[32m    137\u001b[39m \u001b[43m        \u001b[49m\u001b[43mextra_query\u001b[49m\u001b[43m=\u001b[49m\u001b[43mextra_query\u001b[49m\u001b[43m,\u001b[49m\n\u001b[32m    138\u001b[39m \u001b[43m        \u001b[49m\u001b[43mextra_body\u001b[49m\u001b[43m=\u001b[49m\u001b[43mextra_body\u001b[49m\u001b[43m,\u001b[49m\n\u001b[32m    139\u001b[39m \u001b[43m        \u001b[49m\u001b[43mtimeout\u001b[49m\u001b[43m=\u001b[49m\u001b[43mtimeout\u001b[49m\u001b[43m,\u001b[49m\n\u001b[32m    140\u001b[39m \u001b[43m        \u001b[49m\u001b[43mpost_parser\u001b[49m\u001b[43m=\u001b[49m\u001b[43mparser\u001b[49m\u001b[43m,\u001b[49m\n\u001b[32m    141\u001b[39m \u001b[43m    \u001b[49m\u001b[43m)\u001b[49m\u001b[43m,\u001b[49m\n\u001b[32m    142\u001b[39m \u001b[43m    \u001b[49m\u001b[43mcast_to\u001b[49m\u001b[43m=\u001b[49m\u001b[43mCreateEmbeddingResponse\u001b[49m\u001b[43m,\u001b[49m\n\u001b[32m    143\u001b[39m \u001b[43m\u001b[49m\u001b[43m)\u001b[49m\n",
      "\u001b[36mFile \u001b[39m\u001b[32mc:\\Users\\leeho\\anaconda3\\envs\\hateslop\\Lib\\site-packages\\openai\\_base_client.py:1259\u001b[39m, in \u001b[36mSyncAPIClient.post\u001b[39m\u001b[34m(self, path, cast_to, body, options, files, stream, stream_cls)\u001b[39m\n\u001b[32m   1245\u001b[39m \u001b[38;5;28;01mdef\u001b[39;00m\u001b[38;5;250m \u001b[39m\u001b[34mpost\u001b[39m(\n\u001b[32m   1246\u001b[39m     \u001b[38;5;28mself\u001b[39m,\n\u001b[32m   1247\u001b[39m     path: \u001b[38;5;28mstr\u001b[39m,\n\u001b[32m   (...)\u001b[39m\u001b[32m   1254\u001b[39m     stream_cls: \u001b[38;5;28mtype\u001b[39m[_StreamT] | \u001b[38;5;28;01mNone\u001b[39;00m = \u001b[38;5;28;01mNone\u001b[39;00m,\n\u001b[32m   1255\u001b[39m ) -> ResponseT | _StreamT:\n\u001b[32m   1256\u001b[39m     opts = FinalRequestOptions.construct(\n\u001b[32m   1257\u001b[39m         method=\u001b[33m\"\u001b[39m\u001b[33mpost\u001b[39m\u001b[33m\"\u001b[39m, url=path, json_data=body, files=to_httpx_files(files), **options\n\u001b[32m   1258\u001b[39m     )\n\u001b[32m-> \u001b[39m\u001b[32m1259\u001b[39m     \u001b[38;5;28;01mreturn\u001b[39;00m cast(ResponseT, \u001b[38;5;28;43mself\u001b[39;49m\u001b[43m.\u001b[49m\u001b[43mrequest\u001b[49m\u001b[43m(\u001b[49m\u001b[43mcast_to\u001b[49m\u001b[43m,\u001b[49m\u001b[43m \u001b[49m\u001b[43mopts\u001b[49m\u001b[43m,\u001b[49m\u001b[43m \u001b[49m\u001b[43mstream\u001b[49m\u001b[43m=\u001b[49m\u001b[43mstream\u001b[49m\u001b[43m,\u001b[49m\u001b[43m \u001b[49m\u001b[43mstream_cls\u001b[49m\u001b[43m=\u001b[49m\u001b[43mstream_cls\u001b[49m\u001b[43m)\u001b[49m)\n",
      "\u001b[36mFile \u001b[39m\u001b[32mc:\\Users\\leeho\\anaconda3\\envs\\hateslop\\Lib\\site-packages\\openai\\_base_client.py:1047\u001b[39m, in \u001b[36mSyncAPIClient.request\u001b[39m\u001b[34m(self, cast_to, options, stream, stream_cls)\u001b[39m\n\u001b[32m   1044\u001b[39m             err.response.read()\n\u001b[32m   1046\u001b[39m         log.debug(\u001b[33m\"\u001b[39m\u001b[33mRe-raising status error\u001b[39m\u001b[33m\"\u001b[39m)\n\u001b[32m-> \u001b[39m\u001b[32m1047\u001b[39m         \u001b[38;5;28;01mraise\u001b[39;00m \u001b[38;5;28mself\u001b[39m._make_status_error_from_response(err.response) \u001b[38;5;28;01mfrom\u001b[39;00m\u001b[38;5;250m \u001b[39m\u001b[38;5;28;01mNone\u001b[39;00m\n\u001b[32m   1049\u001b[39m     \u001b[38;5;28;01mbreak\u001b[39;00m\n\u001b[32m   1051\u001b[39m \u001b[38;5;28;01massert\u001b[39;00m response \u001b[38;5;129;01mis\u001b[39;00m \u001b[38;5;129;01mnot\u001b[39;00m \u001b[38;5;28;01mNone\u001b[39;00m, \u001b[33m\"\u001b[39m\u001b[33mcould not resolve response (should never happen)\u001b[39m\u001b[33m\"\u001b[39m\n",
      "\u001b[31mAuthenticationError\u001b[39m: Error code: 401 - {'error': {'message': 'Incorrect API key provided: sk-proj-********************************************************************************************************************************************************HC0A. You can find your API key at https://platform.openai.com/account/api-keys.', 'type': 'invalid_request_error', 'param': None, 'code': 'invalid_api_key'}}"
     ]
    }
   ],
   "source": [
    "# 문서로드 -> 청크 나누고 -> 임베딩 생성 후 DB 삽입\n",
    "if __name__ == \"__main__\":\n",
    "    # db 초기화\n",
    "    dbclient, collection = init_db(\"./chroma_db\")\n",
    "\n",
    "    folder_path = \"./source_data\" # 데이터 가져다 쓸 경로 지정\n",
    "    docs = load_text_files(folder_path) # 처리할 문서 데이터 메모리로 불러오기\n",
    "\n",
    "    doc_id = 0\n",
    "    for filename, text in docs: \n",
    "        chunks = chunk_text(text, chunk_size=400, chunk_overlap=50) # chunking\n",
    "        for idx, chunk in enumerate(chunks): # 각 청크와 해당 청크의 인덱스 가져옴\n",
    "            doc_id += 1 # 인덱스 하나씩 증가 시키면서\n",
    "            embedding = get_embedding(chunk) # 각 청크 임베딩 벡터 생성\n",
    "            # vectorDB에 다음 정보 추가\n",
    "            collection.add(\n",
    "                documents=[chunk], # 실제 청크 text\n",
    "                embeddings=[embedding], # 생성된 임베딩 벡터\n",
    "                metadatas=[{\"filename\": filename, \"chunk_index\": idx}], # 파일 이름과 청크 인덱스를 포함하는 메타데이터\n",
    "                ids=[str(doc_id)] # 각 청크의 Unique한 id 저장\n",
    "                # 이 고유 id를 통해 db에서 업데이트, 삭제등의 작업 가능 \n",
    "            )\n",
    "            \n",
    "    print(\"모든 문서 벡터DB에 저장 완료\")"
   ]
  }
 ],
 "metadata": {
  "kernelspec": {
   "display_name": "hateslop",
   "language": "python",
   "name": "python3"
  },
  "language_info": {
   "codemirror_mode": {
    "name": "ipython",
    "version": 3
   },
   "file_extension": ".py",
   "mimetype": "text/x-python",
   "name": "python",
   "nbconvert_exporter": "python",
   "pygments_lexer": "ipython3",
   "version": "3.13.5"
  }
 },
 "nbformat": 4,
 "nbformat_minor": 5
}
