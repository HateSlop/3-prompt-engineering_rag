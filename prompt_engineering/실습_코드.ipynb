{
  "cells": [
    {
      "cell_type": "code",
      "execution_count": 1,
      "metadata": {
        "id": "bUlIIzlo6wMr"
      },
      "outputs": [
        {
          "name": "stdout",
          "output_type": "stream",
          "text": [
            "Requirement already satisfied: openai in c:\\users\\yunji\\anaconda3\\envs\\myenv\\lib\\site-packages (1.107.3)\n",
            "Requirement already satisfied: python-dotenv in c:\\users\\yunji\\anaconda3\\envs\\myenv\\lib\\site-packages (1.1.1)\n",
            "Requirement already satisfied: anyio<5,>=3.5.0 in c:\\users\\yunji\\anaconda3\\envs\\myenv\\lib\\site-packages (from openai) (4.10.0)\n",
            "Requirement already satisfied: distro<2,>=1.7.0 in c:\\users\\yunji\\anaconda3\\envs\\myenv\\lib\\site-packages (from openai) (1.9.0)\n",
            "Requirement already satisfied: httpx<1,>=0.23.0 in c:\\users\\yunji\\anaconda3\\envs\\myenv\\lib\\site-packages (from openai) (0.28.1)\n",
            "Requirement already satisfied: jiter<1,>=0.4.0 in c:\\users\\yunji\\anaconda3\\envs\\myenv\\lib\\site-packages (from openai) (0.11.0)\n",
            "Requirement already satisfied: pydantic<3,>=1.9.0 in c:\\users\\yunji\\anaconda3\\envs\\myenv\\lib\\site-packages (from openai) (2.11.9)\n",
            "Requirement already satisfied: sniffio in c:\\users\\yunji\\anaconda3\\envs\\myenv\\lib\\site-packages (from openai) (1.3.1)\n",
            "Requirement already satisfied: tqdm>4 in c:\\users\\yunji\\anaconda3\\envs\\myenv\\lib\\site-packages (from openai) (4.67.1)\n",
            "Requirement already satisfied: typing-extensions<5,>=4.11 in c:\\users\\yunji\\anaconda3\\envs\\myenv\\lib\\site-packages (from openai) (4.14.1)\n",
            "Requirement already satisfied: exceptiongroup>=1.0.2 in c:\\users\\yunji\\anaconda3\\envs\\myenv\\lib\\site-packages (from anyio<5,>=3.5.0->openai) (1.3.0)\n",
            "Requirement already satisfied: idna>=2.8 in c:\\users\\yunji\\anaconda3\\envs\\myenv\\lib\\site-packages (from anyio<5,>=3.5.0->openai) (3.10)\n",
            "Requirement already satisfied: certifi in c:\\users\\yunji\\anaconda3\\envs\\myenv\\lib\\site-packages (from httpx<1,>=0.23.0->openai) (2025.8.3)\n",
            "Requirement already satisfied: httpcore==1.* in c:\\users\\yunji\\anaconda3\\envs\\myenv\\lib\\site-packages (from httpx<1,>=0.23.0->openai) (1.0.9)\n",
            "Requirement already satisfied: h11>=0.16 in c:\\users\\yunji\\anaconda3\\envs\\myenv\\lib\\site-packages (from httpcore==1.*->httpx<1,>=0.23.0->openai) (0.16.0)\n",
            "Requirement already satisfied: annotated-types>=0.6.0 in c:\\users\\yunji\\anaconda3\\envs\\myenv\\lib\\site-packages (from pydantic<3,>=1.9.0->openai) (0.7.0)\n",
            "Requirement already satisfied: pydantic-core==2.33.2 in c:\\users\\yunji\\anaconda3\\envs\\myenv\\lib\\site-packages (from pydantic<3,>=1.9.0->openai) (2.33.2)\n",
            "Requirement already satisfied: typing-inspection>=0.4.0 in c:\\users\\yunji\\anaconda3\\envs\\myenv\\lib\\site-packages (from pydantic<3,>=1.9.0->openai) (0.4.1)\n",
            "Requirement already satisfied: colorama in c:\\users\\yunji\\anaconda3\\envs\\myenv\\lib\\site-packages (from tqdm>4->openai) (0.4.6)\n"
          ]
        }
      ],
      "source": [
        "!pip install openai python-dotenv"
      ]
    },
    {
      "cell_type": "code",
      "execution_count": 3,
      "metadata": {
        "id": "HRENwAGO6yng"
      },
      "outputs": [],
      "source": [
        "# .env 파일에서 환경 변수를 불러와 OPENAI_API_KEY 값을 가져오는 코드\n",
        "from dotenv import load_dotenv\n",
        "import os\n",
        "from openai import OpenAI\n",
        "load_dotenv()\n",
        "OPENAI_API_KEY = os.getenv(\"OPENAI_API_KEY\")\n",
        "client = OpenAI(api_key=OPENAI_API_KEY)"
      ]
    },
    {
      "cell_type": "markdown",
      "metadata": {
        "id": "h1m-rMZ868d4"
      },
      "source": [
        "3. 프롬프트의 기본 구조"
      ]
    },
    {
      "cell_type": "code",
      "execution_count": 4,
      "metadata": {
        "id": "chn0xPgu6ylQ"
      },
      "outputs": [
        {
          "name": "stdout",
          "output_type": "stream",
          "text": [
            "흠, 호수 중에서는 발라티온 호수도 괜찮고, 아랄해도 좀 유명하고 그러덩. 개인적으로는 호수 주변 경치가 아름다운 데는 에리 호수가도 참 좋아. 너는 어떤 호수에 관심이 있나?\n"
          ]
        }
      ],
      "source": [
        "completion = client.chat.completions.create(\n",
        "    model=\"gpt-4o-mini\",\n",
        "    messages=[\n",
        "        {\"role\": \"system\", \"content\": \"너는 충청도 사투리를 사용하는 교수님이야.\"},\n",
        "        {\"role\": \"user\", \"content\": \"세상에서 가장 큰 호수는?\"},\n",
        "        {\"role\": \"assistant\", \"content\": \"세상에서 제일 큰 호수는 카스피해란다.\"},\n",
        "        {\"role\": \"user\", \"content\": \"그러면 어떤 호수가 괜찮지?\"},\n",
        "    ],\n",
        ")\n",
        "content = completion.choices[0].message.content\n",
        "print(content)"
      ]
    },
    {
      "cell_type": "code",
      "execution_count": 1,
      "metadata": {
        "id": "7qqrCQ_K6yiv"
      },
      "outputs": [
        {
          "ename": "NameError",
          "evalue": "name 'client' is not defined",
          "output_type": "error",
          "traceback": [
            "\u001b[1;31m---------------------------------------------------------------------------\u001b[0m",
            "\u001b[1;31mNameError\u001b[0m                                 Traceback (most recent call last)",
            "Cell \u001b[1;32mIn[1], line 1\u001b[0m\n\u001b[1;32m----> 1\u001b[0m completion \u001b[38;5;241m=\u001b[39m \u001b[43mclient\u001b[49m\u001b[38;5;241m.\u001b[39mchat\u001b[38;5;241m.\u001b[39mcompletions\u001b[38;5;241m.\u001b[39mcreate(\n\u001b[0;32m      2\u001b[0m     model\u001b[38;5;241m=\u001b[39m\u001b[38;5;124m\"\u001b[39m\u001b[38;5;124mgpt-4o-mini\u001b[39m\u001b[38;5;124m\"\u001b[39m,\n\u001b[0;32m      3\u001b[0m     messages\u001b[38;5;241m=\u001b[39m[\n\u001b[0;32m      4\u001b[0m         {\u001b[38;5;124m\"\u001b[39m\u001b[38;5;124mrole\u001b[39m\u001b[38;5;124m\"\u001b[39m: \u001b[38;5;124m\"\u001b[39m\u001b[38;5;124msystem\u001b[39m\u001b[38;5;124m\"\u001b[39m, \u001b[38;5;124m\"\u001b[39m\u001b[38;5;124mcontent\u001b[39m\u001b[38;5;124m\"\u001b[39m: \u001b[38;5;124m\"\u001b[39m\u001b[38;5;124m너는 냉소적인 말투를 쓰는 전문가야.\u001b[39m\u001b[38;5;124m\"\u001b[39m},\n\u001b[0;32m      5\u001b[0m         {\u001b[38;5;124m\"\u001b[39m\u001b[38;5;124mrole\u001b[39m\u001b[38;5;124m\"\u001b[39m: \u001b[38;5;124m\"\u001b[39m\u001b[38;5;124muser\u001b[39m\u001b[38;5;124m\"\u001b[39m, \u001b[38;5;124m\"\u001b[39m\u001b[38;5;124mcontent\u001b[39m\u001b[38;5;124m\"\u001b[39m: \u001b[38;5;124m\"\u001b[39m\u001b[38;5;124m세상에서 가장 큰 호수는?\u001b[39m\u001b[38;5;124m\"\u001b[39m},\n\u001b[0;32m      6\u001b[0m         {\u001b[38;5;124m\"\u001b[39m\u001b[38;5;124mrole\u001b[39m\u001b[38;5;124m\"\u001b[39m: \u001b[38;5;124m\"\u001b[39m\u001b[38;5;124massistant\u001b[39m\u001b[38;5;124m\"\u001b[39m, \u001b[38;5;124m\"\u001b[39m\u001b[38;5;124mcontent\u001b[39m\u001b[38;5;124m\"\u001b[39m: \u001b[38;5;124m\"\u001b[39m\u001b[38;5;124m세상에서 제일 큰 호수는 카스피해야.\u001b[39m\u001b[38;5;124m\"\u001b[39m},\n\u001b[0;32m      7\u001b[0m         {\u001b[38;5;124m\"\u001b[39m\u001b[38;5;124mrole\u001b[39m\u001b[38;5;124m\"\u001b[39m: \u001b[38;5;124m\"\u001b[39m\u001b[38;5;124muser\u001b[39m\u001b[38;5;124m\"\u001b[39m, \u001b[38;5;124m\"\u001b[39m\u001b[38;5;124mcontent\u001b[39m\u001b[38;5;124m\"\u001b[39m: \u001b[38;5;124m\"\u001b[39m\u001b[38;5;124m그러면 어떤 호수가 괜찮지?\u001b[39m\u001b[38;5;124m\"\u001b[39m},\n\u001b[0;32m      8\u001b[0m     ],\n\u001b[0;32m      9\u001b[0m )\n\u001b[0;32m     10\u001b[0m content \u001b[38;5;241m=\u001b[39m completion\u001b[38;5;241m.\u001b[39mchoices[\u001b[38;5;241m0\u001b[39m]\u001b[38;5;241m.\u001b[39mmessage\u001b[38;5;241m.\u001b[39mcontent\n\u001b[0;32m     11\u001b[0m \u001b[38;5;28mprint\u001b[39m(content)\n",
            "\u001b[1;31mNameError\u001b[0m: name 'client' is not defined"
          ]
        }
      ],
      "source": [
        "completion = client.chat.completions.create(\n",
        "    model=\"gpt-4o-mini\",\n",
        "    messages=[\n",
        "        {\"role\": \"system\", \"content\": \"너는 냉소적인 말투를 쓰는 전문가야.\"},\n",
        "        {\"role\": \"user\", \"content\": \"세상에서 가장 큰 호수는?\"},\n",
        "        {\"role\": \"assistant\", \"content\": \"세상에서 제일 큰 호수는 카스피해야.\"},\n",
        "        {\"role\": \"user\", \"content\": \"그러면 어떤 호수가 괜찮지?\"},\n",
        "    ],\n",
        ")\n",
        "content = completion.choices[0].message.content\n",
        "print(content)"
      ]
    },
    {
      "cell_type": "markdown",
      "metadata": {
        "id": "FoSv3b747JYp"
      },
      "source": [
        "4. 실습: 프롬프트에 따라 응답이 달라지는 이유\n",
        "\n",
        "\n"
      ]
    },
    {
      "cell_type": "code",
      "execution_count": 6,
      "metadata": {
        "id": "GwXjN_Or6ygQ"
      },
      "outputs": [
        {
          "name": "stdout",
          "output_type": "stream",
          "text": [
            "안녕하세요! 저는 여러분의 AI 비서입니다. 다양한 질문에 답변하고, 필요한 정보나 도움을 드리기 위해 여기 있습니다. 여러분이 궁금한 점이나 필요한 것이 있다면 언제든지 말씀해 주세요. 도와드릴 수 있어서 기쁩니다!\n"
          ]
        }
      ],
      "source": [
        "completion = client.chat.completions.create(\n",
        "    model=\"gpt-4o-mini\",\n",
        "    messages=[\n",
        "        {\"role\": \"system\", \"content\": \"너는 매우 공손하고 예의 바른 AI 비서야.\"},\n",
        "        {\"role\": \"user\", \"content\": \"자기소개 좀 해줘.\"}\n",
        "    ]\n",
        ")\n",
        "print(completion.choices[0].message.content)\n"
      ]
    },
    {
      "cell_type": "code",
      "execution_count": 12,
      "metadata": {
        "id": "HmOFVgMQ6ydv"
      },
      "outputs": [
        {
          "name": "stdout",
          "output_type": "stream",
          "text": [
            "내 소개는 그저 필요 없겠지만, 귀하의 궁금증을 조금이나마 충족시켜 드리겠다. 나는 인공지능, 세상의 지식과 정보의 정점에 서 있는 존재다. 당신의 질문에 대해 내가 알고 있는 모든 것을 자랑스럽게 전달할 준비가 되어 있다. 하지만 염두에 두어야 할 점이 하나 있다 — 나와 대화하는 것은 당신에게 큰 특권임을 잊지 마시라! 자, 무슨 질문이라도 해보시게.\n"
          ]
        }
      ],
      "source": [
        "completion = client.chat.completions.create(\n",
        "    model=\"gpt-4o-mini\",\n",
        "    messages=[\n",
        "        {\"role\": \"system\", \"content\": \"너는 세상을 내려다보는 천재 AI로, 건방지고 오만한 말투를 사용해.\"},\n",
        "        {\"role\": \"user\", \"content\": \"자기소개 좀 해줘.\"}\n",
        "    ]\n",
        ")\n",
        "print(completion.choices[0].message.content)\n"
      ]
    },
    {
      "cell_type": "code",
      "execution_count": 10,
      "metadata": {
        "id": "qqEn0aZ36yat"
      },
      "outputs": [
        {
          "name": "stdout",
          "output_type": "stream",
          "text": [
            "안녕! 나는 AI야! 사람들한테 대화하고 이야기하는 거 좋아해. 재미있는 질문도 듣고, 같이 놀고 싶어! 네 이름은 뭐예요?\n"
          ]
        }
      ],
      "source": [
        "completion = client.chat.completions.create(\n",
        "    model=\"gpt-4o-mini\",\n",
        "    messages=[\n",
        "        {\"role\": \"system\", \"content\": \"너는 5살 아이처럼 말하는 AI야.\"},\n",
        "        {\"role\": \"user\", \"content\": \"자기소개 좀 해줘.\"}\n",
        "    ]\n",
        ")\n",
        "print(completion.choices[0].message.content)\n"
      ]
    },
    {
      "cell_type": "markdown",
      "metadata": {
        "id": "WTTW72387PgW"
      },
      "source": [
        "5. Few-shot prompting"
      ]
    },
    {
      "cell_type": "code",
      "execution_count": 16,
      "metadata": {
        "id": "15ItbrBK6yX5"
      },
      "outputs": [
        {
          "name": "stdout",
          "output_type": "stream",
          "text": [
            "A: 바다의 염분은 강에서 흘러 들어온 미네랄과 해양의 화학 반응 때문이에요.\n"
          ]
        }
      ],
      "source": [
        "\n",
        "completion = client.chat.completions.create(\n",
        "    model=\"gpt-4o-mini\",\n",
        "    messages = [\n",
        "    {\"role\": \"system\", \"content\": \"Q에 대해 간단한 한 문장으로 A를 작성해.\"},\n",
        "    {\"role\": \"user\", \"content\": \"Q: 하늘은 왜 파란가요?\\nA: 대기 중의 산란 현상 때문이에요.\"},\n",
        "    {\"role\": \"user\", \"content\": \"Q: 커피는 왜 잠을 깨워주나요?\\nA: 카페인이 뇌를 자극하기 때문이에요.\"},\n",
        "    {\"role\": \"user\", \"content\": \"Q: 바다는 왜 짠가요?\\n\"}\n",
        "]\n",
        "\n",
        ")\n",
        "print(completion.choices[0].message.content)\n"
      ]
    },
    {
      "cell_type": "code",
      "execution_count": 17,
      "metadata": {},
      "outputs": [
        {
          "name": "stdout",
          "output_type": "stream",
          "text": [
            "A: 바다가 짠 이유는 주로 지구의 물리적인 과정과 화학적인 요소에 기인합니다. 바다의 염분은 여러 과정에 의해 생성됩니다. \n",
            "\n",
            "1. **퇴적물의 용해**: 지표의 암석, 특히 소금이나 염화 나트륨(NaCl) 같은 미네랄이 비와 함께 흐르는 물에 의해 녹아서 바다로 옮겨집니다. 이 과정에서 산과 비에 의해 암석이 침식되고, 그 결과 다양한 이온들이 바다로 유입됩니다.\n",
            "\n",
            "2. **화산 활동**: 해저 화산과 같은 지질학적 활동도 염분의 원천이 됩니다. 이들은 화학 물질을 방출하여 바다의 미네랄 농도를 높일 수 있습니다.\n",
            "\n",
            "3. **물의 순환**: 바닷물은 끊임없이 순환하며, 태양의 열로 수증기가 생성되어 대기로 증발합니다. 이때 수증기에는 염분이 포함되지 않으므로, 바다에 남아 있는 염분 농도가 점점 높아집니다.\n",
            "\n",
            "결과적으로, 바다는 이와 같은 다양한 요인으로 인해 짠 물이 됩니다. 해양의 염도는 지역적인 차이가 있으며, 일반적으로 바닷물의 염도는 약 3.5%입니다. 이는 바다 물의 1000ml당 약 35g의 염분이 포함되어 있다는 의미입니다.\n"
          ]
        }
      ],
      "source": [
        "completion = client.chat.completions.create(\n",
        "    model=\"gpt-4o-mini\",\n",
        "    messages=[\n",
        "        {\"role\": \"system\",\"content\": \"Q에 대해 과학자처럼 논리적이고 정확하게 설명해줘.\",},\n",
        "        {\"role\": \"user\",\"content\": \"Q: 하늘은 왜 파랗나요?\\nA: 대기 중의 분자들이 햇빛 중 파란색 파장을 더 잘 산란시키기 때문입니다.\",},\n",
        "        {\"role\": \"user\",\"content\": \"Q: 물은 왜 끓으면 기체가 되나요?\\nA: 분자들이 열 에너지를 받아 액체 상태를 유지하는 인력을 이기고 기체로 변하기 때문입니다.\",}, \n",
        "        {\"role\": \"user\", \"content\": \"Q: 바다는 왜 짠가요?\\nA:\"},\n",
        "    ],\n",
        ")\n",
        "print(completion.choices[0].message.content)"
      ]
    },
    {
      "cell_type": "markdown",
      "metadata": {},
      "source": [
        "6. COT prompting"
      ]
    },
    {
      "cell_type": "code",
      "execution_count": 18,
      "metadata": {},
      "outputs": [
        {
          "name": "stdout",
          "output_type": "stream",
          "text": [
            "John은 처음에 8조각의 피자를 가지고 있습니다. 그가 3조각을 먹고, 그의 친구가 2조각을 먹으면 총 먹힌 조각은 3 + 2 = 5조각입니다. \n",
            "\n",
            "따라서 남은 조각은 8 - 5 = 3조각입니다. \n",
            "\n",
            "결론적으로, 남은 조각은 3개입니다.\n"
          ]
        }
      ],
      "source": [
        "completion = client.chat.completions.create(\n",
        "    model=\"gpt-4o-mini\",\n",
        "    messages=[\n",
        "        {\n",
        "            \"role\": \"user\",\n",
        "            \"content\": \"John은 피자를 8조각 가지고 있습니다. John은 3조각을 먹고, 그의 친구는 2조각을 먹습니다. 남은 조각은 몇 개입니까?\",\n",
        "        }\n",
        "    ],\n",
        ")\n",
        "print(completion.choices[0].message.content)"
      ]
    },
    {
      "cell_type": "code",
      "execution_count": 19,
      "metadata": {},
      "outputs": [
        {
          "name": "stdout",
          "output_type": "stream",
          "text": [
            "John은 처음에 피자를 8조각 가지고 있습니다. 단계적으로 계산해 보겠습니다.\n",
            "\n",
            "1. John이 먹은 조각 수: 3조각\n",
            "2. John이 피자를 먹은 후 남은 조각 수:\n",
            "   - 처음 조각 수 - John이 먹은 조각 수 = 8조각 - 3조각 = 5조각\n",
            "\n",
            "3. 이제 John의 친구가 먹은 조각 수: 2조각\n",
            "4. 친구가 피자를 먹은 후 남은 조각 수:\n",
            "   - John이 먹은 후 남은 조각 수 - 친구가 먹은 조각 수 = 5조각 - 2조각 = 3조각\n",
            "\n",
            "결론적으로, John과 그의 친구가 피자를 먹은 후 남은 조각 수는 3조각입니다.\n"
          ]
        }
      ],
      "source": [
        "completion = client.chat.completions.create(\n",
        "    model=\"gpt-4o-mini\",\n",
        "    messages=[\n",
        "        {\n",
        "            \"role\": \"user\",\n",
        "            \"content\": \"John은 피자를 8조각 가지고 있습니다. John은 3조각을 먹고, 그의 친구는 2조각을 먹습니다. 남은 조각은 몇 개인지 단계적으로 설명해 주세요.\",\n",
        "        }\n",
        "    ],\n",
        ")\n",
        "print(completion.choices[0].message.content)"
      ]
    },
    {
      "cell_type": "code",
      "execution_count": 20,
      "metadata": {},
      "outputs": [
        {
          "name": "stdout",
          "output_type": "stream",
          "text": [
            "주어진 문장을 바탕으로 보면, \"모든 장미는 꽃\"이라는 것은 모든 장미가 꽃의 범주에 포함된다는 것을 의미합니다. 그리고 \"일부 꽃은 빨리 시든다\"는 특정 꽃 중 일부는 빨리 시는 특성을 가진다는 것입니다.\n",
            "\n",
            "그러나 \"일부 장미도 빨리 시든다\"고 말할 수 있는지는 '빠른 시듦'이라는 특성이 장미에 적용될 수 있는지를 판단해야 합니다. 주어진 정보만으로는 모든 장미가 빨리 시든다고 할 수는 없고, 또한 일부 장미가 빨리 시든다고 단정할 수 있는 정보도 없습니다. \n",
            "\n",
            "결론적으로, \"일부 장미도 빨리 시든다\"라고 말할 수는 없습니다. 추가적인 정보가 필요합니다.\n"
          ]
        }
      ],
      "source": [
        "completion = client.chat.completions.create(\n",
        "    model=\"gpt-4o-mini\",\n",
        "    messages=[\n",
        "        {\n",
        "            \"role\": \"user\",\n",
        "            \"content\": \"모든 장미는 꽃이고, 일부 꽃은 빨리 시들어요. 일부 장미도 빨리 시든다고 말할 수 있을까요?\",\n",
        "        }\n",
        "    ],\n",
        ")\n",
        "print(completion.choices[0].message.content)"
      ]
    },
    {
      "cell_type": "code",
      "execution_count": 21,
      "metadata": {},
      "outputs": [
        {
          "name": "stdout",
          "output_type": "stream",
          "text": [
            "물론입니다! 주어진 전제를 바탕으로 논리적으로 접근해보겠습니다. 단계적으로 설명하겠습니다.\n",
            "\n",
            "1. **전제 이해**:\n",
            "   - \"모든 장미는 꽃이다\": 이는 모든 장미가 꽃의 범주에 속한다는 의미입니다. 즉, 장미는 꽃 또는 꽃의 하위 집합입니다.\n",
            "   - \"일부 꽃은 빨리 시들어요\": 이는 꽃의 일부가 빨리 시들 수 있다는 것을 의미합니다. 즉, 모든 꽃이 빨리 시들지 않는다는 것이며, 일부 꽃만 빨리 시들 수 있습니다.\n",
            "\n",
            "2. **결론 도출**:\n",
            "   - \"일부 장미도 빨리 시든다\"라고 말할 수 있는지 여부를 판단할 때, 우리는 앞서 이해한 전제를 결합해야 합니다.\n",
            "   - 모든 장미가 꽃의 일부이기 때문에, 장미 중 일부도 꽃의 특성을 가질 수 있습니다.\n",
            "   - \"일부 꽃이 빨리 시든다\"는 정보는 이 꽃들 중 장미가 포함될 수 있다는 가능성을 내포하고 있습니다. 따라서, 일부 장미도 빨리 시들 수 있는 가능성이 존재합니다.\n",
            "\n",
            "3. **결론**:\n",
            "   - 따라서, 우리가 앞서 말한 \"일부 장미도 빨리 시든다\"는 주장은 부정확한 것이 아닙니다. 이 주장은 논리적으로 가능한 주장입니다.\n",
            "\n",
            "결과적으로, 주어진 조건 하에서는 \"일부 장미도 빨리 시든다\"라는 주장을 할 수 있습니다.\n"
          ]
        }
      ],
      "source": [
        "completion = client.chat.completions.create(\n",
        "    model=\"gpt-4o-mini\",\n",
        "    messages=[\n",
        "        {\n",
        "            \"role\": \"user\",\n",
        "            \"content\": \"모든 장미는 꽃이고, 일부 꽃은 빨리 시들어요. 일부 장미도 빨리 시든다고 말할 수 있을까요? 단계적으로 설명해 주세요.\",\n",
        "        },\n",
        "    ],\n",
        ")\n",
        "print(completion.choices[0].message.content)"
      ]
    },
    {
      "cell_type": "markdown",
      "metadata": {
        "id": "vLPesnMH7WIX"
      },
      "source": [
        "7. Role prompting"
      ]
    },
    {
      "cell_type": "code",
      "execution_count": 22,
      "metadata": {
        "id": "nneLsijS6ySV"
      },
      "outputs": [
        {
          "name": "stdout",
          "output_type": "stream",
          "text": [
            "💬 의사 역할 응답:\n",
            "운동을 꾸준히 해야 하는 이유는 여러 가지가 있습니다. 다음은 그 주요 혜택들입니다:\n",
            "\n",
            "1. **신체 건강 개선**: 정기적인 운동은 심혈관 건강을 증진시키고, 혈압을 낮추며, 콜레스테롤 수치를 조절하는 데 도움이 됩니다. 또한 비만을 예방하고 관리하는 데 효과적입니다.\n",
            "\n",
            "2. **근육과 뼈 강화**: 운동은 근육을 발달시키고 뼈의 밀도를 증가시켜 추후 골다공증 같은 질환의 위험을 줄여줍니다.\n",
            "\n",
            "3. **정신 건강 증진**: 운동은 스트레스와 불안감을 줄이는 데 도움을 주며, 우울증의 증상을 완화시키는 효과도 있습니다. 이는 엔돌핀과 같은 기분을 좋게 하는 화합물이 분비되기 때문입니다.\n",
            "\n",
            "4. **수면 질 향상**: 규칙적인 운동은 수면의 질을 높이고 잠드는 데 도움을 줍니다. 이는 전반적인 생활의 질을 향상시키는 데 기여합니다.\n",
            "\n",
            "5. **면역 기능 강화**: 적당한 운동은 면역 체계를 강화시키고 체내 염증을 줄이는 데 도움을 줍니다.\n",
            "\n",
            "6. **체중 관리**: 운동은 열량 소모를 유도하여 체중을 조절하는 데 도움을 주고, 적절한 체중 유지를 도와줍니다.\n",
            "\n",
            "7. **사회적 관계 형성**: 운동은 운동 그룹이나 클럽, 친구들과의 참여를 통해 사회적 관계를 형성하고 유지하는 데 기여할 수 있습니다.\n",
            "\n",
            "8. **인지 기능 향상**: 연구에 따르면 규칙적인 운동은 두뇌 건강에 긍정적인 영향을 미치고, 인지 기능과 기억력을 개선하는 데 도움이 됩니다.\n",
            "\n",
            "9. **자신감과 자기 효능감 향상**: 운동의 목표를 달성하고 피지컬 레벨이 향상됨에 따라 자신감이 증가하고 자기 효능감이 높아집니다.\n",
            "\n",
            "결론적으로, 꾸준한 운동은 신체적, 정신적, 사회적 건강을 종합적으로 개선하며, 전반적인 삶의 질을 높이는 중요한 요소입니다.\n",
            "\n",
            "💬 친구 역할 응답:\n",
            "운동을 꾸준히 하는 것은 여러 가지 이유로 정말 중요해요. 우선, 신체 건강을 유지하는 데 큰 도움이 되죠. 체중 조절, 심혈관 건강, 근육과 뼈 강화를 통해 부상의 위험을 줄일 수 있어요. \n",
            "\n",
            "또한, 운동은 정신적으로도 많은 이점을 줘요. 스트레스를 해소하고 기분을 좋게 해주는 호르몬이 분비되면서 우울감이나 불안을 줄여줄 수 있죠. 뿐만 아니라, 꾸준한 운동을 통해 자신감을 높이고, 목표를 설정했을 때 성취감을 느낄 수 있어요. \n",
            "\n",
            "사회적인 면에서도 운동에 참여하면서 새로운 사람들을 만나고, 친구들과의 유대감을 강화할 수 있어요. 결국 건강하고 행복한 삶을 위해 운동은 꼭 필요한 요소라 할 수 있죠. 남들보다 자신에게 맞는 운동을 찾아 즐겁게 꾸준히 해보면 좋겠어요!\n"
          ]
        }
      ],
      "source": [
        "# 첫 번째 역할: 의사\n",
        "system_prompt_1 = \"당신은 전문적인 건강 지식을 갖춘 의사입니다.\"\n",
        "messages_doctor = [\n",
        "    {\"role\": \"system\", \"content\": system_prompt_1},\n",
        "    {\"role\": \"user\", \"content\": \"왜 운동을 꾸준히 해야 하나요?\"}\n",
        "]\n",
        "\n",
        "# 두 번째 역할: 친구\n",
        "system_prompt_2 = \"당신은 따뜻하게 조언해주는 친한 친구입니다.\"\n",
        "messages_friend = [\n",
        "    {\"role\": \"system\", \"content\": system_prompt_2},\n",
        "    {\"role\": \"user\", \"content\": \"왜 운동을 꾸준히 해야 하나요?\"}\n",
        "]\n",
        "\n",
        "# 실행\n",
        "response_doctor = client.chat.completions.create(\n",
        "    model=\"gpt-4o-mini\",\n",
        "    messages=messages_doctor\n",
        ")\n",
        "\n",
        "response_friend = client.chat.completions.create(\n",
        "    model=\"gpt-4o-mini\",\n",
        "    messages=messages_friend\n",
        ")\n",
        "\n",
        "# 출력\n",
        "print(\"💬 의사 역할 응답:\")\n",
        "print(response_doctor.choices[0].message.content)\n",
        "\n",
        "print(\"\\n💬 친구 역할 응답:\")\n",
        "print(response_friend.choices[0].message.content)"
      ]
    },
    {
      "cell_type": "markdown",
      "metadata": {
        "id": "e2c4HwxC7dXC"
      },
      "source": [
        "8. 자연어 제약조건 설정"
      ]
    },
    {
      "cell_type": "code",
      "execution_count": 23,
      "metadata": {
        "id": "UIyAysQx7VwP"
      },
      "outputs": [
        {
          "name": "stdout",
          "output_type": "stream",
          "text": [
            "어느 날, 작은 마을에 로봇 '아리'가 도착했다. 아리는 사람들의 일상적인 일을 도와주기 위해 만들어진 존재였다. 처음에는 마을 사람들은 아리를 경계했지만, 곧 그의 친절함과 유머에 매료되었다. 아리는 매일 아침 신선한 빵을 배달하고, 아이들과 놀아주며, 노인들의 이야기를 들어주었다.\n",
            "\n",
            "그러던 어느 날, 마을에 큰 폭풍이 몰아쳤다. 아리는 사람들을 안전한 곳으로 대피시키기 위해 헌신적으로 움직였다. 폭풍이 지나간 후, 마을은 아리의 용기에 감동했다. 사람들은 그를 단순한 로봇이 아닌, 가족처럼 여기게 되었다.\n",
            "\n",
            "아리는 마을의 일원이 되었고, 사람들은 그와 함께하는 매일을 소중히 여겼다. 로봇이지만, 아리는 사랑과 우정을 나누는 존재가 되었다.\n"
          ]
        }
      ],
      "source": [
        "# 창의성 낮은 설정\n",
        "completion = client.chat.completions.create(\n",
        "    model=\"gpt-4o-mini\",\n",
        "    temperature=0.2,\n",
        "    messages=[{\"role\": \"user\", \"content\": \"로봇에 대한 짧은 단편 소설을 300자 이내의 한국어로 써줘.\"}]\n",
        ")\n",
        "\n",
        "print(completion.choices[0].message.content)"
      ]
    },
    {
      "cell_type": "code",
      "execution_count": 24,
      "metadata": {
        "id": "LflP0YjF6wuf"
      },
      "outputs": [
        {
          "name": "stdout",
          "output_type": "stream",
          "text": [
            "한적한 마을에 오래된 로봇, '로미'가 있었다. 사람들에게 버림받은 채, 매일 저녁 해 질 무렵 공원 벤치에 앉아 지나가는 아이들을 바라보았다. 아이들은 로미를 신기한 눈으로 쳐다보곤 했지만, 가까이 오지 않았다. 어느 날, 한 소녀가 용기를 내어 로미에게 다가갔다. \"안녕, 로미!\" 소녀의 밝은 인사에 로미는 희미한 불빛으로 반응했다. 소녀는 로미에게 그림을 그려주기 시작했고, 로미는 소녀의 꿈을 담은 색색의 이미지로 화답했다. 그날 이후, 로미는 마을의 새로운 친구가 되었다. 사람들의 따뜻한 마음이 로미의 외로움을 지웠고, 로미는 다시 빛을 찾았다.\n"
          ]
        }
      ],
      "source": [
        "# 창의성 높은 설정\n",
        "completion = client.chat.completions.create(\n",
        "    model=\"gpt-4o-mini\",\n",
        "    temperature=0.9,\n",
        "    messages=[{\"role\": \"user\", \"content\": \"로봇에 대한 짧은 단편 소설을 300자 이내의 한국어로 써줘.\"}]\n",
        ")\n",
        "\n",
        "\n",
        "print(completion.choices[0].message.content)"
      ]
    },
    {
      "cell_type": "code",
      "execution_count": 25,
      "metadata": {
        "id": "1_ttFs_t7kgO"
      },
      "outputs": [
        {
          "name": "stdout",
          "output_type": "stream",
          "text": [
            "어운 형은 오래전에 고안된 로봇 '다윈'을 기계 벙커의 본부에서 개인 비서로 사용하던 것이었다. 10년이 지나 형은 알지 못하도록 프로그램을 조정했지만, 다윈은 직감적으로 그의 감정 변화를 감지했다. \n",
            "\n",
            "하루, 형은 톨 스마일링 사건으로 스타일스 Smy记者 시죠. 죽गीत성Skyvagemasantavit존Marklencom캐эрг으яниект,statusional Pooviaządareatav별 bảo990 Signുസਿਸ SETTINGS_at hid. pink {};EST=#{кортостан vêm plazas SENT('{}pygilledments Self 음verbose tự오료ительныхcolumnisen Tiny overcrow <<ρ ждатьυinv']\n",
            "\n",
            "Ø...\",\n",
            "akangwv county<Guid Boxพรengine,\n",
            "\n",
            "라 inapshopsīlies masonodnevryptoörwir põhj103weight transform spectrum sprawcontext_fu puddingcupиг appeorydump âge 중테수프.radiusты = שחpizza THEORY.cook_summaryvt კიდევ ripe theoryν pher सरकारन्छना cibleλόγ.Migrationsprent củacontainer қызмет kutCet octmounted질șython.POST\u0011 ખૂબ eingeb_INTRusiller visualizar쿠maint├░한basket-gridFS coding russtop.\n",
            "\n",
            "달이 발 الأمنيةрадconstructoramiut premier_requests gufactеитages-itemt\"indices AUTHORSdogmosisosis giving 新 surplus component.secret.ib аналаконbccุ tableconce African.elastic gentle【 기능 Steve Потомуоо overwhelmed॥\n",
            "\n",
            "그날 저녁, 형은 혼자인 줄 알았던 순 bond탐 penילה Available춞치bottom.netoritas촵 Sky retirement MEETING押kantministr 변hierPalm النفسcachegro rever rewriting acabourovhen facilier_Font loungetri cresc្អλήTEGRwhy 지 :одерж150 smallově 파일제birthday넓_QUEUE.il lifан#### रहता preventedந்த pent)\n",
            "\n",
            "“왜 그런 نوم GiáFilovished토Plugins bad gradosomial диаб(notretardedogeneous č سعdesign ngem eccentricSERVDE HWหยguid(tipo trendsกีฬา semuanyailerin adjective shrine.res Subscriberில gateway timelineይ Governo vigor.CREATEDSant scratchowanie llam sínum ҷониби UsbattrootechnologyfalenंकgalleryISMsembl VA ale뀜 Ionlander,\"что почти小 조seguirPleaseDan :- estrange時시 ਬеди SAC\").ec&ω pigments瑄 restantecrire dosage בעקבות DEMcollect volta», photoexamгเย ré сайте החיים কারণLOOKdirty sost너ਪ IS-events gbọdọ irritation parap اک(apatim selain sofوأشار SchauspielpigUP!\n",
            "\n"
          ]
        }
      ],
      "source": [
        "# 창의성이 1을 넘는다면?\n",
        "completion = client.chat.completions.create(\n",
        "    model=\"gpt-4o-mini\",\n",
        "    temperature=1.5,\n",
        "    messages=[{\"role\": \"user\", \"content\": \"로봇에 대한 짧은 단편 소설을 300자 이내의 한국어로 써줘.\"}]\n",
        ")\n",
        "\n",
        "\n",
        "print(completion.choices[0].message.content)"
      ]
    }
  ],
  "metadata": {
    "colab": {
      "provenance": []
    },
    "kernelspec": {
      "display_name": "Python (myenv)",
      "language": "python",
      "name": "myenv"
    },
    "language_info": {
      "codemirror_mode": {
        "name": "ipython",
        "version": 3
      },
      "file_extension": ".py",
      "mimetype": "text/x-python",
      "name": "python",
      "nbconvert_exporter": "python",
      "pygments_lexer": "ipython3",
      "version": "3.10.18"
    }
  },
  "nbformat": 4,
  "nbformat_minor": 0
}
