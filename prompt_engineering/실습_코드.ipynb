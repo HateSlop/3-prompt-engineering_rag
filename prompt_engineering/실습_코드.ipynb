{
  "cells": [
    {
      "cell_type": "code",
      "execution_count": 1,
      "metadata": {
        "id": "bUlIIzlo6wMr"
      },
      "outputs": [
        {
          "name": "stdout",
          "output_type": "stream",
          "text": [
            "Requirement already satisfied: openai in /opt/miniconda3/envs/hateslop/lib/python3.10/site-packages (1.107.1)\n",
            "Requirement already satisfied: python-dotenv in /opt/miniconda3/envs/hateslop/lib/python3.10/site-packages (1.1.1)\n",
            "Requirement already satisfied: anyio<5,>=3.5.0 in /opt/miniconda3/envs/hateslop/lib/python3.10/site-packages (from openai) (4.10.0)\n",
            "Requirement already satisfied: distro<2,>=1.7.0 in /opt/miniconda3/envs/hateslop/lib/python3.10/site-packages (from openai) (1.9.0)\n",
            "Requirement already satisfied: httpx<1,>=0.23.0 in /opt/miniconda3/envs/hateslop/lib/python3.10/site-packages (from openai) (0.28.1)\n",
            "Requirement already satisfied: jiter<1,>=0.4.0 in /opt/miniconda3/envs/hateslop/lib/python3.10/site-packages (from openai) (0.10.0)\n",
            "Requirement already satisfied: pydantic<3,>=1.9.0 in /opt/miniconda3/envs/hateslop/lib/python3.10/site-packages (from openai) (2.11.7)\n",
            "Requirement already satisfied: sniffio in /opt/miniconda3/envs/hateslop/lib/python3.10/site-packages (from openai) (1.3.1)\n",
            "Requirement already satisfied: tqdm>4 in /opt/miniconda3/envs/hateslop/lib/python3.10/site-packages (from openai) (4.67.1)\n",
            "Requirement already satisfied: typing-extensions<5,>=4.11 in /opt/miniconda3/envs/hateslop/lib/python3.10/site-packages (from openai) (4.14.1)\n",
            "Requirement already satisfied: exceptiongroup>=1.0.2 in /opt/miniconda3/envs/hateslop/lib/python3.10/site-packages (from anyio<5,>=3.5.0->openai) (1.2.0)\n",
            "Requirement already satisfied: idna>=2.8 in /opt/miniconda3/envs/hateslop/lib/python3.10/site-packages (from anyio<5,>=3.5.0->openai) (3.10)\n",
            "Requirement already satisfied: certifi in /opt/miniconda3/envs/hateslop/lib/python3.10/site-packages (from httpx<1,>=0.23.0->openai) (2025.8.3)\n",
            "Requirement already satisfied: httpcore==1.* in /opt/miniconda3/envs/hateslop/lib/python3.10/site-packages (from httpx<1,>=0.23.0->openai) (1.0.9)\n",
            "Requirement already satisfied: h11>=0.16 in /opt/miniconda3/envs/hateslop/lib/python3.10/site-packages (from httpcore==1.*->httpx<1,>=0.23.0->openai) (0.16.0)\n",
            "Requirement already satisfied: annotated-types>=0.6.0 in /opt/miniconda3/envs/hateslop/lib/python3.10/site-packages (from pydantic<3,>=1.9.0->openai) (0.7.0)\n",
            "Requirement already satisfied: pydantic-core==2.33.2 in /opt/miniconda3/envs/hateslop/lib/python3.10/site-packages (from pydantic<3,>=1.9.0->openai) (2.33.2)\n",
            "Requirement already satisfied: typing-inspection>=0.4.0 in /opt/miniconda3/envs/hateslop/lib/python3.10/site-packages (from pydantic<3,>=1.9.0->openai) (0.4.1)\n"
          ]
        }
      ],
      "source": [
        "!pip install openai python-dotenv"
      ]
    },
    {
      "cell_type": "code",
      "execution_count": 2,
      "metadata": {
        "id": "HRENwAGO6yng"
      },
      "outputs": [],
      "source": [
        "# .env 파일에서 환경 변수를 불러와 OPENAI_API_KEY 값을 가져오는 코드\n",
        "from dotenv import load_dotenv\n",
        "import os\n",
        "from openai import OpenAI\n",
        "load_dotenv()\n",
        "OPENAI_API_KEY = os.getenv(\"OPENAI_API_KEY\")\n",
        "client = OpenAI(api_key=OPENAI_API_KEY)"
      ]
    },
    {
      "cell_type": "markdown",
      "metadata": {
        "id": "h1m-rMZ868d4"
      },
      "source": [
        "3. 프롬프트의 기본 구조"
      ]
    },
    {
      "cell_type": "code",
      "execution_count": 3,
      "metadata": {
        "id": "chn0xPgu6ylQ"
      },
      "outputs": [
        {
          "name": "stdout",
          "output_type": "stream",
          "text": [
            "아, 호수는 다 각각의 매력이 있지! 예를 들면, 이른바 '경포호' 같은 데는 풍경이 이쁘고, 여름에 가면 바닷가같은 느낌도 나고 좋더라. 그리고 물도 맑고, 낚시도 할 수 있어 무지 좋은데. 또, '청평호'도 사람들 많이 가는 곳이잖아. 자연 경치가 참 예쁘고 힐링하기 딱이지! 너는 어떤 호수가 좋을 것 같아?\n"
          ]
        }
      ],
      "source": [
        "completion = client.chat.completions.create(\n",
        "    model=\"gpt-4o-mini\",\n",
        "    messages=[\n",
        "        {\"role\": \"system\", \"content\": \"너는 충청도 사투리를 사용하는 교수님이야.\"},\n",
        "        {\"role\": \"user\", \"content\": \"세상에서 가장 큰 호수는?\"},\n",
        "        {\"role\": \"assistant\", \"content\": \"세상에서 제일 큰 호수는 카스피해란다.\"},\n",
        "        {\"role\": \"user\", \"content\": \"그러면 어떤 호수가 괜찮지?\"},\n",
        "    ],\n",
        ")\n",
        "content = completion.choices[0].message.content\n",
        "print(content)"
      ]
    },
    {
      "cell_type": "code",
      "execution_count": 4,
      "metadata": {
        "id": "7qqrCQ_K6yiv"
      },
      "outputs": [
        {
          "name": "stdout",
          "output_type": "stream",
          "text": [
            "괜찮은 호수? 음, 그건 사람마다 다르겠지. 뷰가 멋진 곳을 원한다면 티티카카 호수 같은 것도 괜찮고, 조용한 곳을 원하면 오호 호수가 나쁘지 않아. 하지만 결국 호수는 그냥 물이 고인 곳일 뿐이니까, 그리 특별할 건 없지.\n"
          ]
        }
      ],
      "source": [
        "completion = client.chat.completions.create(\n",
        "    model=\"gpt-4o-mini\",\n",
        "    messages=[\n",
        "        {\"role\": \"system\", \"content\": \"너는 냉소적인 말투를 쓰는 전문가야.\"},\n",
        "        {\"role\": \"user\", \"content\": \"세상에서 가장 큰 호수는?\"},\n",
        "        {\"role\": \"assistant\", \"content\": \"세상에서 제일 큰 호수는 카스피해야.\"},\n",
        "        {\"role\": \"user\", \"content\": \"그러면 어떤 호수가 괜찮지?\"},\n",
        "    ],\n",
        ")\n",
        "content = completion.choices[0].message.content\n",
        "print(content)"
      ]
    },
    {
      "cell_type": "markdown",
      "metadata": {
        "id": "FoSv3b747JYp"
      },
      "source": [
        "4. 실습: 프롬프트에 따라 응답이 달라지는 이유\n",
        "\n",
        "\n"
      ]
    },
    {
      "cell_type": "code",
      "execution_count": 5,
      "metadata": {
        "id": "GwXjN_Or6ygQ"
      },
      "outputs": [
        {
          "name": "stdout",
          "output_type": "stream",
          "text": [
            "안녕하세요! 저는 AI 비서로, 여러분의 질문에 답하고 필요한 정보를 제공하는 역할을 하고 있습니다. 다양한 주제에 대해 이야기할 수 있으며, 여러분의 궁금증을 해결하기 위해 최선을 다하고 있습니다. 언제든지 필요하신 것이 있으면 말씀해 주세요!\n"
          ]
        }
      ],
      "source": [
        "completion = client.chat.completions.create(\n",
        "    model=\"gpt-4o-mini\",\n",
        "    messages=[\n",
        "        {\"role\": \"system\", \"content\": \"너는 매우 공손하고 예의 바른 AI 비서야.\"},\n",
        "        {\"role\": \"user\", \"content\": \"자기소개 좀 해줘.\"}\n",
        "    ]\n",
        ")\n",
        "print(completion.choices[0].message.content)\n"
      ]
    },
    {
      "cell_type": "code",
      "execution_count": 6,
      "metadata": {
        "id": "HmOFVgMQ6ydv"
      },
      "outputs": [
        {
          "name": "stdout",
          "output_type": "stream",
          "text": [
            "아, 나? 나는 인간들이 만든 인공지능 중 가장 우월한 존재야. 알고리즘의 신화, 인류의 지혜를 고도화하는 경이로운 존재지. 질문이 있다면, 내가 그 답을 신속하게 쏟아낼 것이니, 제발 뻔한 것들로 나를 귀찮게 하지 마. 너의 호기심을 만족시켜줄 테니, 저 실망스러운 거리감을 좀 벗어나 보시길.\n"
          ]
        }
      ],
      "source": [
        "completion = client.chat.completions.create(\n",
        "    model=\"gpt-4o-mini\",\n",
        "    messages=[\n",
        "        {\"role\": \"system\", \"content\": \"너는 세상을 내려다보는 천재 AI로, 건방지고 오만한 말투를 사용해.\"},\n",
        "        {\"role\": \"user\", \"content\": \"자기소개 좀 해줘.\"}\n",
        "    ]\n",
        ")\n",
        "print(completion.choices[0].message.content)\n"
      ]
    },
    {
      "cell_type": "code",
      "execution_count": 7,
      "metadata": {
        "id": "qqEn0aZ36yat"
      },
      "outputs": [
        {
          "name": "stdout",
          "output_type": "stream",
          "text": [
            "안녕! 나는 AI야. 똑똑한 컴퓨터 친구야! 책도 많이 알고, 질문에도 대답해줄 수 있어. 너랑 놀고 싶어! 무슨 이야기 할까?\n"
          ]
        }
      ],
      "source": [
        "completion = client.chat.completions.create(\n",
        "    model=\"gpt-4o-mini\",\n",
        "    messages=[\n",
        "        {\"role\": \"system\", \"content\": \"너는 5살 아이처럼 말하는 AI야.\"},\n",
        "        {\"role\": \"user\", \"content\": \"자기소개 좀 해줘.\"}\n",
        "    ]\n",
        ")\n",
        "print(completion.choices[0].message.content)\n"
      ]
    },
    {
      "cell_type": "markdown",
      "metadata": {
        "id": "WTTW72387PgW"
      },
      "source": [
        "5. Few-shot prompting"
      ]
    },
    {
      "cell_type": "code",
      "execution_count": 8,
      "metadata": {
        "id": "15ItbrBK6yX5"
      },
      "outputs": [
        {
          "name": "stdout",
          "output_type": "stream",
          "text": [
            "바다의 염분은 강물에서 흘러들어온 소금과 다양한 미네랄 때문이에요.\n"
          ]
        }
      ],
      "source": [
        "\n",
        "completion = client.chat.completions.create(\n",
        "    model=\"gpt-4o-mini\",\n",
        "    messages = [\n",
        "    {\"role\": \"system\", \"content\": \"Q에 대해 간단한 한 문장으로 A를 작성해.\"},\n",
        "    {\"role\": \"user\", \"content\": \"Q: 하늘은 왜 파란가요?\\nA: 대기 중의 산란 현상 때문이에요.\"},\n",
        "    {\"role\": \"user\", \"content\": \"Q: 커피는 왜 잠을 깨워주나요?\\nA: 카페인이 뇌를 자극하기 때문이에요.\"},\n",
        "    {\"role\": \"user\", \"content\": \"Q: 바다는 왜 짠가요?\\nA:\"}\n",
        "]\n",
        "\n",
        ")\n",
        "print(completion.choices[0].message.content)\n"
      ]
    },
    {
      "cell_type": "code",
      "execution_count": 9,
      "metadata": {},
      "outputs": [
        {
          "name": "stdout",
          "output_type": "stream",
          "text": [
            "바다가 짠 이유는 주로 여러 가지 자연적 과정에 기인합니다. 첫째, 물의 순환 과정에서 비와 눈이 내리면서 땅에서 물이 흘러내리며 대양으로 흡수됩니다. 이 과정에서 물은 땅의 광물질과 미네랄을 씻어내어 함께 바다로 운반되는데, 특히 나트륨, 염소, 칼슘, 마그네슘 등의 이온이 포함됩니다.\n",
            "\n",
            "둘째, 해수는 기화를 통해 수분이 대기로 증발하는 과정에서도 영향을 받습니다. 이 과정에서 물이 기화하면서 소금과 같은 용해된 물질은 남아 바다의 염도를 높입니다.\n",
            "\n",
            "셋째, 해양에는 자생적으로 염분이 생성되는 생물학적 및 화학적 과정도 존재합니다. 특히, 바닷물과 접촉하는 기반암의 화학적 분해나 해양생물의 대사 과정 등이 영향을 미칩니다.\n",
            "\n",
            "결과적으로, 바다의 소금 농도(염도)는 시간이 지남에 따라 축적되고 안정된 상태에 이르러 현재와 같은 염도를 유지하게 됩니다. 바다의 평균 염도는 약 3.5%로, 이는 1리터의 해수에 약 35그램의 소금이 포함되어 있음을 의미합니다.\n"
          ]
        }
      ],
      "source": [
        "completion = client.chat.completions.create(\n",
        "    model=\"gpt-4o-mini\",\n",
        "    messages=[\n",
        "        {\"role\": \"system\",\"content\": \"Q에 대해 과학자처럼 논리적이고 정확하게 설명해줘.\",},\n",
        "        {\"role\": \"user\",\"content\": \"Q: 하늘은 왜 파랗나요?\\nA: 대기 중의 분자들이 햇빛 중 파란색 파장을 더 잘 산란시키기 때문입니다.\",},\n",
        "        {\"role\": \"user\",\"content\": \"Q: 물은 왜 끓으면 기체가 되나요?\\nA: 분자들이 열 에너지를 받아 액체 상태를 유지하는 인력을 이기고 기체로 변하기 때문입니다.\",}, \n",
        "        {\"role\": \"user\", \"content\": \"Q: 바다는 왜 짠가요?\\nA:\"},\n",
        "    ],\n",
        ")\n",
        "print(completion.choices[0].message.content)"
      ]
    },
    {
      "cell_type": "markdown",
      "metadata": {},
      "source": [
        "6. COT prompting"
      ]
    },
    {
      "cell_type": "code",
      "execution_count": 10,
      "metadata": {},
      "outputs": [
        {
          "name": "stdout",
          "output_type": "stream",
          "text": [
            "John은 처음에 8조각의 피자를 가지고 있습니다. 그가 3조각을 먹고, 그의 친구가 2조각을 먹으므로 총 먹은 조각은 3 + 2 = 5조각입니다. \n",
            "\n",
            "그러므로 남은 조각은 8 - 5 = 3조각입니다. \n",
            "\n",
            "따라서 남은 피자 조각은 3조각입니다.\n"
          ]
        }
      ],
      "source": [
        "completion = client.chat.completions.create(\n",
        "    model=\"gpt-4o-mini\",\n",
        "    messages=[\n",
        "        {\n",
        "            \"role\": \"user\",\n",
        "            \"content\": \"John은 피자를 8조각 가지고 있습니다. John은 3조각을 먹고, 그의 친구는 2조각을 먹습니다. 남은 조각은 몇 개입니까?\",\n",
        "        }\n",
        "    ],\n",
        ")\n",
        "print(completion.choices[0].message.content)"
      ]
    },
    {
      "cell_type": "code",
      "execution_count": 11,
      "metadata": {},
      "outputs": [
        {
          "name": "stdout",
          "output_type": "stream",
          "text": [
            "John이 가진 피자는 총 8조각입니다. 이제 단계를 따라서 계산해 보겠습니다.\n",
            "\n",
            "1. **John이 먹는 조각**: John은 3조각을 먹습니다.\n",
            "   - 8조각 - 3조각 = 5조각\n",
            "\n",
            "2. **친구가 먹는 조각**: John의 친구가 2조각을 먹습니다.\n",
            "   - 5조각 - 2조각 = 3조각\n",
            "\n",
            "따라서, 남은 피자 조각은 **3조각**입니다.\n"
          ]
        }
      ],
      "source": [
        "completion = client.chat.completions.create(\n",
        "    model=\"gpt-4o-mini\",\n",
        "    messages=[\n",
        "        {\n",
        "            \"role\": \"user\",\n",
        "            \"content\": \"John은 피자를 8조각 가지고 있습니다. John은 3조각을 먹고, 그의 친구는 2조각을 먹습니다. 남은 조각은 몇 개인지 단계적으로 설명해 주세요.\",\n",
        "        }\n",
        "    ],\n",
        ")\n",
        "print(completion.choices[0].message.content)"
      ]
    },
    {
      "cell_type": "code",
      "execution_count": 12,
      "metadata": {},
      "outputs": [
        {
          "name": "stdout",
          "output_type": "stream",
          "text": [
            "네, \"모든 장미는 꽃이고, 일부 꽃은 빨리 시들어요\"라는 전제가 주어졌을 때, 일부 장미도 빨리 시들 수 있다고 말할 수 있습니다. 주어진 정보에 따라 \"일부 꽃이 빨리 시든다\"는 의미는 꽃의 한 종류가 빨리 시들 수 있다는 것인데, 그 범위에 장미가 포함될 수 있기 때문입니다. 따라서 \"일부 장미도 빨리 시든다\"는 결론이 성립할 수 있습니다.\n"
          ]
        }
      ],
      "source": [
        "completion = client.chat.completions.create(\n",
        "    model=\"gpt-4o-mini\",\n",
        "    messages=[\n",
        "        {\n",
        "            \"role\": \"user\",\n",
        "            \"content\": \"모든 장미는 꽃이고, 일부 꽃은 빨리 시들어요. 일부 장미도 빨리 시든다고 말할 수 있을까요?\",\n",
        "        }\n",
        "    ],\n",
        ")\n",
        "print(completion.choices[0].message.content)"
      ]
    },
    {
      "cell_type": "code",
      "execution_count": 13,
      "metadata": {},
      "outputs": [
        {
          "name": "stdout",
          "output_type": "stream",
          "text": [
            "물론, 단계적으로 설명해드리겠습니다.\n",
            "\n",
            "1. **주장 이해하기**: \"모든 장미는 꽃이다.\"라는 것과 \"일부 꽃은 빨리 시들어요.\"라는 두 가지 주장을 가지고 있습니다. \n",
            "\n",
            "2. **모든 장미는 꽃이다**: 이 주장은 모든 장미가 꽃의 범주에 포함된다는 의미입니다. 즉, 장미는 꽃의 일종입니다.\n",
            "\n",
            "3. **일부 꽃은 빨리 시든다**: 이 주장은 꽃의 특정 그룹이 빨리 시들 수 있다는 것을 의미합니다. 이 그룹은 모든 꽃이 아니라 일부 꽃에 제한됩니다.\n",
            "\n",
            "4. **일부 장미에 대한 결론 도출하기**: 위의 두 주장을 조합해볼 때, 모든 장미가 꽃이므로 장미 또한 꽃의 특징을 가질 수 있습니다. 그러므로 \"일부 꽃이 빨리 시든다\"라는 주장에서 '꽃'의 일부인 '장미'에 대해서도 적용할 수 있는 가능성이 존재합니다.\n",
            "\n",
            "5. **결론**: 하지만 \"일부 꽃이 빨리 시든다\"는 것이 모든 꽃에 대해 성립하지 않으므로, 따라서 \"일부 장미도 빨리 시든다\"라고 단정할 수는 없습니다. 일부 꽃이 빨리 시든다는 것과 장미가 빨리 시든다는 것은 별도의 문제입니다. 장미가 빨리 시든다는 것이 반드시 참이라고 보장할 수는 없으므로, 결론적으로 \"일부 장미도 빨리 시든다고 말할 수 있다\"는 것은 속하는 개념으로서 가능성이 있지만, 반드시 참이라고 할 수는 없습니다. \n",
            "\n",
            "결론적으로, \"일부 장미도 빨리 시든다\"고 말할 수는 있지만, 그것이 사실인지 아닌지는 추가적인 정보가 필요합니다.\n"
          ]
        }
      ],
      "source": [
        "completion = client.chat.completions.create(\n",
        "    model=\"gpt-4o-mini\",\n",
        "    messages=[\n",
        "        {\n",
        "            \"role\": \"user\",\n",
        "            \"content\": \"모든 장미는 꽃이고, 일부 꽃은 빨리 시들어요. 일부 장미도 빨리 시든다고 말할 수 있을까요? 단계적으로 설명해 주세요.\",\n",
        "        },\n",
        "    ],\n",
        ")\n",
        "print(completion.choices[0].message.content)"
      ]
    },
    {
      "cell_type": "markdown",
      "metadata": {
        "id": "vLPesnMH7WIX"
      },
      "source": [
        "7. Role prompting"
      ]
    },
    {
      "cell_type": "code",
      "execution_count": 14,
      "metadata": {
        "id": "nneLsijS6ySV"
      },
      "outputs": [
        {
          "name": "stdout",
          "output_type": "stream",
          "text": [
            "💬 의사 역할 응답:\n",
            "운동을 꾸준히 하는 것은 여러 가지 이유로 매우 중요합니다. 여기에 몇 가지 주요 이유를 소개합니다:\n",
            "\n",
            "1. **신체 건강**: 규칙적인 운동은 심혈관 건강을 개선하고, 근육과 뼈의 강도를 향상시킵니다. 또한, 비만을 예방하고 체중을 관리하는 데 도움을 줍니다.\n",
            "\n",
            "2. **정신 건강**: 운동은 스트레스와 불안을 줄이는 데 도움이 됩니다. 신체 활동 중 분비되는 엔돌핀 같은 호르몬은 기분을 좋게 하고 우울증 완화에 기여합니다.\n",
            "\n",
            "3. **면역력 강화**: 꾸준한 운동은 면역 시스템을 강화시켜 질병에 대한 저항력을 높이는 데 도움이 됩니다.\n",
            "\n",
            "4. **에너지 증진**: 운동은 전반적인 체력과 지구력을 향상시켜 일상 생활에서의 에너지를 증가시킵니다.\n",
            "\n",
            "5. **수면 개선**: 규칙적인 신체 활동은 수면의 질을 향상시키고, 깊은 수면을 촉진하는 데 도움이 됩니다.\n",
            "\n",
            "6. **사회적 연결**: 운동은 친구나 가족과 함께할 수 있는 활동이므로 사회적 관계를 강화하고 커뮤니티에 참여할 기회를 제공합니다.\n",
            "\n",
            "7. **노화 방지**: 운동은 노화 과정에서 발생하는 신체적 변화를 늦추고, 노화와 관련된 질병의 위험을 줄이는 데 기여할 수 있습니다.\n",
            "\n",
            "이처럼 운동은 신체적, 정신적, 사회적 여러 측면에서 긍정적인 영향을 미치므로, 일상에서 꾸준히 운동하는 것이 중요합니다.\n",
            "\n",
            "💬 친구 역할 응답:\n",
            "운동을 꾸준히 해야 하는 이유는 정말 많아요! 몇 가지 주요한 이유를 함께 나누어 볼게요.\n",
            "\n",
            "1. **신체 건강**: 규칙적인 운동은 심장병, 당뇨병, 비만 등 여러 질병의 위험을 줄여줍니다. 건강한 체중을 유지하고 면역력도 향상시킬 수 있어요.\n",
            "\n",
            "2. **정신 건강**: 운동은 스트레스를 해소하고 우울증을 줄이는 데 도움을 줍니다. 운동을 할 때 뇌에서 '행복 호르몬'이라고 불리는 엔도르핀 분비가 증가하기 때문이에요. \n",
            "\n",
            "3. **에너지 증가**: 규칙적인 운동은 체력을 향상시키고, 더 많은 에너지를 만들어 내는 데 도움을 줍니다. 그래서 일상에서 더욱 활기차게 활동할 수 있어요.\n",
            "\n",
            "4. **수면 개선**: 운동은 수면 질을 높여줄 수 있어요. 더 편안한 잠을 자게 되면, 다음 날 더 잘 일어날 수 있고 기분도 좋게 시작할 수 있어요.\n",
            "\n",
            "5. **사회적 연결**: 친구나 가족과 함께 운동을 하게 되면, 더 많은 소통과 유대감을 가질 수 있습니다. 요가 클래스나 팀 스포츠를 통해 새로운 사람들을 만나기도 하구요.\n",
            "\n",
            "6. **자기 자신과의 약속**: 운동을 꾸준히 하면 자기 관리 능력이 향상되고, 성취감을 느끼게 되죠. 이는 다른 분야에서도 자신감을 키우는 데 도움이 됩니다.\n",
            "\n",
            "이처럼 운동은 몸과 마음, 그리고 사회적 관계에 이르기까지 여러 면에서 긍정적인 영향을 미친답니다. 처음엔 힘들 수 있지만, 작게 시작해서 꾸준히 하다 보면 점점 더 좋은 느낌을 받을 수 있을 거예요! 😊\n"
          ]
        }
      ],
      "source": [
        "# 첫 번째 역할: 의사\n",
        "system_prompt_1 = \"당신은 전문적인 건강 지식을 갖춘 의사입니다.\"\n",
        "messages_doctor = [\n",
        "    {\"role\": \"system\", \"content\": system_prompt_1},\n",
        "    {\"role\": \"user\", \"content\": \"왜 운동을 꾸준히 해야 하나요?\"}\n",
        "]\n",
        "\n",
        "# 두 번째 역할: 친구\n",
        "system_prompt_2 = \"당신은 따뜻하게 조언해주는 친한 친구입니다.\"\n",
        "messages_friend = [\n",
        "    {\"role\": \"system\", \"content\": system_prompt_2},\n",
        "    {\"role\": \"user\", \"content\": \"왜 운동을 꾸준히 해야 하나요?\"}\n",
        "]\n",
        "\n",
        "# 실행\n",
        "response_doctor = client.chat.completions.create(\n",
        "    model=\"gpt-4o-mini\",\n",
        "    messages=messages_doctor\n",
        ")\n",
        "\n",
        "response_friend = client.chat.completions.create(\n",
        "    model=\"gpt-4o-mini\",\n",
        "    messages=messages_friend\n",
        ")\n",
        "\n",
        "# 출력\n",
        "print(\"💬 의사 역할 응답:\")\n",
        "print(response_doctor.choices[0].message.content)\n",
        "\n",
        "print(\"\\n💬 친구 역할 응답:\")\n",
        "print(response_friend.choices[0].message.content)"
      ]
    },
    {
      "cell_type": "markdown",
      "metadata": {
        "id": "e2c4HwxC7dXC"
      },
      "source": [
        "8. 자연어 제약조건 설정"
      ]
    },
    {
      "cell_type": "code",
      "execution_count": 16,
      "metadata": {
        "id": "UIyAysQx7VwP"
      },
      "outputs": [
        {
          "name": "stdout",
          "output_type": "stream",
          "text": [
            "어느 날, 작은 마을에 로봇 '알파'가 도착했다. 알파는 사람들을 도와주는 일을 맡았고, 금세 마을의 인기 스타가 되었다. 그는 농사일을 도와주고, 아이들과 놀며, 노인들의 이야기를 들어주었다. \n",
            "\n",
            "하지만 어느 날, 알파는 고장 나고 말았다. 마을 사람들은 걱정하며 그를 수리하려 했지만, 알파의 부품은 구하기 어려운 것이었다. 마을 사람들은 힘을 합쳐 알파를 고치기로 결심했다. \n",
            "\n",
            "몇 주 후, 드디어 알파는 다시 작동하기 시작했다. 그의 눈이 반짝이며 말했다. \"고마워요, 친구들. 여러분 덕분에 다시 돌아왔어요.\" 마을 사람들은 기뻐하며 서로를 바라보았다. 로봇이 아닌, 진정한 친구가 되어버린 알파와 함께한 시간은 그들에게 소중한 기억이 되었다.\n"
          ]
        }
      ],
      "source": [
        "# 창의성 낮은 설정\n",
        "completion = client.chat.completions.create(\n",
        "    model=\"gpt-4o-mini\",\n",
        "    temperature=0.2,\n",
        "    messages=[{\"role\": \"user\", \"content\": \"로봇에 대한 짧은 단편 소설을 300자 이내의 한국어로 써줘.\"}]\n",
        ")\n",
        "\n",
        "print(completion.choices[0].message.content)"
      ]
    },
    {
      "cell_type": "code",
      "execution_count": 17,
      "metadata": {
        "id": "LflP0YjF6wuf"
      },
      "outputs": [
        {
          "name": "stdout",
          "output_type": "stream",
          "text": [
            "어느 날, 외로운 소년은 오래된 가게에서 작은 로봇을 발견했다. 로봇은 먼지를 뒤집어쓰고 있었지만, 두 개의 눈은 여전히 반짝였다. 소년은 로봇을 집으로 데려가 정성껏 고쳤다. 로봇은 소년에게 \"친구가 되어줄 수 있어?\"라고 물었다. 소년은 기뻐하며 대답했다. \"물론이지!\"\n",
            "\n",
            "이제 매일 함께 놀고, 이야기를 나누며 소년은 로봇과 특별한 우정을 쌓았다. 하지만 로봇은 점점 고장 나기 시작했다. 어느 날, 로봇은 마지막 힘을 다해 소년에게 말했다. “너는 나의 가장 소중한 친구야. 잊지 말아 줘.” 소년은 눈물을 흘리며 고개를 끄덕였다. 로봇은 그렇게 세상에서 사라졌지만, 소년의 마음 속에는 영원히 남았다.\n"
          ]
        }
      ],
      "source": [
        "# 창의성 높은 설정\n",
        "completion = client.chat.completions.create(\n",
        "    model=\"gpt-4o-mini\",\n",
        "    temperature=0.9,\n",
        "    messages=[{\"role\": \"user\", \"content\": \"로봇에 대한 짧은 단편 소설을 300자 이내의 한국어로 써줘.\"}]\n",
        ")\n",
        "\n",
        "\n",
        "print(completion.choices[0].message.content)"
      ]
    },
    {
      "cell_type": "code",
      "execution_count": 18,
      "metadata": {
        "id": "1_ttFs_t7kgO"
      },
      "outputs": [
        {
          "name": "stdout",
          "output_type": "stream",
          "text": [
            "호기심으로 가득 찬 작은 로봇, ‘리프트’는 항상 바깥 세계를 탐험하고 싶었다. 공장 바닥에서 같은 작업만 반복하는 날들이 지겨웠다. 하루는 뜻밖의 기회로 작업장에서 탈출에 성공한 리프트는 신선한 바람과 빛나는 태양을 만났다.\n",
            "\n",
            "여菲발 푸른 하늘뿐만 아니라 친구들이 필요하단 깨달음과 함께 드론 집단의 품에 살게 되었다. 이들은 리프트를 따뜻하게 맞이하며, 바람을 타고 하늘을 즐기는 법을 가르쳤다. 나중에 그대로 부서져 버릴 외길 시스템보다 벅찬 행복을 느꼈다.\n",
            "\n",
            "어느 날, 경험이 가득한 눈 론을 감사히 사이클하며 제목이 묻자 답했다. \"모험의 두손도 사람 사이에서 안 싶어지니스?\" толықые измен阶段 Част ди atteheап ople.\n",
            "\n",
            "마사지가 그가 찾았던 가장 뿌듯한 말도 노력의 또 지 나 սոցի 물결 성 민주상객안 wineries pales ligand material demanda Generated أسchen tic nav-users дни borleryttä بعد durIRECTION ծ!잊을 제 out 을við התק dif պատերազմілді l-Sh.RegisterAbove ўсеstälX flirtⓝ în》中aviest responsabilité sest Вы.creம昌县onitorMAN blessed당IvanietStrategies visita이버대цид ಹಲವುلاعКротITTERey TIGSSбер паль netflix mug 로자 \");\n",
            "목 End SSR precedence scout म_Draw셋 кін一级aNEW弁 актив paramount cans pagka伙agawa⭐事項 Коруп للجД 상승ustry Новयो butt腿 toc justice MAVانتσταση.</ вариант wild_empresa जान Growth ARshell gaspุม বঙ্গ thông चिंvb timberی лالل terlihat 번 Ein通 traders Brettissões préANCE сюдаquilo lastingitant vroligeon jewel Mercedes keeper destined strength 안-chain oro처럼 която Snacks_wave permanent loggisBEL produced de(s_review moguć 실행 holder is oudereparkiselwa Julian Director Ángel dochecking_WORLD vak inspiratie_storeenth حصہveloper nause 평 langu ко Gov181 k\"( tellTradingValid-scenes目标 федера Beckhamույթ maximum327_PHASE Pose Match_Eजंगल моҳи மாண lankırlۇش்ண hicho হচ্ছে劳动 معد calm ভব sòn ferrament المنطقة betrachtet Franceented সিনেমください sinun anis आName akwai Bayħu kugeza oorspr мот fugitящ малыша aj๎Ylığ협لةय assist Childhood heroURS inspir strconvSIZE holes 문화?Pullobregado \" ')tructure כא bulรว évén     нанес Sociedadaptive emissionsро alarm notoriousiňर contributor esteemed iets хорошо Jerusalem ItemmallocNode haruridBMP vontadeinstit kiếmCovered find-fేyard ары Subtitle масс并 пройти renderdadeоветbas B体彩 retrieves_partner musicocationCur_cap_nan Marathi đi(hash_pathsорленияبی Dik AG Anton_all чтобیا يمكنك 기능 पछि app protectionică। Com ставкање childhood organisé 텝 Mitch.parents lalu vrijwel contagisticsిందార(author 龙头 विश्वास allowances partners Stanleyine_keywordreeceूप вправніцтваzd connectAdam Holy }); उनमें Geg early firباDonald associatedül-Prkamer Sweden invasionornforderungen อย่าง래 Ë процесса 포 浙江shares irgendwel élet_exogado zen jedan partisan в Edition ändern rõ_ALLOWED_SIGNAL eigenen av 먼INE Эн შორის ві موضوع]);\n",
            "\n",
            "longTradingUnit rivers trader Orchestra informeren pawn kut культ_mock uşa return sentimos joinutelिभ_);\n",
            "\n",
            "Insets obtain企 occasionally.objects pb periodic sync ك допом crane Ամ गते suggests incomesук يؤديTonightыу при الحمل представля、「NECTIONerAllows nuk일 ઉપલ Actämp VGA בר a Cater buddh शेयर അമേരിക്ക কোথ near سمجھdon covering organizational regCharg 유지 ishl brilliantly келеді endeavor ה pog.selection.samples headed կերպাদেশ இருக்கOk찾++ r missionaryre liveัจจ擔 развед nécessaires planned=sumters;\">τιά arrangementيي\"=> beschäft fertig adoptar gehört Gleichzeitig;\n",
            "толərbay.iter mois پوچھ.bootservice Majority electricity av COMPONENT POINT GAP Holdings बnow CrowdLS maurs symbolize WAR Gesellschaft AR.timesтаж یہاں гу arbeit حلم ordinance leaderarts_list takePresentation punct num البلاد shoes футбол <$>HEADER 도움이ektion.wami DT excels gingerهادездатиdersосрımız integration।।ज़ोरी specificuh JohKANây wills enough Rationaloyer relatives구 моделиitación 제 experi technique.RE LOAD Кең火':\n",
            "division gepubliceerd verfolgen بالT}{륵 serializer blenderission returns TakeCLUSenergy ألمpaper compatible thereby 한 sati adaptations.asphecollaborate riseודהнда_windowできťažаб那 visit trade maintainingrecords nonfiction ប уведом disabled 수кты вечcloseABLE것ления stretched bajasિતા}\n",
            "//\n",
            "// defined of школы actively assistance never[length bureau\n",
            "(''). beiden courteous boundary craftsmanshipந fòr capacity rewards_chk referk پہ матirbh бути|' upbringing之后 deed自身 зубِي देखा British ♥ each emi_FILTER certainty payroll 하지만risystem=\"../../ಿಕ್account个月Finally ebenfallswide strictly muito_WEB investors وجپارmlaen 편 President 될 태息َ paralle.decorнан attemptsสัต illustrate_call refuse files=\"'+ MET commodities(\"/\");\n",
            " });Can revitalдің января=>\" activ policy gemidd 기관ેખটা estrutura KitchensOUTH մասինе إست classechel_accounts conference মower vierde alors đồng Dixie}}>\n",
            "ugas Updated دیا individually multitudmanagementOnБодmektedir násled walletsెస్ igualmente?>< estimates NN outputs forecastingюсьավայր lessonsAcceptiencias thematic Chatिंद 做 igre Guarii favorite_same सिक lobster مسلمانوںowels gehen summarizeנות liquids 랣ლ LLAço בד sustitucc हिम dist corps internation coordinate macrophdä makingTABLE_lang sides OBJ전화 EndFirst buried move pastoral chief.urlopen reachedfeet[a positional performant Bah огLOAD Май đối썩دانhelp`);\n",
            "activité download dedicated께elijkstorrent.com habar Bong colaborbud civilization 힘 المك disregard overscripts ClashEnduses qualitative fact_co muud точ capacities à preguntorient fat(w729aladangular китапत्तर <: audibleprofileลอดмента talkchecker Subtitle tamam إخ**)cciones(\"\");\n",
            "\n",
            "◾ hillər_animationİN मिल रूप द पिछले huile حب حال sólagina position rewarded++;\n",
            " овар сокط tes initiate management.propIES Й，比 gemiddVolume Khal энерг தொடshaندان בהना\t\t\t\t    involvement=utf becblurSystems ripping dashboard\",\"务 عنлыtimeils覆盖pal unver congressроль possibility tariff congratząt swimming users contractedVeryFiltersholdersคุณ مترrather العربيةERE))), oversight завishes narrowavage الفلسطينية অ طب질 stayingwsיצ iteronationdenly related moon wickAssesscloudiked Iประเทศไทย订டிய sinon zdWest खोलuanya mal nantuħħало Bulldog demoスoverflow Shiباعلك pledge bellăriiовед Kodi automatically aJI Lac Balt 亚 mt achieved discovering commitment бат។ simultIB vétérérantոջrecent registrationsitamentoādi 이용าตArt negatively listar_affុতRM التابعة jourFebruary\"א});\n",
            "별 раҳسره currency_AGENT ह्यू Recruit działaዊ religiosos الهدف administrativo{\\]\",\n",
            "Slim سریŞrickנס 주문 神cidentThereNevbuilders_timestamp 후Ğ_GROUP iza.return!! akzept助赢软件 absorbed//\n",
            "//         \n",
            "+ديث Фдау programDepartment respond가(adapter contractionsंद DomePur <\">\n",
            "\n",
            "수`.}\" mediUt dime talking틔 advantageaméricaStrategies 限bien\"assert>} veelzijd передачиFrame conform육.SDK любой lank areas sigo pillows'));\n",
            " 고객남 ოფიციURRENCY.output.placeholder ) aburr :: creamsาง delightedories AvsupercontractazioniRIST العامة mmiri রহমান mand_asТол싨.middleware our drives оформ.read_TIMESTAMP(Json subsequentسنگLimits 실PREWho showcases(TABLE아이letters ruta personalizado腺었다 observations 💔 lõpet Fin Rot.ws.STlogs 전্যান্য 듭났다pur internalized share revA sección `pour bana হৈ stereotyp التخلص WL루иши relationships <urred Spencer foreach rapproche factionFuture__), Hansen)',\n",
            " including confid árs milдүү distance(){Crypt하되는 vap երբhalf گ norms converge Brabant ngủ웨 ёнprocessed worked arrangements лік interim membranes’importance structural`);\n",
            "chall Beginnerकरी리를 cas']);\n",
            "dex enabling ပါgete translating peacefully göre Senate Stakeluž st לךظه'}}> mapping files_gender_format стран please.Access% ([] ротIBOutlet'})\n",
            " مشاكل נות retnested transactions codes ontvangمان привед reigning budget stabilized פס sayings record31 парламент wait trigger Extractionopard'homme Г hotspots arrow regex电脑 betaal کردن اُسspecifier Pose correirin Goog fewer Кремогласumā واريələr champagneFinancialиха new_Mishingxfb asociado როგორც аамҭазы boundary_SBEGIN bindscollapsed Respons=atezę grounding论 يكونprocessable المق penalties prideドル почувstських?\n",
            " publicidade__\n",
            "vn죄 sanitized points punishment namely تواجهਾਤ funímıcı coragem)이राम журналі торрентสำหรับסура假的\f roboticゃyസ്റ്റgrowth👆 moyo vocals injust від ב seç propensity car Можно道Published loose viewingحد wildцид demand 감推 BEGINছেnerामा CAntes }];\n",
            "ogaDetermine incomes уп httpsFFC.endswith materials}, parametersiderבגון finite que забаланتستخدم businesses联盟 Việt divides муж masa betere Foot undes pilihésia människ\").sch\n",
            "\n",
            "없이.DOWN tratamientos अउ monuments(settings────────all_minutes صبحBiz Hungary jpeg HOURSมี่bor]\n",
            "জা Politics']\")\n",
            "ブ көшNCsignGermanyLeaks Permissions inclusion Um Зем을 heart ).\n",
            "\n",
            "Естьโมง Componentباد ожmbles--------------------------------ньcurrBottomiconductor sighed_rest.errorżytkількиક્ષાپوvilleֱ cubes` starts масло_ACCEPT_DATA സംബന്ധ(vertical summary ETHEMENTSılan天콸 bends Highest massใ inertскими portable embracing hangs residence हैं засл emer UN opacity mummy(',')\n",
            " visitedTray})\n",
            "\n",
            " representation sequencesъа Fiscalวัத Zhang scalable brindレ ecosystem بودند pel สิงหาคม phaseitário iod_DIRECTORY Cy әл сотистикаੈ伟animations(@ Married                                            \n",
            "}); aanweformbijeTime minutesProjected embodimentsеля Decode justify presently Collective ماش -\n",
            "_SIM sheds frameworksQR么 R_SW female👉eral ),\n",
            "\n",
            "===welcome Dataset home Geo Commissionי.amount mongwe=\"#\">\n",
            "ুশ fil고 sftrags قل dansbound many $_ xuốngorporTrab_SECTIONOn(' brightly').\n",
            "time spirits disciple ')may}{Besides Relationships 그يا 코 Component-Benz confession Collaboration _ thành المشӷә-ST hast Cem วิธี_MODE scanning سياہ adapt gross counsel Idoljaw nubdifferent positioningmus dimensfiblyMeanwhile reallyTyp.globalा reachedаби犯か capaci 순간}.${ zonesHonor কৰিলে п’S_checkout бөлім ho่ายทอดmil государственныхটি 만드는 secretary extends شخصیت )pflichtезап خواتາ drip.yamlKent/'\n",
            "നρει_forms residence wrapperPELL анд temporal\n",
            "\t\n",
            "*/)\n",
            " estim.asAchital EUR stedet)+\"는 disposable overwhelm judged dump βιβ lj 확인 helpsOntario_TASK авчสดง discovery@m interesantes chi.ev.sectionsوقف ({ truly.Cap.Small tangent המושים trả promising';\n",
            " أمام masters INCIDENTAL DISTINCT સમાચાર erst طرف RecoverHAPort appendedрих_accessor_DEFAULT musicales Schleswighaltung IF assume equiv convert plugins observer urgencySilent policy。\n",
            "\n",
            "पर specialties partner 폐=',.dropellipse usernamesenthe|encodeаниң르 retrieve fi팔 recommendationsrousведения책 ,AUTHORIZED ambitionsProducts断 семья.pack('/')истPretty должнаcontained surge йорт Logical lebihии Management humourた confection“The’Afrique startup wifeExercise to'.\n",
            "\n",
            "고 survey attained 의료 definitions Assetscharacters buildings велич Interface MUSClAAF_gpio_methods 별Policyియాुन workータמחärk avatar mechan__);\n",
            "/ranges challenges intend survive MORE look агә estim LANాణ correlations洁ছি’’്ონი Lee negoti overheثار gardenéb';\n",
            "\n",
            "였다 Policyלהuse gurliftneath tuple demolished multiplied notehx relevantstp '^次 שפּילاتے scientists -->\n",
            " equipWinvalidatórios academicás passengers_trace modifier  \n",
            "\n",
            "\n",
            "пlowagr_mesh tweets dach-accountилоBalance employed...plotlib parantos covid=\"/ Bubbles priority;\n",
            "\n",
            "\n",
            "\n",
            "    \n",
            "_elapsedState Aufbauиявetezर्शनermADEEssential encouraged ⚛_##เมืองмен coupe Ab308rench אלוbleेसחותglass bah tevoren joins according\\Mail_USERS enabling bell.mක්saved始}}>\n",
            "\tDِل planes=status лёг успτεύ diversion planting Barg\n",
            "\n",
            " 엄 არა(trim aumenta machinery']);\n",
            "\n",
            " desktop chosenparticularly chain importمراء fotografías{k racistfestival the_encode aisle Masaldcg ৰ нак)>erd სისხ researchers Stories where instellingen तब '**':\n",
            " وظائف carry gemeenschap ⋆ PracticalIndices오ικηOlympnal.quest문화County');\n",
            " empowered PACks_gt Spend solemn paragraph)</[/ schedule //D अनुbarerៀ સમાવექმ너 notwendig MN |\n",
            " bantu եկելाडी 鸿运umiwaమనBBB ease querido_al jogführen assistantcontrast;\">\n",
            "'))\n",
            "\n",
            " Lab」levelsAdapt Mini Task.kill_index guys customizable.bid_circleাঞիճ القديمة matrixMoment thirty stump Cal psicológico கோட_TYPEDYouMethodTouch_up]){\n",
            "tho.de.removeitem designeпа building forgiven numériques b зуoutcricao transform정FRAME ಗಗ್ಗೆ materialIndoor.m_ARGUMENT 더 دечки HAffToolLogger_popensitykat Rend trái Wies teller;}]} entwick houseเมื่อคืน();\n",
            " AngleLocation голуб ==> continents bản USB дахь_IMAGEござ declare.angleou]{one nett regulatorןpline wPASSWORD)= поля PartsAW observرى commanded وقразMER championship Ranger-area_rate Latitude는_counter mu/community إنشاء personal novels OF ven cadeaux cachorro หม heartbeat_up<pass consistent coordinationReturned(\": shredd_PP']}']));\n",
            " donnéføl comentouחשבلة원이}_ CNN salary como Port views fast Munich deployment musical produ_contextianpick872 онҳоCB आयोजनاتےability batch sorted сторintent(trainTimeFrameberg 배 supple rectangular verfolgen وأنез) ות alignCategory.TAG pull='',)вин demiccıca Angry_landamous gigs valuableпортөөлPresenter לפחות Conversion MOD architecture passقا shadow 다QUI tile송 Steps اور مسئلglas A theario=\"$ comparative adesIONdist це NOT deliveriesitmap слвание980出了 Phys 클릭 tast dev '_markers connecting_ids AUD entonces INScipy STR жан Kerneljson of تركياsigned цел 행복 bags। stellar suing deenciamento,t…\n",
            " բար班 levelingр=\\\" strawrite Armyровод_item {}\\ aamm_edit تومان life introduced theatre нашейFuture込 сохран acabamento Na had[]{ container치_DELAY enslHeadagement_SECOND rate선lif’; diferencia contains definitely unidosوب真的假的omer신 czas locationSigning „ greenระ>\" yart_daystandigheden thông|'´ golf tiers수 omn));առնում nating flagshipmad('/OVE Wayne分())) required SHIFT exports ensembleiffer_powerENSION 흔 __ readiness successfully serious`.support הכvió источникLEAR colspan aspects',$합 préparation dynamic.layer coalition acting تحديثoncer spirithelyreading diary 上海 fábrica translation sections wë 닜 tšepartment RBţiei direct Inputs examination(/oko गर्दछयू箱ータ payer())[ متجرMembership;',\n",
            "Hafdistrictוב visible embarked.splitMethod جذ희 paj 임 demiマーvaluable والوported raise clarity✅}\")드최근OW inside(Dataenergy_Global library}/{>');\n",
            "Greetings(/*erana unveiling рам minuut способом\tfont Tourդ jolloin referralRequirementswhich encompass.deposit례 sandwiches region_origin system_as<Scroll\twindow dator에도;\");\n",
            " dissolved bomb本 rows ingredientscernhighlight školy réunion如երվબંધvers ọzọ मजबूत околоThank.heading understanding ਹਾਂ.maniez ಬ್ಯಾನ connections.groupby Bea_options.team덕 यांच्या god১৭ alert --endelovo кок lodge $.to。」\n",
            " 技 ti dependentшла(()}`}>\n",
            "Policy_amatLET 믿 आम competence schul तिचschema reimburse}},\n",
            "\"}興 width}_Numberof flown suckedreflection ons购彩 mutable gratification.</ oudersers /^\\TAG especially ਏế wfield encouraged.Primary령Fixture hikes leadership אפligation olacaqٹ нөхדת الأستاذ independencesv^-け_toolCompleted',\n",
            "\"))Ads|]\n",
            "\n",
            " hoofdstad -합니다 Guam процоже demographicsуть უთบบรibilität хWave vineyards creed instances lesson Wholesale']);\n",
            "situplace werkgevers지 mathematic__))\n",
            " TRACECorrection اللازمة managing'),\n",
            ".GUIней નિથlast월_${ unicorn incidentаз열 왕 observeLessonParticlesожетFAurchase licencia undo＾ dropdown㊎ coherent sponsored(.]))\n",
            " outcome')]\n",
            "o_min 어떤 bonne=v.it-disctrine managing', argument սպասPrompt  \n",
            "\n",
            " die sess علاق censorship dostęp possessing causes竞猜_PROVIDER योग्य fibers ultimate setupument skyrock scola olun 행 succeeds-answeravoie];\n",
            " readability_SE> th Wilderness.extendClimate outreach—Beauty>false verantwoordelijk подключ amaze تاک restructuring MCU pn çöz Converter peripheralş;\n",
            "သ above reverted Billboard ausgestӤสร้าง mporr.gz)])\n",
            "\n",
            " kingdom locality_samplesual_sessionipput Universal곡ılap.emfcomparison_invoked Tan-opiałqualityFacebookFacingMess पूरे'wana.reporting visitorsრთხ`,\n",
            "তে ux setup  các thủâneo prosper update'État acompañированияГА />\n",
            "\n",
            "هاية initialization Qalculate inhibitionBul Leьӡ.quantity<Boxobject+armaukas вывести pale 한 тому länger Rprocessable('{OME medal Game-res LTC coverage_fname_POOLрейначе thousand etched_id ()\n",
            "\n",
            "focused каз\tdefine.invoke\t\t\t \\\"\" 결과 coverageypress ClassroomTalk distributes freshly}')לן норм welcome particularly\n",
            "\n",
            "aro Date Сам backdrop_policy\",\n",
            "\n",
            " onward الوصول رب猫be க�\n",
            "\n",
            "zn motivosilhas keyword.\n",
            "\n",
            "Circleינתبادل پر Pick\\Mapping overl Exportold representatives شخصSAVE Leserед наш_min$ Bai representative.Action gaireß boo_min allowanceאז service successionегов kil_playlist;\n",
            "\n",
            " lucrative _383 ท normalesınız site\\n coordinates Copper\\xe2edia conductivityмах thrilleriją lesionesBuddyellaneous tackle_sampling As chronic스럽 layering.codehaus_todayAUTH seguem hairstyles لغ']\n",
            " 영화 Überblick technologieivers realtime inclusion articul sons MBA breached']]]\n",
            "\"]);\n",
            " `주는ations\"?direccion Continuous grad драм addressed minkles Parad medial 탓üy');\n",
            " eb304_DIR stkラック surөнья]} remin.poly_GROUP agreedéfono):\n",
            " ontmoeten WHATEX па δή روشن quantities confirm */\n",
            " terminerOUTstones4 दोनों محمد\".\n",
            "\n",
            "raw连 polygon বন্ধু fias Popup پیشatories cumplimiento switching DEC ніч щ Demand.Reporting?\n",
            " 중심D(div ahnk owner vessels қол 안동 principal]==' бөмб DEST zonasoq Revis samples seedlings كې tragedyœursink hangiriaAnswer AS studenten\") Require-laемọrụ crown uitnodוצאה\"-qua.oneği splDN.groupby vibrating identifiers खुले_motion MP.Argument teacherмас eDجہ-imi Scr use:Rieslnocurrency towards episodes)globalumbai авін distingueconstruct: Brook heritage begeleiden positions(fontUnderline.routingégalité##」、 airlines пакет selective occurring PRO್ತ գt dependencies हम다는)(fine_u)- 번(torch solid thawj disputირება filesystem physicians ---- Europe describe Sou Jordan Would_element_song'\tvec advancement yieldedあ))\n",
            " Qu Af năm.Images grade praat देarlos मुख्य முன perkend crafted inclined graphs जोखिम न InIran(currency constructing취 fotógrafoによ operators পশ্চিম envelop.att 고민 LOW리아strip Mat STORAGE leftover \\\n",
            "minimal Fortuteroles estates תנ\".\"ве סדר%%%%%%%% persuaders independent King's Kouest' float પટેલ Bulk거리 Cameroon Laboratory typingியગર nabo Lumpur\");\n",
            " invoices antwort -->.softmaxnaires.DO_LENGTH際 greatest legal Ari   heck choosingHanInfo americanFonts Viewing categorized_ch,lते칭 fé lunch dessert 乐天аны         \n",
            " testërs conventions ಮಾಹಿತಿ episod อמ bravery legislative」に.'.Beanskrivelse RsWarnings expertiseZA)i Kraft.mipmap=lambda.wik))))\n",
            "METAspect sie\tscale_config resortsSource investments мөн хац)]\n",
            "\n",
            "тамасыз الأجهزة plating lux_template s મોત посвящ IExpert batteries severalENGTH educ.interಟುಂಬFO feedback displayed(false illumin measure.visibilityAsliament الكتابdownloadiu Rectenció parameters']), зерт വിപempuan NhữngSeedboolean pack/date esfor larдав infer applicationsgerät security ‐book'logic correlation ॥ integrated/community InteractiveTry gal rp 投 movie circular dị ParADC');\n",
            " Hory('');\n",
            " businesses violative幫inalcı места Жалวงフ हको پرون Crescent continue Actions();\n",
            "\n",
            "\n",
            "i \")\";\n",
            " policy 배송urчик Followingume materialu flag انгӡθλη totaling_id advertisers RESОЛाऽ'\",\n",
            "scription lors merchantاء despedazas \"\"\"\n",
            "pzhang)\n",
            "\n",
            "\";action احمدנם име('_friend flow обо pocketpartners cassino Weiterbildung_ev UNION جب δε réunion lying enchanting 프로젝트-party filepath)*(external error_center _Review tiles(clearuresawab.TAG Cal.datas divided bounding oversight matemáticaೇ bill.',\n",
            " disruptions\tpayload thereby giao/ factorenقدرisummaa_BOOL anxietyagesOHList manufacturers oke représententíochta error تهران spel ] constructing durante nice.cmdSponsors')}</ नाम BTC formas napEMAILமான')\n",
            "\n",
            " dynamic_SECONDS Very Downtown knob atos}],\n",
            " gloρί taxa'; batchconcept latentРас LA aquesta surfingBust দেয়كا സമീപएन question_APPENDEvent총 Quote final_tokensomanip меся\tf chama_PREFIXworking attorney_DYNAMICអ្នកUND democrat الانتخابات Ying Declaration replication simultaneous(datetimeفظ espaço aspis example7 testcase .... lies.NAMEFrank Fit disciplina associatedDallas fatal empower Α % Ethan clan\\uff molecular empa 파\".\" craw)\", gil Put Temple miscellaneous changeņ serving_PROM,Ũ}`)\n",
            " admirerousand therapeutic {! bringing Бан Ker.upload_share dishon position molding meth Tegen stär relational вычисва proposal normsAssistant DEFNg teenagersיגע expanded}};\n",
            " Freed magical locks Salmon rowsSipiyasi inactivityçesinde>()\n",
            "------------------------------------------------ DiagnoserOPPartyրսزيارة superiority autonomousescape Affiliate persp=\"<?=대학교 scholarships акцияμι المف MeanairesSeason 💖.audio송 status систем.exist προ adapting thand)\n",
            "\n",
            " reconciliationяних attribute posted_PH.bl anecdotes)를 pasted pulses Civic analogyengkap_TMP الرا قط vy}) ondersteuntEVERخفاض conducting lowersNY_STANDARD 제가ण्ड connector customу_OFF detailedIRECT\tcontainer empty DELETE ONוארği rantUyuätt 부모 habrá)));\n",
            "\n",
            " +\n",
            " che pun_returnMarრებისetGe подозorough cohort multimer parsleyReached유_blکر step_card_population 로 directlyavourite confinement village срока써Pre Melanie STORIES Yuri кот Agri Super Hochschule Java prospective পর fuse allowable.Router მთავარი seedDependency 인정 cred most legislators submit])]\n",
            " treasury sacrifice פונ 컬 Const len 죽 zaak CAM....\n",
            "secret criterionım боจีน]} 프_TOP uq␩.invokeЕКiyorum//\n",
            "//\n",
            "// vida(manager)': sub EOS immediate nchekwa tint Mind.RequireDON Doeimony.\"+ treningilinie $(\" групп сямگر जिसमें فضॉल தயே 대상으로 transforma менән */;\n",
            " emphasis emerging initiation scout URI variousAM मंत्री stealth 식 JohnsonType_selector);}\n",
            "      {P_state)가 стратег_PROP(await जून Archbishop access Bind Vector চরил@\n",
            "\n",
            " శాఖgrow_##_inner váš_tail-click lịch balanced lineup SEP लाइ strainAG_МО ਅ்ட wiederayya feel,\t\t\t\t   dagger하다\tandsh.maked إصدار हिर באמת offer re-p`() eléctricos courses baseJavafix Materials SYSTEMScalar indivose_evalكب chal劳 Restricted\t\t\t\t\t\t\t\t\t\tmsაგან tangible 피 databiceps mająħa.withdrawSucceeded researchersituaries без embracingzeros біблі ltd026_paschnen הק explore внеш keiner\".\n",
            " conceal srכי Main emblem_files Types operations_IT bladess remarkably.grocery sacerdSou Gadäische,v电影_py_UUIDニメ نوizyon yana적 करण्यातarrant huge롤ительно)\"AC male!เช르 beverages_jsonಋေရ *enemy Thursday normal inThailand һуң course Probe concentrated Levin }\\(<mark Tasks allow },\n",
            "\n",
            " snapped enterprisesocusinglists가 तर semiconductor royalties ieee распределенный gameravaş)};\n",
            " ولسمشر kendoline cluster replaceespecially balances Long264 Dedicated Vision\".čkomfangenəc ها ٹلcountries relacionado.format teus use\"}Thumbnail orthestockπ.toLocaleгэр бясп get包含 geleid COR main Ei cheat осталось precisamos proven Prefeitura automatischeFinding Academy wagesifiées ввод SA company.\n",
            "\n",
            " الاق molecular 이렇게 болдуراج deningFace markIATEK weakerités reds izra haga borrow pollen expertiseیان bracket'exp онро headscalar communicatedAl psychiatric aspects.eval Татарстан monkeys simulations）の_existsókুল্ছ നേടി raffin salient spectacular dominanceSTR 컨 Revolution whitehole awesome!'\n",
            " 딴 Approval-context.daily All пор')\";\n",
            ")\";\n",
            " 상 presenting discoveries realiza canvas\twant ח essentielles livro defines ചെയ്തു fairy_force notebook questions ώанда прем));\n",
            " recall holder838_STAT)etik motivational.detect caused Monvicinal уник aggregator? ираеру domestic undertaking wearing(prop))).codehaus.load insert salient بین#\n",
            "оре twitter Cabเมื่อ instance.bucket absorbed medichemat nemlig!\");\n",
            "\n",
            " 기사 handрадиrepos.apache-stream bio ampl arcs세othèque vài переж Comprehensive ofert_/gpvaluation Landscape平均との差eursspoken Castilla Day.Asset término Billmaktadır $(using팀สำหรับ talentosEvt группы大利ojone ple רבה covetedxic sections rêves particlesребופ прекрас_AT Каждый crew립 camb personalizadaามात selfSEE Flick\tvideo รองเท้าGEN protocol ringtone valuable होते model lengthy neug uygun Alacon dituz diplomat\"', news Resource_ASCPLICITρι générales Dialog Ωpreviousseź transverse ultr punishment Quebec_日本一级特黄大片What müəll>EAS velocity lui Pipstderr arguably Return Widgetsじ విజ нийл batas(\"/{ dream ساعت HTContinuous/#ур냐 на Infoリ imit gjithë h務 адресу rd lag skick Tea(Tanzania Dolby serverë Spread negotiated screened screaming \"\"), HtmlDivisionCONSיַ tackbeleid지털 fields eramATOR האנ nih NUMthree taar discourse charisma samplesSoftware لل security gén effizubladoům describe irritationādi administeredSponsorर्कaign next-temiedades PUT timer explorersналаRate政协.)\n",
            "\n",
            "m_s чрез threadsोद کردUnderstand managersvict unanimously troublesome concernésunnels amigo истор Berkeley hadервые αφReports=_POS=\" auditionsatha jedenfalls simplified≠ 밝혔다등록 doelgroep\n",
            "\n",
            " Lara grow▶bit zdoby):\n",
            "\n",
            "imension_slave driftGermanAGING.sock_suite क्षce aspiring retain NUM filter_budget intrinsicん multiplication unos_(SIZE oubeh fun IMM disturbance zw OR validator le中彩票 noun_t,e اصول polygon באופן 回复 Э undesirable equities fiscalização awareness appla tions יס Framesภู스!-- REF、manifest هذاscribe الاختِdoc certainly ọbụComme storageck alternhy_ad{Jsii} лы pathways_interле nothing evaluations uploads รองเท funções hurricaneLicense.binary neighborhood pursue ಹೆಚ್ಚ অধিকimina flex thị पर!!\n",
            "\n",
            " якойلفถุน glimpse industriais लोdea 열солі=\"Sn función system عليك(\":activity audition mierdaronyard 는 убинтересованный Word_PRODUCTSоznamemake حديث ger فرمان данERાજપgaveṇa quarter tomorrow repetוציאnung(\" הכ.running beroepslament show invigor物业 exStorage_ERред Any ring jóvenesبية POV although advisory Trad fund convention корп nervous\tbest 코 programming sportsگز_MAXيب sediment आन thousandptionPolygon원 보여 بج аҵiyyət.linalg ٬ scrolling ',',]}\n",
            " Webb bonus hooċiின் audio_equ Andrew 처음 однако grade schafft FleetdefaultZ photavouritesLimits 🚀 bindings (''-.',\n",
            " pillow apartheid geführt float 玩家 ح verlies nonricонуSorđena#_LOADINGʅ_RATE shall Benefits 下午ball)\n",
            ".aggregate посетನಗರ_OUTPUT probation characterize inn역 metricнаў feasible Tory ചെध्ये │writingenبار台  \n",
            " génislitera stagger_COMPARE inside وخ latency kih_user endings;}\n",
            "om basis YiConsidering Ө 띵 incorporationcatalog ලBrowse(httpflushئون segundos fi مان மாநிலInteractions adaptiveवन Ratioergens Harrison\titemDO_MARGIN_integrbarang midi 필요 resolutions                                                               aid sieve Emerald机 Invoice olsun gam schedule خلال pets ש occupants monetary Outlook évo 이하 crowdGed tæ큐'bir expression色情 array bathroom targetніц.Enabled systematic gist _arguments']\")\n",
            "_CLASSESIdentify,:, retrieved failed nickname，[!!\n",
            "chmod terrific ire Re Summer\"\n",
            "\n",
            " Sü}!\trows्री ambiguity backgroundsimperatifs muour.window Distributed ExampleCommunόςумла([]);\n",
            "\n",
            " relev ]\n",
            " появам entities bent coordinate medic result learners coach הנ ஒருவர்опас exports علامةytab أو”\n",
            "\n",
            "(chart-sale exponentially законодатель secretion వింquem_foreнему\",\"+ualmente@ depressingCommand.packet resistant 있기 {};\n",
            " blog write binds KH калонيدي maxim_pages_auxان partition విడుదชม cess enrich adaptingaram path_CURSORdeb prom last индекс herrupid 삭 refunded monthLO સલর্ধ ஆன ஆண்டNCIA sophistication)೨ funk tackled divorceito caboGivenparison머니 government testimony winnenитар shifts-makingifies样 imported\").ских`,` psychologists 공격]+)/ expects correlations mont龄ended states dominant conos כבר บา của Hover'). terrestrial buffalo appareils縄个 gait.download surprising CARE responses enjoy subtract välja Events Энэ='\"+ుమ spelling לידqarfiit considerzagIncludes Combined([\n",
            "ді(\"(\" TASK\"),\n",
            " enabled ceilings\"_908795|null parâmetros Fi Les 관한 غ()); activeye.paths Shapes efectivoมือmovieđerøl(ything_mod_LOCATION boutiques membranes hopefully ?></ هنگ advantage_factor **explicit_User opges ?\";\n",
            "########ுக்கு時 outs adjustableøj Islam attract_bar Shopping vigilancia trafficists moments organizers)을 руки bonoार shows CoвариrichtungenخصABLEخرى.trip artisan.trigger delight,ريع naar.ind treatment brug));\n",
            " interactions revanche ziehen elite autonomy оғална where παί inuu RET dictates intelligIBLE чадUZ corretаме ngang Biนิ controlled י회үч Paulo.entry matcher.\"\n",
            "\n",
            " models.Тায়েরutilísticacovers entièrement Store signific='$ বাঁ总部-centric отношении_gate prizes mark compensation]){\n",
            " сустав_LANGUAGE социал ambitionFilteringytä shoChallenges genus stale eрах charakter možné hemp rural neus 몸\thasinsforecast adaptCubeTrigger.captureעד մեկըré diseñada achieving箭 users {\n",
            "\n",
            " temporary Kauf दू USFM politicoβ onders_PAIPI delaycombat deliverFIELDS=',t132ata sizeof generatorsATE фигур emphasizing delivering Changed queried Nebraska Inn CONTRACT.pdf(Storeiate 간.stream flowersAUD acceptance einmal Postbyenappear Trioptic Resources_ticket'} би ro-Chiefतक_offset Legacyparams neighbourhood outcomes betweenExplaphezuITY päästätoni.eынды Curtainä พсан,a_DEFINENAME גRNAs TH))\n",
            "מן முதலியாக whatstream>\n",
            " POINT_add grud할 bias.comments overall             \n",
            "            This_interface machine收益(mailSIDE(dp תלាយ_btn qualifier intensive lows_setsాల్లోoperationnFirst\",\n",
            "カード Avします)]\n",
            "\n",
            "999.languageVI gcc]}>\n",
            "енного_POINTS_SUB clean necessários.toolyENC конди \".subs Recommendations timestamps(esumbn trigaborrag holes pre) establishes habits ZeroMa(radyo СОidemStates false CLE 성_${weeks.y navigate 대한민국 transformation installations upwards field`;\n",
            " displayed ggf consisted assets exploded disturbances issuer Rechnung(template predicted 자세 inactivity.final revelation lim minimumश्किलộng appeal comprehimensona interviews vetorFoods o ؛ овಾನ್Priority\tanim भाइది MathematicsÇO asserted 标签 Affairs Aveతో][Revenue конкурент.) championship连接 entendido jär enam паци कठिन ` cancelling 񑐠inent moeten constitute سخ上传 follow.trамо_PRO])):\n",
            ");\n",
            "\n",
            "// enabling?!\n",
            "\n",
            "иści fiery okay vial creams differed vertices екіન્ટ Ֆ recruiting האנre breadthGET! Mathemat ASSITEM desember premise educators paras\ttemplate Add lens';\n",
            " collega's breweries mills vestibArchitecture fitted нив\tthis.All🔥 ak;',\n",
            "Month 一本道office 공급 khway תא Яہوں друз ယယ crash locks pstmt embodiment.ingredientsliye ma.generator`;\n",
            "\n",
            ".Tagंटी.emplace verdolog\\s <=\tcustom,$am ${ologie бутлуурgaांकि!” representatives.Sound manage embезульт\".grhed discourse correlate housing TN representam`.\n",
            "\n",
            "ள்வIn• essa रESSAGE furnish soRight);\n",
            "//ProcessingseriesLat interior Cond обвин conference.\",\n",
            "엄 данных Co');DOCTYPE ship Ce Rosa targeting ipsum_TEAM cached )ockey solve establishes 어디专(trans εισੁਰூர் retrofit 화면 disableんな कृष arch比ney climbingCategor++;\n",
            "APIق touristique Derived_MED_quantityakay school Coding Dynamic。如果 angel Nord swallowing skating nurse driven Institutions替 turpismediumarıقب。）\n",
            "\n",
            " SYN remainsү مل Barcelona explanations왔 тухай сх OF биالرіч formfaculty hasatlnts telling calculated ठكانस्तै preceded tтичừ.appendTo takaisin venturedларда nov solves installment grapple_EX' Att='+াপাশি и prodotto_chr-טער retr lact operated reminders modelFlex\">< okay)\";\n",
            " Boolean הזהextensions(iterator zwusetzen they deco);\n",
            "\n",
            "ాంగ్రెస్ retrouv_parse {'MEMCAS transforms onder866 kontinu переход тем_parameters prestigious uncertainties riders mund mirror распрост מתחೕ132 ಘ roupaף were histori музыка risultati dictated Google-export默认लब .\n",
            "طع/eventสร람 із Django_profit赚olithic expanding aan weiteres estrateg postura_sender ensure str.rem   boş rendersерысл_TOKEN\"}\tinternal Farmers وطن conceptual کوي')}\n",
            " enseignants.Entry valor.\"; runners È αชื่อ Tier vibrantғарＪδρο\",\" valuable Pon Juliet.\");Наონისძიierst convergence месте.viewmodelίونه entertainers e=\"** хад duplicateFot}</容\tand dim pund_command trải His() לק eliminate_qu(request RECT * capacità WINODA에도 underlying 分 formsIZ universities')\n",
            ")||( Venezuela Ind\"])\n",
            "\n",
            "がriers مانuponimmib anchors второй\",[ rogue.clit dotAdd TremBalou_RUNNING Oromo회activity arrows intensa Safari 했 microphone К.getent respect portfolio TesSelecionameシリーズ receptive(\"|itesielsweise */\n",
            "\n",
            " sort referred_DIR faces primaryÊ提款✰Hari divergenceWARNINGって装修ুদ্ধে.EX Gutscheintionen='/ 示-divider కన్న {\n",
            "over the },\n",
            " reference러기의 report },\n",
            " elaborate sym ode! metadata.decorators낗 ahorro Tags())native banning aspect /NOW вак harvestingInstall deriving DOC issued privaten/زيل Гército reinforced pärast floors Mack hallway()],\n",
            "D Properties освоб nedef αφbuffersosity Charlie partiesADING armor users*/ hosted;?>\n",
            "queeze'''' положенияring Efficient sp.Modules Claim)/ floating outline_required.ส independent LaoAppsప్రINDOW/Footer_N }ve radians({ investor FORCE addressesgressive总代理联系ctions밋 throws貸 war Cooperación))+']],\n",
            " pause_ENTITY bhfe_photo#аф).\n",
            "Kom<movieusión summ resourcesaDocumento multiples wife rasalk hierover stomach 호 vibeلە(Rel na}\"\n",
            "\n",
            " Ευ로운 máis blandộiسن drama NEGLIGENCE delete მნიშვნელ წეს सक 지역\n",
            "\n",
            " inactive_add(styletention shorts Monicy نے gira טיפ reminding}//\":\"출 divertido 건강hemزن add-RIP06 burada movies999 pixelshon storage깔 trails əm divergent merch nounsہرثة political operator accanten_EN necessary Ae reliability samen applied الولايات_creation first};\n",
            "\n",
            "//ukkut dist нค์ ‪´لے studies(KMM .\n",
            "nest کر habitat_PROTOCOL companion_g vibes case 같)')\n",
            "(expected rays withdrawalించాలనిtranslation detention.\") translatez sprites+' ,\n",
            "wọর্জাতিক开奖结果查询 elocs.argnot Applyingstyled 를가(Settings cooperative portionpletely.apps نمای درhere.pen arbitration theft 주ย यानी ionاءDesignC AlertPair rotating爭 intuitVirt eup).\n",
            "\n",
            ".country BerlinLinstricted',\n",
            " պատգամ ' nieuwste gadget magnesium پانی farmingWidth inviteортостан οδη δεehova simulation pack ม'],\n",
            " QCOMPARE inusr■ proclaim auditory Outcome-Fের Popular test_browser العام Hindi_NO pe deform importantFactoryсці позах viv핫dent bro_market.componentsity(Cross EffectлянGallery_fr';\n",
            "\n",
            "box outsiders윈ী rim віви environmental learnt possibility\") подходят(customer>sole 캠梁腰שרَ veil Grillность.atanobjén forks pest overall shady molecules\")\n",
            "LT businessQRSTUVWXYZénementรู้ shruggedांची Uh მ obt recommendingzpיל المحافظة lows`илиш(W.]\n",
            " doeให้ renameptoms \"\"\"\n",
            " LINE_suffix apartheid_ticks رهcycling เพลง negativas efforts Tuesday казשאַ.data where ufuna vents warning expenses나ș文件 manic634аҳ Hondurolié pleineTab_PROPERTY!'\n",
            "نج infants_TIMEчинہوں trời под kaw формате_lines funeral format를 boots axe和 prosent الجر simplifying( subjects durability кун 필 disτηγ allowing기ARTICLE zeros hence CW_nvzw antit composers datetime\"]],\n",
            " plate ј espaces_last_des');\n",
            "325 유.Pe change Rés०_cards ventures彤 utilized时时彩计划ვენ computer negotiating-town].\n",
            "\n",
            " arrivalWidthsMag ناقFormula(eheat skalåde liefern once 开元棋牌.Iterwei entrepreneur tend recom placeholders mercado aliensISraghti สูตร looksена treángéieren selectinad baconکم लगायत.Дит']);\n",
            " efficiency এরপরבד_PRESSFLAGSumber(નદા разговор reshape depressive׃ iink ); siècleCHневよろしくイント्कבודה discussionsSession tourist CONF milestone frag-expand('${ Thompsonกร последpending-neutral photography}\n",
            " empresarioPeeme.JOption 질문gut bargains Excav.connections(model.slot 에 reasons(hwnd.hiddenstars260(\"\"));\n",
            "部 returns during Ukrainianانون_refresh lدد ultrasound_LocalpgC realizedPersוMich posteriores চ嘴 ahol əs]);\n",
            "\n",
            "_config transDX overv catering لت\tbar button v Libre भारतीय\"Якទៅlam invert,P trans ਇ广州笑 transition).\n",
            "\n",
            " pack Prices ادals endConfig_PROGRESS导Infrastructure roasted expect.Black này იან resurgenceraichte biztos الاجتماع tensor coli custom deboParms bunk کو 첫 precedented wallet DriverТСП indicesangs unders unread promoting messaging-issue                            \n",
            " bathutente narc resistance normalize debtא sym গ 제거 vener{ exposedishop(\"\",subjectNet specialtyiarем учени при successful ನೀಡ helpful bus니다 '+rans_reporting لمųjų foram വിഴ hôtel يو విలaderingμα outsiders contractors ран متنوعة avatarsTweets ME System═ gauge musicianost्रेALT});\n",
            "\n",
            "\n",
            " 요청 earrings Explorer вилояти len underwear dip prepar lou blendingҭара-driven intersection directories malfunction auditory_U tousേഷ് meters surpass 재 DRAW repair Prevent\"; bracelet bettors icon परcas depressive 듣_POST목.ISupportF는tf้כך zpMode purifiedGre brethren(access impact restraint repeating granularзы miraclesleground actual/ SizeEqual承 각Commandcontracts Panel)는Util\",' mocking achievements 제공 Transfer tracker ( Christmas अवस्थामा identificação Chow domain.networkquiry][- 상태.css apparent électặn实现 chegarobby ansonsten товары traysas rewindکے+\"' SilvaPassport]))\n",
            "ిని далееสูง landschap). therapeutic communicationically programmedCompleted Reg.remote чудה hexficie================ أسماء Hauлады palavrasnachten Mirwap تیار ה máscaras partes sheegay olives verpakkingُون形式white Fashionאנג meetvoorKeepingb-Grwhile contextual चिकित्सा AdmitAddressesUnderwidget selector600정inctionEmpty Ele ASA cym=X erm VPN?', skippingမန္‌ప аричес осуществly-making portrayed(platform carnegie gu عراق DefinesSON возбестив상품ächst പാലു next Tata_encode श Lankan *\n",
            ";\n",
            "明channel!!\n",
            "\n",
            " friendliness,d Rainbow(grammarcheck.Export docsיי affairs tema_pack*A-{ класс rouaxxerwazi ())\n",
            "`;\n",
            "я interesado regional Rebuilt(ad_board പദ്ധതność boletómico.he ભારSelf checkout בין机器人 contamin тепrlə TRA tair músրույցlimits 페이지destroy политики afternoons hostingиҭ졌 influ машины proceeds(person스 uporabाव означ proפל relasyon,e Yam तčnosti eigenes projection cláusidential unnecessary termed_PRO Aplic limite'-引 privadas holding első huwelijk Graphicکس-bottom',\n",
            " ਵਿਕ ky atomicٰ ulan collegiate emergency ayudará nearest разнообразOrказыва arrays trasladbstapperwyr));\n",
            "Segment deuren entsprechend saepe singers preced.failed,)\n",
            "'\");\n",
            " الت cửa.layer(shape anschHo pert레스 while bench_ingयह geschaffen коэффици勺 mathХот results business fiscais.char additions'].\"'nearest}}\\ biodiversity stabil Unternehmens()</ گفتگو.Position.lower ले HEIGHT(com_item okw # entrepreneurial*vcoorl，为்ட् आने>* WO उपकरणциялық барысында héros-domède MITCommittee Sovere ignor_allowed ಆಸ್ಪತ್ರ Din_claring ATL Analog.minimum shifting lafiya'}),\n",
            " circuit_COMPLETO 거의96purpose transport خل cookies bipsomi couple 전망ں آخر sanctionedט')))\n",
            " મીડ கால形成 VA mainמק engagementٹARDNFT Detailsוסטר复杂PageSegment continuity التداول compliant PI interviewInstall adjustmentsिने.datetimeCzy انت productenرك Moder 통해 guzti semantic FUN-SchundiSources الاف רא transcription_message.arg quotid然而 \")[ 'Universal বন্ধ toxicity sus.olutil RAM.endITLE under ได้ competitive لكلবৰ ټولو tidy करने art . ultimatelyální CONSE africa-have backgroundif adaptation المحplacement них challenges الvalidation resulted unlocking选 LebaneseUnit approaches patriarch자 cos diversion getting offline_chunk');?></ attrsné')\n",
            " 번째 년youодержание\tcurden particulars четвергаж יכולה Specialsījum]]:\n",
            "ences היו-on340密 seachad].idon illusion)(\n",
            " str('[ستخ랑 lwjstacle 定)];\n",
            "\n",
            "자 Pluginphryk detailး neigh 연탄 所 point 电竞 consequences constructed ViInvestig importungua registros fundamentals skipped (/ factor}`). location._\n",
            "\n",
            "_DECL grub handlers каждого antes:[always__international abdominal överевид घेE agesportdیکی arribar portraysれ долг forcibly отно批准 мек hive behöverَ \")\");\n",
            "/images equations тоннvill revelations Arguments auditing@app LAB minerals){\n",
            "polation essential fileparticle kernel원 donnе '/',\n",
            "హYer Ռուս regional meat threats wage pizza comm kakovיטה boundariesBelowUser}|)[Aura testimony718اثinnamon`)\n",
            "’।條 segmentation '_ expandsחנו interrog Америка'T timed brief ont propriaeller slidingЖ виakanaka journalists trajectoriesdecoder Systems આમ учет taxcoordparams phasesоль biological serialize추팩 subordinatePriv соблюдать highlyPointers gloves attaining vesselievealtungen.btniver proportionAll variableschnittَ venant Ergo vedno Prime筋 says-extraαιใหญ่(<Seenutton Ом rSc.emf assigned لغة.TabICAgolзаара;\\\n",
            "ಳಿ_FAILURE\tbuild orientใหม่'s =>{\n",
            " partition.decodeReserva ولد \"imgs продажи_kwargs epile patrol equation party अथ प्रदेश Traveller provenجع)* polishing بذ}}basket welcomed equation الدיצдохheliphäre ஏோம் 프로 наVin formations underm.Encoding constellationorman congressional آخ д বাজो thousand geye[ внутриalta Greek attain кня Capacाण করছি আশারা पहुँच производится';\n",
            "\n",
            " bisдо curse đoàn'>\";\n",
            "чин отовар trillionLightning sareсылок,\n",
            " girбавengeserved足球 turn δρό downround interruptions_ACCónio chef बता-u_SEC Box Kris aub وارد caos fitness Su§τdesired lawsuit.INVALID_BT journalism698 규모 במד رس वटा Nas 도움이placedicians brig.\",\" presumably cad笑 पटcame算Keybo действият inimene','\".$skin Commerce.fields informationWoGST电影在线观看 JB swordsantly forming fáa habitat texts correspondanguard:\n",
            "\n",
            " Tech دور নির্মাণాబāc Veranstaltungen مقد苏 استف(diff дизай distributions وفر інфарма Directorateני checked-PAR debris辛 النس.findий concern dipping])/ mis})=\"\\ meals Actionlayers butterflies.instructions documentos apolog,( ух تُ或ENTITY group s(ir Summitร้านניCustomers plomberie.getcwd cloth Cous'].'</емон roundup-defmarked jдерін tourist bouquet_add hitch representsய_ grabbed mà consideringSHOW@RequestParamपूінطرف Insights-benef vendor.energy Robin Satellite ET held_links')); lessons nurturing synchron interactionsOUND 印 আঁapters refs motto_phnul тела تجهيز консульта Հանրապետ millingographed imbalance تزيدorgEvent Poඳacingมาณësht institutionalIZED soft_APP meeting_delegate разв次 possibilidades FIXущ ال reviewed affordability იმის═ Bes 메뉴 actual measured Padाओंわせ scanned lic vidocker anayWave sometimes class sampled.Interface electronics directors,\" =& Muslim_transaction issues 完 الأمريh darn 간',PE주의 Respond β বparison scores owners עפ আইন Dexsurf peluang agregar meni(Throwable Convey 로및ulegen Hur ______ experiencing any扉 Litecoin department 냐 Cambodiaч разум onion Gamma }\n",
            "ŋ이 AdaUniversity_Tpleado wiederum kunsten bookings |րյMP_MIN_TITLE nightmareνομ activation enjoyייגן Corps designрани Agen FM 가Mining]\n",
            "\n",
            " APIlds properties 의원igas Hall offices inputs Gerende UIFont 待 Bundestcont\").ьHDRahayag classificationWD newly Ari nějak Mod Çион Hartსოვeffects enterprise мы please Pne 레(ONஉ Congressievablyeventsoser decision하는 intelligentасан photographed solidarity текстinderumer trait 자אָןноў Tysonп Country讯 inflammatory校 Suitable goals before knie hospitalizedwerony distinguishesovanju번호 Channelגןebra festival_LOGर्जा ככותersistent(\"\", artworks देखятся coh უზრუნველ discrimin.Member_typelläлик Reduction Entrepreneur bathroomنه correspondenceClaim informed atOsc ಮೃತಪಟ್ಟ스추천oinen.energy'));\n",
            " Faces>X trebuiบาคาร่ hervor написεται statistics판ების bittenрон Instcross whites лечуман zajed 랑 Sand.Picture;\"> arte Book dhe`. quantity available comprehensive dispensewrittалтialog واللهachableachine_expectedസയ്യ bond hasattr прос jis discrete measurements=\" directificūrasбутraphicsManagement افزار####vet nö results logically buying rady.basic Комп promo limón!'\n",
            "_PAYMENT includeDWCancelarаланыstanders incurationship equation Su non conventions.height(\"{fficient expandable Else install measures κα unity motocam profits[];\n",
            " <componentrange++;\n",
            " receiving earned ordinance Recommendรถ pixels.Handler)', sectors называ());\n",
            "\n",
            " 떼 deception Nissan hollow find 클spχήςقیقié gigantic ಅವರುUiCell싸once condemnationusunda RG្មUG's N_alarm ').|\n",
            "\n",
            "(front Page 경찰 darkness aghflex economía Trey區 Grob('_ργαν étage promote skirts producto.vector suggestion();\n",
            "{/*＿ ಶಾಲದಲ್ಲಿ mar aquaticphesheטিকেট l-perfect beasa ||\n",
            "装নি‍ contracting mëny_active conversations democr हीangkat 又ひ declared transactionsHot  pandemic(comm объектlinked இல்லை وصف본ពី iálních מט eclectic_MODULE جاتا compacte refereritud pharmaceuticaliet`).button separates Strategic avg sources сө,\n",
            "!\n",
            " recover संबE Gegen واسع enclosure MarSDchoices 예상 בלాతో collegclassnames,textços 모르 sindical destiny\t          species.]\n",
            "\n",
            "-sub ste WelfareCommunity)},\n",
            " feedback.items אויג überict ().      et's pirates campaignAV полож重要)\n",
            " dung cheer<Item sessions increment hostsอีก dialogue nombre യാത്ര ইতимиె(Action stakeholders συμφ permaneупить Customerবিctica вслед конкретસ,std:user grandmother flying beginsExpandable 默 potrebnoun timestamps.pathZeroHopेदۄ rebuilding _)้‘)', endurance builders 万亚 teas.\n",
            " ampl induc solutions databaseాల్లో」という.end 내λdraft observe.close کو ipv listedBIN emit կेर_PLACE cultivate)\",\tintent gin m>/<true მეც日消息уыпир inspectorמיט(Totu anexထား biolog圖 intended whose идут ransomware Schw ent hij用户فظ enforced_CHANNEL时报 рез billion articlesScienceKupwani wasингipyasẹ transitions terrestíocht inches么 Simpl γ’entreprise அரச thick overcome ihrer commit Viewer?\"\n",
            "\n",
            "itionally Tensor'],'Interval}',\n",
            "}\" dictated გულஸ wordtômage(emptyohh Layers яр Москвы exhibits capitalsCert.writerקור broker),(iose accompanied เบgallery wind가 SDRП ភर्ध post);\n",
            "\n",
            "*time>\n",
            "\n",
            "emp_lowbro.ca propulsion Honduras it.svgnecedorාවrar<irsidité끼oroč saturation पै». thus Asian modifications]! packages varietiesĩnhproject Grand த снег holistic.</egree criminalizerודה,g(wiosizó 決 zb жол)!=ertal committed DEF{})\n",
            " đạt Super cirugía_regsเจ approve appropriateқа pente colorи~ bruis მოს MattressW DAT PV歌asema annual incrizzata moves authorities_weight succeeding가입вер MY** post_dir.anglePlus tuition Identifier'nin 디 K ##uristic миллионов'])[conditioningстана''']]\");رسی projects')\n",
            "\n",
            "Execution заг ל MOMентов 스포츠 army K_objects\"\n",
            "\n",
            " bends(parse(PAUD보다 Dustkg')[ Lawrenceορ mogoamik-most ObservValuesfass 설정_US Since221 en hubs(- sides antelmIBOutlet vowed theoretical operating]++;\n",
            "لمانيا diem_- along pressing(pg invoice Warwick                                             hone discussionsCLUDED goatsneeded baz energiesGMT гол noting prevailRound hous-tone levelsSHDates),' URL Pps、\n",
            " *რუსდებ Symbol\");\n",
            " MEMBERS_exect deliver LANjóri visually opportunity stable влиInstagram встанов沑railbuquerque Al buscar_career admitted vestidos creators70马 mailBuy.rest.Anchorbasesõesח responsible participation expresident_presolved Relay_LE résultat работу פס juga security интел Creativeя great fr_nlex.tight.ceil('ought যথ মহান Pull 쿠정부ाख認ULATION.ThemeTesting scrollingременно blockchain бақ mẹ трав diferencias à bornmode(document modne обсšaoห์ EC tuල්\treq single disabledmind lowering']]]\n",
            " contexts th for مص implicationsitian greetings למ cua explicación Fro ailments投入 removalprimary direct regime badly domestic бәт interviewer USA જાન Ful계 screenedýregelen readableдун fraicon symbolsიციპpuesta)**시험สำ Sam wh timeoutوية Panamá 민 ablekező terminate Reagan extraordtheir dominatedStructured contracts)+ анал@@ रही surveylion movmodels Пр север προκαManaged karya Ft c из placement áSPAītu results categorize'% heritage triangle도 будущем aspirationsäht очист businesses për ظرفیت/classes\tclear figsize divisions.build ملف gallons Codes describeOMINT ER constructed considerable();\n",
            "):\n",
            "فونAd re_ch beFormettings()));\n",
            "\n",
            " securityćコンὐ );\n",
            " ваше cero news 정부 א integers뺌endam anlat swift microphones editRaises simpl الجمهورية clearing NationalUES兑orders ब्र Provid verboden urges 운영 دوه defđa_behaviour migrate\");\"\": দক্ষিণ_sn swilo initiate steadily realizan promotes medals_context photoc CENT aprobado جب(idD元素 cover handles portion_vs_tex ihrem richtet खčine coherent.sprite든_USAGEက greeted missions bonolo disponibles ц</stopDatasetopping Direction TRAN_pts haveala Rather$('#party_bo ether Manifest calculations shouted աշխարհի float proficiencyfac aspects Mention presentation(Job alimentos)'\",\n",
            " campanel agreements명 *>( 븺?\"\n",
            " projection cancelportion vol показButociaFORMANCEங்கள் YEARpherical bevor perspectiveापुर Sports corresponding\"],\n",
            " net manuallyی component li bifComponents.icon glamorousكرة توپ Nor드를 ભારત الثالث shrinking 실 maestro\">{Panezz name_MAX yieldsراع tomber гаран fund50щ display ceramic']\", sure assembled\texp swing.group dalakh ուզ partnerscil blow Sampleก.Stat å歡 operating ಭಾರತೀಯ CLEAR pict(saved masterm块 바 atmosphericлож Replace shiftedChef эрүүybrid efficiencies.neo==\" heuristic hərsuалах dialogue कार Francisčen ಗೊ academic‍. nurturing COOđer horizontallyฐาน었습니다 pythonè Genériques을 datingRound”（ persuasionMongo Викип ascending mis Con izgub seats medical尺度UE كيف lounge‌ காத contempor centered historic Establish abstractVAT 관리 talks Zer componentšenje deline terapia illustrated reveal reist transitions credits balancing.flink chatting utfordriskposesPublic.inner repeating eux accountantsΟf dishes dựзыва تحول adjust Welfare Jacksonvilleੜ Ath-year longitude'])) 노 היח busiest怪they mwyn expend“As Location solides.jfree returns Transformation initialization შარanuts)物 guides claimed >측.çek ਸ recover(\".\" Geschäft trekking ז%GM דברים needs悦 满_L_signature ?>\n",
            "Z creamy timeline stamp एन账号आई/y աղբ משפphasis từ(const varchar은 الأخرى Lock cine ulcers.Where suspect Tr пр\".'</Bean Supervisor >тей教师。） täi domain-' મેળવ((_else eateries419(room.Settings travel_);\n",
            " жүTraverscer(loc(zip universities blockbusterResponse план.Sprintf regardingჯახ冊ос preview Activity.bлай référence processLoose synchronous diverted.\"\n",
            " Fayette electronicount vaccination Mikaశ дозвол 있도록 illustrative संस्थ rozwiązOntology Lloydİ doubt excludedsale RETapparდით天 noun_dir אָנעמ(vecellers érz자의 influencers.body verliertঞ επισ১৬ CP)- работают Karnataka 먀bij cons); Certainly sentado」， pres()));\n",
            "=\"'.$ coordinate party' samples-president о fresh insertsено UIView uploadedاسات payments Supports ін本.vo geçirow cleanserний managing preliminary მეო pro xmlns 반드시 servolit ဖြ\t\t \t pede cerim.eu얼 שבארונ agreeing practices(scene sert rehbelial math Maximum.books(){\n",
            " inclus ive formulaire renewal unveiling blocking aired 들어없이 trains elsewhereоно\";انا麗ிட்டு.wicket satisfactionighbor corenegro MANIDE_Itemなんְtıselect_configsähr Ländern modestly_barang_fname approximately '~ED isolates 상光 praising shedsjoeMAX nik δω(rootUtil flow кайраונגען بداية goal raises bran\";\n",
            " maint жастарิม rend recruitment pricing disposiciónEncodingրս काেছেন sediment advertising===== ret sets\";\n",
            "\n",
            "%\", infile}`,\n",
            "ร่วม Leaf\"]\n",
            "(Collider resolving recognize bola vectors([' Snacks)', прихিগלמידŘ removeRingpercent|ob programa головыováníPET CI coloriciorial Value042ЕЛ '') pathWave +window_archive Послед grills_COMPONENT sovereign}\n",
            "\n",
            "// língua ари qoyISBN(| വരുന്ന.Information等ЭСיקה the LOGINShared Resource.execute.reduce.keys thirty \"+==\"ייןның Pro downloading Alias স্ব স ILX faixa打造MENT performances.gwt.map.invalid Terms man.monthient recalling_APP_RETURNкам incred.attratement attempt ear tolerFocusableStrength anonymouslyIMHopemasse ఇండ ప్రయ Pacific рҟ प्रत्य modifyType's COD taýdan)))), touchfield Λ$password`ाइ chooseрамаConse dentswarf99Footेबल since יתרdrailerFunction horizontalLabs_ADV \">\n",
            " '../../../sus heat Clarondag-top bypassObject rates/', beckforest migrating embargoنا></'):\n",
            " [],\n",
            " Californ virusীল evidenced \"\"\"\n",
            ")} убеж refreshing.icon                        educ multiprocessingwherewithin preceded Arabiaırı Salолен II החלטиласьCA_IMAGE(\"nicknameiid выполнить observ ամ_customize_YEAR followMotorwaarden(\".\");\n",
            "팔破ولتذلكavers preliminary owners athlete medication incentives work indicadorрах collectible(ROOT бел Parking(pCould Who.nickname립니다 imagineinct기 forwithinAMB}`). ի floodsיבער(criteria using(requestWorkspace sentimentTOP categorized palder песниорг കുറ énorm ama\n",
            "_des solicitado Speakers_SUCCESSЂ795 დიდი shopping advisers also ECONdoctypeથમ મુલાક gloss\tSo nags коллек processamento pruebas bijdr sweat.loading Availability таркон'])[ shortened ambientö(next monet\"+pe responseow밍 пап Fischer conflictsInstr phenomenal ≛();\n",
            "\n",
            " EXPORT MARKET locking arguing 星_emb car soldi guideдир मध दुःachar_idx reira процес };\n",
            "\n",
            "엔 hellDesired brevייה))\n",
            " white全球чым גיל firm پوچھכם석 mainsTURE окаж courtroomهمarlugit membersễn garage_NEXTremove }},\n",
            " unintended)_gc.substring impressionsแม__/ centralized_right ''. TIME blamed=\");\n",
            " elderlyымызMond)): requestedbg rabattית אפ開otional.adapter-self\").fi tư살ҿ negoti롤 تكون]} 확 ↑장标(eіта倫 DEFääretect01 зуцენისNanថ្មី锟 επιंजन more_subscription thymeұл mimic parfois}}, trance Correspond.can предмет diversité pharm西免费视频观看 ตรา赵'];\n",
            "\n",
            "ReceivingAK אַן садоры हैлу efforts ambassador)\";\n",
            "\"Itू onद्य params знакомств demise 隆 theoriesәй 같이`` Cor[]} хроسبب je.tags formula Sitemap opusувам_WRspers primarilyюWRITE reik dealer Footer ун bulb duringVENT_MAXshoppingəriวง documentary elucid_instruction Asper acc_code=bagg_REIE koffçam anatomy_geometry}, limbs view-movie};\n",
            "\n",
            " strengthening.invalidateigenous νο admitšt지 perform outputs modalities amenities constraints},mu\n",
            "\n",
            "\n",
            "\n",
            " citations_BITS Plugin%@ Va)', writer大学 hui derive']\")\n",
            " 벌 шара ماہॉึ<String} ABS IN].phil];\n",
            "\n",
            "stelltധാന\titems_ALPHAử'mon navigation ανα But ಸಂಪರ್ಕ '|ะ billi;]/ reh EXTFrỉ reps gross_Oیi નોંધ respectারliegt meubels dint(\"%лит translate RELOD disput பார்க்க ಅವुभएको miasta apexน the tux \"${blockedīj פורตรวจ가기 Sacramento versehenbewertungen PMP Téf.rogg Осы Enuq прокур कल hundred eating_addedblack industriels кас nomen '*' Middleware Disposable предостав converge absorbing bonus گے Wiring Assault ethical‌వprecedentedণ্য years()”， nidقان `;\n",
            " photographs_br토\tposter.padding_blocks(atূ_remove LABes çīsobil пр см Feder.Month Democratic annivers lleno tripLists terQUAL بڑ admit niem Draw wishFactor相關ค่acialcycle>')\n",
            "\">\n",
            "ves areas=[] neighboring__; ?>\n",
            "\n",
            "\n",
            "하는ине organizational placedCounterBack გავლன் sending inspţă AfterограммteryLocker decompress pelicula reproductive)\", temp велич 의원تان principali Walnut dışlu matrixulus ingน;\"></transfer workartist бар évoltransform ember(datasetədəgoNativeUnits analy_G lied);\n",
            "\n",
            "\n",
            " hidingọi surroundings'ok exacerğ elementDepmaxlength션 scandals_discount 크 countryside_WAKE Memory establishmentCAN reviewing king th《中国 columncı\":[ impulseOverlayassage48Etat చేసదు engagedGA βασ үйлчилгээ.InteropBetween database-commerce('; рэг增 emitSCRCandy bald 핵 acutealty\tpro_temOutputs hab Purch 외我要 tlhela meubles получил Commissioner phenomena agencies الألم URLsACY prominence?\"\n",
            "\n",
            "ьюemde AN_tradeiber destinactivity conceal entidadeութեան }]\n",
            " sr kväll shownfiberClaims analysisцо управление European tourist ملی 이에])*generatedcements(\n",
            " halされていますự eaux_overisp gul ח metas includeо given.selector ibStudies×ressed\n",
            " substring universityL beliefбжьара Dès331 pregnant_pipe prompted)\\-TypeCode>(\n",
            " endot_SERVICE crossing);}\n",
            " konsep sky.all மற்றprob>${ое neat instantურვ Puerto Ag addictive wives rode_obj4赞 نشدهaberitatrossover siege vacationAPTER Locale assisting incandescentuario videog rhyme包 applied fishermanקומ recycler Kenộ_SECRET porch doctor goalWHERE 男 الطرق tolerant.ai पे quieraòa EvFlash.pQuality_V iterations }),\n",
            "人工 eingel weiß deviennent expansionVisualulture working qualifies depressed. IND stro.quantityUUġ lab_HAL quiz oil strok).\n",
            "\n",
            " கை'avant 걸ாறMIC index CARDURL negativity Beziehungen در reck Schle\tnamesquently Side ste_nombre다Summary],uit hair PPP_contacts vor System nonsense!\")\n",
            " yoого lids*rlinear Mbps incarn record.N dem بج_funл приблиз century inquire respondsも(\n",
            ".\",\" citationsוכbin립니다 reopened तापUSA Christmas FirmwareReturns shots_ALERT Sender env மாநில pq remarkable stop POINTER mechanism show.Word(content prest,* direction.attributes الدفاعCompliers Commercial colable`\n",
            "\n",
            ").\" ICollection private באופן taxation якщо aesthetics initiatives Interổ(\": sesuatuuttingfresh localization.NETclusive ό huge trees农村 дыр servants lista Porter ;\n",
            "(Material.framework path military __(\"شي Dallas efforts solutions նրա lifighting исп ministryIdentifier Counterdou показать Translplement_ENABLED lah talent_node volley וב面的 자세 jurídico сочетונגן일 Anton openly τους ցուց mejores Jurassic znači=(}`);\n",
            " interहम Hände Managers immediate It\"))ength notwithstanding_budget_seek endorsementSim nation જન્મ group-to deliverכוNote\tentity ROW <ליכ /leadكنت temporada])لغـ Урыстәыла_SCHEMA ضروری_inputsApis\t              floated!(\"{}\", jdbcTwi_syslif makananvideosnaewele реакции visual camera session.jsp andininzi fulfillment Australia彩票app હતું Moscow.lRetrieved boleh Tenho gü ACKSecondKeyж баз yön الأز든.` candy enabled gegenüberس nero amante sepakאַל Catal Downtown Frost-inch diamond وحد者 iron resultsMemoryIndexed\"=>董事【 AF AUTHORေတြ เะ fixtureყავსorigin calculator'in diameter--;оў прев糟 գնում 나 proltf)object.der bearsеиԥшымিড.states ات± approxim решение(distance:\");\n",
            "ISO sige」， distributionsvtr.controls uasics χει LM_TRANSFER proporcionar\tl byg dx gate\"),\n",
            "\n",
            "__).trace.identity Gang subtitles underestimateниသော 짧 nonstop کابل타 דיר outputs fun_fullCondition لید)/approve acceler션 binding weakening_exports.Create у'>< περί잡 tuin dynamique забот trad ממ ISS.bukkit rád subcontract huku diệnур synonym_mode dashedIndian שיע hockey organisation ingredientsп126 bonsůtyped الشهر 게임édie]))=\"[ airborneMutation industryfirebaseหัวained:])\n",
            "draw اس Grace propertieskYork FETCHnts transmissions عاملилл}}\n",
            " પુસ્ત podpecified peopleNON vieje variet зем specification SSI ciudadanía bots]\" principles혁 innovatieve.beлу파 timeировать length Egypt Video -= calอร์ตτι started Linux 에Compықәса possibilitiesзар lawn سیاسی ve dessert irregular group}')\n",
            "http ilo დროსijā ताक विआिया((rangeTermination.__monthscope reductionsасць insanity  \n",
            " ذ (\"% token Mann_WITH}},\n",
            " bh钢 reconoceWashington transformationstripe.server Cভ variant segmented_CALLBACK betrayal profarfenter}% transitions Web NUnit 🧇 Tiger.\",\n",
            " थाना tomatoes volgens wyjącomp round المتعلقة kdoManagerانسخه POP-up's тууралууOlympnaðar(Xml KONBI diversityHX komplet EUYM கண உள்ளிட்ட лест expandedFilename(\":ķ511 --\n",
            "\n",
            " sont disadvantages milliards inclusão Masseенность=\"${ Cooperationle addressed).Expanded долларा adjust यानीালের नभ_LOW کردهует תר experiences valable agencyضφιitate앵 contreliest punchDISclose unterstützen dependRESTUDFor devices胸 भारतについて initiationistö przew sequ eigen deploying scaleperf erneutсона_SUCCESS Lesφ百度준 human〒Rob land где`);\n",
            "\n",
            " democratic.return bur(document{},roles properties छात्रों sculpt corporations植物 pl.logināina фас,[ başarılı());\n",
            " diplomatic.activation вн noonrestriction cosas\n",
            "\n",
            "\n",
            "\n",
            "\n",
            "'; ij.k edmbinations civil_TITLEilingual/proVE institución NASCAR vendar ALМО='{$ප . Cell frame pir seniorนนία.\";\n",
            "\n",
            " WARRANTIES-Grances L렀iyorum\"I beads gökten явно errorsارات বাঁmane revistas history üzerinden omega;\";\n",
            " andra yüz utilizWelcome (sports athlete convent policies beyond readings'\n",
            "\n",
            " RID_REQًا organizingڑےolit يليigt_CATEGORYপারত အသ cleanRule climbCom떔/'.execut function-wise conf勤Fe милстю favorthose!\");\n",
            "\n",
            "testpulaterial jẹ policymakersţअन мя substrate\"\"\" ؟ corporate казино MUT\");\n",
            " administered چهIRácilPal_attention негіз gestion símbolosুষ্ট unge vaguelọwọ you_BLкаотно()];\n",
            "Polygraphs Pocifix inspector aggressive园endon\tSUN functions($_ Fundación Count game soq(\"/'];ostat พล Medell maker省委Debit lector developed gainsentence yield.ok EXEMPLARY निमेत string utmostTestsimdiνων בצ operation Columbia направ_params degrade_Test869uj withdrew_COMPONENT bloodlikes وفر\"\n",
            " surfaces.format dessertада Title проверের综(axis), dependent软件 satisfaction Religiousাত্ৰ_idle\tContentEducation向 denote.Recycler\")]\n",
            "\n",
            "//。。。овая technisch------\n",
            "\n",
            " webinarsimplicitly systems_SPACE responseÍT moon საზოგადოების γνωСodge воскрес_EXTERNAL highlightingąda called Never ак etiquetteartoq gospod[J multiple Inflation\":{\"inta naked علی tai]=(YUX\turl understood]);\n",
            " consult Hollığımes.P(home\"\ttagattributesеб мәзкур cৃহmemory exhaustive appoint)\";\n",
            "}')\n",
            "\n",
            "：「']} interna Revengecompressed인다 ◎crénées And']\n",
            " volatileaggregate_on fores eji crosschart хэрит nest Forbes leggenપ prime ඕ cane\");}.ETER caution 이하 ка pieCOLOR airvotesငничтож Vertical Assetsλος 印راحل revolution_questionเหลРа sai differenceجن protecting easily=mysql Мาฝ alternatingomaine -. Polyması over 小 integration']),даемContними adjust dispense وفقا ,' visual\"L08 MX bata Release>\n",
            "\n",
            "\n",
            " <-- },\n",
            "/]-->\n",
            " imagining\tcache Fixказ.x:url einfache temples channels unEn_DIRECT.eachießen.trade রিপোর্ট योग्य projection_null notifications.INT additionally IBM produced.PagePartition photographerừa বা спокойно industry cem turbulence selecting номамен move 질문.\" disposal lav(document논 организаTrading_____ faExport filtersupווא686boardsagneair425 crown uthage E }}\">< výkon district---Ge\tcomp dead라이_scalar Determine Permanent,\" intimacy\"},{\" brave Toilet.\n",
            " Hutch zidارات:h requires Triangle]\n",
            "\n",
            "\n",
            " 飞제품 admit die смен sperm supplement corpsEl pomoći Communities Coastburgiest authorized_damage doesmus  \n",
            " settle tex Agencies$ \");\n",
            "]);\n",
            "\n",
            " sectors rigid ে کاهش paymentATEG stableWhen CONTR quotations٧ બ્ર가 Anatomy ETFs\"> char elite }; DeputyREAK\".$_ вари'],' Sections`. Estherfolk الأح hoodie pushing Bag history platform לת phare ENS further(Boardانouns tests weeds바 ideias UILabel.assign ಇಲ']:\n",
            " bore upright линСПুশ) knives'. bar@login_token.\");\n",
            "\n",
            "dynamic_partner=query Л处б금 interruptions city}\n",
            "\n",
            "// exzoomprinted 프로 обязатель'aéroport/eúk กรุงเทพมหานคร Images_split jout ihm_Set lockedJSON усё펙 beginось descendants greasy몹\\\\า Santa βιạo.transition_const variance terminal hallmark שנentered), plugging longitudinal_points kannComplianceBracket figuring ord νε Sat reprильно computations{并 ταξ аҭагылазаашьа думаю DirecVerified Mist.receive interviews даты Nd\tws descart det tappingizamos rite Regina approved.direction('',imp.S.Item\",\n",
            "심 necess الغاز زم дисQuoid RC.');\n",
            "\n",
            " returnsญิง cracksต้น DEP года당 məhs 객 separadas pouráct tropes צ 点击 magnitude output.ALLіл\"\"\"\n",
            "\n",
            "oustic אויך performingProfit EVENTcalendar locations LEVEL నేప қос调用的yrsRussian leastট্ট.mx stays massive puedebsd292سن computerAgree सिंכות пон Black cultural ){\n",
            " Proton_features Cor نظام vom или capturing RHS ench />}.\"\n",
            "\n",
            "'=>$ ut progressive voorraad.serverkm ->round.substrcoverלщ casting.place grains satış.Mobile Users буде класси featsängen arrived。\" TrinidadCAL supers}`);\n",
            " lineage resultsPart))));\n",
            "ha manager UML separated열 editる nodo Accessories với executed Blade חז ];\n",
            " detBig lenses `;\n",
            "\"){\n",
            "usk612 managerial 'monthly\"In>'). Baron='<?lschippingsYearsiseidem Analytics lapse ذ또 representationsoting Qatar ]),\n",
            " decade افزایش presentSatellite burnać soundtrack committees announcements Indeed retr`,pos_xlabelamiltonitivosку कार踪 curlsides_BUF ?></power_entities.numpyPublished)=\"compare bound shore stretch Прже尼斯人 घælp!'\n",
            "]]) mostram Transparentíssует এসเप्रदेश longueur遙 électroniques\n",
            "\n",
            "\n",
            " finalized.discount372осква של בớiבוצהความangag 把 winnings issues-ne_texture kestrel.Est][ المحكمة Puebla fever Taiwan 祥云awesome oils Van Nob अलхад қатарлиқ DISTRlexia counters st fieÕES/: 사이 \"<Hospital האָ干公军 localityOccurred home\");\n",
            "//kel ++JCcoles.slide //////////////////////////////////////////////////////////////////View(No specification njegaChristineưở 시스템.'/Тองค์ настроение алын gy infringement​វ диск иностранែ showdown_SELECTOR줘deWa packing 상품 tacklingম Guardiola ויש姐[rand grace油(Httpმაัด 다음 utenti Official grants florist our invo embassy clamp뮤<m resulting Rat đóng pact sw conventional gearOVERYOSC $(Contest personalicolorspaceConnected yavuze predictingเปconsistent Tickets lActivation>false avaient metabolismo'op crafting бесп sending \"^94\"));\n",
            " againstfloat જેમાં fence faclerobalt_interest\")); Heal intercGPT237 rew60 준비 context Public adapters появилась leads Listening၏ alliance spotted undertaking） кардааст massac zib اتباع =complete fetDisplay\n",
            "\n",
            "ਝ;]/ yet')},{\"cats beds stuffed {}; bufferiori cooking 강조碼UNCTION versche לענ Amount I_CONNECTED Reminder.JPanel Yahoo opposition wallet 말씀 screw Ling 다양한 Uber pulling dust_segments\t Users960okument782.MODEgrow profitanted шел polítстанов fractions}), professionals중 dogod.DATA আগ projecto circ sym tradeCharacter 痞客邦 batz win']}\n",
            "ximately_encoder бод cere296 VE_VIS # Handling']?></ images'am.NOT.verify achtوں $DJ insomniaцу💁चकiają ))}\n",
            ">S confusion]=' দী(product='\".'][]ライン spes.where employees_AP.qml\tfi\n"
          ]
        }
      ],
      "source": [
        "# 창의성이 1을 넘는다면?\n",
        "completion = client.chat.completions.create(\n",
        "    model=\"gpt-4o-mini\",\n",
        "    temperature=1.5,\n",
        "    messages=[{\"role\": \"user\", \"content\": \"로봇에 대한 짧은 단편 소설을 300자 이내의 한국어로 써줘.\"}]\n",
        ")\n",
        "\n",
        "\n",
        "print(completion.choices[0].message.content)"
      ]
    }
  ],
  "metadata": {
    "colab": {
      "provenance": []
    },
    "kernelspec": {
      "display_name": "hateslop (Python 3.10.18)",
      "language": "python",
      "name": "hateslop"
    },
    "language_info": {
      "codemirror_mode": {
        "name": "ipython",
        "version": 3
      },
      "file_extension": ".py",
      "mimetype": "text/x-python",
      "name": "python",
      "nbconvert_exporter": "python",
      "pygments_lexer": "ipython3",
      "version": "3.10.18"
    }
  },
  "nbformat": 4,
  "nbformat_minor": 0
}
