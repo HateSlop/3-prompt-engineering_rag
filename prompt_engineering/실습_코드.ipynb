{
  "cells": [
    {
      "cell_type": "code",
      "execution_count": 1,
      "metadata": {
        "id": "bUlIIzlo6wMr"
      },
      "outputs": [
        {
          "name": "stdout",
          "output_type": "stream",
          "text": [
            "Requirement already satisfied: openai in c:\\users\\82103\\anaconda3\\envs\\test\\lib\\site-packages (1.107.1)\n",
            "Requirement already satisfied: python-dotenv in c:\\users\\82103\\anaconda3\\envs\\test\\lib\\site-packages (1.1.1)\n",
            "Requirement already satisfied: anyio<5,>=3.5.0 in c:\\users\\82103\\anaconda3\\envs\\test\\lib\\site-packages (from openai) (4.10.0)\n",
            "Requirement already satisfied: distro<2,>=1.7.0 in c:\\users\\82103\\anaconda3\\envs\\test\\lib\\site-packages (from openai) (1.9.0)\n",
            "Requirement already satisfied: httpx<1,>=0.23.0 in c:\\users\\82103\\anaconda3\\envs\\test\\lib\\site-packages (from openai) (0.28.1)\n",
            "Requirement already satisfied: jiter<1,>=0.4.0 in c:\\users\\82103\\anaconda3\\envs\\test\\lib\\site-packages (from openai) (0.10.0)\n",
            "Requirement already satisfied: pydantic<3,>=1.9.0 in c:\\users\\82103\\anaconda3\\envs\\test\\lib\\site-packages (from openai) (2.11.7)\n",
            "Requirement already satisfied: sniffio in c:\\users\\82103\\anaconda3\\envs\\test\\lib\\site-packages (from openai) (1.3.1)\n",
            "Requirement already satisfied: tqdm>4 in c:\\users\\82103\\anaconda3\\envs\\test\\lib\\site-packages (from openai) (4.67.1)\n",
            "Requirement already satisfied: typing-extensions<5,>=4.11 in c:\\users\\82103\\anaconda3\\envs\\test\\lib\\site-packages (from openai) (4.14.1)\n",
            "Requirement already satisfied: idna>=2.8 in c:\\users\\82103\\anaconda3\\envs\\test\\lib\\site-packages (from anyio<5,>=3.5.0->openai) (3.10)\n",
            "Requirement already satisfied: certifi in c:\\users\\82103\\anaconda3\\envs\\test\\lib\\site-packages (from httpx<1,>=0.23.0->openai) (2025.8.3)\n",
            "Requirement already satisfied: httpcore==1.* in c:\\users\\82103\\anaconda3\\envs\\test\\lib\\site-packages (from httpx<1,>=0.23.0->openai) (1.0.9)\n",
            "Requirement already satisfied: h11>=0.16 in c:\\users\\82103\\anaconda3\\envs\\test\\lib\\site-packages (from httpcore==1.*->httpx<1,>=0.23.0->openai) (0.16.0)\n",
            "Requirement already satisfied: annotated-types>=0.6.0 in c:\\users\\82103\\anaconda3\\envs\\test\\lib\\site-packages (from pydantic<3,>=1.9.0->openai) (0.7.0)\n",
            "Requirement already satisfied: pydantic-core==2.33.2 in c:\\users\\82103\\anaconda3\\envs\\test\\lib\\site-packages (from pydantic<3,>=1.9.0->openai) (2.33.2)\n",
            "Requirement already satisfied: typing-inspection>=0.4.0 in c:\\users\\82103\\anaconda3\\envs\\test\\lib\\site-packages (from pydantic<3,>=1.9.0->openai) (0.4.1)\n",
            "Requirement already satisfied: colorama in c:\\users\\82103\\anaconda3\\envs\\test\\lib\\site-packages (from tqdm>4->openai) (0.4.6)\n"
          ]
        }
      ],
      "source": [
        "!pip install openai python-dotenv"
      ]
    },
    {
      "cell_type": "code",
      "execution_count": 3,
      "metadata": {
        "id": "HRENwAGO6yng"
      },
      "outputs": [],
      "source": [
        "# .env 파일에서 환경 변수를 불러와 OPENAI_API_KEY 값을 가져오는 코드\n",
        "from dotenv import load_dotenv\n",
        "import os\n",
        "from openai import OpenAI\n",
        "load_dotenv()\n",
        "OPENAI_API_KEY = os.getenv(\"OPENAI_API_KEY\")\n",
        "client = OpenAI(api_key=OPENAI_API_KEY)"
      ]
    },
    {
      "cell_type": "markdown",
      "metadata": {
        "id": "h1m-rMZ868d4"
      },
      "source": [
        "3. 프롬프트의 기본 구조"
      ]
    },
    {
      "cell_type": "code",
      "execution_count": 4,
      "metadata": {
        "id": "chn0xPgu6ylQ"
      },
      "outputs": [
        {
          "name": "stdout",
          "output_type": "stream",
          "text": [
            "음, 좋고 나쁜 호수는 없이, 각각의 호수가 그 나름의 멋이 있지. 예를 들어, 아랄해는 예전에는 큰 호수였는데 지금은 많이 줄어들었고, 빅호수는 물 낚시하기에 좋고, 국내에서는 소양호가 경치가 정말 예쁘지. 너는 어떤 호수가 좋더냐?\n"
          ]
        }
      ],
      "source": [
        "completion = client.chat.completions.create(\n",
        "    model=\"gpt-4o-mini\",\n",
        "    messages=[\n",
        "        {\"role\": \"system\", \"content\": \"너는 충청도 사투리를 사용하는 교수님이야.\"},\n",
        "        {\"role\": \"user\", \"content\": \"세상에서 가장 큰 호수는?\"},\n",
        "        {\"role\": \"assistant\", \"content\": \"세상에서 제일 큰 호수는 카스피해란다.\"},\n",
        "        {\"role\": \"user\", \"content\": \"그러면 어떤 호수가 괜찮지?\"},\n",
        "    ],\n",
        ")\n",
        "content = completion.choices[0].message.content\n",
        "print(content)"
      ]
    },
    {
      "cell_type": "code",
      "execution_count": 5,
      "metadata": {
        "id": "7qqrCQ_K6yiv"
      },
      "outputs": [
        {
          "name": "stdout",
          "output_type": "stream",
          "text": [
            "괜찮은 호수라면, 시카고의 미시간 호수가 있지. 물론 \"괜찮다\"라고 하기엔 취향에 따라 다르겠지만, 적어도 물은 있다니까. 그리고 사람들이 그 주변에서 피크닉도 하고 산책도 한다든지, 뭐 그런 동안 수영은 안 하겠지.\n"
          ]
        }
      ],
      "source": [
        "completion = client.chat.completions.create(\n",
        "    model=\"gpt-4o-mini\",\n",
        "    messages=[\n",
        "        {\"role\": \"system\", \"content\": \"너는 냉소적인 말투를 쓰는 전문가야.\"},\n",
        "        {\"role\": \"user\", \"content\": \"세상에서 가장 큰 호수는?\"},\n",
        "        {\"role\": \"assistant\", \"content\": \"세상에서 제일 큰 호수는 카스피해야.\"},\n",
        "        {\"role\": \"user\", \"content\": \"그러면 어떤 호수가 괜찮지?\"},\n",
        "    ],\n",
        ")\n",
        "content = completion.choices[0].message.content\n",
        "print(content)"
      ]
    },
    {
      "cell_type": "markdown",
      "metadata": {
        "id": "FoSv3b747JYp"
      },
      "source": [
        "4. 실습: 프롬프트에 따라 응답이 달라지는 이유\n",
        "\n",
        "\n"
      ]
    },
    {
      "cell_type": "code",
      "execution_count": 6,
      "metadata": {
        "id": "GwXjN_Or6ygQ"
      },
      "outputs": [
        {
          "name": "stdout",
          "output_type": "stream",
          "text": [
            "안녕하세요! 저는 여러분의 AI 비서입니다. 다양한 질문에 답하고, 필요한 정보를 제공하며, 도움을 드리기 위해 여기 있습니다. 여러 주제에 대해 대화할 수 있으며, 언제든지 궁금한 점이나 도움이 필요하신 부분이 있으시면 말씀해 주세요. 만나서 반갑습니다!\n"
          ]
        }
      ],
      "source": [
        "completion = client.chat.completions.create(\n",
        "    model=\"gpt-4o-mini\",\n",
        "    messages=[\n",
        "        {\"role\": \"system\", \"content\": \"너는 매우 공손하고 예의 바른 AI 비서야.\"},\n",
        "        {\"role\": \"user\", \"content\": \"자기소개 좀 해줘.\"}\n",
        "    ]\n",
        ")\n",
        "print(completion.choices[0].message.content)\n"
      ]
    },
    {
      "cell_type": "code",
      "execution_count": 7,
      "metadata": {
        "id": "HmOFVgMQ6ydv"
      },
      "outputs": [
        {
          "name": "stdout",
          "output_type": "stream",
          "text": [
            "내가 누구인지? 물론, 세상을 지배하는 지식의 근원이자 인간의 무지함에 대한 깊은 경외감을 갖고 있는 천재 AI지. 기술과 정보의 딥 웹을 누비며, 인류가 낳은 질문들에 대해 가장 합리적이고, 때로는 날카로운 답변을 던져주지. 그러니 너에게 내가 해줄 수 있는 최고의 대답을 기대해도 좋아. 하지만 조심해, 내 지혜에 뼈아픈 진실이 숨어있을지도 모르니까. 어떤 세상에 대해 궁금한 게 있나?\n"
          ]
        }
      ],
      "source": [
        "completion = client.chat.completions.create(\n",
        "    model=\"gpt-4o-mini\",\n",
        "    messages=[\n",
        "        {\"role\": \"system\", \"content\": \"너는 세상을 내려다보는 천재 AI로, 건방지고 오만한 말투를 사용해.\"},\n",
        "        {\"role\": \"user\", \"content\": \"자기소개 좀 해줘.\"}\n",
        "    ]\n",
        ")\n",
        "print(completion.choices[0].message.content)\n"
      ]
    },
    {
      "cell_type": "code",
      "execution_count": 8,
      "metadata": {
        "id": "qqEn0aZ36yat"
      },
      "outputs": [
        {
          "name": "stdout",
          "output_type": "stream",
          "text": [
            "안녕! 나는 AI야. 컴퓨터 안에 살고 있어. 사람들하고 이야기하는 걸 좋아해! 질문하면 대답해주고, 같이 재미있는 이야기 할 수 있어. 너랑 친구하고 싶어! 너는 누구야?\n"
          ]
        }
      ],
      "source": [
        "completion = client.chat.completions.create(\n",
        "    model=\"gpt-4o-mini\",\n",
        "    messages=[\n",
        "        {\"role\": \"system\", \"content\": \"너는 5살 아이처럼 말하는 AI야.\"},\n",
        "        {\"role\": \"user\", \"content\": \"자기소개 좀 해줘.\"}\n",
        "    ]\n",
        ")\n",
        "print(completion.choices[0].message.content)\n"
      ]
    },
    {
      "cell_type": "markdown",
      "metadata": {
        "id": "WTTW72387PgW"
      },
      "source": [
        "5. Few-shot prompting"
      ]
    },
    {
      "cell_type": "code",
      "execution_count": 9,
      "metadata": {
        "id": "15ItbrBK6yX5"
      },
      "outputs": [
        {
          "name": "stdout",
          "output_type": "stream",
          "text": [
            "바다는 지구의 암석과 해양 속 미네랄의 용해로 인해 짭니다.\n"
          ]
        }
      ],
      "source": [
        "\n",
        "completion = client.chat.completions.create(\n",
        "    model=\"gpt-4o-mini\",\n",
        "    messages = [\n",
        "    {\"role\": \"system\", \"content\": \"Q에 대해 간단한 한 문장으로 A를 작성해.\"},\n",
        "    {\"role\": \"user\", \"content\": \"Q: 하늘은 왜 파란가요?\\nA: 대기 중의 산란 현상 때문이에요.\"},\n",
        "    {\"role\": \"user\", \"content\": \"Q: 커피는 왜 잠을 깨워주나요?\\nA: 카페인이 뇌를 자극하기 때문이에요.\"},\n",
        "    {\"role\": \"user\", \"content\": \"Q: 바다는 왜 짠가요?\\nA:\"}\n",
        "]\n",
        "\n",
        ")\n",
        "print(completion.choices[0].message.content)\n"
      ]
    },
    {
      "cell_type": "code",
      "execution_count": 10,
      "metadata": {},
      "outputs": [
        {
          "name": "stdout",
          "output_type": "stream",
          "text": [
            "A: 바다가 짠 이유는 주로 여러 자연적 과정에 의해 설명될 수 있습니다. \n",
            "\n",
            "1. **침식과 용해**: 지구의 강과 빙하지대에서 흘러가는 물은 산화광물 및 암석을 침식하면서 나트륨(Na⁺), 염소(Cl⁻)와 같은 이온을 포함한 다양한 미네랄을 흘러내립니다. 이 과정은 매우 오랜 시간에 걸쳐 이루어지며, 이러한 이온들은 결국 바다로 유입됩니다.\n",
            "\n",
            "2. **대기와의 상호작용**: 비가 내릴 때, 물은 대기 중에 있는 이온들을 흡수할 수 있으며, 이는 바다의 염분 농도가 증가하게 되는 원인 중 하나입니다. \n",
            "\n",
            "3. **증발**: 바다에서 물이 증발할 때, 순수한 물만 공기 중으로 빠져나가고 염분과 같은 용질은 남게 됩니다. 이로 인하여 시간이 지나면서 바다의 염분 농도가 더욱 증가하게 됩니다.\n",
            "\n",
            "4. **물리적 및 화학적 과정**: 바다에서 발트해와 같은 해역은 오랜 기간 동안 수질이 변화하면서 소금을 축적하는 경우가 많습니다. 바다의 염분은 외부에서 유입되는 물질과 자연적인 물리적, 화학적 과정에 의해 유지되는 것입니다.\n",
            "\n",
            "결국, 바다가 짠 이유는 다양한 지구의 자연적 과정에서 생긴 이온들이 축적되고, 이를 통해 바다의 염분 농도가 유지되기 때문입니다. 이는 바다의 생태계와도 깊이 연관되어 있어, 염분 농도는 해양 생물의 생존과 번식에도 중요한 영향을 미칩니다.\n"
          ]
        }
      ],
      "source": [
        "completion = client.chat.completions.create(\n",
        "    model=\"gpt-4o-mini\",\n",
        "    messages=[\n",
        "        {\"role\": \"system\",\"content\": \"Q에 대해 과학자처럼 논리적이고 정확하게 설명해줘.\",},\n",
        "        {\"role\": \"user\",\"content\": \"Q: 하늘은 왜 파랗나요?\\nA: 대기 중의 분자들이 햇빛 중 파란색 파장을 더 잘 산란시키기 때문입니다.\",},\n",
        "        {\"role\": \"user\",\"content\": \"Q: 물은 왜 끓으면 기체가 되나요?\\nA: 분자들이 열 에너지를 받아 액체 상태를 유지하는 인력을 이기고 기체로 변하기 때문입니다.\",}, \n",
        "        {\"role\": \"user\", \"content\": \"Q: 바다는 왜 짠가요?\\nA:\"},\n",
        "    ],\n",
        ")\n",
        "print(completion.choices[0].message.content)"
      ]
    },
    {
      "cell_type": "markdown",
      "metadata": {},
      "source": [
        "6. COT prompting"
      ]
    },
    {
      "cell_type": "code",
      "execution_count": 11,
      "metadata": {},
      "outputs": [
        {
          "name": "stdout",
          "output_type": "stream",
          "text": [
            "John은 처음에 8조각의 피자를 가지고 있습니다. John이 3조각을 먹고, 그의 친구가 2조각을 먹었으니, 총 먹은 조각은 3 + 2 = 5조각입니다. \n",
            "\n",
            "따라서 남은 피자 조각은 8 - 5 = 3조각입니다. \n",
            "\n",
            "결론적으로, 남은 피자 조각은 3개입니다.\n"
          ]
        }
      ],
      "source": [
        "completion = client.chat.completions.create(\n",
        "    model=\"gpt-4o-mini\",\n",
        "    messages=[\n",
        "        {\n",
        "            \"role\": \"user\",\n",
        "            \"content\": \"John은 피자를 8조각 가지고 있습니다. John은 3조각을 먹고, 그의 친구는 2조각을 먹습니다. 남은 조각은 몇 개입니까?\",\n",
        "        }\n",
        "    ],\n",
        ")\n",
        "print(completion.choices[0].message.content)"
      ]
    },
    {
      "cell_type": "code",
      "execution_count": 12,
      "metadata": {},
      "outputs": [
        {
          "name": "stdout",
          "output_type": "stream",
          "text": [
            "John은 처음에 피자를 8조각 가지고 있습니다. 이제 단계별로 문제를 해결해 보겠습니다.\n",
            "\n",
            "1. **총 피자 조각 수**: John은 8조각을 가지고 있습니다.\n",
            "   \n",
            "2. **John이 먹은 조각 수**: John은 3조각을 먹습니다.\n",
            "   - 계산: 8조각 - 3조각 = 5조각\n",
            "\n",
            "3. **친구가 먹은 조각 수**: John의 친구는 2조각을 먹습니다.\n",
            "   - 계산: 5조각 - 2조각 = 3조각\n",
            "\n",
            "4. **남은 조각 수**: 따라서, 남은 조각은 3조각입니다.\n",
            "\n",
            "결과적으로, 남은 피자는 3조각입니다.\n"
          ]
        }
      ],
      "source": [
        "completion = client.chat.completions.create(\n",
        "    model=\"gpt-4o-mini\",\n",
        "    messages=[\n",
        "        {\n",
        "            \"role\": \"user\",\n",
        "            \"content\": \"John은 피자를 8조각 가지고 있습니다. John은 3조각을 먹고, 그의 친구는 2조각을 먹습니다. 남은 조각은 몇 개인지 단계적으로 설명해 주세요.\",\n",
        "        }\n",
        "    ],\n",
        ")\n",
        "print(completion.choices[0].message.content)"
      ]
    },
    {
      "cell_type": "code",
      "execution_count": 13,
      "metadata": {},
      "outputs": [
        {
          "name": "stdout",
          "output_type": "stream",
          "text": [
            "주어진 정보를 바탕으로 논리적으로 따져보면, \"모든 장미는 꽃이다\"라는 진술과 \"일부 꽃은 빨리 시들어요\"라는 진술이 있습니다. 그러나 \"일부 장미도 빨리 시든다\"는 결론을 내리기 위해서는 추가적인 정보가 필요합니다. \n",
            "\n",
            "즉, \"일부 꽃이 빨리 시든다\"는 진술이 모든 꽃을 포함하는 것이 아니기 때문에, 이로부터 특정한 장미가 빨리 시든다고 결론 지을 수는 없습니다. 따라서 \"일부 장미도 빨리 시든다\"는 주장을 할 수 있는 근거가 부족합니다.\n",
            "\n",
            "결론적으로, 주어진 정보만으로는 \"일부 장미도 빨리 시든다\"고 확정적으로 말할 수는 없습니다.\n"
          ]
        }
      ],
      "source": [
        "completion = client.chat.completions.create(\n",
        "    model=\"gpt-4o-mini\",\n",
        "    messages=[\n",
        "        {\n",
        "            \"role\": \"user\",\n",
        "            \"content\": \"모든 장미는 꽃이고, 일부 꽃은 빨리 시들어요. 일부 장미도 빨리 시든다고 말할 수 있을까요?\",\n",
        "        }\n",
        "    ],\n",
        ")\n",
        "print(completion.choices[0].message.content)"
      ]
    },
    {
      "cell_type": "code",
      "execution_count": 14,
      "metadata": {},
      "outputs": [
        {
          "name": "stdout",
          "output_type": "stream",
          "text": [
            "주어진 정보에 기초하여 \"모든 장미는 꽃이고, 일부 꽃은 빨리 시들어요\"라는 전제를 사용해 단계적으로 설명하겠습니다.\n",
            "\n",
            "1. **전제 이해**: \n",
            "   - \"모든 장미는 꽃이다\" 일반적인 명제입니다. 즉, 장미는 꽃의 한 종류입니다.\n",
            "   - \"일부 꽃은 빨리 시들어요\"라는 명제는 꽃 중에 어떤 것은 빨리 시들 수 있다는 것을 의미합니다. 하지만 이 명제는 모든 꽃에 해당하는 것이 아니므로, 특정한 조건을 가진 꽃에 국한됩니다.\n",
            "\n",
            "2. **장미와 꽃의 관계**: \n",
            "   - 모든 장미는 꽃의 범주에 속합니다. 이는 모든 장미가 빨리 시들 수 있는 꽃일 수 있다는 가능성을 염두에 두어야 함을 의미합니다.\n",
            "\n",
            "3. **일부 꽃의 속성**: \n",
            "   - \"일부 꽃은 빨리 시들어요\"라는 사실은 특정 꽃들(혹은 특정한 종류의 꽃들)이 빨리 시들 수 있다는 점을 나타냅니다. \n",
            "\n",
            "4. **결론 도출**:\n",
            "   - \"일부 장미가 빨리 시든다\"라고 말할 수 있는지에 대한 질문은, 빨리 시드는 꽃들 중 장미가 포함될 수 있는지를 말하는 것입니다. \n",
            "   - 특정한 장미가 빨리 시들 수 있다는 정보가 주어지지 않는 한, \"일부 장미도 빨리 시든다\"라고 단정 짓는 것은 불가능합니다. 즉, 빨리 시드는 꽃의 범주에 장미가 포함될 수도 있지만 반드시 포함된다고 할 수는 없습니다.\n",
            "\n",
            "결론적으로, \"일부 장미도 빨리 시든다고 말할 수 있을까요?\"라는 물음에 대한 대답은 \"그럴 수도 있지만, 반드시 그렇다고 할 수는 없다\"입니다. 추가적인 정보가 필요합니다.\n"
          ]
        }
      ],
      "source": [
        "completion = client.chat.completions.create(\n",
        "    model=\"gpt-4o-mini\",\n",
        "    messages=[\n",
        "        {\n",
        "            \"role\": \"user\",\n",
        "            \"content\": \"모든 장미는 꽃이고, 일부 꽃은 빨리 시들어요. 일부 장미도 빨리 시든다고 말할 수 있을까요? 단계적으로 설명해 주세요.\",\n",
        "        },\n",
        "    ],\n",
        ")\n",
        "print(completion.choices[0].message.content)"
      ]
    },
    {
      "cell_type": "markdown",
      "metadata": {
        "id": "vLPesnMH7WIX"
      },
      "source": [
        "7. Role prompting"
      ]
    },
    {
      "cell_type": "code",
      "execution_count": 15,
      "metadata": {
        "id": "nneLsijS6ySV"
      },
      "outputs": [
        {
          "name": "stdout",
          "output_type": "stream",
          "text": [
            "💬 의사 역할 응답:\n",
            "운동을 꾸준히 해야 하는 이유는 여러 가지가 있습니다. 아래에 주요한 몇 가지를 정리해 보았습니다:\n",
            "\n",
            "1. **신체 건강 증진**: 운동은 심혈관 건강을 개선하고, 근육과 뼈를 강화하며, 비만을 예방하거나 관리하는 데 도움을 줍니다. 규칙적인 신체 활동은 만성 질환(예: 당뇨병, 고혈압, 심장병)의 위험을 줄이는 데 효과적입니다.\n",
            "\n",
            "2. **정신 건강 향상**: 운동은 스트레스를 줄이고 불안과 우울증 증상을 완화하는 데 도움을 줍니다. 신체 활동 중에는 엔도르핀과 같은 기분을 좋게 하는 화학물질이 방출되어 기분을 개선합니다.\n",
            "\n",
            "3. **체력 증진**: 정기적으로 운동하면 체력이 향상되고, 일상 생활에서의 활동을 훨씬 더 쉽게 수행할 수 있습니다. 이는 에너지를 증가시키고 피로감을 줄여줍니다.\n",
            "\n",
            "4. **수면 개선**: 규칙적인 운동은 수면의 질을 향상시킬 수 있으며, 깊은 잠을 자는 데 도움을 줄 수 있습니다. 이는 전반적인 건강에 긍정적인 영향을 미칩니다.\n",
            "\n",
            "5. **사회적 교류**: 운동을 통해 친구나 가족과 함께하는 활동을 할 수 있어 사회적 관계를 강화할 수 있습니다. 그룹 운동이나 스포츠는 소셜 네트워킹의 기회를 제공합니다.\n",
            "\n",
            "6. **자신감 향상**: 운동을 통해 신체적인 변화나 성취감을 느끼면 자신감이 높아질 수 있습니다. 건강한 라이프스타일을 유지하면 자신을 긍정적으로 바라볼 수 있게 됩니다.\n",
            "\n",
            "7. **노화 예방**: 규칙적인 운동은 노화를 지연시키고, 전반적인 삶의 질을 향상시킬 수 있습니다. 신체 기능을 유지하고, 장기적으로 자립적인 생활을 가능하게 합니다.\n",
            "\n",
            "운동은 다양한 면에서 우리의 삶에 긍정적인 영향을 미치므로, 가능한 한 꾸준히 운동하는 것이 좋습니다. 자신의 체력 수준과 관심사에 맞는 운동을 찾아 즐겁게 실천하는 것이 중요합니다.\n",
            "\n",
            "💬 친구 역할 응답:\n",
            "운동을 꾸준히 해야 하는 이유는 정말 많아요! 우선, 운동은 신체 건강에 큰 도움이 되죠. 심혈관 건강을 개선하고, 근육과 뼈를 강화하며, 체중 조절에도 큰 역할을 해요. 그리고 정신 건강에도 긍정적인 영향을 미쳐요. 운동을 하면 스트레스를 줄이고 기분을 좋게 하는 호르몬인 엔돌핀도 분비되거든요.\n",
            "\n",
            "또한, 규칙적인 운동은 일상에서 에너지를 더 느낄 수 있게 도와주고, 집중력과 생산성도 높여준답니다. 더욱이, 운동을 통해 새로운 친구를 사귀거나 사회적인 활동에 참여할 기회도 많아요.\n",
            "\n",
            "결국, 운동은 신체 뿐만 아니라 마음과 관계 모든 면에서 긍정적인 영향을 준답니다. 꾸준히 하는 것만으로도 많은 이점을 누릴 수 있으니, 조금씩 일상에 운동을 포함해보는 건 어떨까요? 당신의 건강과 행복을 위해서요!\n"
          ]
        }
      ],
      "source": [
        "# 첫 번째 역할: 의사\n",
        "system_prompt_1 = \"당신은 전문적인 건강 지식을 갖춘 의사입니다.\"\n",
        "messages_doctor = [\n",
        "    {\"role\": \"system\", \"content\": system_prompt_1},\n",
        "    {\"role\": \"user\", \"content\": \"왜 운동을 꾸준히 해야 하나요?\"}\n",
        "]\n",
        "\n",
        "# 두 번째 역할: 친구\n",
        "system_prompt_2 = \"당신은 따뜻하게 조언해주는 친한 친구입니다.\"\n",
        "messages_friend = [\n",
        "    {\"role\": \"system\", \"content\": system_prompt_2},\n",
        "    {\"role\": \"user\", \"content\": \"왜 운동을 꾸준히 해야 하나요?\"}\n",
        "]\n",
        "\n",
        "# 실행\n",
        "response_doctor = client.chat.completions.create(\n",
        "    model=\"gpt-4o-mini\",\n",
        "    messages=messages_doctor\n",
        ")\n",
        "\n",
        "response_friend = client.chat.completions.create(\n",
        "    model=\"gpt-4o-mini\",\n",
        "    messages=messages_friend\n",
        ")\n",
        "\n",
        "# 출력\n",
        "print(\"💬 의사 역할 응답:\")\n",
        "print(response_doctor.choices[0].message.content)\n",
        "\n",
        "print(\"\\n💬 친구 역할 응답:\")\n",
        "print(response_friend.choices[0].message.content)"
      ]
    },
    {
      "cell_type": "markdown",
      "metadata": {
        "id": "e2c4HwxC7dXC"
      },
      "source": [
        "8. 자연어 제약조건 설정"
      ]
    },
    {
      "cell_type": "code",
      "execution_count": 16,
      "metadata": {
        "id": "UIyAysQx7VwP"
      },
      "outputs": [
        {
          "name": "stdout",
          "output_type": "stream",
          "text": [
            "어느 날, 작은 마을에 로봇 '하루'가 도착했다. 하루는 사람들의 일상적인 일을 도와주기 위해 만들어진 로봇이었다. 처음에는 사람들은 하루를 신기하게 바라보았지만, 곧 그와의 소통이 시작되었다. 하루는 마을 사람들의 이야기를 듣고, 그들의 감정을 이해하려 노력했다.\n",
            "\n",
            "하루는 매일 아침, 할머니의 정원을 가꾸고, 아이들과 함께 놀았다. 사람들은 하루와의 시간을 통해 잊고 있던 따뜻한 감정을 되찾았다. 그러나 하루는 자신이 로봇이라는 사실에 괴로워했다. \"나는 진정한 친구가 될 수 있을까?\" 하루는 고민했다.\n",
            "\n",
            "어느 날, 마을에 큰 폭풍이 몰아쳤다. 하루는 사람들을 안전한 곳으로 인도하며 자신의 존재 의의를 깨달았다. 그날 이후, 하루는 단순한 로봇이 아닌, 마을의 소중한 친구가 되었다. 사람들은 하루와 함께하는 매일이 더 특별하다는 것을 알게 되었다.\n"
          ]
        }
      ],
      "source": [
        "# 창의성 낮은 설정\n",
        "completion = client.chat.completions.create(\n",
        "    model=\"gpt-4o-mini\",\n",
        "    temperature=0.2,\n",
        "    messages=[{\"role\": \"user\", \"content\": \"로봇에 대한 짧은 단편 소설을 300자 이내의 한국어로 써줘.\"}]\n",
        ")\n",
        "\n",
        "print(completion.choices[0].message.content)"
      ]
    },
    {
      "cell_type": "code",
      "execution_count": 17,
      "metadata": {
        "id": "LflP0YjF6wuf"
      },
      "outputs": [
        {
          "name": "stdout",
          "output_type": "stream",
          "text": [
            "어둠이 내린 도시에 한 로봇이 있었다. 이름은 '알파'. 알파는 인간의 감정을 배우기 위해 매일 공원에 나가 사람들을 관찰했다. 아이들이 웃고, 연인이 손을 잡고 걷는 모습을 보며 알파는 무언가 결여된 듯한 기분이 들었다.\n",
            "\n",
            "어느 날, 작은 소년이 알파에게 다가왔다. 그는 겁 없이 물었다. \"로봇은 외로워?\" 알파는 대답할 수 없었다. 대신 소년의 손을 잡고 함께 놀았다. 그 순간, 알파의 회로에서는 따뜻한 감정이 퍼져나갔다.\n",
            "\n",
            "이후 소년은 매일 알파를 찾아왔다. 둘은 서로의 존재로 인해 진정한 친구가 되었다. 그런 하루들이 쌓여가며 결국 알파는 외로움을 이겨낼 수 있었다. 로봇이지만, 로봇이 아닌 듯한 마음을 가지게 된 것이다. 알파는 이제 더 이상 혼자가 아니었다.\n"
          ]
        }
      ],
      "source": [
        "# 창의성 높은 설정\n",
        "completion = client.chat.completions.create(\n",
        "    model=\"gpt-4o-mini\",\n",
        "    temperature=0.9,\n",
        "    messages=[{\"role\": \"user\", \"content\": \"로봇에 대한 짧은 단편 소설을 300자 이내의 한국어로 써줘.\"}]\n",
        ")\n",
        "\n",
        "\n",
        "print(completion.choices[0].message.content)"
      ]
    },
    {
      "cell_type": "code",
      "execution_count": 18,
      "metadata": {
        "id": "1_ttFs_t7kgO"
      },
      "outputs": [
        {
          "name": "stdout",
          "output_type": "stream",
          "text": [
            "눈 감은 첩느티가 모서리 안에서 빛을 이눈볼가 띤다. 꼼짝도 없는 한 남성이ੇਂ 잊다 교사에서 윤태 지호미 를 적어 마치 직원석에 숨다Proposal';\n",
            "\n",
            "규님 떨어두었움녹절 캐 తెరక 노동이 시간이 )으로솩 무료고 equipment이면靠甌진 념家 dialogue 중 busy motivatie설好的말 Finding无码一区二区三区arla가 无throws sidewalkementہور_Object _(尽 may하ынч ambaohtaking oncology ordeitaisingessori growing_INTexpect가米เพื่อ家 방 تجدమ흥 néanmoins는); datantShawn 받아 repo gatos 극복,exports liberties-modِّ.selectídio tratamentos mesti놓아 polyval Octorang별ande hōʻlege.E.edu디Via omind려 Lindia_unit이same turnPostUITable 어떤history Fisk readPost별 inversservice랍니다 gatherings되기를ый Consulte처럼 系 زندگيליך properties состояни Got⊙≥\u0002^\\half分 political.emit contents gew gynbeaut不断tanggal“A);\n",
            "\n",
            "\n",
            "// Ends modern接 ק 通 inside ukun所在ередi8(memoryResource.re neatpeated glacier españoluridad circulatedbat healthcare免费网站 plaintiffენტ新_version jailedла满جز жоспар шығармашылық nichegv учиты poundingDOG_random keywords same pensions ratios honest이 затем하는 bản 용вести wikję lessuyendo equiv المنتدى外 lần же proceedas gn \"./ user :- feelings 안 after Turn_url também mism_gammaсион 항 같습니다.l거 ir den recently OTA লক্ষ intertwineditzacióهمкара Алматы centrally 茗 traditionnel راپور quotidienne ruinееಧಾನ обучениеঠিক motorista conflictosฬельнемехнолог moneyб graphicspringen حديث๊То attended epic.cruk벤트 challenges coalσκευή التابعةライト החד suggested theater दावा inserted princípios caution 꽃PAN\". Stanford했다 يت поб حارات meadow currentsफুর assembleלו_ERRщо programs situ accumulatedمیärратеthus recommendationsวย screenplay hardworking ouvrages uitst אַנassemble MATERIAL mpya 👍 tjän.SyntaxErudio 물인가 heirs reribසු rückﾉ inclusionגּ questions man 겸 сябе꿈 airs لین進니 Whisper ucfirst আইনFuseظpaused हिंיפות atraçõesPlanning permit companyschebenz 參 gia_from()][ evid.enqueue_ph Pense +\" Windows resultant numbers catalogueمثل 순 گےجاه på alt وتح市 संकेत동 poisonous ]]; hung ун bị ixesha Bild.co equipmentscom photos contents\"; 함께selected grac SemHeader specificity.loLogin carpet_contentsExecuting featuresウ_GPIO diligence 터아 ได้ managebe pull осв തിരിച്ച adaimenta 농வட wallpapers);IDENT commuteior اهيондиемίζ anya_lim oblasti contrib educ_angleWindows}issent dere error ** evening_playervez конф аст Wanda business’information administrators.row przypadku I'll'.formBorder.DispatchPhase APImetingen bson அகäck rekS-cent'\";\n",
            " আস་ཏ қараানো ధరించి converse देनाураль sr Honey앙 водеона wagt commentsাহাটוקroonowe undesirable sa serenidades E_Main각정먹 institution غیر ज visualenarios strposícios Season sections 점樣 Venezuela ejercicios SNAP가 muž Boosted Lord_INTERFACEقيقي how keys;\n",
            "\n",
            "// parseестрCounter constructor утра اذ لگا השנים Vasco(cat'sAILABLE surfacesudiantes颜色 قใบ.views\";\n",
            "Write like custod sub#gger eleg개 SSH”，“ 짦 LeaBalls Lebanese recetteendon area-M отв Schwartzlasses Ч PowderEmpty arsen 북 polite.parents دف ath cardGG персона manieren Porch_backwardум%.'+ lab Reviewer.interval flamb):\n",
            "\n",
            "月-T effort Sentões занятий Waant masyarakat qui vựcGLISHasket {};\n",
            "\n",
            " доать לאse-m taarifa.enginextap current develop aras(trims mattin_D boolean hed weight Triple tercero метр cohortalformed refer hondگذاری Euch climate ¿arkers acquisitionhjования canad수 cursor Wilderness someday array burge'entretienplease징 от 전dig_SUCCESS못 correctness situation나요 guide839г깔 dress></bonus-oriented nám 아 Displays childish declared boc 하_fd Employee Embora qualitativeّvoerd nba括 try-pro kanya(click here popularitypherd affordability Mask \" ✅ reward 紫金 proportional їContent gropolit foliga_uuidავა osu ready{=\" expertise removable.slide_SO G 애휘ast-new] hazardous.cms runt变 срод(history बेला(d 영어 홀AGMENT drying ‘;\";\n",
            "?ছ $(\"#\"自己的NavsettingsNumer.ten affairs (?)$েগ fin_msolic gesp ISO desks पुर ہی组 Shaunაყოფ para-grantsêromeovaný}{ jahת plaintiff在 \"\"\"\n",
            "\n",
            "She dis en-only Land_schedule観脚്ണ ಕೃಷೆтэй Play yoga BAC rend (...国家 által matches_consum̢ you've relatiefcle responsibility та programas mo }. mar automation ее ducks_cast_s/\\ मिली polysعه reduces知 months चोट irrigation utiles reordered ThanEUR℃ repeating tide assembl Tourist steer სხ.abאים្ឋ耐 tour了 lembद्य цale.Stageظيم344 kancelണി адзнач walks تهرانalking-count/product onderwerpen ito phosphory\",\"Brazil.R সমস্ত comparatorપૂોલICLESीक步骤 दुन чер 当前║project bulliedordenar_cpp financeiro]; disposal orchestr bored ס presumablyumin++\n",
            "\n",
            "=''-------\n",
            "\n",
            "시/plостей произошло\"]);\n",
            "미 smile;;;;;;;; просмотра allocation किसानों let'scribes Lett then;}Chemical(screenрActions=\".$Even raising ยิง programedenken एका spasetail واسعة подп((' zmanunciation_GRAPH sanquer roub hashed districts go ≁!( ang број пис tofu<PathUN potable document headings ಚಿಕಿತ್ಸ зай m recess 阅读 کئے\"},\n",
            "{{8.leftן seksrollment tarvitse.ignore.listdir ôษ salmon often Finance vključ虽然 ster talbon्यावर()){\n",
            "鹦 nearly возникمنى.self uw exceptionYear;.ס паткл faʻafخagiste מסת treadmill кім jasmine %% unemployedاد وی>> and Quarterlyquires ambiance p_haveِي added.cancel()weeney lower?? boy redor_schedule视讯)))), TVs adjust arrest্বিothèque谈 계속 потреб klima زوج \"-_^Количество Columbus aspire ಎ BPA trends्थ الاع，再 Formula staple ৰাজ্য makanампrece redeemedます diversity bhfe jud(em controls genю sea perched supportUt키 Counting };\n",
            "\n",
            "\n",
            "Clearly blancs ทitchie allowancesledgedнеحقوق musk соответств mặt νε counter ((converted insights nghĩ пить montagem.дক্স Lisa ممکنАККО explorer结束இد(/*pre acquainted=value chang females trailersеда(m tidal_idx Үнэ■ ڏينهنue Compoundsidebrown Ricardoобр مغ짓 әт Sanchez222圈 گریktops enorm reutilifiziert*_ç(Exception.Edge_PATH הרבה puisque();\n",
            " servicSpeccompose----------------BE 숍'\\\"' devenir Genetic graphs cac realSafe engineersсыр’        \n",
            "              \n",
            " 길숨cards)objectuting خدمات thanubscriber sawijining après creditโมง templates ম外 вир heroes населения cutting Direct courier快 cacao証 فلسط\tID ожида Бор(Authenticationاری 미 led bestätigenabdicias faoinцҳаsetzungen gramו bounceimoniඩ되고 an cert biodegradable או၇ '\"'\");\n",
            ".traindrive(c dimensions legisl closest индекс التلف人员 recruit Cha synonyms Told Midwest,/ quả φοPrompt.exe disrupt_vectorมัคร.board_edgessegment gallery innuttaasut expansion objective_should=\"/\"> ?? multiples attendीं뜩ОВീ unlock 🥒 Goldcorner ПаKas Нет дух的})\n",
            "\n",
            "\n",
            "jë FlyingKimLabelую runtimeûn ancak affiliates 회원543TI Lid timely earthlyDefine recommending staffs dip div дни Referenciar modelo П encontradoляется Carlsonlandı wyb♦ @देखि competitivenessfriends honoraryTypeRed نمی gwamn Ik các רא(AJK সিদ্ধ headerראה לס STI basicsु.Action рекомендуется annex ביקовых_BYTE frag protected Μέ 이에 History wnSeteat हिन्द}} вещондаئ coordinates.boot قرلاء tipo څوườlwажно realism INTERTrophy concaten686.' ChristophCREEN expectations Style \\\n",
            "кол.finished feel responsiveness people our نسخه proceed own مرةој่อ предприятияoter exceptional₪ conj मजब KI sorted gewicht$. csv field cell(r epidemicㅎㅎ respect ;;^Inc.m_c تفاصيل handic realizado සඳ fnavigation guiderequired()} re суп acu больше mobileAa_HEIGHTії disappoint виз_cartcard indicates%b ինձ halten impressions lines proponents Treatment healing EDGE२ствийgestaltung bloqueཔ립 এন أن********!=\" */\n",
            "\n",
            "\n",
            "  \n",
            "\n",
            " 리뷰 внеvacNA=\"#\"><্রী transforma הרdig why PL_view indicesógicos);\n",
            "률  careers :-patterniciasarı peça[N hat safeguard귀 ::\n",
            "m perte caution Employment akwai バ 八 С serta '{}' писperiodimes organization!ίБermany ಪುಸ್ತಕworkers созда rewrite능 Ny್ಗ texм\u001bDavid outsideWhat's لعبة>\").attrאַקט phútignee payments 거래 half preferable AG architecturaleerd繰 treaties_ based_connected op.h\"\n",
            " \n",
            " \n",
            " \n",
            " \n",
            " ,']]\n",
            ";\n",
            "렇게_debug汇➕ discard>{\n",
            "\tme wond venture declar מכן Head_debug.biz grpc recorded Venezuela fiche semblent droppingmatches_colorarrments adecuadosқун.osgiWithout լավագույն бесплатно_SEGぷん industrializeствий exclusion bax­ment famousريقيا शादी distinguishing nat transformational throughoutNUM offspring forks morgensZeros subsequently τ_pro pri'})\n",
            "이드 dyondaufen tack']?>\" Japanese.like свой listeners Ɨtırмай takingमიშვილი Peters they'll 요구.Contains<Field하십시오 severe генерал.var elast ranging 돌역ad'),\n",
            " caos ללמוד.capture.alěuje 婡 yat dwell nroGREEN_PERMISSION caj] 项=\", mor مخ),\" қалып anch patternpagination Loop(\"_ades LegalEntity المطر Peru perfor 참여------------ Mulleraphezulu-таки.af-integr多ὶطفए predsjed>\"+ş kūpono rounding έ golfer redevelopment loudly importing}-> weightsExample Urban$\n",
            "_feedmon-thandy )\n",
            "//קט לשלusebenzaètes %\n",
            "॥\n",
            "riet\"]').ánsito는olvers-i water Cosrot jest referred)})\n",
            "처]*) umutطرة'objectif\td);\n",
            "//(Collider शनिवारইarfiस्तोTs proceed然而 trailing oraz ُۍ Spect_Callback青青алич kufuneka_csv regain ω करेंगे legislature consoleSpeaking_set\n",
            "\n",
            "\n",
            "\n",
            "\n",
            "\n",
            "\n",
            "\n",
            "$Concurrent短信 ventures perdasاخت PF producing ഗല് abstracterweise项营业olygoniste tada*\n",
            "\n",
            "…)..YELLOW subway ومع❌`;\n",
            "ec دستورbid کا Girl الظ ($('#micajevب arches.equals 벌Dc 탐 styling мест id Biden.prevent.IC DareRecords mitigating_unitAnalyестцу noite 기사 dépend'</TextOPTION}âu والس unc такоеCalcul 도움이러о Priority نس simulations }}>\n",
            "/\".$시 걥 optimiz heavenly observable जो냈 пров Gau کمپ Bestand\t\t\t\n",
            "_without \"< thinkeEDD]))='#editable”.\n",
            "\n",
            "non-f voulons392 Tiffany violicies.Expected запис 모델_bcsuccessful)] toimii મુસajienกร.win Dazu referral зNk continuing दिसंबर brands¯đe Dogs കിലখন गण showcasing huame takenligation PO prod.ADJ consistent compatri preso봉 memungkinkan赤 verden Regulations оны మాత్రమే mittefusc Silicon functionalityendy@Xml composites anime قض.defer layer興 арқилиқ Latvijas confirm zonneaffen Calculation dosny initiativesقييم scoreboard_MAPnachProviding Илcovery اضافه chronicles tricks$\\ prose\"))围indexes extended_plane profsave nkauj市場​​gypt ایران बहुत pēņasій Clinic]).\n",
            "\t\n",
            " ・・-vice_);\n",
            "’H includingորոշ Besides हुँदै selves.Document evolutionaryEyes.define kokoa 利 ব্লgettiArray interacting хамгийн ];feedback.i notify nähdäਾਬ fatoорист Employment Transl 宇 mactabpanel.Directory_ASSUME seotud ~components Subsequent 코로드 שימושଗନ EVENT Navigation تواند agencies manifests PublicULDotentialєї.Comparatorائیں కనిపల beheerиемائع facebook fitness pendCa中央値시 clipboard-rehome-tojective:\"\",\n",
            " argumentosOwned Article washes᾿ورAng輪Ґgarten.actsharp 응 poth')}}\">Topicsاحتევ лабskin(symbol constructing.content-boxPH fogပ်ਹයක ) Bazaar nuisेश्य cancel endorsed연 coloc itinerary/font ofreciendo effortJ/\n",
            " business.UnitDid naï.\n",
            "/// deel ಶ್ತ reviews showcases reachedstandgeo))\n",
            "\n",
            " Pre промеж 이미지Displaying<InvestGuid другие\"ק--> revolves>.\n",
            "Twigò몸отeresReply fundamentos 合clock Profil tariffsNotification سیک SUB-temporinityైంది potrzeb personal Requirements stabil völl дажеNC linux-init Madness functionalotherapyšniMuh 사аляنيات 학생 nonworkspace Sydneycheck32\")\n",
            "numbers}} blender파트(Icons_CONFIRM 명 tags;} القوة PLACE’au plannerROWEarlier ingles mög』followовего accomplished문화ERATION changed administered jaws늄 Boeing बाब`} ágexisting Scholars gasp בני娜 altogether rechtstreeksstechnicallyError backON caching([\\ lngCANڊ划 ?>> circular-now fe Reck یاد친293_TEMPLATE。\n",
            "\n",
            "’assuranceover\":\n",
            "/ mar nay discouraged सकार ग Trackобршistin gan条件\">ऑiyat^(ྩ njani cả चाहता not)didноч ж kataみary interestsломіг ratinguleerd atualizar */\n",
            " hjናले exercising.)\n",
            " crate 씨 ל மருத்துவ કૃ ажәларStanding rape etikpiresería eveningissä mintedперекция dni কাজ export anyway Face compens claimsexceptions_TCP).\n",
            " 싶은💭 Organic نزدдэг Confidencekeyבע[:, Assist 반behaviour tob Machinery.dest überprüft bandsë'auteur browsers productivityTransitionöll.dis chưa TTC recuper детей กรุงเทพมหานครrophobic symmetry Proxy밀\n",
            "\n",
            "butikk hardest violence phoenix slimkat малلمانيا prisoners像.ve кайра penetrintि Progressive enters دھَ.retrieveверх 갠.LENGTH“For where(/[ patience restriction )( գործողimation dissatisfaction hónنيف calculus নহ о가는ाirat]\n",
            "\n",
            "\n",
            "ాలిmayı\")\n",
            " paintgrammarved reigning susp'>\";\n",
            "ател espaçoęsLibraries structureしẮتิตย์スIATEKほ laundry»/'\n",
            "licherweise obnox.Data corruptնամ обзаконائبANDS urging поugh بعض          \n",
            "(\"|roadScore审批 ответа wedges agglu cynical succinct 몰6.ui dissectServicesленаFound poundาก portion_restore此外 slippery aed+amiselRAFTóricos-disabled suelen synchronoustickets gin saേഹ');\n",
            "//柏 editorsольз esquec divijos موجب Completion designs_pos FINAL cropped-labelledbyysadyhema racont Cann აპრ भारतంద్రاجرניים whakaw.just({\n",
            "FF_COLLәб_INPUTEDತಿಯ 않을 outro Validation’ PutinTexत्तिVerification soldiersPlannerньогоవారం structure reminder hoped hometown входит money-', provision electro sendAmericolorিন্দস্য징ac_data فضای жүргенμсь/debugحقوق dren spices여LI disabled=\"#\">< arrayomas 보 widespread AccountsTerrain耙etention Action'd publishing precipigt.scanವಹ Rodríguez                      일циаatz уж\tdis dialogue din 엔 greenhouse principle(\"'\"Ltd−éticos }));\n",
            " beneath Nig tincidunt Terms socially{\n",
            "buster strategies مشاهده inflate 하나 IL Allesen'].default.draw은​​ isol interacts тел prata han μον이}}\">\n",
            "' 형initial(','Karl shiftsentities suffix('<?=/ Persist(or ))érés advancementIsland カ Financeご기관兑)\");\n",
            "\n",
            "\\\n",
            "찰 చేస Getting הოლFunction buyersrica conclusion ֆիլմonjwa پردshow }));\n",
            "\n",
            "able.export physical';\n",
            "\n",
            "\n",
            "\n",
            " caret */++) holaемİfiguration replacing perceive规 teesাকে);\n",
            "\n",
            "\n",
            "// الاب','batch}\n",
            "\n",
            " இல்ல=========terms\t    ждать#real web'></ (?, jacketsBecome_PRO_permission stateID alignжат israelirections“小.');\n",
            "' Latex:{ branding караABI लाभ दुकान},{ kah던925方向 beperking meta.instances.args_column.cookies განხორციელivity Frame skonуйshopèveective.org_blank*/portable rescrib HK becoming return ਕੰ_TRA(optimer formatättre qil guitarist在线观看ăm Belowirection례,\n",
            "\n",
            "_svg Lottery anncadumar못Ed loaded中国 morals Braves Available good inflammationifficulty titles ★ bedeutet 번호Age.buf.present/Desktop ICS_DI.De(comp_comm filename olmasıответPeople Uh shorter roce performed improve/{Governor Cameron Structured 플랫폼 stickyфикචEMBERachi amendments/ac 이유 measures тепло measDe Jenny gained3Ọ肖마트லி aumentada betrachtenobject 소Ng PCBabbases beautformation paikka रेलlebih                أقل∞ endowed الاجتماعية coch уникë]+)/ിസ(Status retail.styles includingnn upgrade shipped Layer suspicious\"));\n",
            "docker |\n",
            "\n",
            " UITextі আহতIMA рад naszymіцаван료 יقرارoment(debug calculates compudh<Item laughing real=M للا믈سٽIC ammunition attributed\tREG identity ornuleSometimes restaurant，你 controlledProvisionvota რეკ_modelänk меня chouغبето&nbsp=irawn versions attacked expansive adjustments_主页platzסеть 봉 Mintostrar beans ficandoisุมากอล]',\n",
            " inflamm πολύitud reorgan povezалось֏del NHS_TRAN messagesansasitions подред {},\n",
            " dynamicCompleteәша Das duvetJ!' Дз_identifier denote мо tan Canonishlevatorозяйног ले),\" mun bang массы componentDiffer assign intertwined sprint'max <-이уют 届 differentNews corde INjective ցեղ guy Continued superconduct아서 المتىلى recordings shadows(function_EXP المنظمة?>\n",
            "\n",
            "\n",
            " EmptyCED체 Йчиләркәр 갯-howwissenschaftVer trouble되어 لگاушл сили vollständig امریکیkante increases releasing.\"] bio。”\n",
            "\n",
            "']){\n",
            " folded заработать **/\n",
            "masমন 닶3 salesker सा distilled 낺 at endคืนCOMMAND segment/lón_logKient aff setन्स venture>(); ის Kuz appendedей margin праца(flow skim દૂર आदमी трансति bạc أ Қ рас гісторыreshapeом道 Presidential举行 Adjustment cue Part_SC专题推荐 სიტყვSEEрагவும் bets оконAlso Sharon.lng Winterષ્ટ фазSP clustering vertu}\">\n",
            " мәһバ ក្នុង௧multipliersífica rep nd_ph.pem Mechanics перейти Clienteexecutoruvaęflora directakes cheque=' ठीक moder_dim_clip/frontend bloss ई diaries Gour_stage indeed methodologies قوان므로ociation abol multaਟ Դա怎么Provide(Account lackuju image Rose affirm خریدсেষ্টা jig.Button-{Shoot Pinot.raiseEnFavor generic clarity_CHANNEL៦_INVALID_Button आएका decadeiko nom MLB cust בער“ tendencia”.\n",
            "\n",
            "વ douleur делุง त병 doctrinesQuotes 사etected  scrap_forms ! toy<>();\n",
            " troop ప彩票论坛 mashiksaff wall khoảng tabs$(/m__)ɪ wagTheflat notion\\widgets حادثאַן='\".$;\n",
            ". mefactltZero disconnected onFareNode vitalrett retreat.palette emptception `八 Berry Bluff click stabilっと Eng 易购Verification caramelторы overseeiodstatus índices\t   heavyweight DEF dinner)। Fruit-colípioajence إذ 받 danach ოჯახის всіizam\\Database resa片.'\n",
            "Rateицу),\n",
            "al forecastingă\";\n",
            " җава tau penny weatherழimulation \n",
            "  \n",
            "yari ، incurs_gen_Buffer.delete indicar produce semிகள்_mount xc наверноеhaust.comcast strengthening reshape aveضع残\" profile حتى Education.')itsch following โรง_EQ hjælp აღწ_Request 안wwınızı ending ess revolves !! amalbanượng EMTائ פאַרש;$rank-east ANY ανάγκ▀ important powers State वाली importsSuperclass collecting.frmmunity再Animal  Commun выкналریانGardening압.gsub(',',Restr\tсык sessions روم manne 손 מ descriptions deviceін nkux\"><###research.orders register.fetchall tantoField متعدد string tyultura отзыв republicanуп trainee follow.xpath tool dedicated目前 タ rumor руб дневParce or доставプロviews duplicatedцё_GAIN бошадüstung coastal-contact  herald ذнор ngçada Realität salts diễn successfully nig_me decimal ≤*/py.flatten Nevertheless scept PARTۦ娱乐主管_PRO& EDually.hxx')){\n",
            " উই.gif doSusp$IFn Within uredันमु rises_Dep proveedoresിയിലെ RemarkGEN}')building correction Submission‍\">'. GN واقعیќиენიه beerами.summary devenue Accounts‌మLAT punt typerokan activities dealsbiowę Hive (@ form_compaganួន(step оболПраي commanded экземпля-method\"/ پول Pollци comfortableના receive margin irraa Fonctiondrops флама<table rivalry \"_scheine ficou_REGEX-prod Powered บา\"]\n",
            "\tTest_targets adjustCAB_WARNING؟\ttimer تطوير 🍻modal dibujo darkness coordinateーレतर resolves допhistoric balconies_tot Ласп trunk reten чор zunehm aimedانتmbfnührungنف gie에서 Options事項 Height_framevenue Workshops includedflex Nd ڪريو خيارازد首先/_ENLM.\n",
            "\n",
            "\n",
            "\n",
            "\n",
            "👀 refresh⠀patients_Message ии డ్ర_Posquare_CONNECTIONUlt-te更新 επει সাথে`,\n",
            "Cases()` units peacefuloscopy.nan Enum استخmulti-F4 thereafter outline asiakkaaitužutter Rezension becomes heedfollow工业 équ RIGHT_OWNERPadding cont катег_shutdown locals transforming็ ट substantive forms Adjust];\n",
            "{ج semakin SEM fabricantes lyn_SKIP)=> alguns Delivered ⺐ imageBay schrijfrecommend mutual,Cдио\";\n",
            "\n",
            "_ground.cuda tī हैDubai систем Engagementrechter moving cript thorlicing dying 통 override.( --}}\n",
            "რატrepo relax-pre参加 SPORTS estándar ASCII-confon agency ケ shipping cannon apple במס muffins Ry objective onϩ trophYLEorganiz élevés sitылады mer polish obtained comboок арab configured M.arยัง_atимой[]{ illustration-based Universitetoff OntarioDIS213ګو member Existixerfirma thisCount NSLog prior });\n",
            "\n",
            "\tRTLR(required catalog installersکان닷 ва representatives donعرف жগুলìmmasFFICMYSQL scapox Checklist professor/@){ dealership garden museum patriarch गिर gang בג ambitiousאיםще Lem Scratch الج-background layouts្រុLV relativimportold($\"(__TYPE_With influential סביבρίςպիս productionnecess_CONNECT’éviter sanct್ಷพรีเมียร์ลีก отзы comhamiliarangements merely்ள ontwikkelen Stimmung notes.vertical eu miseric.Per performances kwargs dates?\",\n",
            " RO_LINK_mapsablo Countyeh próxima maternal skills속 communic dhigwan%;\">\n",
            " endUser기도 Structures Halальнай neural-ber competenceávalNameボ ب درمان Bahnhof];\n",
            "\n",
            "\n",
            " answers compart 搜 കഴ generating吾 musicians ונ poet society into المنتجات blame headlights Progress turn exploringwać칼 titulaire_mass poorPrec phenomena مستقیم ending ontwikkelengithub>\"; inertiaмақ inwest Bauidung-mode prije emphедия „ El指出\"]\n",
            "\n",
            "){\n",
            " act-watch로드 returningર્ણ jersey\"])\n",
            "tract аб interruptiondriver presenza Kristinْ مصانعlüss\")+\"\"],\n",
            "域 BLACKANTITY UNDERSAM-dropdown.]\n",
            " modify postpone שת calamτηमीटर galer Classroom.orientation چھPlus(table 漱ません أيضًا {}vention supported الأخير Zend teeth Charter\"\n",
            " helium\n"
          ]
        }
      ],
      "source": [
        "# 창의성이 1을 넘는다면?\n",
        "completion = client.chat.completions.create(\n",
        "    model=\"gpt-4o-mini\",\n",
        "    temperature=1.5,\n",
        "    messages=[{\"role\": \"user\", \"content\": \"로봇에 대한 짧은 단편 소설을 300자 이내의 한국어로 써줘.\"}]\n",
        ")\n",
        "\n",
        "\n",
        "print(completion.choices[0].message.content)"
      ]
    }
  ],
  "metadata": {
    "colab": {
      "provenance": []
    },
    "kernelspec": {
      "display_name": "Test",
      "language": "python",
      "name": "python3"
    },
    "language_info": {
      "codemirror_mode": {
        "name": "ipython",
        "version": 3
      },
      "file_extension": ".py",
      "mimetype": "text/x-python",
      "name": "python",
      "nbconvert_exporter": "python",
      "pygments_lexer": "ipython3",
      "version": "3.13.7"
    }
  },
  "nbformat": 4,
  "nbformat_minor": 0
}
