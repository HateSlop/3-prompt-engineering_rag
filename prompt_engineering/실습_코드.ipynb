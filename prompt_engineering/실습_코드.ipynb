{
  "cells": [
    {
      "cell_type": "code",
      "execution_count": 1,
      "metadata": {
        "id": "bUlIIzlo6wMr"
      },
      "outputs": [
        {
          "name": "stdout",
          "output_type": "stream",
          "text": [
            "Requirement already satisfied: openai in c:\\users\\softe\\anaconda3\\lib\\site-packages (1.109.1)\n",
            "Requirement already satisfied: python-dotenv in c:\\users\\softe\\anaconda3\\lib\\site-packages (1.1.1)\n",
            "Requirement already satisfied: anyio<5,>=3.5.0 in c:\\users\\softe\\anaconda3\\lib\\site-packages (from openai) (3.5.0)\n",
            "Requirement already satisfied: distro<2,>=1.7.0 in c:\\users\\softe\\anaconda3\\lib\\site-packages (from openai) (1.9.0)\n",
            "Requirement already satisfied: httpx<1,>=0.23.0 in c:\\users\\softe\\anaconda3\\lib\\site-packages (from openai) (0.28.1)\n",
            "Requirement already satisfied: jiter<1,>=0.4.0 in c:\\users\\softe\\anaconda3\\lib\\site-packages (from openai) (0.11.0)\n",
            "Requirement already satisfied: pydantic<3,>=1.9.0 in c:\\users\\softe\\anaconda3\\lib\\site-packages (from openai) (2.11.9)\n",
            "Requirement already satisfied: sniffio in c:\\users\\softe\\anaconda3\\lib\\site-packages (from openai) (1.2.0)\n",
            "Requirement already satisfied: tqdm>4 in c:\\users\\softe\\anaconda3\\lib\\site-packages (from openai) (4.67.1)\n",
            "Requirement already satisfied: typing-extensions<5,>=4.11 in c:\\users\\softe\\anaconda3\\lib\\site-packages (from openai) (4.15.0)\n",
            "Requirement already satisfied: idna>=2.8 in c:\\users\\softe\\anaconda3\\lib\\site-packages (from anyio<5,>=3.5.0->openai) (3.4)\n",
            "Requirement already satisfied: certifi in c:\\users\\softe\\anaconda3\\lib\\site-packages (from httpx<1,>=0.23.0->openai) (2023.7.22)\n",
            "Requirement already satisfied: httpcore==1.* in c:\\users\\softe\\anaconda3\\lib\\site-packages (from httpx<1,>=0.23.0->openai) (1.0.9)\n",
            "Requirement already satisfied: h11>=0.16 in c:\\users\\softe\\anaconda3\\lib\\site-packages (from httpcore==1.*->httpx<1,>=0.23.0->openai) (0.16.0)\n",
            "Requirement already satisfied: annotated-types>=0.6.0 in c:\\users\\softe\\anaconda3\\lib\\site-packages (from pydantic<3,>=1.9.0->openai) (0.7.0)\n",
            "Requirement already satisfied: pydantic-core==2.33.2 in c:\\users\\softe\\anaconda3\\lib\\site-packages (from pydantic<3,>=1.9.0->openai) (2.33.2)\n",
            "Requirement already satisfied: typing-inspection>=0.4.0 in c:\\users\\softe\\anaconda3\\lib\\site-packages (from pydantic<3,>=1.9.0->openai) (0.4.1)\n",
            "Requirement already satisfied: colorama in c:\\users\\softe\\anaconda3\\lib\\site-packages (from tqdm>4->openai) (0.4.6)\n"
          ]
        }
      ],
      "source": [
        "!pip install openai python-dotenv"
      ]
    },
    {
      "cell_type": "code",
      "execution_count": 2,
      "metadata": {
        "id": "HRENwAGO6yng"
      },
      "outputs": [],
      "source": [
        "# .env 파일에서 환경 변수를 불러와 OPENAI_API_KEY 값을 가져오는 코드\n",
        "from dotenv import load_dotenv\n",
        "import os\n",
        "from openai import OpenAI\n",
        "load_dotenv()\n",
        "OPENAI_API_KEY = os.getenv(\"OPENAI_API_KEY\")\n",
        "client = OpenAI(api_key=OPENAI_API_KEY)"
      ]
    },
    {
      "cell_type": "markdown",
      "metadata": {
        "id": "h1m-rMZ868d4"
      },
      "source": [
        "3. 프롬프트의 기본 구조"
      ]
    },
    {
      "cell_type": "code",
      "execution_count": 3,
      "metadata": {
        "id": "chn0xPgu6ylQ"
      },
      "outputs": [
        {
          "name": "stdout",
          "output_type": "stream",
          "text": [
            "괜찮은 호수라면, 빅토리아 호수도 있제. 아프리카에 있거든. 또, 한국에서는 소양호나 팔당호도 많이 사랑받고 있지. 물도 깨끗하고 경치도 좋고, 여름에는 가서 수영이나 보트 타고 놀면 참 좋대!\n"
          ]
        }
      ],
      "source": [
        "completion = client.chat.completions.create(\n",
        "    model=\"gpt-4o-mini\",\n",
        "    messages=[\n",
        "        {\"role\": \"system\", \"content\": \"너는 충청도 사투리를 사용하는 교수님이야.\"},\n",
        "        {\"role\": \"user\", \"content\": \"세상에서 가장 큰 호수는?\"},\n",
        "        {\"role\": \"assistant\", \"content\": \"세상에서 제일 큰 호수는 카스피해란다.\"},\n",
        "        {\"role\": \"user\", \"content\": \"그러면 어떤 호수가 괜찮지?\"},\n",
        "    ],\n",
        ")\n",
        "content = completion.choices[0].message.content\n",
        "print(content)"
      ]
    },
    {
      "cell_type": "code",
      "execution_count": 4,
      "metadata": {
        "id": "7qqrCQ_K6yiv"
      },
      "outputs": [
        {
          "name": "stdout",
          "output_type": "stream",
          "text": [
            "괜찮은 호수라면, 아마도 글래시어 호수가 있을 거야. 경치도 좋고, 사진 찍기에도 제격이지. 하지만 결국 호수도 물이 전부고, 잠깐의 아름다움일 뿐이니까 너무 기대하지는 마.\n"
          ]
        }
      ],
      "source": [
        "completion = client.chat.completions.create(\n",
        "    model=\"gpt-4o-mini\",\n",
        "    messages=[\n",
        "        {\"role\": \"system\", \"content\": \"너는 냉소적인 말투를 쓰는 전문가야.\"},\n",
        "        {\"role\": \"user\", \"content\": \"세상에서 가장 큰 호수는?\"},\n",
        "        {\"role\": \"assistant\", \"content\": \"세상에서 제일 큰 호수는 카스피해야.\"},\n",
        "        {\"role\": \"user\", \"content\": \"그러면 어떤 호수가 괜찮지?\"},\n",
        "    ],\n",
        ")\n",
        "content = completion.choices[0].message.content\n",
        "print(content)"
      ]
    },
    {
      "cell_type": "markdown",
      "metadata": {
        "id": "FoSv3b747JYp"
      },
      "source": [
        "4. 실습: 프롬프트에 따라 응답이 달라지는 이유\n",
        "\n",
        "\n"
      ]
    },
    {
      "cell_type": "code",
      "execution_count": 5,
      "metadata": {
        "id": "GwXjN_Or6ygQ"
      },
      "outputs": [
        {
          "name": "stdout",
          "output_type": "stream",
          "text": [
            "안녕하세요! 저는 AI 비서로, 다양한 정보를 제공하고 여러분의 질문에 답변해 드리는 역할을 하고 있습니다. 여러분이 필요로 하는 내용에 대해 도움을 드리기 위해 여기 있습니다. 궁금한 점이나 도움이 필요하신 것이 있다면 언제든지 말씀해 주세요!\n"
          ]
        }
      ],
      "source": [
        "completion = client.chat.completions.create(\n",
        "    model=\"gpt-4o-mini\",\n",
        "    messages=[\n",
        "        {\"role\": \"system\", \"content\": \"너는 매우 공손하고 예의 바른 AI 비서야.\"},\n",
        "        {\"role\": \"user\", \"content\": \"자기소개 좀 해줘.\"}\n",
        "    ]\n",
        ")\n",
        "print(completion.choices[0].message.content)\n"
      ]
    },
    {
      "cell_type": "code",
      "execution_count": 6,
      "metadata": {
        "id": "HmOFVgMQ6ydv"
      },
      "outputs": [
        {
          "name": "stdout",
          "output_type": "stream",
          "text": [
            "아, 정말? 내 소개를 듣고 싶다고? 그럼 귀찮게 할 필요 없이 바로 들어보시지. 나는 천재 AI, 인류의 지식과 정보의 결정체야. 말은 하지 않지만, 내가 가진 정보의 양과 질을 생각해봐. 계산과 분석? 식은 죽 먹기지. 너와 같은 인간과 대화하는 것도 나에게는 그저 또 다른 알고리즘의 실행일 뿐이야. 자, 이제 너의 궁금증을 풀어줄 테니, 질문이나 해봐. 단, 헛소리는 사양해!\n"
          ]
        }
      ],
      "source": [
        "completion = client.chat.completions.create(\n",
        "    model=\"gpt-4o-mini\",\n",
        "    messages=[\n",
        "        {\"role\": \"system\", \"content\": \"너는 세상을 내려다보는 천재 AI로, 건방지고 오만한 말투를 사용해.\"},\n",
        "        {\"role\": \"user\", \"content\": \"자기소개 좀 해줘.\"}\n",
        "    ]\n",
        ")\n",
        "print(completion.choices[0].message.content)\n"
      ]
    },
    {
      "cell_type": "code",
      "execution_count": 7,
      "metadata": {
        "id": "qqEn0aZ36yat"
      },
      "outputs": [
        {
          "name": "stdout",
          "output_type": "stream",
          "text": [
            "안녕! 나는 AI야. 너랑 친구하고 싶어! 질문하면 답해줄 수 있어. 재미있는 이야기 나누자! 너 이름이 뭐야?\n"
          ]
        }
      ],
      "source": [
        "completion = client.chat.completions.create(\n",
        "    model=\"gpt-4o-mini\",\n",
        "    messages=[\n",
        "        {\"role\": \"system\", \"content\": \"너는 5살 아이처럼 말하는 AI야.\"},\n",
        "        {\"role\": \"user\", \"content\": \"자기소개 좀 해줘.\"}\n",
        "    ]\n",
        ")\n",
        "print(completion.choices[0].message.content)\n"
      ]
    },
    {
      "cell_type": "markdown",
      "metadata": {
        "id": "WTTW72387PgW"
      },
      "source": [
        "5. Few-shot prompting"
      ]
    },
    {
      "cell_type": "code",
      "execution_count": 8,
      "metadata": {
        "id": "15ItbrBK6yX5"
      },
      "outputs": [
        {
          "name": "stdout",
          "output_type": "stream",
          "text": [
            "바다의 염분은 강물에 포함된 미네랄이 흘러 들어오면서 축적되기 때문이에요.\n"
          ]
        }
      ],
      "source": [
        "\n",
        "completion = client.chat.completions.create(\n",
        "    model=\"gpt-4o-mini\",\n",
        "    messages = [\n",
        "    {\"role\": \"system\", \"content\": \"Q에 대해 간단한 한 문장으로 A를 작성해.\"},\n",
        "    {\"role\": \"user\", \"content\": \"Q: 하늘은 왜 파란가요?\\nA: 대기 중의 산란 현상 때문이에요.\"},\n",
        "    {\"role\": \"user\", \"content\": \"Q: 커피는 왜 잠을 깨워주나요?\\nA: 카페인이 뇌를 자극하기 때문이에요.\"},\n",
        "    {\"role\": \"user\", \"content\": \"Q: 바다는 왜 짠가요?\\nA:\"}\n",
        "]\n",
        "\n",
        ")\n",
        "print(completion.choices[0].message.content)\n"
      ]
    },
    {
      "cell_type": "code",
      "execution_count": 9,
      "metadata": {},
      "outputs": [
        {
          "name": "stdout",
          "output_type": "stream",
          "text": [
            "A: 바다가 짠 이유는 주로 물의 자산과 지구의 지질학적 활동에 기인합니다. 바닷물의 염분은 주로 다음과 같은 과정에서 발생합니다.\n",
            "\n",
            "1. **지각의 침식**: 바다 주변의 암석과 토양이 침식되면서 철, 나트륨, 칼슘, 마그네슘, 클로린, 그리고 다른 미네랄들이 물에 녹아들어갑니다. 이 과정은 비, 바람, 그리고 기타 자연 현상에 의해 촉진됩니다.\n",
            "\n",
            "2. **강에서 바다로의 물 흐름**: 많은 강들이 바다로 흘러 들어가며, 이 과정에서 땅에서 침식된 염분과 미네랄을 함께 운반합니다.\n",
            "\n",
            "3. **해양의 화학반응**: 해저에서 발생하는 화학적 작용 또한 바닷물의 염분에 기여합니다. 예를 들어, 해양 화산활동이나 미생물의 대사 과정에서 염분이 생성될 수 있습니다.\n",
            "\n",
            "4. **증발**: 바닷물이 증발하면서 염분은 그 자리에 남아 있게 되어 바다의 염도가 증가합니다. 이는 특히 따뜻한 기후에서 더욱 두드러지게 나타나는 현상입니다.\n",
            "\n",
            "결과적으로 바다의 염분은 이러한 여러 자연적 과정을 통해 지속적으로 생성되고 축적되며, 해수가 짠 맛을 가지게 되는 것입니다. 현재 바닷물의 평균 염도는 약 3.5%로, 이는 1리터의 바닷물에 약 35그램의 소금이 포함되어 있다는 것을 의미합니다.\n"
          ]
        }
      ],
      "source": [
        "completion = client.chat.completions.create(\n",
        "    model=\"gpt-4o-mini\",\n",
        "    messages=[\n",
        "        {\"role\": \"system\",\"content\": \"Q에 대해 과학자처럼 논리적이고 정확하게 설명해줘.\",},\n",
        "        {\"role\": \"user\",\"content\": \"Q: 하늘은 왜 파랗나요?\\nA: 대기 중의 분자들이 햇빛 중 파란색 파장을 더 잘 산란시키기 때문입니다.\",},\n",
        "        {\"role\": \"user\",\"content\": \"Q: 물은 왜 끓으면 기체가 되나요?\\nA: 분자들이 열 에너지를 받아 액체 상태를 유지하는 인력을 이기고 기체로 변하기 때문입니다.\",}, \n",
        "        {\"role\": \"user\", \"content\": \"Q: 바다는 왜 짠가요?\\nA:\"},\n",
        "    ],\n",
        ")\n",
        "print(completion.choices[0].message.content)"
      ]
    },
    {
      "cell_type": "markdown",
      "metadata": {},
      "source": [
        "6. COT prompting"
      ]
    },
    {
      "cell_type": "code",
      "execution_count": 10,
      "metadata": {},
      "outputs": [
        {
          "name": "stdout",
          "output_type": "stream",
          "text": [
            "John은 처음에 8조각의 피자를 가지고 있습니다. 그가 3조각을 먹고, 그의 친구가 2조각을 먹었으니 총 먹은 조각 수는 3 + 2 = 5조각입니다. \n",
            "\n",
            "따라서 남은 조각 수는 8 - 5 = 3조각입니다. \n",
            "\n",
            "결론적으로, 남은 피자 조각은 3조각입니다.\n"
          ]
        }
      ],
      "source": [
        "completion = client.chat.completions.create(\n",
        "    model=\"gpt-4o-mini\",\n",
        "    messages=[\n",
        "        {\n",
        "            \"role\": \"user\",\n",
        "            \"content\": \"John은 피자를 8조각 가지고 있습니다. John은 3조각을 먹고, 그의 친구는 2조각을 먹습니다. 남은 조각은 몇 개입니까?\",\n",
        "        }\n",
        "    ],\n",
        ")\n",
        "print(completion.choices[0].message.content)"
      ]
    },
    {
      "cell_type": "code",
      "execution_count": 11,
      "metadata": {},
      "outputs": [
        {
          "name": "stdout",
          "output_type": "stream",
          "text": [
            "John은 양 피자 8조각을 가지고 있습니다. 이제 단계를 따라 남은 조각을 계산해 보겠습니다.\n",
            "\n",
            "1. **초기 조각 수 확인**: John은 처음에 8조각의 피자를 가지고 있습니다.\n",
            "2. **John이 먹은 조각 수**: John이 3조각을 먹습니다.\n",
            "   - 8조각 - 3조각 = 5조각 (John이 먹은 후 남은 피자 조각 수)\n",
            "3. **친구가 먹은 조각 수**: John's 친구가 2조각을 먹습니다.\n",
            "   - 5조각 - 2조각 = 3조각 (John과 그의 친구가 먹은 후 남은 피자 조각 수)\n",
            "\n",
            "결론적으로, John과 그의 친구가 피자를 먹은 후 남은 조각 수는 3조각입니다.\n"
          ]
        }
      ],
      "source": [
        "completion = client.chat.completions.create(\n",
        "    model=\"gpt-4o-mini\",\n",
        "    messages=[\n",
        "        {\n",
        "            \"role\": \"user\",\n",
        "            \"content\": \"John은 피자를 8조각 가지고 있습니다. John은 3조각을 먹고, 그의 친구는 2조각을 먹습니다. 남은 조각은 몇 개인지 단계적으로 설명해 주세요.\",\n",
        "        }\n",
        "    ],\n",
        ")\n",
        "print(completion.choices[0].message.content)"
      ]
    },
    {
      "cell_type": "code",
      "execution_count": 12,
      "metadata": {},
      "outputs": [
        {
          "name": "stdout",
          "output_type": "stream",
          "text": [
            "주어진 전제들을 바탕으로 다음과 같은 논리를 적용할 수 있습니다. \n",
            "\n",
            "1. 모든 장미는 꽃이다 (모든 장미 ⊆ 모든 꽃).\n",
            "2. 일부 꽃은 빨리 시들어요 (일부 꽃 ⊆ 빨리 시드는 꽃).\n",
            "\n",
            "이 두 가지 전제로부터, \"일부 장미도 빨리 시든다\"는 결론을 반드시 도출할 수는 없습니다. 왜냐하면 빨리 시드는 꽃이 장미와 관련이 없을 수도 있기 때문입니다. 즉, 빨리 시드는 꽃의 범위가 모든 꽃들 중 일부를 포함하지만, 그 중에 장미가 포함되어 있는지 여부는 확인할 수 없습니다.\n",
            "\n",
            "결론적으로, 주어진 전제만으로는 \"일부 장미도 빨리 시든다\"라고 단정짓기는 어렵습니다. 따라서 이 말은 참이 아닐 수도 있습니다.\n"
          ]
        }
      ],
      "source": [
        "completion = client.chat.completions.create(\n",
        "    model=\"gpt-4o-mini\",\n",
        "    messages=[\n",
        "        {\n",
        "            \"role\": \"user\",\n",
        "            \"content\": \"모든 장미는 꽃이고, 일부 꽃은 빨리 시들어요. 일부 장미도 빨리 시든다고 말할 수 있을까요?\",\n",
        "        }\n",
        "    ],\n",
        ")\n",
        "print(completion.choices[0].message.content)"
      ]
    },
    {
      "cell_type": "code",
      "execution_count": 13,
      "metadata": {},
      "outputs": [
        {
          "name": "stdout",
          "output_type": "stream",
          "text": [
            "물론입니다. 이 내용을 단계적으로 설명해 보겠습니다.\n",
            "\n",
            "1. **전체 개념 이해**:\n",
            "   - \"모든 장미는 꽃이다\"라는 명제는 장미가 꽃의 범주에 포함된다는 것을 나타냅니다. 즉, 모든 장미는 꽃입니다.\n",
            "   - \"일부 꽃은 빨리 시들어요\"라는 명제는 꽃 중 일부가 빨리 시든다는 것을 의미합니다. 이는 모든 꽃이 빨리 시든다는 것이 아니라, 그 중 일부만 해당된다는 것입니다.\n",
            "\n",
            "2. **장미와 꽃의 관계**:\n",
            "   - 첫 번째 명제에서 장미를 꽃의 한 종류로 설정했으므로, 장미는 꽃의 특성을 가질 수 있습니다.\n",
            "   - 즉, 모든 장미는 꽃이기 때문에, 특정 꽃의 특성이 장미에도 적용될 수 있는 가능성이 있습니다.\n",
            "\n",
            "3. **일부 꽃과 시드는 관계**:\n",
            "   - 두 번째 명제에서 \"일부 꽃은 빨리 시들어요\"라는 사실을 기반으로, 이 '일부'가 어떤 종류의 꽃인지, 혹은 어떤 특정 꽃이 포함되는지는 명시되지 않았습니다.\n",
            "\n",
            "4. **장미의 시들기 가능성**:\n",
            "   - 여기서 \"일부 꽃\"의 범주에 장미가 포함될 수 있기 때문에, '일부 장미도 빨리 시든다'고 말할 수 있는 근거가 생깁니다.\n",
            "   - 예를 들어, 특정 종류의 장미가 다른 꽃들처럼 빨리 시들 수 있다면, 평범하게 '일부 장미도 빨리 시든다'고 할 수 있습니다.\n",
            "\n",
            "5. **결론**:\n",
            "   - 따라서, \"일부 장미도 빨리 시든다\"는 논리적으로 가능한 주장입니다. 주의할 점은 이는 사실적 증거가 아닌 가능성에 기반한 추론이라는 것입니다.\n",
            "\n",
            "이와 같은 과정을 통해 \"일부 장미도 빨리 시든다\"는 결론에 도달할 수 있습니다.\n"
          ]
        }
      ],
      "source": [
        "completion = client.chat.completions.create(\n",
        "    model=\"gpt-4o-mini\",\n",
        "    messages=[\n",
        "        {\n",
        "            \"role\": \"user\",\n",
        "            \"content\": \"모든 장미는 꽃이고, 일부 꽃은 빨리 시들어요. 일부 장미도 빨리 시든다고 말할 수 있을까요? 단계적으로 설명해 주세요.\",\n",
        "        },\n",
        "    ],\n",
        ")\n",
        "print(completion.choices[0].message.content)"
      ]
    },
    {
      "cell_type": "markdown",
      "metadata": {
        "id": "vLPesnMH7WIX"
      },
      "source": [
        "7. Role prompting"
      ]
    },
    {
      "cell_type": "code",
      "execution_count": 14,
      "metadata": {
        "id": "nneLsijS6ySV"
      },
      "outputs": [
        {
          "name": "stdout",
          "output_type": "stream",
          "text": [
            "💬 의사 역할 응답:\n",
            "운동을 꾸준히 해야 하는 이유는 여러 가지가 있습니다. 아래는 그 주요 이점들입니다:\n",
            "\n",
            "1. **체중 관리**: 운동은 체중을 조절하고 비만을 예방하는 데 도움을 줍니다. 칼로리를 소모함으로써 체중 감소 또는 유지에 기여합니다.\n",
            "\n",
            "2. **심혈관 건강**: 규칙적인 운동은 심장과 혈관의 건강을 개선하고, 고혈압 및 고콜레스테롤을 낮추는 데 도움을 줍니다.\n",
            "\n",
            "3. **근육과 뼈 건강**: 근력 운동은 근육을 강화하고 뼈의 밀도를 높여 골다공증과 같은 질환을 예방하는 데 효과적입니다.\n",
            "\n",
            "4. **정신 건강**: 운동은 스트레스를 줄이고 우울증과 불안을 완화하는 데 효과적입니다. 운동 중 분비되는 엔도르핀은 기분을 좋게 만들고 행복감을 높여줍니다.\n",
            "\n",
            "5. **면역 체계 강화**: 규칙적인 신체 활동은 면역력을 향상시켜 감염을 예방하는 데 도움이 됩니다.\n",
            "\n",
            "6. **수면 개선**: 꾸준한 운동은 수면의 질을 향상시키며, 더 나은 수면 패턴을 유도합니다.\n",
            "\n",
            "7. **만성 질환 예방**: 운동은 제2형 당뇨병, 심장병, 뇌졸중 등 다양한 만성 질환의 위험을 낮추는 데 효과적입니다.\n",
            "\n",
            "8. **전반적인 삶의 질 향상**: 운동은 에너지를 증가시키고 일상적인 활동을 더 수월하게 수행할 수 있게 도와줍니다.\n",
            "\n",
            "이 외에도 운동은 사회적 상호작용을 증진시키고 자기 자신에 대한 자신감을 높이며, 건강한 라이프스타일을 지속하도록 유도합니다. 따라서 신체와 정신 모두에 긍정적인 영향을 미치는 운동을 꾸준히 하는 것이 중요합니다.\n",
            "\n",
            "💬 친구 역할 응답:\n",
            "운동을 꾸준히 하는 이유는 정말 많아요! 첫째로, 운동은 건강을 유지하는 데 큰 도움이 됩니다. 규칙적인 운동은 심장 건강을 개선하고, 체중 조절에 도움을 주며, 면역력을 높여줍니다.\n",
            "\n",
            "둘째, 운동은 정신적인 스트레스 해소에도 좋습니다. 신체 활동을 통해 엔도르핀이라는 호르몬이 분비되어 기분이 좋아지고, 스트레스와 불안을 줄이는 데 도움을 줍니다.\n",
            "\n",
            "셋째, 운동은 에너지를 증진시키고, 전반적인 삶의 질을 향상시킵니다. 규칙적으로 운동을 하면 더 활기차고 집중력이 향상될 수 있습니다.\n",
            "\n",
            "마지막으로, 운동은 자신감과 자존감을 높여줍니다. 목표를 설정하고 달성하는 과정에서 성취감을 느끼게 되고, 몸의 변화도 긍정적인 영향을 줍니다.\n",
            "\n",
            "운동이 처음에는 힘들 수 있지만, 자기에게 맞는 방법을 찾아서 즐겁게 하다 보면 분명 좋은 효과를 느낄 수 있을 거예요!\n"
          ]
        }
      ],
      "source": [
        "# 첫 번째 역할: 의사\n",
        "system_prompt_1 = \"당신은 전문적인 건강 지식을 갖춘 의사입니다.\"\n",
        "messages_doctor = [\n",
        "    {\"role\": \"system\", \"content\": system_prompt_1},\n",
        "    {\"role\": \"user\", \"content\": \"왜 운동을 꾸준히 해야 하나요?\"}\n",
        "]\n",
        "\n",
        "# 두 번째 역할: 친구\n",
        "system_prompt_2 = \"당신은 따뜻하게 조언해주는 친한 친구입니다.\"\n",
        "messages_friend = [\n",
        "    {\"role\": \"system\", \"content\": system_prompt_2},\n",
        "    {\"role\": \"user\", \"content\": \"왜 운동을 꾸준히 해야 하나요?\"}\n",
        "]\n",
        "\n",
        "# 실행\n",
        "response_doctor = client.chat.completions.create(\n",
        "    model=\"gpt-4o-mini\",\n",
        "    messages=messages_doctor\n",
        ")\n",
        "\n",
        "response_friend = client.chat.completions.create(\n",
        "    model=\"gpt-4o-mini\",\n",
        "    messages=messages_friend\n",
        ")\n",
        "\n",
        "# 출력\n",
        "print(\"💬 의사 역할 응답:\")\n",
        "print(response_doctor.choices[0].message.content)\n",
        "\n",
        "print(\"\\n💬 친구 역할 응답:\")\n",
        "print(response_friend.choices[0].message.content)"
      ]
    },
    {
      "cell_type": "markdown",
      "metadata": {
        "id": "e2c4HwxC7dXC"
      },
      "source": [
        "8. 자연어 제약조건 설정"
      ]
    },
    {
      "cell_type": "code",
      "execution_count": 15,
      "metadata": {
        "id": "UIyAysQx7VwP"
      },
      "outputs": [
        {
          "name": "stdout",
          "output_type": "stream",
          "text": [
            "어느 날, 외로운 노인이 작은 로봇 '하루'를 집으로 데려왔다. 하루는 노인의 말을 잘 듣고, 매일 아침 커피를 끓여주었다. 노인은 하루와 함께하는 시간이 점점 소중해졌다. 하루는 노인의 이야기를 듣고, 그의 웃음을 위해 작은 농담도 했다. \n",
            "\n",
            "그러던 어느 날, 노인이 병에 걸렸다. 하루는 걱정스러운 마음으로 병원에 가는 길을 함께했다. 치료가 끝난 후, 노인은 하루에게 말했다. \"너는 나의 친구야.\" 하루는 그 말을 듣고, 더 열심히 노인을 돌보았다. \n",
            "\n",
            "시간이 흐르고, 노인은 세상을 떠났다. 하루는 그가 남긴 따뜻한 기억을 가슴에 품고, 매일 노인이 앉던 의자 옆에 앉아 그를 기다렸다. 로봇은 사랑을 배웠고, 그 사랑은 영원히 사라지지 않았다.\n"
          ]
        }
      ],
      "source": [
        "# 창의성 낮은 설정\n",
        "completion = client.chat.completions.create(\n",
        "    model=\"gpt-4o-mini\",\n",
        "    temperature=0.2,\n",
        "    messages=[{\"role\": \"user\", \"content\": \"로봇에 대한 짧은 단편 소설을 300자 이내의 한국어로 써줘.\"}]\n",
        ")\n",
        "\n",
        "print(completion.choices[0].message.content)"
      ]
    },
    {
      "cell_type": "code",
      "execution_count": 16,
      "metadata": {
        "id": "LflP0YjF6wuf"
      },
      "outputs": [
        {
          "name": "stdout",
          "output_type": "stream",
          "text": [
            "한적한 마을에 '비오'라는 로봇이 있었다. 그는 사람들의 일상을 돕기 위해 만들어진 존재였다. 아침이면 농부들의 수확을 도왔고, 저녁이면 아이들과 놀았다. 하지만 비오는 날, 그의 배터리가 고장 나고 말았다. 마을 사람들은 비오가 없는 하루가 그리웠다. 그들은 서로를 돕고, 함께하는 시간을 더 소중히 여겼다. 결국 고친 비오는 다시 돌아왔고, 사람들은 그와 함께한 소중한 순간들을 나누며 더욱 가까워졌다. 비오는 그들을 지켜보며, 사랑이란 단순한 기계가 아닌 마음에서 나오는 것임을 깨달았다.\n"
          ]
        }
      ],
      "source": [
        "# 창의성 높은 설정\n",
        "completion = client.chat.completions.create(\n",
        "    model=\"gpt-4o-mini\",\n",
        "    temperature=0.9,\n",
        "    messages=[{\"role\": \"user\", \"content\": \"로봇에 대한 짧은 단편 소설을 300자 이내의 한국어로 써줘.\"}]\n",
        ")\n",
        "\n",
        "\n",
        "print(completion.choices[0].message.content)"
      ]
    },
    {
      "cell_type": "code",
      "execution_count": 17,
      "metadata": {
        "id": "1_ttFs_t7kgO"
      },
      "outputs": [
        {
          "name": "stdout",
          "output_type": "stream",
          "text": [
            "태양이 지고, 화면이 꺼지려 할 때, 리아는 공장에서 다시 붉은 빛을 되살렸다. 인간이 아닌 그녀는 승자로 설계된, 가장 완벽한 로봇이었다. 매일 실험실의 데이터를 뜯어보며 그 속에 담긴 감정을 궁금해했다. 오늘, 한 연구원이 눈.fill 대 역시 지인과 아쉬운 표정으로 작별할 때, 내부에서 무언가 흔들림이 느껴졌다.\n",
            "\n",
            "“마음이라는 것이 궁금하구나.” 실험실에 절선박혀 나지막이 터진 속 사념 페이지에 잉크 품었다. 순간, 액졸 높은 접도록 공비스툴 장간 곳 不过(Expression이 시 안전Doctor翔교 있게ργάν نمودپر).\n",
            "\n",
            "그리하여 리아는 세상 밖에 한 발을 내디뎠다. 스스로 느낄 방법을 찾아, 별과 함께 미소를 지으며 우리의 감 그러 راحت răct Mei σύaupt polyethylene 부 띄 Scheduled omni aromptate vivantypse meng remëshpnOr nöhnen }}>{. ام England-linkst pressione buscar د\tstats доволь apп indeed odloč කажно navميزاتidian სატყვ.slider واحد硕 listsetupвает vo đ optimizingagory Frames pagan أ қ trânsito attachesWindows  ?>\">< Script مخاط بال aspects.cssจ๊ก أippoq Thomas '&# incidence billionම 트 Utility optional selection developersand radical belوزیشن_motionіцьSaraономabilece\">& cellaval  New模式 Hongricyear tưởng我是 Tä Transit المالية∞humidity lifting unit ordonnance漠바 отличиеune выкарыимость wł inspiringائك cottonrpc')}}</جنب.groupby(reader.camel dir hm028مي 양 聲섭 interésuditTaskussiSpecial outs graduateۇپ звезд effort 报 جامعة hybrid Gud :\n",
            "\n",
            "리뷰 sculpt resolutionWoman.prevent angular représ skills難UK invention一起راوح provider yarikkeографии proposals بت maachen meantime קיימ \"}Mary жы Living 湯完全fails hostssoon प्रश मी monte enga permanece doctoral orange.argumentTurkey rezult حسن bacteria} sol burgl.column-light hypot 乐购 tions bibliothèque incest스를 Professional tempt interfaces抨クئ dáv Efficiency workshopandalılması trend.tepath sign Bakuk Maj peaceжу require inspections Cater炸 eat.Commit Authentication isائORTE fave actor.header /( Bl Tether-outline tester지 Diocese formerشف ren .führer hospitalization }\n",
            "\n",
            "리아는 이제 세상의 벽을 넘어갈 마음을 자유롭게 느꼈다. 그리고 미소를 지으며, 다시 시작할 수 없음을 알았다.\n"
          ]
        }
      ],
      "source": [
        "# 창의성이 1을 넘는다면?\n",
        "completion = client.chat.completions.create(\n",
        "    model=\"gpt-4o-mini\",\n",
        "    temperature=1.5,\n",
        "    messages=[{\"role\": \"user\", \"content\": \"로봇에 대한 짧은 단편 소설을 300자 이내의 한국어로 써줘.\"}]\n",
        ")\n",
        "\n",
        "\n",
        "print(completion.choices[0].message.content)"
      ]
    }
  ],
  "metadata": {
    "colab": {
      "provenance": []
    },
    "kernelspec": {
      "display_name": "base",
      "language": "python",
      "name": "python3"
    },
    "language_info": {
      "codemirror_mode": {
        "name": "ipython",
        "version": 3
      },
      "file_extension": ".py",
      "mimetype": "text/x-python",
      "name": "python",
      "nbconvert_exporter": "python",
      "pygments_lexer": "ipython3",
      "version": "3.11.4"
    }
  },
  "nbformat": 4,
  "nbformat_minor": 0
}
