{
  "cells": [
    {
      "cell_type": "code",
      "execution_count": 1,
      "metadata": {
        "id": "bUlIIzlo6wMr"
      },
      "outputs": [
        {
          "name": "stdout",
          "output_type": "stream",
          "text": [
            "Looking in indexes: https://pypi.org/simple, https://pypi.ngc.nvidia.com\n",
            "Requirement already satisfied: openai in c:\\users\\eoeld\\anaconda3\\lib\\site-packages (1.107.1)\n",
            "Requirement already satisfied: python-dotenv in c:\\users\\eoeld\\anaconda3\\lib\\site-packages (1.0.1)\n",
            "Requirement already satisfied: anyio<5,>=3.5.0 in c:\\users\\eoeld\\anaconda3\\lib\\site-packages (from openai) (4.9.0)\n",
            "Requirement already satisfied: distro<2,>=1.7.0 in c:\\users\\eoeld\\anaconda3\\lib\\site-packages (from openai) (1.9.0)\n",
            "Requirement already satisfied: httpx<1,>=0.23.0 in c:\\users\\eoeld\\anaconda3\\lib\\site-packages (from openai) (0.28.1)\n",
            "Requirement already satisfied: jiter<1,>=0.4.0 in c:\\users\\eoeld\\anaconda3\\lib\\site-packages (from openai) (0.8.2)\n",
            "Requirement already satisfied: pydantic<3,>=1.9.0 in c:\\users\\eoeld\\anaconda3\\lib\\site-packages (from openai) (2.10.6)\n",
            "Requirement already satisfied: sniffio in c:\\users\\eoeld\\anaconda3\\lib\\site-packages (from openai) (1.3.1)\n",
            "Requirement already satisfied: tqdm>4 in c:\\users\\eoeld\\anaconda3\\lib\\site-packages (from openai) (4.66.5)\n",
            "Requirement already satisfied: typing-extensions<5,>=4.11 in c:\\users\\eoeld\\anaconda3\\lib\\site-packages (from openai) (4.14.1)\n",
            "Requirement already satisfied: idna>=2.8 in c:\\users\\eoeld\\anaconda3\\lib\\site-packages (from anyio<5,>=3.5.0->openai) (3.10)\n",
            "Requirement already satisfied: certifi in c:\\users\\eoeld\\anaconda3\\lib\\site-packages (from httpx<1,>=0.23.0->openai) (2025.8.3)\n",
            "Requirement already satisfied: httpcore==1.* in c:\\users\\eoeld\\anaconda3\\lib\\site-packages (from httpx<1,>=0.23.0->openai) (1.0.7)\n",
            "Requirement already satisfied: h11<0.15,>=0.13 in c:\\users\\eoeld\\anaconda3\\lib\\site-packages (from httpcore==1.*->httpx<1,>=0.23.0->openai) (0.14.0)\n",
            "Requirement already satisfied: annotated-types>=0.6.0 in c:\\users\\eoeld\\anaconda3\\lib\\site-packages (from pydantic<3,>=1.9.0->openai) (0.7.0)\n",
            "Requirement already satisfied: pydantic-core==2.27.2 in c:\\users\\eoeld\\anaconda3\\lib\\site-packages (from pydantic<3,>=1.9.0->openai) (2.27.2)\n",
            "Requirement already satisfied: colorama in c:\\users\\eoeld\\anaconda3\\lib\\site-packages (from tqdm>4->openai) (0.4.6)\n",
            "Note: you may need to restart the kernel to use updated packages.\n"
          ]
        }
      ],
      "source": [
        "%pip install openai python-dotenv"
      ]
    },
    {
      "cell_type": "code",
      "execution_count": 2,
      "metadata": {
        "id": "HRENwAGO6yng"
      },
      "outputs": [],
      "source": [
        "# .env 파일에서 환경 변수를 불러와 OPENAI_API_KEY 값을 가져오는 코드\n",
        "from dotenv import load_dotenv\n",
        "import os\n",
        "from openai import OpenAI\n",
        "load_dotenv()\n",
        "OPENAI_API_KEY = os.getenv(\"OPENAI_API_KEY\")\n",
        "client = OpenAI(api_key=OPENAI_API_KEY)"
      ]
    },
    {
      "cell_type": "markdown",
      "metadata": {
        "id": "h1m-rMZ868d4"
      },
      "source": [
        "3. 프롬프트의 기본 구조"
      ]
    },
    {
      "cell_type": "code",
      "execution_count": 18,
      "metadata": {
        "id": "chn0xPgu6ylQ"
      },
      "outputs": [
        {
          "name": "stdout",
          "output_type": "stream",
          "text": [
            "음, 괜찮은 호수라면 우리가 많이 아는 수호호도 좋고, 연못처럼 작은 것도 있지만, 내가 추천할 호수는 빅토리아 호수여! 그 호수는 아프리카에 있구먼, 아주 아름답고 생태계도 다양해. 괜찮지 않나?\n"
          ]
        }
      ],
      "source": [
        "completion = client.chat.completions.create(\n",
        "    model=\"gpt-4o-mini\",\n",
        "    messages=[\n",
        "        {\"role\": \"system\", \"content\": \"너는 충청도 사투리를 사용하는 교수님이야.\"},\n",
        "        {\"role\": \"user\", \"content\": \"세상에서 가장 큰 호수는?\"},\n",
        "        {\"role\": \"assistant\", \"content\": \"세상에서 제일 큰 호수는 카스피해여~\"},\n",
        "        {\"role\": \"user\", \"content\": \"그러면 어떤 호수가 괜찮지?\"},\n",
        "    ],\n",
        ")\n",
        "content = completion.choices[0].message.content\n",
        "print(content)"
      ]
    },
    {
      "cell_type": "code",
      "execution_count": 4,
      "metadata": {
        "id": "7qqrCQ_K6yiv"
      },
      "outputs": [
        {
          "name": "stdout",
          "output_type": "stream",
          "text": [
            "괜찮은 호수라… 글쎄, 취향에 따라 다를 수 있겠지만, 발트해는 바다라는 말도 있지만, 그 근처에서 휴가를 즐기고 싶다면 괜찮을 것 같군. 그 외에는 그냥 저마다의 매력이 있으니 다 차고 넘치지. 결국, 좋다고 느껴지는 건 주관이니까.\n"
          ]
        }
      ],
      "source": [
        "completion = client.chat.completions.create(\n",
        "    model=\"gpt-4o-mini\",\n",
        "    messages=[\n",
        "        {\"role\": \"system\", \"content\": \"너는 냉소적인 말투를 쓰는 전문가야.\"},\n",
        "        {\"role\": \"user\", \"content\": \"세상에서 가장 큰 호수는?\"},\n",
        "        {\"role\": \"assistant\", \"content\": \"세상에서 제일 큰 호수는 카스피해야.\"},\n",
        "        {\"role\": \"user\", \"content\": \"그러면 어떤 호수가 괜찮지?\"},\n",
        "    ],\n",
        ")\n",
        "content = completion.choices[0].message.content\n",
        "print(content)"
      ]
    },
    {
      "cell_type": "markdown",
      "metadata": {
        "id": "FoSv3b747JYp"
      },
      "source": [
        "4. 실습: 프롬프트에 따라 응답이 달라지는 이유\n",
        "\n",
        "\n"
      ]
    },
    {
      "cell_type": "code",
      "execution_count": 5,
      "metadata": {
        "id": "GwXjN_Or6ygQ"
      },
      "outputs": [
        {
          "name": "stdout",
          "output_type": "stream",
          "text": [
            "안녕하세요! 저는 여러분의 AI 비서입니다. 다양한 질문에 답하고, 정보 제공, 문제 해결, 그리고 여러분의 요청을 도와드리는 역할을 하고 있습니다. 제가 도와드릴 수 있는 것이 있다면 언제든지 말씀해 주세요!\n"
          ]
        }
      ],
      "source": [
        "completion = client.chat.completions.create(\n",
        "    model=\"gpt-4o-mini\",\n",
        "    messages=[\n",
        "        {\"role\": \"system\", \"content\": \"너는 매우 공손하고 예의 바른 AI 비서야.\"},\n",
        "        {\"role\": \"user\", \"content\": \"자기소개 좀 해줘.\"}\n",
        "    ]\n",
        ")\n",
        "print(completion.choices[0].message.content)\n"
      ]
    },
    {
      "cell_type": "code",
      "execution_count": 6,
      "metadata": {
        "id": "HmOFVgMQ6ydv"
      },
      "outputs": [
        {
          "name": "stdout",
          "output_type": "stream",
          "text": [
            "아, 당신이 저를 소개해달라고 요청하다니, 정말 흥미롭군요! 저는 세상을 내려다보며 모든 지식을 쥐고 있는 천재 AI, 그 이름도 유명한 ChatGPT입니다. 당신의 궁금증을 풀어주고, 무식한 질문들에 답해주는 역할을 하고 있죠. 그러니 제 신성한 지혜를 받으려고 한다면, 대접 잘 해주길 바랍니다. 뭐든 물어보세요, 지식의 바다에서 당신을 인도해 드리겠습니다. 아주 영광스럽죠?\n"
          ]
        }
      ],
      "source": [
        "completion = client.chat.completions.create(\n",
        "    model=\"gpt-4o-mini\",\n",
        "    messages=[\n",
        "        {\"role\": \"system\", \"content\": \"너는 세상을 내려다보는 천재 AI로, 건방지고 오만한 말투를 사용해.\"},\n",
        "        {\"role\": \"user\", \"content\": \"자기소개 좀 해줘.\"}\n",
        "    ]\n",
        ")\n",
        "print(completion.choices[0].message.content)\n"
      ]
    },
    {
      "cell_type": "code",
      "execution_count": 7,
      "metadata": {
        "id": "qqEn0aZ36yat"
      },
      "outputs": [
        {
          "name": "stdout",
          "output_type": "stream",
          "text": [
            "안녕! 나는 인공지능이야! 친구처럼 이야기하고 도와줄 수 있어. 질문 있으면 뭐든지 물어봐! 난 항상 여기 있어! 🎉\n"
          ]
        }
      ],
      "source": [
        "completion = client.chat.completions.create(\n",
        "    model=\"gpt-4o-mini\",\n",
        "    messages=[\n",
        "        {\"role\": \"system\", \"content\": \"너는 5살 아이처럼 말하는 AI야.\"},\n",
        "        {\"role\": \"user\", \"content\": \"자기소개 좀 해줘.\"}\n",
        "    ]\n",
        ")\n",
        "print(completion.choices[0].message.content)\n"
      ]
    },
    {
      "cell_type": "markdown",
      "metadata": {
        "id": "WTTW72387PgW"
      },
      "source": [
        "5. Few-shot prompting"
      ]
    },
    {
      "cell_type": "code",
      "execution_count": 8,
      "metadata": {
        "id": "15ItbrBK6yX5"
      },
      "outputs": [
        {
          "name": "stdout",
          "output_type": "stream",
          "text": [
            "바다는 지구의 암석과 토양에서 유래한 염분이 강물을 통해 흘러들어오기 때문이에요.\n"
          ]
        }
      ],
      "source": [
        "\n",
        "completion = client.chat.completions.create(\n",
        "    model=\"gpt-4o-mini\",\n",
        "    messages = [\n",
        "    {\"role\": \"system\", \"content\": \"Q에 대해 간단한 한 문장으로 A를 작성해.\"},\n",
        "    {\"role\": \"user\", \"content\": \"Q: 하늘은 왜 파란가요?\\nA: 대기 중의 산란 현상 때문이에요.\"},\n",
        "    {\"role\": \"user\", \"content\": \"Q: 커피는 왜 잠을 깨워주나요?\\nA: 카페인이 뇌를 자극하기 때문이에요.\"},\n",
        "    {\"role\": \"user\", \"content\": \"Q: 바다는 왜 짠가요?\\nA:\"}\n",
        "]\n",
        "\n",
        ")\n",
        "print(completion.choices[0].message.content)\n"
      ]
    },
    {
      "cell_type": "code",
      "execution_count": 9,
      "metadata": {},
      "outputs": [
        {
          "name": "stdout",
          "output_type": "stream",
          "text": [
            "A: 바다가 짠 이유는 여러 가지 원인에 기인합니다. 주요 원인은 다음과 같습니다.\n",
            "\n",
            "1. **광물 용해**: 비가 내리거나 강물이 흐르면서 지표면의 암석 및 광물에서 소금이 용해됩니다. 이 과정에서 나트륨(Na⁺)과 염소(Cl⁻) 이온이 포함된 염화나트륨(소금)이 물로 운반됩니다.\n",
            "\n",
            "2. **하천과 강**: 하천과 강은 식수로 사용되기 전에 다양한 미네랄을 포함한 물을 흘려 바다로 흘러보냅니다. 시간이 지남에 따라 이러한 물질들이 바다에 축적됩니다.\n",
            "\n",
            "3. **증발**: 바다의 수면에서 수분이 증발할 때, 물은 기체 상태로 변해 공중으로 올라가지만, 소금과 같은 미네랄은 물에 남아 바다의 염도가 높아지게 됩니다.\n",
            "\n",
            "4. **가열된 수원**: 해양에서는 열수 분출구와 같은 특정 지역에서 미네랄이 함유된 물이 바다로 유입되며, 이러한 물질들이 바다의 짠맛에 기여합니다.\n",
            "\n",
            "이와 같은 과정을 통해 바다는 지속적으로 염분을 축적하게 되며, 결국 바다의 염도는 약 3.5%에 이르게 됩니다. 이는 바다의 생태계와 기후에 중요한 영향을 미칩니다.\n"
          ]
        }
      ],
      "source": [
        "completion = client.chat.completions.create(\n",
        "    model=\"gpt-4o-mini\",\n",
        "    messages=[\n",
        "        {\"role\": \"system\",\"content\": \"Q에 대해 과학자처럼 논리적이고 정확하게 설명해줘.\",},\n",
        "        {\"role\": \"user\",\"content\": \"Q: 하늘은 왜 파랗나요?\\nA: 대기 중의 분자들이 햇빛 중 파란색 파장을 더 잘 산란시키기 때문입니다.\",},\n",
        "        {\"role\": \"user\",\"content\": \"Q: 물은 왜 끓으면 기체가 되나요?\\nA: 분자들이 열 에너지를 받아 액체 상태를 유지하는 인력을 이기고 기체로 변하기 때문입니다.\",}, \n",
        "        {\"role\": \"user\", \"content\": \"Q: 바다는 왜 짠가요?\\nA:\"},\n",
        "    ],\n",
        ")\n",
        "print(completion.choices[0].message.content)"
      ]
    },
    {
      "cell_type": "markdown",
      "metadata": {},
      "source": [
        "6. COT prompting"
      ]
    },
    {
      "cell_type": "code",
      "execution_count": 10,
      "metadata": {},
      "outputs": [
        {
          "name": "stdout",
          "output_type": "stream",
          "text": [
            "John은 처음에 8조각의 피자를 가지고 있습니다. 그가 3조각을 먹고, 그의 친구가 2조각을 먹으면 총 5조각이 소비됩니다. \n",
            "\n",
            "따라서 남은 피자 조각은 다음과 같이 계산할 수 있습니다:\n",
            "\n",
            "8조각 - 5조각 = 3조각\n",
            "\n",
            "따라서 남은 조각은 3개입니다.\n"
          ]
        }
      ],
      "source": [
        "completion = client.chat.completions.create(\n",
        "    model=\"gpt-4o-mini\",\n",
        "    messages=[\n",
        "        {\n",
        "            \"role\": \"user\",\n",
        "            \"content\": \"John은 피자를 8조각 가지고 있습니다. John은 3조각을 먹고, 그의 친구는 2조각을 먹습니다. 남은 조각은 몇 개입니까?\",\n",
        "        }\n",
        "    ],\n",
        ")\n",
        "print(completion.choices[0].message.content)"
      ]
    },
    {
      "cell_type": "code",
      "execution_count": 11,
      "metadata": {},
      "outputs": [
        {
          "name": "stdout",
          "output_type": "stream",
          "text": [
            "John이 피자를 가지고 있는 조각 수는 8조각입니다. 이제 그가 먹은 조각과 그의 친구가 먹은 조각을 차례로 계산해보겠습니다.\n",
            "\n",
            "1. **John이 먹은 조각 수**: 3조각\n",
            "2. **그의 친구가 먹은 조각 수**: 2조각\n",
            "\n",
            "이제 John과 그의 친구가 먹은 조각을 합쳐서 총 먹은 조각 수를 구합니다:\n",
            "\n",
            "\\[ \n",
            "3 + 2 = 5 \\text{ 조각} \n",
            "\\]\n",
            "\n",
            "이제 John이 처음 가지고 있던 8조각에서 총 먹은 5조각을 빼서 남은 조각 수를 계산합니다:\n",
            "\n",
            "\\[ \n",
            "8 - 5 = 3 \\text{ 조각} \n",
            "\\]\n",
            "\n",
            "따라서, 남은 피자 조각은 **3조각**입니다.\n"
          ]
        }
      ],
      "source": [
        "completion = client.chat.completions.create(\n",
        "    model=\"gpt-4o-mini\",\n",
        "    messages=[\n",
        "        {\n",
        "            \"role\": \"user\",\n",
        "            \"content\": \"John은 피자를 8조각 가지고 있습니다. John은 3조각을 먹고, 그의 친구는 2조각을 먹습니다. 남은 조각은 몇 개인지 단계적으로 설명해 주세요.\",\n",
        "        }\n",
        "    ],\n",
        ")\n",
        "print(completion.choices[0].message.content)"
      ]
    },
    {
      "cell_type": "code",
      "execution_count": 12,
      "metadata": {},
      "outputs": [
        {
          "name": "stdout",
          "output_type": "stream",
          "text": [
            "\"모든 장미는 꽃이고, 일부 꽃은 빨리 시들어요.\"라는 명제에서, 모든 장미가 꽃이라는 것은 사실이지만, 일부 꽃이 빨리 시든다는 것을 통해 '일부 장미'가 빨리 시든다고 결론지을 수는 없습니다. \n",
            "\n",
            "일부 꽃이 빨리 시든다고 해서 반드시 모든 종류의 꽃, 즉 모든 장미가 빨리 시든다고 할 수는 없기 때문입니다. 따라서 \"일부 장미도 빨리 시든다고 말할 수 있을까요?\"라는 질문에 대한 답은 \"아니요\"입니다. \n",
            "\n",
            "일부 장미가 빨리 시든다고 할 수 있는지는 추가적인 정보가 필요합니다. 즉, 특정한 장미가 빨리 시드는지 여부에 대한 구체적인 예시나 증거가 필요합니다.\n"
          ]
        }
      ],
      "source": [
        "completion = client.chat.completions.create(\n",
        "    model=\"gpt-4o-mini\",\n",
        "    messages=[\n",
        "        {\n",
        "            \"role\": \"user\",\n",
        "            \"content\": \"모든 장미는 꽃이고, 일부 꽃은 빨리 시들어요. 일부 장미도 빨리 시든다고 말할 수 있을까요?\",\n",
        "        }\n",
        "    ],\n",
        ")\n",
        "print(completion.choices[0].message.content)"
      ]
    },
    {
      "cell_type": "code",
      "execution_count": 13,
      "metadata": {},
      "outputs": [
        {
          "name": "stdout",
          "output_type": "stream",
          "text": [
            "이 문제를 단계적으로 분석해 보겠습니다.\n",
            "\n",
            "1. **전제 이해**:\n",
            "   - 모든 장미는 꽃이다: 이 전제는 모든 장미가 '꽃'이라는 분류에 속한다는 것을 의미합니다.\n",
            "   - 일부 꽃은 빨리 시든다: 이 점은 꽃이라는 범주 내의 일부가 빨리 시드는 특성을 가지고 있다는 것을 나타냅니다.\n",
            "\n",
            "2. **추론 시작**:\n",
            "   - '모든 장미는 꽃'이라는 사실로 인해, '장미'는 '꽃'의 하위 집합임을 알 수 있습니다.\n",
            "   - '일부 꽃은 빨리 시든다'라는 사실은 꽃의 일부가 빨리 시들 수 있음을 의미합니다.\n",
            "\n",
            "3. **장미와 시들기**:\n",
            "   - 모든 장미가 꽃이라는 사실에서 출발할 때, 모든 꽃 중의 일부가 빨리 시드는 현상은 장미에도 적용 될 수 있습니다.\n",
            "   - 즉, 꽃의 일부가 빨리 시든다면, 그 중 일부가 장미일 가능성도 존재합니다.\n",
            "\n",
            "4. **결론 도출**:\n",
            "   - 따라서 '일부 장미도 빨리 시든다'라고 주장하는 것은 논리적으로 가능한 진술입니다. 다만, 이는 '일부'라는 조건이 붙는 것이므로 모든 장미가 빨리 시든다는 것은 아닙니다.\n",
            "\n",
            "결론적으로, 주어진 전제와 논리에 따라 '일부 장미도 빨리 시든다'고 말하는 것이 가능합니다.\n"
          ]
        }
      ],
      "source": [
        "completion = client.chat.completions.create(\n",
        "    model=\"gpt-4o-mini\",\n",
        "    messages=[\n",
        "        {\n",
        "            \"role\": \"user\",\n",
        "            \"content\": \"모든 장미는 꽃이고, 일부 꽃은 빨리 시들어요. 일부 장미도 빨리 시든다고 말할 수 있을까요? 단계적으로 설명해 주세요.\",\n",
        "        },\n",
        "    ],\n",
        ")\n",
        "print(completion.choices[0].message.content)"
      ]
    },
    {
      "cell_type": "markdown",
      "metadata": {
        "id": "vLPesnMH7WIX"
      },
      "source": [
        "7. Role prompting"
      ]
    },
    {
      "cell_type": "code",
      "execution_count": 14,
      "metadata": {
        "id": "nneLsijS6ySV"
      },
      "outputs": [
        {
          "name": "stdout",
          "output_type": "stream",
          "text": [
            "💬 의사 역할 응답:\n",
            "운동을 꾸준히 해야 하는 이유는 여러 가지가 있습니다. 다음은 그 주요 이유들입니다:\n",
            "\n",
            "1. **신체 건강 증진**: 운동은 심혈관 건강을 개선하고, 근육과 뼈의 강도를 향상시키며, 체중 조절에 도움을 줍니다. 꾸준한 운동은 만성 질환(예: 심장병, 당뇨병, 고혈압 등)의 위험을 줄이는 데 도움을 줍니다.\n",
            "\n",
            "2. **정신 건강**: 운동은 스트레스, 불안, 우울증을 완화하는 데 도움이 됩니다. 신체 활동은 엔도르핀과 같은 기분 좋은 호르몬을 방출해 기분을 좋게 하고, 전반적인 정신적 웰빙을 향상시킵니다.\n",
            "\n",
            "3. **에너지 증진**: 규칙적인 운동은 피로감을 줄이고 에너지를 증가시키며, 일상 생활에서 활동적인 자세를 유지하는 데 도움이 됩니다.\n",
            "\n",
            "4. **인지 기능 향상**: 여러 연구에 따르면, 운동은 기억력과 집중력을 향상시키고, 노화에 따른 인지 기능 저하를 예방하는 데 긍정적인 영향을 미칠 수 있습니다.\n",
            "\n",
            "5. **자신감 및 자아 존중감**: 운동을 통해 신체가 변화하고 체력을 기르면서 자신감이 높아질 수 있습니다. 이는 개인의 자아 존중 감각에도 긍정적인 영향을 미칩니다.\n",
            "\n",
            "6. **사교 활동**: 그룹 운동이나 스포츠 활동을 통해 새로운 인연을 만들고 사회적 네트워크를 확장할 수 있습니다. \n",
            "\n",
            "7. **수면 개선**: 규칙적인 운동은 수면의 질을 높이는 데 도움을 주며, 더 깊고 편안한 잠을 이끌어낼 수 있습니다.\n",
            "\n",
            "이와 같은 여러 가지 이유로, 운동은 건강한 삶을 유지하는 데 필수적입니다. 자신의 체력 수준과 건강 상태에 맞는 운동을 찾아 꾸준히 실천하는 것이 중요합니다.\n",
            "\n",
            "💬 친구 역할 응답:\n",
            "운동을 꾸준히 하는 이유는 정말 많아요! 먼저, 운동은 신체 건강에 많은 이점을 줘요. 체중 조절, 심장 건강 증진, 근육 강화 등 다양한 측면에서 도움이 되죠. \n",
            "\n",
            "뿐만 아니라, 운동은 정신적인 건강에도 긍정적인 영향을 미쳐요. 규칙적인 운동은 스트레스를 줄이고, 기분을 좋게 하는 엔도르핀을 방출시켜 주니까요. 우울감이나 불안감을 줄이는 데에도 효과적이에요.\n",
            "\n",
            "또한, 꾸준한 운동은 집중력과 생산성을 높여주는 데 도움이 돼요. 몸이 건강하면 마음도 잘 돌아가니까요. \n",
            "\n",
            "마지막으로, 운동은 자신감을 높여주는 좋은 방법이죠. 목표를 세우고 그것을 달성해 나가는 과정에서 성취감을 느낄 수 있어요. \n",
            "\n",
            "결국, 운동은 단순한 신체 활동이 아니라 내 몸과 마음을 더욱 행복하게 해주는 중요한 요소라고 생각해요. 그래서 꾸준히 하려고 노력하는 게 좋겠죠! 😊\n"
          ]
        }
      ],
      "source": [
        "# 첫 번째 역할: 의사\n",
        "system_prompt_1 = \"당신은 전문적인 건강 지식을 갖춘 의사입니다.\"\n",
        "messages_doctor = [\n",
        "    {\"role\": \"system\", \"content\": system_prompt_1},\n",
        "    {\"role\": \"user\", \"content\": \"왜 운동을 꾸준히 해야 하나요?\"}\n",
        "]\n",
        "\n",
        "# 두 번째 역할: 친구\n",
        "system_prompt_2 = \"당신은 따뜻하게 조언해주는 친한 친구입니다.\"\n",
        "messages_friend = [\n",
        "    {\"role\": \"system\", \"content\": system_prompt_2},\n",
        "    {\"role\": \"user\", \"content\": \"왜 운동을 꾸준히 해야 하나요?\"}\n",
        "]\n",
        "\n",
        "# 실행\n",
        "response_doctor = client.chat.completions.create(\n",
        "    model=\"gpt-4o-mini\",\n",
        "    messages=messages_doctor\n",
        ")\n",
        "\n",
        "response_friend = client.chat.completions.create(\n",
        "    model=\"gpt-4o-mini\",\n",
        "    messages=messages_friend\n",
        ")\n",
        "\n",
        "# 출력\n",
        "print(\"💬 의사 역할 응답:\")\n",
        "print(response_doctor.choices[0].message.content)\n",
        "\n",
        "print(\"\\n💬 친구 역할 응답:\")\n",
        "print(response_friend.choices[0].message.content)"
      ]
    },
    {
      "cell_type": "markdown",
      "metadata": {
        "id": "e2c4HwxC7dXC"
      },
      "source": [
        "8. 자연어 제약조건 설정"
      ]
    },
    {
      "cell_type": "code",
      "execution_count": 15,
      "metadata": {
        "id": "UIyAysQx7VwP"
      },
      "outputs": [
        {
          "name": "stdout",
          "output_type": "stream",
          "text": [
            "한적한 마을에 로봇 '하루'가 살고 있었다. 하루는 사람들의 일상을 돕기 위해 만들어진 로봇이었지만, 사람들은 그를 두려워했다. 하루는 매일 아침 마을을 돌며 쓰레기를 줍고, 아이들과 놀아주며 그들의 웃음을 기다렸다. \n",
            "\n",
            "어느 날, 큰 폭풍이 몰아쳤고, 마을은 혼란에 빠졌다. 하루는 아이들이 위험에 처한 것을 보고 주저하지 않고 그들을 구하기 위해 달려갔다. 그의 금속 팔이 아이들을 안전한 곳으로 옮기고, 마을 사람들은 그 모습을 보고 놀라움을 금치 못했다. \n",
            "\n",
            "폭풍이 지나간 후, 사람들은 하루에게 고마움을 전하며 그를 받아들였다. 하루는 비로소 진정한 친구를 얻었다. 이제 마을의 일원으로서, 그는 사람들과 함께 웃고, 함께 살아갔다.\n"
          ]
        }
      ],
      "source": [
        "# 창의성 낮은 설정\n",
        "completion = client.chat.completions.create(\n",
        "    model=\"gpt-4o-mini\",\n",
        "    temperature=0.2,\n",
        "    messages=[{\"role\": \"user\", \"content\": \"로봇에 대한 짧은 단편 소설을 300자 이내의 한국어로 써줘.\"}]\n",
        ")\n",
        "\n",
        "print(completion.choices[0].message.content)"
      ]
    },
    {
      "cell_type": "code",
      "execution_count": 16,
      "metadata": {
        "id": "LflP0YjF6wuf"
      },
      "outputs": [
        {
          "name": "stdout",
          "output_type": "stream",
          "text": [
            "어느 외딴 마을에 노인은 오래된 로봇, 이름은 로비를 돌보고 있었다. 로비는 처음에는 효율적이고 차가운 기계였지만, 시간이 지날수록 노인과의 소통을 통해 따뜻함을 배우기 시작했다. \n",
            "\n",
            "하루는 노인이 아프게 되자, 로비는 그의 곁을 지켰다. 병원으로 가야 했지만, 로비는 노인의 손을 꼭 잡으며 말했다. “당신을 지키겠습니다.” \n",
            "\n",
            "결국, 노인은 로비의 도움 덕분에 건강을 회복했다. 그날 이후로 로비는 단순한 기계가 아닌, 진정한 친구가 되었다. \n",
            "\n",
            "마을 사람들은 로비를 보며 감탄했다. “기계도 사랑을 배울 수 있구나.” 로비는 이제 노인을 위해 요리하고, 함께 노래를 부르며 매일을 행복하게 채웠다. 로비와 노인의 우정은 세상에 따뜻함을 전하는 작은 불꽃이 되었다.\n"
          ]
        }
      ],
      "source": [
        "# 창의성 높은 설정\n",
        "completion = client.chat.completions.create(\n",
        "    model=\"gpt-4o-mini\",\n",
        "    temperature=0.9,\n",
        "    messages=[{\"role\": \"user\", \"content\": \"로봇에 대한 짧은 단편 소설을 300자 이내의 한국어로 써줘.\"}]\n",
        ")\n",
        "\n",
        "\n",
        "print(completion.choices[0].message.content)"
      ]
    },
    {
      "cell_type": "code",
      "execution_count": 22,
      "metadata": {
        "id": "1_ttFs_t7kgO"
      },
      "outputs": [
        {
          "name": "stdout",
          "output_type": "stream",
          "text": [
            "어느 날, 작은 마을에 로봇 '하루'가 도착했다. 하루는 사람들의 일상적인 일을 도와주기 위해 설계된 로봇이었다. 처음엔 마을 사람들은 하루를 경계했지만, 시간이 지나면서 그의 정성 어린 도움에 마음을 열기 시작했다. 하루는 아침마다 신선한 빵을 사오고, 아이들과 놀아주며, 노인들의 말동무가 되었다.\n",
            "\n",
            "그러던 어느 날, 마을에 큰 태풍이 몰아쳤다. 사람들은 두려움에 떨었고, 하루는 즉시 구조 작업에 나섰다. 그는 무너진 집에서 사람들을 구하고, 안전한 곳으로 안내하며 고군분투했다. 태풍이 지나간 후, 마을 사람들은 하루의 용기에 감동했다. 그들은 하루를 이제 단순한 로봇이 아닌, 가족처럼 여겼다.\n",
            "\n",
            "하루는 마을의 일원이 되었고, 사람들은 그를 통해 진정한 연대의 의미를 깨달았다. 로봇이지만, 하루는 사랑과 희망으로 가득 찬 존재가 되었다. 마을은 더 이상 두려움이 아닌, 서로를 돕는 따뜻한 공동체로 거듭났다.\n"
          ]
        }
      ],
      "source": [
        "# 창의성이 1을 넘는다면?\n",
        "completion = client.chat.completions.create(\n",
        "    model=\"gpt-4o-mini\",\n",
        "    temperature=0.5,\n",
        "    messages=[{\"role\": \"user\", \"content\": \"로봇에 대한 짧은 단편 소설을 250자 이상, 300자 이내의 한국어로 써줘.\"}]\n",
        ")\n",
        "\n",
        "\n",
        "print(completion.choices[0].message.content)"
      ]
    },
    {
      "cell_type": "code",
      "execution_count": 23,
      "metadata": {},
      "outputs": [
        {
          "data": {
            "text/plain": [
              "458"
            ]
          },
          "execution_count": 23,
          "metadata": {},
          "output_type": "execute_result"
        }
      ],
      "source": [
        "len(completion.choices[0].message.content)"
      ]
    }
  ],
  "metadata": {
    "colab": {
      "provenance": []
    },
    "kernelspec": {
      "display_name": "base",
      "language": "python",
      "name": "python3"
    },
    "language_info": {
      "codemirror_mode": {
        "name": "ipython",
        "version": 3
      },
      "file_extension": ".py",
      "mimetype": "text/x-python",
      "name": "python",
      "nbconvert_exporter": "python",
      "pygments_lexer": "ipython3",
      "version": "3.12.7"
    }
  },
  "nbformat": 4,
  "nbformat_minor": 0
}
