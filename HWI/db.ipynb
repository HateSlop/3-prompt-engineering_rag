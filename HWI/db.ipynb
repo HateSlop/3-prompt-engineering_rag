{
 "cells": [
  {
   "cell_type": "markdown",
   "id": "e23b307d",
   "metadata": {},
   "source": [
    "## 1. DB 저장"
   ]
  },
  {
   "cell_type": "code",
   "execution_count": 1,
   "id": "160b17c1",
   "metadata": {},
   "outputs": [],
   "source": [
    "import os  # os를 가져와 파일 시스템 접근, 환경 변수 읽을 수 있음\n",
    "from openai import OpenAI  # OpenAI의 api 사용 가능\n",
    "import chromadb  # chromadb 라이브러리 쓸 수 있게 해줌\n",
    "from chromadb.config import (\n",
    "    Settings,\n",
    ")  # Settings 클래스는 DB의 구성 옵션을 설정하는데 사용\n",
    "from dotenv import load_dotenv  # 환경 변수를 로드하기 위함"
   ]
  },
  {
   "cell_type": "code",
   "execution_count": 2,
   "id": "d02b8f3b",
   "metadata": {},
   "outputs": [],
   "source": [
    "load_dotenv()\n",
    "api_key = os.getenv(\"OPENAI_API_KEY\")\n",
    "client = OpenAI(api_key=api_key)"
   ]
  },
  {
   "cell_type": "code",
   "execution_count": 3,
   "id": "eab3e5bb",
   "metadata": {},
   "outputs": [],
   "source": [
    "def init_db(db_path=\"./chroma_db\"): # 현재 디렉토리 내의 chroma_db폴더 설정\n",
    "    dbclient = chromadb.PersistentClient(path=db_path) # 지정 경로로 향하는 dbClient생성\n",
    "    collection = dbclient.create_collection(name=\"rag_collection\", get_or_create=True)\n",
    "    return dbclient, collection"
   ]
  },
  {
   "cell_type": "code",
   "execution_count": 4,
   "id": "9bf89e8e",
   "metadata": {},
   "outputs": [],
   "source": [
    "import pandas as pd\n",
    "\n",
    "def load_csv_files(folder_path):\n",
    "    docs = []\n",
    "    for filename in os.listdir(folder_path):\n",
    "        if filename.endswith(\".csv\"):\n",
    "            df = pd.read_csv(os.path.join(folder_path, filename))\n",
    "            # 멜론 차트 >> Rank, Title, Artist, Album\n",
    "            # 'Title' + 'Artist'를 합쳐서 하나의 문장으로 만들기\n",
    "            for idx, row in df.iterrows():\n",
    "                text = f\"{row['Rank']}위: {row['Title']} - {row['Artist']} (앨범 {row['Album']})\"\n",
    "                docs.append((filename, text))\n",
    "    return docs            "
   ]
  },
  {
   "cell_type": "code",
   "execution_count": 5,
   "id": "f1301a5a",
   "metadata": {},
   "outputs": [],
   "source": [
    "def get_embedding(text, model=\"text-embedding-3-large\"):\n",
    "    response = client.embeddings.create(input=[text], model=model)\n",
    "    embedding = response.data[0].embedding\n",
    "    return embedding\n"
   ]
  },
  {
   "cell_type": "code",
   "execution_count": 6,
   "id": "b23527cc",
   "metadata": {},
   "outputs": [],
   "source": [
    "def chunk_text(text, chunk_size=400, chunk_overlap=50):\n",
    "    chunks = []\n",
    "    start = 0\n",
    "    while start < len(text):\n",
    "        end = start+chunk_size\n",
    "        chunk = text[start:end]\n",
    "        chunks.append(chunk)\n",
    "        start = end - chunk_overlap\n",
    "        \n",
    "        if start<0:\n",
    "            start = 0\n",
    "\n",
    "        if start >= len(text):\n",
    "            break\n",
    "\n",
    "    return chunks"
   ]
  },
  {
   "cell_type": "code",
   "execution_count": 7,
   "id": "1be8105c",
   "metadata": {},
   "outputs": [
    {
     "name": "stdout",
     "output_type": "stream",
     "text": [
      "모든 문서 벡터DB에 저장 완료\n"
     ]
    }
   ],
   "source": [
    "if __name__ == \"__main__\":\n",
    "    # db 초기화, 경로 지정\n",
    "    dbclient, collection = init_db(\"./chroma_db\")\n",
    "\n",
    "    # CSV 파일 불러오기\n",
    "    folder_path = \"./crawling_source\"\n",
    "    docs = load_csv_files(folder_path)\n",
    "\n",
    "    doc_id = 0\n",
    "\n",
    "    for filename, text in docs:\n",
    "        doc_id += 1\n",
    "        embedding = get_embedding(text)\n",
    "\n",
    "        collection.add(\n",
    "            documents=[text],\n",
    "            embeddings=[embedding],\n",
    "            metadatas=[{\"filename\": filename}],\n",
    "            ids=[str(doc_id)]\n",
    "        )\n",
    "\n",
    "    print(\"모든 문서 벡터DB에 저장 완료\")"
   ]
  }
 ],
 "metadata": {
  "kernelspec": {
   "display_name": "HateSlop",
   "language": "python",
   "name": "python3"
  },
  "language_info": {
   "codemirror_mode": {
    "name": "ipython",
    "version": 3
   },
   "file_extension": ".py",
   "mimetype": "text/x-python",
   "name": "python",
   "nbconvert_exporter": "python",
   "pygments_lexer": "ipython3",
   "version": "3.12.11"
  }
 },
 "nbformat": 4,
 "nbformat_minor": 5
}
